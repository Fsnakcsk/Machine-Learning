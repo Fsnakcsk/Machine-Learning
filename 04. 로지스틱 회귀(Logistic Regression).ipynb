{
 "cells": [
  {
   "cell_type": "code",
   "execution_count": 1,
   "id": "59e642c1",
   "metadata": {},
   "outputs": [],
   "source": [
    "# 이진 분류를 확율로 계산함"
   ]
  },
  {
   "cell_type": "code",
   "execution_count": 118,
   "id": "49e16bb9",
   "metadata": {},
   "outputs": [],
   "source": [
    "import numpy as np\n",
    "import pandas as pd\n",
    "import matplotlib.pyplot as plt\n",
    "import matplotlib as mpl"
   ]
  },
  {
   "cell_type": "markdown",
   "id": "42767fa5",
   "metadata": {},
   "source": [
    "# 데이터 로딩"
   ]
  },
  {
   "cell_type": "code",
   "execution_count": 152,
   "id": "8cfb509a",
   "metadata": {},
   "outputs": [
    {
     "name": "stdout",
     "output_type": "stream",
     "text": [
      "<class 'pandas.core.frame.DataFrame'>\n"
     ]
    }
   ],
   "source": [
    "fish = pd.read_csv('fish.csv')\n",
    "fish.head()\n",
    "print(type(fish))"
   ]
  },
  {
   "cell_type": "code",
   "execution_count": 7,
   "id": "b1678f36",
   "metadata": {},
   "outputs": [],
   "source": [
    "# 확율로 분류할 수 도 있음\n",
    "# 확율로 분류하는 것이 로지스틱 회귀"
   ]
  },
  {
   "cell_type": "code",
   "execution_count": 112,
   "id": "d3b184ad",
   "metadata": {},
   "outputs": [
    {
     "data": {
      "text/plain": [
       "array(['Bream', 'Roach', 'Whitefish', 'Parkki', 'Perch', 'Pike', 'Smelt'],\n",
       "      dtype=object)"
      ]
     },
     "execution_count": 112,
     "metadata": {},
     "output_type": "execute_result"
    }
   ],
   "source": [
    "fish['Species'].unique()  # 같은\n",
    "pd.unique(fish['Species'])# 같은"
   ]
  },
  {
   "cell_type": "markdown",
   "id": "5b202c0a",
   "metadata": {},
   "source": [
    "### 데이터 numpy로 함"
   ]
  },
  {
   "cell_type": "code",
   "execution_count": 26,
   "id": "78a987d0",
   "metadata": {},
   "outputs": [],
   "source": [
    "# 데이터 분리\n",
    "fish_input = fish[['Weight', 'Length', 'Diagonal', 'Height','Width']].to_numpy()\n",
    "fish_target = fish['Species'].to_numpy()"
   ]
  },
  {
   "cell_type": "code",
   "execution_count": 125,
   "id": "2b419058",
   "metadata": {},
   "outputs": [
    {
     "name": "stdout",
     "output_type": "stream",
     "text": [
      "[[242.      25.4     30.      11.52     4.02  ]\n",
      " [290.      26.3     31.2     12.48     4.3056]\n",
      " [340.      26.5     31.1     12.3778   4.6961]\n",
      " [363.      29.      33.5     12.73     4.4555]\n",
      " [430.      29.      34.      12.444    5.134 ]]\n",
      "['Bream' 'Bream' 'Bream' 'Bream' 'Bream']\n"
     ]
    }
   ],
   "source": [
    "# 확인\n",
    "print(fish_input[:5])\n",
    "print(fish_target[:5])"
   ]
  },
  {
   "cell_type": "markdown",
   "id": "c55ea9e1",
   "metadata": {},
   "source": [
    "### 훈련세트와 테스트세트로 분리"
   ]
  },
  {
   "cell_type": "code",
   "execution_count": 29,
   "id": "5ff45245",
   "metadata": {},
   "outputs": [],
   "source": [
    "from sklearn.model_selection import train_test_split\n",
    "\n",
    "train_input, test_input, train_target, test_target = train_test_split(\n",
    "fish_input, fish_target, random_state = 42)"
   ]
  },
  {
   "cell_type": "markdown",
   "id": "e932c772",
   "metadata": {},
   "source": [
    "### 피처 스케링 (표준화)"
   ]
  },
  {
   "cell_type": "code",
   "execution_count": 35,
   "id": "e132797f",
   "metadata": {},
   "outputs": [],
   "source": [
    "from sklearn.preprocessing import StandardScaler\n",
    "\n",
    "ss = StandardScaler()\n",
    "ss.fit(train_input) \n",
    "# test_input는 fit() 할 필요없다. \n",
    "# fit() train_input만 훈련 시키면되 이유: transform에서 실제로 반영됨\n",
    "\n",
    "\n",
    "train_scaled = ss.transform(train_input)\n",
    "test_scaled = ss.transform(test_input)"
   ]
  },
  {
   "cell_type": "markdown",
   "id": "cb6d8c0d",
   "metadata": {},
   "source": [
    "### K-최근접 이웃 분류기를 이용한 확률 예측"
   ]
  },
  {
   "cell_type": "code",
   "execution_count": 41,
   "id": "c593f688",
   "metadata": {},
   "outputs": [
    {
     "name": "stdout",
     "output_type": "stream",
     "text": [
      "0.8907563025210085\n",
      "0.85\n"
     ]
    }
   ],
   "source": [
    "from sklearn.neighbors import KNeighborsClassifier\n",
    "\n",
    "knn = KNeighborsClassifier(n_neighbors = 3)\n",
    "knn.fit(train_scaled, train_target)\n",
    "\n",
    "print(knn.score(train_scaled, train_target))\n",
    "print(knn.score(test_scaled, test_target))"
   ]
  },
  {
   "cell_type": "code",
   "execution_count": 43,
   "id": "c4ebac6c",
   "metadata": {},
   "outputs": [
    {
     "data": {
      "text/plain": [
       "array(['Bream', 'Parkki', 'Perch', 'Pike', 'Roach', 'Smelt', 'Whitefish'],\n",
       "      dtype=object)"
      ]
     },
     "execution_count": 43,
     "metadata": {},
     "output_type": "execute_result"
    }
   ],
   "source": [
    "knn.classes_\n",
    "# 알팟배 순서로 정렬 되어 있음"
   ]
  },
  {
   "cell_type": "code",
   "execution_count": 46,
   "id": "0de96974",
   "metadata": {},
   "outputs": [
    {
     "data": {
      "text/plain": [
       "array(['Perch', 'Smelt', 'Pike', 'Perch', 'Perch'], dtype=object)"
      ]
     },
     "execution_count": 46,
     "metadata": {},
     "output_type": "execute_result"
    }
   ],
   "source": [
    "knn.predict(test_scaled[:5])"
   ]
  },
  {
   "cell_type": "code",
   "execution_count": 50,
   "id": "13d581f5",
   "metadata": {},
   "outputs": [
    {
     "data": {
      "text/plain": [
       "array([[0.    , 0.    , 1.    , 0.    , 0.    , 0.    , 0.    ],\n",
       "       [0.    , 0.    , 0.    , 0.    , 0.    , 1.    , 0.    ],\n",
       "       [0.    , 0.    , 0.    , 1.    , 0.    , 0.    , 0.    ],\n",
       "       [0.    , 0.    , 0.6667, 0.    , 0.3333, 0.    , 0.    ],\n",
       "       [0.    , 0.    , 0.6667, 0.    , 0.3333, 0.    , 0.    ]])"
      ]
     },
     "execution_count": 50,
     "metadata": {},
     "output_type": "execute_result"
    }
   ],
   "source": [
    "# predict_proba() : 클래스별 확률값을 반환해주는 매서드\n",
    "proba = knn.predict_proba(test_scaled[:5])\n",
    "\n",
    "# decimals : 유지할 소수점 자릿수\n",
    "np.round(proba, decimals= 4)"
   ]
  },
  {
   "cell_type": "markdown",
   "id": "0a325771",
   "metadata": {},
   "source": [
    "- 1. 이렇게 분류하는 맞을까? 의심하고 재확인\n",
    "- 2. 이웃으로 분석"
   ]
  },
  {
   "cell_type": "code",
   "execution_count": 52,
   "id": "5a0cfa86",
   "metadata": {},
   "outputs": [
    {
     "data": {
      "text/plain": [
       "array([['Roach', 'Perch', 'Perch']], dtype=object)"
      ]
     },
     "execution_count": 52,
     "metadata": {},
     "output_type": "execute_result"
    }
   ],
   "source": [
    "d, indexs = knn.kneighbors(test_scaled[3:4])\n",
    "\n",
    "train_target[indexs]"
   ]
  },
  {
   "cell_type": "markdown",
   "id": "c8daddfc",
   "metadata": {},
   "source": [
    "- 예측할 수 있지만 올바른 확률이라고 하기 어렵다\n",
    "- 이웃 값 늘리면 일반화 떨어진다\n",
    "- 그래서 로지스틱 회귀 사용"
   ]
  },
  {
   "cell_type": "markdown",
   "id": "3dcaaa4d",
   "metadata": {},
   "source": [
    "# 로지스틱 회귀\n",
    "- 대표적인 분류 알고리즘\n",
    "- 인공신경망에 기본이 되는 알고리즘\n",
    "- 선형회귀와 비슷하게 선형 방정식을 학습하는 알고리즘이다."
   ]
  },
  {
   "cell_type": "markdown",
   "id": "43355786",
   "metadata": {},
   "source": [
    "### 로지스틱 회귀(이진 분류)"
   ]
  },
  {
   "cell_type": "code",
   "execution_count": 62,
   "id": "b67fadf8",
   "metadata": {},
   "outputs": [
    {
     "data": {
      "text/plain": [
       "array(['A', 'C'], dtype='<U1')"
      ]
     },
     "execution_count": 62,
     "metadata": {},
     "output_type": "execute_result"
    }
   ],
   "source": [
    "arr = np.array(['A','B','C','D','E'])\n",
    "\n",
    "# boolean indexing\n",
    "boole = [True, False, True, False, False]\n",
    "arr[boole]"
   ]
  },
  {
   "cell_type": "code",
   "execution_count": 65,
   "id": "29a9d3d9",
   "metadata": {},
   "outputs": [
    {
     "data": {
      "text/html": [
       "<div>\n",
       "<style scoped>\n",
       "    .dataframe tbody tr th:only-of-type {\n",
       "        vertical-align: middle;\n",
       "    }\n",
       "\n",
       "    .dataframe tbody tr th {\n",
       "        vertical-align: top;\n",
       "    }\n",
       "\n",
       "    .dataframe thead th {\n",
       "        text-align: right;\n",
       "    }\n",
       "</style>\n",
       "<table border=\"1\" class=\"dataframe\">\n",
       "  <thead>\n",
       "    <tr style=\"text-align: right;\">\n",
       "      <th></th>\n",
       "      <th>Species</th>\n",
       "      <th>Weight</th>\n",
       "      <th>Length</th>\n",
       "      <th>Diagonal</th>\n",
       "      <th>Height</th>\n",
       "      <th>Width</th>\n",
       "    </tr>\n",
       "  </thead>\n",
       "  <tbody>\n",
       "    <tr>\n",
       "      <th>0</th>\n",
       "      <td>Bream</td>\n",
       "      <td>242.0</td>\n",
       "      <td>25.4</td>\n",
       "      <td>30.0</td>\n",
       "      <td>11.5200</td>\n",
       "      <td>4.0200</td>\n",
       "    </tr>\n",
       "    <tr>\n",
       "      <th>1</th>\n",
       "      <td>Bream</td>\n",
       "      <td>290.0</td>\n",
       "      <td>26.3</td>\n",
       "      <td>31.2</td>\n",
       "      <td>12.4800</td>\n",
       "      <td>4.3056</td>\n",
       "    </tr>\n",
       "    <tr>\n",
       "      <th>2</th>\n",
       "      <td>Bream</td>\n",
       "      <td>340.0</td>\n",
       "      <td>26.5</td>\n",
       "      <td>31.1</td>\n",
       "      <td>12.3778</td>\n",
       "      <td>4.6961</td>\n",
       "    </tr>\n",
       "    <tr>\n",
       "      <th>3</th>\n",
       "      <td>Bream</td>\n",
       "      <td>363.0</td>\n",
       "      <td>29.0</td>\n",
       "      <td>33.5</td>\n",
       "      <td>12.7300</td>\n",
       "      <td>4.4555</td>\n",
       "    </tr>\n",
       "    <tr>\n",
       "      <th>4</th>\n",
       "      <td>Bream</td>\n",
       "      <td>430.0</td>\n",
       "      <td>29.0</td>\n",
       "      <td>34.0</td>\n",
       "      <td>12.4440</td>\n",
       "      <td>5.1340</td>\n",
       "    </tr>\n",
       "  </tbody>\n",
       "</table>\n",
       "</div>"
      ],
      "text/plain": [
       "  Species  Weight  Length  Diagonal   Height   Width\n",
       "0   Bream   242.0    25.4      30.0  11.5200  4.0200\n",
       "1   Bream   290.0    26.3      31.2  12.4800  4.3056\n",
       "2   Bream   340.0    26.5      31.1  12.3778  4.6961\n",
       "3   Bream   363.0    29.0      33.5  12.7300  4.4555\n",
       "4   Bream   430.0    29.0      34.0  12.4440  5.1340"
      ]
     },
     "execution_count": 65,
     "metadata": {},
     "output_type": "execute_result"
    }
   ],
   "source": [
    "fish.head()"
   ]
  },
  {
   "cell_type": "code",
   "execution_count": 70,
   "id": "8766cc4d",
   "metadata": {},
   "outputs": [
    {
     "name": "stdout",
     "output_type": "stream",
     "text": [
      "(119, 5) (119,)\n"
     ]
    }
   ],
   "source": [
    "print(train_input.shape, train_target.shape)"
   ]
  },
  {
   "cell_type": "code",
   "execution_count": 72,
   "id": "5a8ece5f",
   "metadata": {},
   "outputs": [
    {
     "name": "stdout",
     "output_type": "stream",
     "text": [
      "(40, 5) (40,)\n"
     ]
    }
   ],
   "source": [
    "print(test_input.shape, test_target.shape)"
   ]
  },
  {
   "cell_type": "code",
   "execution_count": 77,
   "id": "a1569211",
   "metadata": {},
   "outputs": [],
   "source": [
    "# Bream, Smelt이 데이터만 이용한 이진분류 학습\n",
    "\n",
    "indexes = (train_target == 'Bream') | (train_target == 'Smelt')\n",
    "train = train_scaled[indexes]\n",
    "target= train_target[indexes]"
   ]
  },
  {
   "cell_type": "code",
   "execution_count": null,
   "id": "508235d1",
   "metadata": {},
   "outputs": [],
   "source": []
  },
  {
   "cell_type": "markdown",
   "id": "43454cda",
   "metadata": {},
   "source": [
    "### 로지스틱"
   ]
  },
  {
   "cell_type": "code",
   "execution_count": 85,
   "id": "42e7aca5",
   "metadata": {},
   "outputs": [
    {
     "data": {
      "text/plain": [
       "LogisticRegression()"
      ]
     },
     "execution_count": 85,
     "metadata": {},
     "output_type": "execute_result"
    }
   ],
   "source": [
    "from sklearn.linear_model import LogisticRegression\n",
    "lr = LogisticRegression()\n",
    "lr.fit(train, target)"
   ]
  },
  {
   "cell_type": "code",
   "execution_count": 108,
   "id": "afc6f07b",
   "metadata": {},
   "outputs": [
    {
     "data": {
      "text/plain": [
       "array(['Bream', 'Smelt', 'Bream', 'Bream', 'Bream'], dtype=object)"
      ]
     },
     "execution_count": 108,
     "metadata": {},
     "output_type": "execute_result"
    }
   ],
   "source": [
    "lr.predict(train[:5])"
   ]
  },
  {
   "cell_type": "code",
   "execution_count": 89,
   "id": "53a52118",
   "metadata": {},
   "outputs": [
    {
     "data": {
      "text/plain": [
       "array([[0.99759855, 0.00240145],\n",
       "       [0.02735183, 0.97264817],\n",
       "       [0.99486072, 0.00513928],\n",
       "       [0.98584202, 0.01415798],\n",
       "       [0.99767269, 0.00232731]])"
      ]
     },
     "execution_count": 89,
     "metadata": {},
     "output_type": "execute_result"
    }
   ],
   "source": [
    "# 예측 확률\n",
    "lr.predict_proba(train[:5])\n",
    "#       음성(Bream)  양성(Smelt)"
   ]
  },
  {
   "cell_type": "code",
   "execution_count": 91,
   "id": "ea7ee211",
   "metadata": {},
   "outputs": [
    {
     "name": "stdout",
     "output_type": "stream",
     "text": [
      "[[-0.4037798  -0.57620209 -0.66280298 -1.01290277 -0.73168947]] [-2.16155132]\n"
     ]
    }
   ],
   "source": [
    "print(lr.coef_, lr.intercept_)"
   ]
  },
  {
   "cell_type": "code",
   "execution_count": 97,
   "id": "ecd2d580",
   "metadata": {},
   "outputs": [
    {
     "data": {
      "text/plain": [
       "array([-6.02927744,  3.57123907, -5.26568906, -4.24321775, -6.0607117 ])"
      ]
     },
     "execution_count": 97,
     "metadata": {},
     "output_type": "execute_result"
    }
   ],
   "source": [
    "# z값 계산\n",
    "decisions = lr.decision_function(train[:5])\n",
    "decisions"
   ]
  },
  {
   "cell_type": "code",
   "execution_count": 130,
   "id": "bf2eac5b",
   "metadata": {},
   "outputs": [
    {
     "name": "stdout",
     "output_type": "stream",
     "text": [
      "[0.00240145 0.97264817 0.00513928 0.01415798 0.00232731]\n",
      "[0.99759855 0.02735183 0.99486072 0.98584202 0.99767269]\n"
     ]
    }
   ],
   "source": [
    "# 마이너스 나오면 완되고 시그모이드를 통해서 고침\n",
    "# 시가모이드 함수를 통해 확률값 추출\n",
    "from scipy.special import expit\n",
    "\n",
    "# 양성일 확률(smelt일 확률)\n",
    "print(expit(decisions))\n",
    "\n",
    "# 음성일 확률(bream일 확률)\n",
    "print(1 - expit(decisions))"
   ]
  },
  {
   "cell_type": "code",
   "execution_count": 113,
   "id": "571ac173",
   "metadata": {},
   "outputs": [
    {
     "name": "stdout",
     "output_type": "stream",
     "text": [
      "회귀계수 : [[-0.4037798  -0.57620209 -0.66280298 -1.01290277 -0.73168947]] \n",
      "절편 : [-2.16155132] \n",
      "회귀방정식 : -0.404 x Weight + -0.576 x Length + -0.663 x Diagonal + -1.013 x Height + -0.732 x Width + -2.162\n"
     ]
    }
   ],
   "source": [
    "print('회귀계수 : {}'.format(lr.coef_), \n",
    "      '\\n절편 : {}'.format(lr.intercept_),\n",
    "      '\\n회귀방정식 : {:.3f} x Weight + {:.3f} x Length + {:.3f} x Diagonal + {:.3f} x Height + {:.3f} x Width + {:.3f}'.format(\n",
    "          lr.coef_[0, 0], lr.coef_[0, 1], lr.coef_[0, 2], lr.coef_[0, 3], lr.coef_[0, 4], lr.intercept_[0]))"
   ]
  },
  {
   "cell_type": "code",
   "execution_count": 124,
   "id": "3b7cc680",
   "metadata": {},
   "outputs": [
    {
     "data": {
      "image/png": "[encoded data removed]",
      "text/plain": [
       "<Figure size 432x288 with 1 Axes>"
      ]
     },
     "metadata": {},
     "output_type": "display_data"
    }
   ],
   "source": [
    "## ggplot 스타일\n",
    "mpl.style.use('ggplot')\n",
    "# matplotlib 한글화\n",
    "mpl.rcParams['font.family'] = 'D2coding'\n",
    "\n",
    "# 시그모이드 함수 시각화\n",
    "def sigmoid(x):\n",
    "    return 1 / (1+np.exp(-x))\n",
    "\n",
    "x_data = np.arange(-12, 12, 0.1)\n",
    "result = sigmoid(x_data)\n",
    "\n",
    "plt.plot(x_data, result)\n",
    "plt.scatter(0, 0.5, marker = 'D', color = 'black')\n",
    "plt.scatter(decisions, expit(decisions),marker='^' ,color = 'g')\n",
    "\n",
    "plt.title('시그모이드 시각화')\n",
    "plt.xlabel('Z값')\n",
    "plt.ylabel('시그모이드값')\n",
    "plt.ylim(-0.1, 1.1)\n",
    "plt.show()"
   ]
  },
  {
   "cell_type": "code",
   "execution_count": null,
   "id": "ebae3f80",
   "metadata": {},
   "outputs": [],
   "source": []
  },
  {
   "cell_type": "markdown",
   "id": "877419fd",
   "metadata": {},
   "source": [
    "## 로지스틱(다중 분류)"
   ]
  },
  {
   "cell_type": "code",
   "execution_count": 138,
   "id": "16f3b73e",
   "metadata": {},
   "outputs": [
    {
     "data": {
      "text/plain": [
       "LogisticRegression(C=20, max_iter=1000)"
      ]
     },
     "execution_count": 138,
     "metadata": {},
     "output_type": "execute_result"
    }
   ],
   "source": [
    "from sklearn.linear_model import LogisticRegression\n",
    "lr = LogisticRegression(C=20, max_iter=1000) # 규제\n",
    "lr.fit(train_scaled, train_target)"
   ]
  },
  {
   "cell_type": "code",
   "execution_count": 139,
   "id": "0e014e09",
   "metadata": {},
   "outputs": [
    {
     "name": "stdout",
     "output_type": "stream",
     "text": [
      "0.9327731092436975\n",
      "0.925\n"
     ]
    }
   ],
   "source": [
    "print(lr.score(train_scaled, train_target))\n",
    "print(lr.score(test_scaled, test_target))"
   ]
  },
  {
   "cell_type": "code",
   "execution_count": 143,
   "id": "6fed1dec",
   "metadata": {},
   "outputs": [
    {
     "data": {
      "text/plain": [
       "array(['Perch', 'Smelt', 'Pike', 'Roach', 'Perch'], dtype=object)"
      ]
     },
     "execution_count": 143,
     "metadata": {},
     "output_type": "execute_result"
    }
   ],
   "source": [
    "lr.predict(test_scaled[:5])"
   ]
  },
  {
   "cell_type": "code",
   "execution_count": 149,
   "id": "7697df61",
   "metadata": {},
   "outputs": [
    {
     "data": {
      "text/plain": [
       "array([[0.   , 0.014, 0.841, 0.   , 0.136, 0.007, 0.003],\n",
       "       [0.   , 0.003, 0.044, 0.   , 0.007, 0.946, 0.   ],\n",
       "       [0.   , 0.   , 0.034, 0.935, 0.015, 0.016, 0.   ],\n",
       "       [0.011, 0.034, 0.306, 0.007, 0.567, 0.   , 0.076],\n",
       "       [0.   , 0.   , 0.904, 0.002, 0.089, 0.002, 0.001]])"
      ]
     },
     "execution_count": 149,
     "metadata": {},
     "output_type": "execute_result"
    }
   ],
   "source": [
    "proba = lr.predict_proba(test_scaled[:5])\n",
    "np.round(proba, decimals=3)"
   ]
  },
  {
   "cell_type": "code",
   "execution_count": 151,
   "id": "e9bbf368",
   "metadata": {},
   "outputs": [
    {
     "data": {
      "text/plain": [
       "array(['Bream', 'Parkki', 'Perch', 'Pike', 'Roach', 'Smelt', 'Whitefish'],\n",
       "      dtype=object)"
      ]
     },
     "execution_count": 151,
     "metadata": {},
     "output_type": "execute_result"
    }
   ],
   "source": [
    "lr.classes_"
   ]
  },
  {
   "cell_type": "code",
   "execution_count": null,
   "id": "c3bbb605",
   "metadata": {},
   "outputs": [],
   "source": [
    "# 소프트맥스, 다중 시그모시\n",
    "decisions = "
   ]
  }
 ],
 "metadata": {
  "kernelspec": {
   "display_name": "Python 3 (ipykernel)",
   "language": "python",
   "name": "python3"
  },
  "language_info": {
   "codemirror_mode": {
    "name": "ipython",
    "version": 3
   },
   "file_extension": ".py",
   "mimetype": "text/x-python",
   "name": "python",
   "nbconvert_exporter": "python",
   "pygments_lexer": "ipython3",
   "version": "3.9.7"
  },
  "toc": {
   "base_numbering": 1,
   "nav_menu": {},
   "number_sections": true,
   "sideBar": true,
   "skip_h1_title": false,
   "title_cell": "Table of Contents",
   "title_sidebar": "Contents",
   "toc_cell": false,
   "toc_position": {},
   "toc_section_display": true,
   "toc_window_display": true
  }
 },
 "nbformat": 4,
 "nbformat_minor": 5
}
