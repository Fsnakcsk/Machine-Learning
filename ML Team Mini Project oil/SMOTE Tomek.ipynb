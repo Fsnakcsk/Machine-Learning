{
 "cells": [
  {
   "cell_type": "markdown",
   "id": "f3499f39",
   "metadata": {},
   "source": [
    "# 세팅"
   ]
  },
  {
   "cell_type": "code",
   "execution_count": 78,
   "id": "9c130ec8",
   "metadata": {
    "execution": {
     "iopub.execute_input": "2022-11-21T11:09:05.949551Z",
     "iopub.status.busy": "2022-11-21T11:09:05.948552Z",
     "iopub.status.idle": "2022-11-21T11:09:07.668270Z",
     "shell.execute_reply": "2022-11-21T11:09:07.667273Z",
     "shell.execute_reply.started": "2022-11-21T11:09:05.949551Z"
    }
   },
   "outputs": [],
   "source": [
    "from sklearn.preprocessing import StandardScaler\n",
    "\n",
    "from IPython.display import Image\n",
    "#from sklearn.model_selection import KFold\n",
    "#from sklearn.linear_model import LogisticRegression\n",
    "\n",
    "from sklearn.preprocessing import LabelEncoder\n",
    "\n",
    "from sklearn.metrics import confusion_matrix\n",
    "from sklearn.metrics import classification_report\n",
    "from sklearn.metrics import accuracy_score,precision_score,recall_score,roc_auc_score\n",
    "\n",
    "import missingno as msno\n",
    "\n",
    "from lightgbm import LGBMClassifier\n",
    "from sklearn.impute import SimpleImputer\n",
    "from sklearn.preprocessing import LabelEncoder, OneHotEncoder, Binarizer, KBinsDiscretizer\n",
    "\n",
    "from statsmodels.stats.outliers_influence import variance_inflation_factor\n",
    "\n",
    "import numpy as np\n",
    "import pandas as pd\n",
    "import matplotlib.pyplot as plt\n",
    "import matplotlib as mpl\n",
    "\n",
    "from sklearn.preprocessing import StandardScaler\n",
    "\n",
    "from sklearn.model_selection import cross_val_predict\n",
    "from patsy import dmatrix\n",
    "from sklearn.metrics import accuracy_score, precision_score, recall_score, roc_auc_score\n",
    "from sklearn.metrics import f1_score, confusion_matrix, mean_absolute_error, make_scorer\n",
    "from sklearn.model_selection import GridSearchCV, cross_val_score\n",
    "\n",
    "\n",
    "import xgboost as xgb\n",
    "from lightgbm import LGBMClassifier\n",
    "from lightgbm import LGBMRegressor\n",
    "from xgboost import XGBRegressor\n",
    "\n",
    "from warnings import filterwarnings\n",
    "import warnings\n",
    "\n",
    "%matplotlib inline\n",
    "%config Inlinebackend.figure_format = 'retina'\n",
    "\n",
    "# 한글 폰트 설정\n",
    "mpl.rc('font', family='malgun gothic')\n",
    "\n",
    "# 시각화 차트에 음수설정\n",
    "mpl.rc('axes', unicode_minus = False)\n",
    "\n",
    "# 오류경고\n",
    "warnings.filterwarnings('ignore')\n",
    "\n",
    "\n",
    "import seaborn as sns\n",
    "\n",
    "# 차트 스타일지정     글꼴                    음수처리                        눈금\n",
    "sns.set(font = 'malgun ghthic', rc={'axes.unicode_minus':False}, style = 'darkgrid')\n",
    "plt.rc('figure', figsize=(10, 8))\n"
   ]
  },
  {
   "cell_type": "code",
   "execution_count": 2,
   "id": "a8df43ad",
   "metadata": {
    "execution": {
     "iopub.execute_input": "2022-11-21T11:09:07.669247Z",
     "iopub.status.busy": "2022-11-21T11:09:07.669247Z",
     "iopub.status.idle": "2022-11-21T11:09:07.698171Z",
     "shell.execute_reply": "2022-11-21T11:09:07.697174Z",
     "shell.execute_reply.started": "2022-11-21T11:09:07.669247Z"
    }
   },
   "outputs": [],
   "source": [
    "%matplotlib inline\n",
    "%config InlineBackend.figure_format = 'retina'\n",
    "\n",
    "mpl.rc('font', family = 'D2coding')\n",
    "mpl.rc('axes', unicode_minus=False)\n",
    "\n",
    "sns.set(font=\"malgun gothic\", rc={\"axes.unicode_minus\":False}, style='darkgrid')\n",
    "plt.rc('figure', figsize=( 10, 8))\n",
    "\n",
    "warnings.filterwarnings('ignore')"
   ]
  },
  {
   "cell_type": "markdown",
   "id": "22ab475a",
   "metadata": {},
   "source": [
    "# User Function"
   ]
  },
  {
   "cell_type": "code",
   "execution_count": 3,
   "id": "97065c22",
   "metadata": {},
   "outputs": [],
   "source": [
    "def get_f1(model_name, target, pred) :\n",
    "    print(model_name, 'Macro f1 socre : ', f1_score(target, pred, average='macro'))\n",
    "    \n",
    "def get_f1_score(target, pred) :\n",
    "    print('Macro f1 socre : ', f1_score(target, pred, average='macro'))\n",
    "    \n",
    "def get_rmse(model):\n",
    "    pred = model.predict(X_test)\n",
    "    mse = mean_squared_error(y_test , pred)\n",
    "    rmse = np.sqrt(mse)\n",
    "    print('{0} 로그 변환된 RMSE: {1}'.format(model.__class__.__name__,np.round(rmse, 3)))\n",
    "    return rmse\n",
    "\n",
    "def get_rmses(models):\n",
    "    rmses = [ ]\n",
    "    for model in models:\n",
    "        rmse = get_rmse(model)\n",
    "        rmses.append(rmse)\n",
    "    return rmses"
   ]
  },
  {
   "cell_type": "code",
   "execution_count": 4,
   "id": "c6791c8f",
   "metadata": {},
   "outputs": [],
   "source": [
    "from sklearn.model_selection import train_test_split, cross_val_predict\n",
    "from sklearn.metrics import accuracy_score, precision_score, recall_score, roc_auc_score\n",
    "from sklearn.metrics import f1_score, confusion_matrix, precision_recall_curve, roc_curve, classification_report\n",
    "\n",
    "from sklearn.preprocessing import StandardScaler, MinMaxScaler\n",
    "from sklearn.linear_model import LogisticRegression\n",
    "from sklearn.preprocessing import Binarizer\n",
    "\n",
    "\n",
    "# 평가지표 분류\n",
    "def get_clf_eval(y_test, pred = None, pred_proba = None):\n",
    "    confusion = confusion_matrix(y_test, pred)\n",
    "    accuracy = accuracy_score(y_test, pred)\n",
    "    precision = precision_score(y_test, pred)\n",
    "    recall = recall_score(y_test, pred)\n",
    "    f1 = f1_score(y_test, pred)\n",
    "    roc_auc = roc_auc_score(y_test, pred_proba)\n",
    "    print('오차 행렬')\n",
    "    print(confusion)\n",
    "    print('정확도 : {:.4f}, 정밀도 : {:.4f}, 재현율 : {:.4f}, F1 : {:.4f}, AUC : {:.4f}'.\n",
    "          format(accuracy, precision, recall, f1, roc_auc))\n",
    "\n",
    "# 재현율과 정밀도의 시각화\n",
    "def precision_recall_curve_plot(y_test, pred_proba_c1):\n",
    "    precisions, recalls, thresholds = precision_recall_curve(y_test, pred_proba_c1)\n",
    "    \n",
    "    plt.figure(figsize = (10, 7))\n",
    "    plt.rc('font', family = 'D2coding')\n",
    "    threshold_boundary = thresholds.shape[0]\n",
    "    a = thresholds[precisions[0:threshold_boundary] == recalls[0:threshold_boundary]]\n",
    "    loc = np.where(thresholds == a[0])[0][0]\n",
    "    plt.plot(thresholds, precisions[0:threshold_boundary], linestyle = '--', label = 'precision')\n",
    "    plt.plot(thresholds, recalls[0:threshold_boundary], label = 'recall')\n",
    "    plt.scatter(thresholds[loc], precisions[loc], c = 'black', s = 60)\n",
    "    plt.text(0.02 + thresholds[loc], precisions[loc], '임계값 : {:.3f}'.format(thresholds[loc]), size = 15)\n",
    "    \n",
    "    start, end = plt.xlim()\n",
    "    plt.xticks(np.round(np.arange(start, end, 0.1), 2), size = 15)\n",
    "    plt.xlabel('Threshold value', size = 15); plt.ylabel('Precision and Recall value', size = 15)\n",
    "    plt.legend()\n",
    "    plt.rc('legend', fontsize = 15)\n",
    "    plt.rc('ytick', labelsize = 15)\n",
    "    plt.show()\n",
    "    \n",
    "\n",
    "# 임계값 조정 함수\n",
    "def get_clf_eval_thres(y_test, pred_po, threshold, f1_show=False, auc_show=False):\n",
    "    eval_df = pd.DataFrame()\n",
    "    \n",
    "    for thres in threshold:\n",
    "        # threshold에 따른 예측 분류 값\n",
    "        binarizer = Binarizer(threshold = thres)\n",
    "        binarizer.fit(pred_po)\n",
    "        thres_pred = binarizer.transform(pred_po)\n",
    "        \n",
    "        # 평가지표  \n",
    "        accuracy = accuracy_score(y_test, thres_pred)\n",
    "        precision = precision_score(y_test, thres_pred)\n",
    "        recall = recall_score(y_test, thres_pred)\n",
    "        f1 = f1_score(y_test, thres_pred)\n",
    "        auc = roc_auc_score(y_test, pred_po)\n",
    "        \n",
    "        # 데이터 프레임 형태\n",
    "        eval_lst = np.array([accuracy, precision, recall, f1, auc]).reshape(-1,1)\n",
    "        temp = pd.DataFrame(eval_lst, columns=[thres], \n",
    "                            index = [\"정확도\", \"정밀도\", \"재현율\", \"F1스코어\", \"AUC\"])\n",
    "        eval_df = pd.concat([eval_df,temp], axis=1)\n",
    "        \n",
    "    eval_df.columns.names = [\"임계값\"]\n",
    "    \n",
    "    if f1_show == False:\n",
    "        eval_df.drop(\"F1스코어\", axis=0, inplace=True)\n",
    "        \n",
    "    if auc_show == False:\n",
    "        eval_df.drop(\"AUC\", axis=0, inplace=True)\n",
    "        \n",
    "    return round(eval_df, 4)\n",
    "\n",
    "\n",
    "def get_acc(data, target) :\n",
    "    pred_X = grid_clf.predict(data)\n",
    "\n",
    "    print('train accuracy score :', accuracy_score(target, pred_X))"
   ]
  },
  {
   "cell_type": "code",
   "execution_count": 5,
   "id": "9c8e56b8",
   "metadata": {
    "execution": {
     "iopub.execute_input": "2022-11-21T11:09:07.699186Z",
     "iopub.status.busy": "2022-11-21T11:09:07.699186Z",
     "iopub.status.idle": "2022-11-21T11:09:07.789937Z",
     "shell.execute_reply": "2022-11-21T11:09:07.789937Z",
     "shell.execute_reply.started": "2022-11-21T11:09:07.699186Z"
    },
    "tags": []
   },
   "outputs": [],
   "source": [
    "data = pd.read_csv('train.csv')\n",
    "test = pd.read_csv('test.csv')"
   ]
  },
  {
   "cell_type": "code",
   "execution_count": 6,
   "id": "d6cc0b85",
   "metadata": {
    "execution": {
     "iopub.execute_input": "2022-11-21T11:09:07.790950Z",
     "iopub.status.busy": "2022-11-21T11:09:07.790950Z",
     "iopub.status.idle": "2022-11-21T11:09:07.805899Z",
     "shell.execute_reply": "2022-11-21T11:09:07.804899Z",
     "shell.execute_reply.started": "2022-11-21T11:09:07.790950Z"
    },
    "tags": []
   },
   "outputs": [
    {
     "data": {
      "text/plain": [
       "0.0     1954\n",
       "1.0     1834\n",
       "2.0       90\n",
       "3.0        8\n",
       "13.0       1\n",
       "7.0        1\n",
       "5.0        1\n",
       "10.0       1\n",
       "Name: FOPTIMETHGLY, dtype: int64"
      ]
     },
     "execution_count": 6,
     "metadata": {},
     "output_type": "execute_result"
    }
   ],
   "source": [
    "data['FOPTIMETHGLY'].value_counts()"
   ]
  },
  {
   "cell_type": "markdown",
   "id": "82cd1376-5652-489b-9159-84f57dc05264",
   "metadata": {},
   "source": [
    "# 데이터 탐색 및 전처리(EDA)"
   ]
  },
  {
   "cell_type": "markdown",
   "id": "38b1ac2d",
   "metadata": {},
   "source": [
    "## 데이터 유형 확인"
   ]
  },
  {
   "cell_type": "code",
   "execution_count": 7,
   "id": "e20b922c",
   "metadata": {
    "execution": {
     "iopub.execute_input": "2022-11-21T11:09:07.806894Z",
     "iopub.status.busy": "2022-11-21T11:09:07.805899Z",
     "iopub.status.idle": "2022-11-21T11:09:07.837810Z",
     "shell.execute_reply": "2022-11-21T11:09:07.836816Z",
     "shell.execute_reply.started": "2022-11-21T11:09:07.806894Z"
    }
   },
   "outputs": [],
   "source": [
    "# data.info()"
   ]
  },
  {
   "cell_type": "markdown",
   "id": "fd27e884",
   "metadata": {},
   "source": [
    "## profiling"
   ]
  },
  {
   "cell_type": "code",
   "execution_count": 8,
   "id": "f379c3f1",
   "metadata": {
    "execution": {
     "iopub.execute_input": "2022-11-21T11:09:07.837810Z",
     "iopub.status.busy": "2022-11-21T11:09:07.837810Z",
     "iopub.status.idle": "2022-11-21T11:09:07.853769Z",
     "shell.execute_reply": "2022-11-21T11:09:07.852773Z",
     "shell.execute_reply.started": "2022-11-21T11:09:07.837810Z"
    }
   },
   "outputs": [],
   "source": [
    "#!pip install pandas_profiling"
   ]
  },
  {
   "cell_type": "markdown",
   "id": "c3d36253",
   "metadata": {},
   "source": [
    "import pandas_profiling\n",
    "profile_report = pandas_profiling.ProfileReport(data)\n",
    "profile_report"
   ]
  },
  {
   "cell_type": "markdown",
   "id": "3cdf0844",
   "metadata": {},
   "source": [
    "## 결측치 확인\n",
    "- U를 2개의 그룹으로 합친 다음에 결측치를 0으로 대체 \n",
    "- 결측치 0으로 바꾸기"
   ]
  },
  {
   "cell_type": "code",
   "execution_count": 9,
   "id": "1c9f7ec8",
   "metadata": {
    "execution": {
     "iopub.execute_input": "2022-11-21T11:09:07.855765Z",
     "iopub.status.busy": "2022-11-21T11:09:07.855765Z",
     "iopub.status.idle": "2022-11-21T11:09:07.884688Z",
     "shell.execute_reply": "2022-11-21T11:09:07.884688Z",
     "shell.execute_reply.started": "2022-11-21T11:09:07.855765Z"
    }
   },
   "outputs": [
    {
     "name": "stdout",
     "output_type": "stream",
     "text": [
      "ID                     0.00\n",
      "COMPONENT_ARBITRARY    0.00\n",
      "ANONYMOUS_1            0.00\n",
      "YEAR                   0.00\n",
      "SAMPLE_TRANSFER_DAY    0.00\n",
      "ANONYMOUS_2            0.00\n",
      "AG                     0.00\n",
      "AL                     0.00\n",
      "B                      0.00\n",
      "BA                     0.00\n",
      "BE                     0.00\n",
      "CA                     0.00\n",
      "CD                     0.10\n",
      "CO                     0.00\n",
      "CR                     0.00\n",
      "CU                     0.00\n",
      "FH2O                   0.72\n",
      "FNOX                   0.72\n",
      "FOPTIMETHGLY           0.72\n",
      "FOXID                  0.72\n",
      "FSO4                   0.72\n",
      "FTBN                   0.72\n",
      "FE                     0.00\n",
      "FUEL                   0.72\n",
      "H2O                    0.00\n",
      "K                      0.16\n",
      "LI                     0.00\n",
      "MG                     0.00\n",
      "MN                     0.00\n",
      "MO                     0.00\n",
      "NA                     0.00\n",
      "NI                     0.00\n",
      "P                      0.00\n",
      "PB                     0.00\n",
      "PQINDEX                0.00\n",
      "S                      0.00\n",
      "SB                     0.00\n",
      "SI                     0.00\n",
      "SN                     0.00\n",
      "SOOTPERCENTAGE         0.72\n",
      "TI                     0.00\n",
      "U100                   0.84\n",
      "U75                    0.84\n",
      "U50                    0.84\n",
      "U25                    0.84\n",
      "U20                    0.84\n",
      "U14                    0.85\n",
      "U6                     0.85\n",
      "U4                     0.85\n",
      "V                      0.00\n",
      "V100                   0.74\n",
      "V40                    0.00\n",
      "ZN                     0.00\n",
      "Y_LABEL                0.00\n",
      "dtype: float64\n"
     ]
    },
    {
     "data": {
      "text/plain": [
       "Index(['U4', 'U6', 'U14', 'U20', 'U50', 'U100', 'U75', 'U25', 'V100', 'FH2O',\n",
       "       'FOXID', 'FUEL', 'FOPTIMETHGLY', 'FSO4', 'FTBN', 'SOOTPERCENTAGE',\n",
       "       'FNOX'],\n",
       "      dtype='object')"
      ]
     },
     "execution_count": 9,
     "metadata": {},
     "output_type": "execute_result"
    }
   ],
   "source": [
    "# 비율로 확인 \n",
    "missing_value = data.isna().sum()\n",
    "total = data.shape[0]\n",
    "ratio = round(missing_value/total,2)\n",
    "print(round(missing_value/total,2))\n",
    "ratio.sort_values(ascending=False).head(17).index\n",
    "#  ['U4', 'U6', 'U14', 'U20', 'U50', 'U100', 'U75', 'U25', 'V100', 'FH2O',\n",
    "#        'FOXID', 'FUEL', 'FOPTIMETHGLY', 'FSO4', 'FTBN', 'SOOTPERCENTAGE',\n",
    "#        'FNOX'] --> 결측치 70% 이상 "
   ]
  },
  {
   "cell_type": "code",
   "execution_count": 10,
   "id": "191722d2",
   "metadata": {
    "execution": {
     "iopub.execute_input": "2022-11-21T11:09:07.885683Z",
     "iopub.status.busy": "2022-11-21T11:09:07.885683Z",
     "iopub.status.idle": "2022-11-21T11:09:07.900643Z",
     "shell.execute_reply": "2022-11-21T11:09:07.900643Z",
     "shell.execute_reply.started": "2022-11-21T11:09:07.885683Z"
    }
   },
   "outputs": [
    {
     "data": {
      "text/plain": [
       "0.0     1954\n",
       "1.0     1834\n",
       "2.0       90\n",
       "3.0        8\n",
       "13.0       1\n",
       "7.0        1\n",
       "5.0        1\n",
       "10.0       1\n",
       "Name: FOPTIMETHGLY, dtype: int64"
      ]
     },
     "execution_count": 10,
     "metadata": {},
     "output_type": "execute_result"
    }
   ],
   "source": [
    "data['FOPTIMETHGLY'].value_counts()"
   ]
  },
  {
   "cell_type": "code",
   "execution_count": 11,
   "id": "e39d4ce5",
   "metadata": {
    "execution": {
     "iopub.execute_input": "2022-11-21T11:09:07.902640Z",
     "iopub.status.busy": "2022-11-21T11:09:07.902640Z",
     "iopub.status.idle": "2022-11-21T11:09:08.769290Z",
     "shell.execute_reply": "2022-11-21T11:09:08.769290Z",
     "shell.execute_reply.started": "2022-11-21T11:09:07.902640Z"
    }
   },
   "outputs": [],
   "source": [
    "# 결측치 시각화 \n",
    "# plt.figure(figsize=(10,15))\n",
    "# msno.matrix(data.sample(250))\n",
    "# plt.show()"
   ]
  },
  {
   "cell_type": "code",
   "execution_count": 12,
   "id": "f7523377",
   "metadata": {
    "execution": {
     "iopub.execute_input": "2022-11-21T11:09:08.773280Z",
     "iopub.status.busy": "2022-11-21T11:09:08.773280Z",
     "iopub.status.idle": "2022-11-21T11:09:10.769311Z",
     "shell.execute_reply": "2022-11-21T11:09:10.768303Z",
     "shell.execute_reply.started": "2022-11-21T11:09:08.773280Z"
    }
   },
   "outputs": [],
   "source": [
    "# bar\n",
    "# msno.bar(data)"
   ]
  },
  {
   "cell_type": "code",
   "execution_count": 13,
   "id": "460421c5",
   "metadata": {
    "execution": {
     "iopub.execute_input": "2022-11-21T11:09:10.770297Z",
     "iopub.status.busy": "2022-11-21T11:09:10.770297Z",
     "iopub.status.idle": "2022-11-21T11:09:11.973295Z",
     "shell.execute_reply": "2022-11-21T11:09:11.972292Z",
     "shell.execute_reply.started": "2022-11-21T11:09:10.770297Z"
    }
   },
   "outputs": [],
   "source": [
    "#한 변수의 유무가 다른 변수의 존재에 얼마나 강하게 영향을 미치는지입니다.\n",
    "# 결측치가 너무 많아서 \"1\"로 뜬 것 같다. \n",
    "# msno.heatmap(data)"
   ]
  },
  {
   "cell_type": "markdown",
   "id": "aba390a9",
   "metadata": {},
   "source": [
    "## 결측치 확인 "
   ]
  },
  {
   "cell_type": "code",
   "execution_count": 14,
   "id": "25f070a1",
   "metadata": {
    "execution": {
     "iopub.execute_input": "2022-11-21T11:09:11.973295Z",
     "iopub.status.busy": "2022-11-21T11:09:11.973295Z",
     "iopub.status.idle": "2022-11-21T11:09:11.989275Z",
     "shell.execute_reply": "2022-11-21T11:09:11.988252Z",
     "shell.execute_reply.started": "2022-11-21T11:09:11.973295Z"
    }
   },
   "outputs": [],
   "source": [
    "# 'U20', 'U50', 'U100','U75', 'U25', 'FOPTIMETHGLY','V100' 삭제 \n",
    "data = data.drop(columns = ['U20', 'U50', 'U100','U75', 'U25', 'FOPTIMETHGLY','V100'])"
   ]
  },
  {
   "cell_type": "code",
   "execution_count": 15,
   "id": "640b1b99",
   "metadata": {
    "execution": {
     "iopub.execute_input": "2022-11-21T11:09:11.990245Z",
     "iopub.status.busy": "2022-11-21T11:09:11.990245Z",
     "iopub.status.idle": "2022-11-21T11:09:12.004207Z",
     "shell.execute_reply": "2022-11-21T11:09:12.004207Z",
     "shell.execute_reply.started": "2022-11-21T11:09:11.990245Z"
    }
   },
   "outputs": [],
   "source": [
    "# Y_LABEL확인\n",
    "# data['Y_LABEL'].value_counts()"
   ]
  },
  {
   "cell_type": "code",
   "execution_count": 16,
   "id": "47d0796e",
   "metadata": {
    "execution": {
     "iopub.execute_input": "2022-11-21T11:09:12.005204Z",
     "iopub.status.busy": "2022-11-21T11:09:12.005204Z",
     "iopub.status.idle": "2022-11-21T11:09:12.020164Z",
     "shell.execute_reply": "2022-11-21T11:09:12.020164Z",
     "shell.execute_reply.started": "2022-11-21T11:09:12.005204Z"
    }
   },
   "outputs": [],
   "source": [
    "# 결측치 확인 \n",
    "# data.isna().sum()"
   ]
  },
  {
   "cell_type": "code",
   "execution_count": 17,
   "id": "cafea026",
   "metadata": {
    "execution": {
     "iopub.execute_input": "2022-11-21T11:09:12.021162Z",
     "iopub.status.busy": "2022-11-21T11:09:12.021162Z",
     "iopub.status.idle": "2022-11-21T11:09:12.036124Z",
     "shell.execute_reply": "2022-11-21T11:09:12.035124Z",
     "shell.execute_reply.started": "2022-11-21T11:09:12.021162Z"
    },
    "scrolled": true
   },
   "outputs": [],
   "source": [
    "# 결측치 \"0\"으로 채우기 \n",
    "feature = ['K', 'CD','U4', 'U6', 'U14', 'FH2O','FOXID', 'FSO4', 'SOOTPERCENTAGE','FNOX','FUEL']\n",
    "for i in feature:\n",
    "    data[i].fillna(0, inplace=True)    "
   ]
  },
  {
   "cell_type": "code",
   "execution_count": 18,
   "id": "f5591cf2",
   "metadata": {
    "execution": {
     "iopub.execute_input": "2022-11-21T11:09:12.037120Z",
     "iopub.status.busy": "2022-11-21T11:09:12.037120Z",
     "iopub.status.idle": "2022-11-21T11:09:12.050084Z",
     "shell.execute_reply": "2022-11-21T11:09:12.050084Z",
     "shell.execute_reply.started": "2022-11-21T11:09:12.037120Z"
    }
   },
   "outputs": [],
   "source": [
    "# data['FUEL'].value_counts()"
   ]
  },
  {
   "cell_type": "code",
   "execution_count": 19,
   "id": "2ed0f2fb",
   "metadata": {
    "execution": {
     "iopub.execute_input": "2022-11-21T11:09:12.051081Z",
     "iopub.status.busy": "2022-11-21T11:09:12.051081Z",
     "iopub.status.idle": "2022-11-21T11:09:12.082997Z",
     "shell.execute_reply": "2022-11-21T11:09:12.081999Z",
     "shell.execute_reply.started": "2022-11-21T11:09:12.051081Z"
    }
   },
   "outputs": [],
   "source": [
    "# 결측치 확인 --> 결측치 없음. * FUEL, FTBN은 아직 결측치 존재 . \n",
    "# data.isna().sum()"
   ]
  },
  {
   "cell_type": "markdown",
   "id": "7087319d",
   "metadata": {},
   "source": [
    "### FTBN"
   ]
  },
  {
   "cell_type": "code",
   "execution_count": 20,
   "id": "4e04fba5",
   "metadata": {
    "execution": {
     "iopub.execute_input": "2022-11-21T11:09:12.084992Z",
     "iopub.status.busy": "2022-11-21T11:09:12.083999Z",
     "iopub.status.idle": "2022-11-21T11:09:12.258501Z",
     "shell.execute_reply": "2022-11-21T11:09:12.257702Z",
     "shell.execute_reply.started": "2022-11-21T11:09:12.084992Z"
    },
    "tags": []
   },
   "outputs": [],
   "source": [
    "# sns.boxplot(data['FTBN'])\n",
    "# plt.show()"
   ]
  },
  {
   "cell_type": "code",
   "execution_count": 21,
   "id": "5b34f599",
   "metadata": {
    "execution": {
     "iopub.execute_input": "2022-11-21T11:09:12.259497Z",
     "iopub.status.busy": "2022-11-21T11:09:12.259497Z",
     "iopub.status.idle": "2022-11-21T11:09:12.541574Z",
     "shell.execute_reply": "2022-11-21T11:09:12.540573Z",
     "shell.execute_reply.started": "2022-11-21T11:09:12.259497Z"
    }
   },
   "outputs": [],
   "source": [
    "# data.FTBN.plot()"
   ]
  },
  {
   "cell_type": "code",
   "execution_count": 22,
   "id": "f6ce6e4f",
   "metadata": {
    "execution": {
     "iopub.execute_input": "2022-11-21T11:09:12.542572Z",
     "iopub.status.busy": "2022-11-21T11:09:12.542572Z",
     "iopub.status.idle": "2022-11-21T11:09:12.557061Z",
     "shell.execute_reply": "2022-11-21T11:09:12.556064Z",
     "shell.execute_reply.started": "2022-11-21T11:09:12.542572Z"
    }
   },
   "outputs": [],
   "source": [
    "# 결측치를 뭘로 채우지?\n",
    "# data['FTBN'].describe()"
   ]
  },
  {
   "cell_type": "code",
   "execution_count": 23,
   "id": "2f93ce58",
   "metadata": {
    "execution": {
     "iopub.execute_input": "2022-11-21T11:09:12.559056Z",
     "iopub.status.busy": "2022-11-21T11:09:12.558061Z",
     "iopub.status.idle": "2022-11-21T11:09:12.572022Z",
     "shell.execute_reply": "2022-11-21T11:09:12.572022Z",
     "shell.execute_reply.started": "2022-11-21T11:09:12.559056Z"
    }
   },
   "outputs": [],
   "source": [
    "# data['FTBN'].value_counts()"
   ]
  },
  {
   "cell_type": "code",
   "execution_count": 24,
   "id": "ed1dec23",
   "metadata": {
    "execution": {
     "iopub.execute_input": "2022-11-21T11:09:12.573018Z",
     "iopub.status.busy": "2022-11-21T11:09:12.573018Z",
     "iopub.status.idle": "2022-11-21T11:09:12.601940Z",
     "shell.execute_reply": "2022-11-21T11:09:12.601940Z",
     "shell.execute_reply.started": "2022-11-21T11:09:12.573018Z"
    }
   },
   "outputs": [],
   "source": [
    "# data.head(3)"
   ]
  },
  {
   "cell_type": "markdown",
   "id": "fdebd850",
   "metadata": {},
   "source": [
    "## YEAR, COMPONENT로 groupby 이용해 target값 분석. FUEL"
   ]
  },
  {
   "cell_type": "code",
   "execution_count": 25,
   "id": "64169069",
   "metadata": {
    "execution": {
     "iopub.execute_input": "2022-11-21T11:09:12.602938Z",
     "iopub.status.busy": "2022-11-21T11:09:12.602938Z",
     "iopub.status.idle": "2022-11-21T11:09:12.617898Z",
     "shell.execute_reply": "2022-11-21T11:09:12.617898Z",
     "shell.execute_reply.started": "2022-11-21T11:09:12.602938Z"
    }
   },
   "outputs": [
    {
     "name": "stdout",
     "output_type": "stream",
     "text": [
      "FUEL \n",
      " Series([], Name: Y_LABEL, dtype: int64) \n",
      "-----------------------------\n",
      "FTBN \n",
      " 0    9314\n",
      "1     891\n",
      "Name: Y_LABEL, dtype: int64 \n",
      "-----------------------------\n"
     ]
    }
   ],
   "source": [
    "missing_value_mana = [ 'FUEL',   'FTBN']\n",
    "for i in missing_value_mana:\n",
    "    print(i, '\\n' ,data[data[i].isna()==True]['Y_LABEL'].value_counts(), '\\n-----------------------------')"
   ]
  },
  {
   "cell_type": "code",
   "execution_count": 26,
   "id": "c96467cc",
   "metadata": {
    "execution": {
     "iopub.execute_input": "2022-11-21T11:09:12.618897Z",
     "iopub.status.busy": "2022-11-21T11:09:12.618897Z",
     "iopub.status.idle": "2022-11-21T11:09:12.633856Z",
     "shell.execute_reply": "2022-11-21T11:09:12.632858Z",
     "shell.execute_reply.started": "2022-11-21T11:09:12.618897Z"
    },
    "scrolled": true
   },
   "outputs": [],
   "source": [
    "#pd.options.display.max_rows = 785\n",
    "# ata.groupby('YEAR')['FTBN'].value_counts()"
   ]
  },
  {
   "cell_type": "code",
   "execution_count": 27,
   "id": "9200ea39",
   "metadata": {
    "execution": {
     "iopub.execute_input": "2022-11-21T11:09:12.634854Z",
     "iopub.status.busy": "2022-11-21T11:09:12.634854Z",
     "iopub.status.idle": "2022-11-21T11:09:12.647819Z",
     "shell.execute_reply": "2022-11-21T11:09:12.647819Z",
     "shell.execute_reply.started": "2022-11-21T11:09:12.634854Z"
    }
   },
   "outputs": [],
   "source": [
    "# data.groupby('YEAR')['Y_LABEL'].value_counts()"
   ]
  },
  {
   "cell_type": "code",
   "execution_count": 28,
   "id": "7d35944d",
   "metadata": {
    "execution": {
     "iopub.execute_input": "2022-11-21T11:09:12.649816Z",
     "iopub.status.busy": "2022-11-21T11:09:12.648816Z",
     "iopub.status.idle": "2022-11-21T11:09:12.663776Z",
     "shell.execute_reply": "2022-11-21T11:09:12.663776Z",
     "shell.execute_reply.started": "2022-11-21T11:09:12.649816Z"
    },
    "scrolled": true
   },
   "outputs": [],
   "source": [
    "# data.groupby('YEAR')['FUEL'].value_counts()"
   ]
  },
  {
   "cell_type": "markdown",
   "id": "16dee9f2",
   "metadata": {},
   "source": [
    "## IterativeImputer"
   ]
  },
  {
   "cell_type": "code",
   "execution_count": 29,
   "id": "3670cd0b",
   "metadata": {
    "execution": {
     "iopub.execute_input": "2022-11-21T11:09:12.664773Z",
     "iopub.status.busy": "2022-11-21T11:09:12.664773Z",
     "iopub.status.idle": "2022-11-21T11:09:12.680730Z",
     "shell.execute_reply": "2022-11-21T11:09:12.679733Z",
     "shell.execute_reply.started": "2022-11-21T11:09:12.664773Z"
    }
   },
   "outputs": [],
   "source": [
    "FTBN = pd.DataFrame(data['FTBN'])\n",
    "# FTBN"
   ]
  },
  {
   "cell_type": "code",
   "execution_count": 30,
   "id": "39594eb3",
   "metadata": {
    "execution": {
     "iopub.execute_input": "2022-11-21T11:09:12.681728Z",
     "iopub.status.busy": "2022-11-21T11:09:12.681728Z",
     "iopub.status.idle": "2022-11-21T11:09:12.789296Z",
     "shell.execute_reply": "2022-11-21T11:09:12.789296Z",
     "shell.execute_reply.started": "2022-11-21T11:09:12.681728Z"
    }
   },
   "outputs": [],
   "source": [
    "FTBN = pd.DataFrame(data['FTBN'])\n",
    "FTBN\n",
    "# 결측값을 예측을 통해 채워넣음 \n",
    "from sklearn.experimental import enable_iterative_imputer\n",
    "from sklearn.impute import IterativeImputer\n",
    "\n",
    "imputer = IterativeImputer(random_state=100)\n",
    "FTBN_imputed = imputer.fit_transform(FTBN)\n",
    "\n",
    "# describe()를 하기위해 dataframe으로 바꿔줌 \n",
    "FTBN_imputed = pd.DataFrame(FTBN_imputed)\n",
    "# FTBN_imputed.describe()"
   ]
  },
  {
   "cell_type": "code",
   "execution_count": 31,
   "id": "51dc9170",
   "metadata": {
    "execution": {
     "iopub.execute_input": "2022-11-21T11:09:12.791290Z",
     "iopub.status.busy": "2022-11-21T11:09:12.790293Z",
     "iopub.status.idle": "2022-11-21T11:09:12.806250Z",
     "shell.execute_reply": "2022-11-21T11:09:12.805269Z",
     "shell.execute_reply.started": "2022-11-21T11:09:12.791290Z"
    },
    "scrolled": true
   },
   "outputs": [],
   "source": [
    "FTBN_imputed = pd.DataFrame(FTBN_imputed)\n",
    "# FTBN_imputed.describe()"
   ]
  },
  {
   "cell_type": "code",
   "execution_count": 32,
   "id": "6ff4b5d3",
   "metadata": {
    "execution": {
     "iopub.execute_input": "2022-11-21T11:09:12.807248Z",
     "iopub.status.busy": "2022-11-21T11:09:12.806250Z",
     "iopub.status.idle": "2022-11-21T11:09:12.820212Z",
     "shell.execute_reply": "2022-11-21T11:09:12.820212Z",
     "shell.execute_reply.started": "2022-11-21T11:09:12.807248Z"
    }
   },
   "outputs": [],
   "source": [
    "# iterative impute 하기 전.\n",
    "# data['FTBN'].describe()"
   ]
  },
  {
   "cell_type": "markdown",
   "id": "7078c0d1",
   "metadata": {},
   "source": [
    "## 결측치 많은 애들 heatmap"
   ]
  },
  {
   "cell_type": "code",
   "execution_count": 33,
   "id": "af198564",
   "metadata": {
    "execution": {
     "iopub.execute_input": "2022-11-21T11:09:12.821211Z",
     "iopub.status.busy": "2022-11-21T11:09:12.821211Z",
     "iopub.status.idle": "2022-11-21T11:09:12.836170Z",
     "shell.execute_reply": "2022-11-21T11:09:12.835174Z",
     "shell.execute_reply.started": "2022-11-21T11:09:12.821211Z"
    }
   },
   "outputs": [],
   "source": [
    "# data.shape"
   ]
  },
  {
   "cell_type": "code",
   "execution_count": 34,
   "id": "85ad24e7",
   "metadata": {
    "execution": {
     "iopub.execute_input": "2022-11-21T11:09:12.839162Z",
     "iopub.status.busy": "2022-11-21T11:09:12.838164Z",
     "iopub.status.idle": "2022-11-21T11:09:20.967769Z",
     "shell.execute_reply": "2022-11-21T11:09:20.966771Z",
     "shell.execute_reply.started": "2022-11-21T11:09:12.839162Z"
    }
   },
   "outputs": [],
   "source": [
    "# plt.figure(figsize = (35, 35))\n",
    "# sns.heatmap(data.corr(), \n",
    "#            annot = True, fmt = '0.1f',cmap = 'Blues')"
   ]
  },
  {
   "cell_type": "code",
   "execution_count": 35,
   "id": "4deebd92-38fd-4cdc-95de-4432178eab3f",
   "metadata": {
    "execution": {
     "iopub.execute_input": "2022-11-21T11:09:20.969271Z",
     "iopub.status.busy": "2022-11-21T11:09:20.968308Z",
     "iopub.status.idle": "2022-11-21T11:09:20.982237Z",
     "shell.execute_reply": "2022-11-21T11:09:20.982237Z",
     "shell.execute_reply.started": "2022-11-21T11:09:20.969271Z"
    }
   },
   "outputs": [],
   "source": [
    "data['FTBN'] = FTBN_imputed"
   ]
  },
  {
   "cell_type": "code",
   "execution_count": 36,
   "id": "11d042d3-a17e-482d-a7f4-058de28e3080",
   "metadata": {
    "execution": {
     "iopub.execute_input": "2022-11-21T11:09:20.983234Z",
     "iopub.status.busy": "2022-11-21T11:09:20.983234Z",
     "iopub.status.idle": "2022-11-21T11:09:21.014134Z",
     "shell.execute_reply": "2022-11-21T11:09:21.014134Z",
     "shell.execute_reply.started": "2022-11-21T11:09:20.983234Z"
    }
   },
   "outputs": [],
   "source": [
    "# data"
   ]
  },
  {
   "cell_type": "code",
   "execution_count": 37,
   "id": "4192ab0f-778f-4367-80bf-9eb23f9fefdd",
   "metadata": {
    "execution": {
     "iopub.execute_input": "2022-11-21T11:09:21.015129Z",
     "iopub.status.busy": "2022-11-21T11:09:21.015129Z",
     "iopub.status.idle": "2022-11-21T11:09:22.337046Z",
     "shell.execute_reply": "2022-11-21T11:09:22.336040Z",
     "shell.execute_reply.started": "2022-11-21T11:09:21.015129Z"
    },
    "tags": []
   },
   "outputs": [],
   "source": [
    "# msno.matrix(data)"
   ]
  },
  {
   "cell_type": "markdown",
   "id": "b72e77c5",
   "metadata": {},
   "source": [
    "# 데이터 스케일링"
   ]
  },
  {
   "cell_type": "code",
   "execution_count": 38,
   "id": "f1cfe4bb-9735-4b0f-a172-fdbdb10ac7f2",
   "metadata": {
    "execution": {
     "iopub.execute_input": "2022-11-21T11:09:22.338035Z",
     "iopub.status.busy": "2022-11-21T11:09:22.337046Z",
     "iopub.status.idle": "2022-11-21T11:09:22.350999Z",
     "shell.execute_reply": "2022-11-21T11:09:22.350999Z",
     "shell.execute_reply.started": "2022-11-21T11:09:22.338035Z"
    },
    "tags": []
   },
   "outputs": [],
   "source": [
    "# data.columns"
   ]
  },
  {
   "cell_type": "code",
   "execution_count": 39,
   "id": "275d1771-2954-40d2-8742-39a659876aa0",
   "metadata": {
    "execution": {
     "iopub.execute_input": "2022-11-21T11:09:22.358980Z",
     "iopub.status.busy": "2022-11-21T11:09:22.357981Z",
     "iopub.status.idle": "2022-11-21T11:09:22.366956Z",
     "shell.execute_reply": "2022-11-21T11:09:22.365992Z",
     "shell.execute_reply.started": "2022-11-21T11:09:22.358980Z"
    }
   },
   "outputs": [],
   "source": [
    "categorical_features = ['COMPONENT_ARBITRARY', 'YEAR']"
   ]
  },
  {
   "cell_type": "code",
   "execution_count": 40,
   "id": "fee61fa0-e60d-48a9-ad78-a3404c7844db",
   "metadata": {
    "execution": {
     "iopub.execute_input": "2022-11-21T11:09:22.367953Z",
     "iopub.status.busy": "2022-11-21T11:09:22.367953Z",
     "iopub.status.idle": "2022-11-21T11:09:22.381922Z",
     "shell.execute_reply": "2022-11-21T11:09:22.381922Z",
     "shell.execute_reply.started": "2022-11-21T11:09:22.367953Z"
    },
    "tags": []
   },
   "outputs": [],
   "source": [
    "from sklearn.preprocessing import LabelEncoder\n",
    "\n",
    "le = LabelEncoder()\n",
    "for col in categorical_features:    \n",
    "    data[col] = le.fit_transform(data[col])"
   ]
  },
  {
   "cell_type": "code",
   "execution_count": 41,
   "id": "a48ea355-ad18-49f1-82dc-56f9c60d5c4e",
   "metadata": {
    "execution": {
     "iopub.execute_input": "2022-11-21T11:09:22.383912Z",
     "iopub.status.busy": "2022-11-21T11:09:22.382913Z",
     "iopub.status.idle": "2022-11-21T11:09:22.398873Z",
     "shell.execute_reply": "2022-11-21T11:09:22.397873Z",
     "shell.execute_reply.started": "2022-11-21T11:09:22.383912Z"
    },
    "tags": []
   },
   "outputs": [],
   "source": [
    "data = data.drop('ID', axis = 1)"
   ]
  },
  {
   "cell_type": "code",
   "execution_count": 42,
   "id": "bdf895e4",
   "metadata": {},
   "outputs": [
    {
     "data": {
      "text/html": [
       "<div>\n",
       "<style scoped>\n",
       "    .dataframe tbody tr th:only-of-type {\n",
       "        vertical-align: middle;\n",
       "    }\n",
       "\n",
       "    .dataframe tbody tr th {\n",
       "        vertical-align: top;\n",
       "    }\n",
       "\n",
       "    .dataframe thead th {\n",
       "        text-align: right;\n",
       "    }\n",
       "</style>\n",
       "<table border=\"1\" class=\"dataframe\">\n",
       "  <thead>\n",
       "    <tr style=\"text-align: right;\">\n",
       "      <th></th>\n",
       "      <th>COMPONENT_ARBITRARY</th>\n",
       "      <th>ANONYMOUS_1</th>\n",
       "      <th>YEAR</th>\n",
       "      <th>SAMPLE_TRANSFER_DAY</th>\n",
       "      <th>ANONYMOUS_2</th>\n",
       "      <th>AG</th>\n",
       "      <th>AL</th>\n",
       "      <th>B</th>\n",
       "      <th>BA</th>\n",
       "      <th>BE</th>\n",
       "      <th>...</th>\n",
       "      <th>SN</th>\n",
       "      <th>SOOTPERCENTAGE</th>\n",
       "      <th>TI</th>\n",
       "      <th>U14</th>\n",
       "      <th>U6</th>\n",
       "      <th>U4</th>\n",
       "      <th>V</th>\n",
       "      <th>V40</th>\n",
       "      <th>ZN</th>\n",
       "      <th>Y_LABEL</th>\n",
       "    </tr>\n",
       "  </thead>\n",
       "  <tbody>\n",
       "    <tr>\n",
       "      <th>0</th>\n",
       "      <td>2</td>\n",
       "      <td>1486</td>\n",
       "      <td>4</td>\n",
       "      <td>7</td>\n",
       "      <td>200</td>\n",
       "      <td>0</td>\n",
       "      <td>3</td>\n",
       "      <td>93</td>\n",
       "      <td>0</td>\n",
       "      <td>0</td>\n",
       "      <td>...</td>\n",
       "      <td>2</td>\n",
       "      <td>0.0</td>\n",
       "      <td>5</td>\n",
       "      <td>0.0</td>\n",
       "      <td>0.0</td>\n",
       "      <td>0.0</td>\n",
       "      <td>0</td>\n",
       "      <td>154.0</td>\n",
       "      <td>75</td>\n",
       "      <td>0</td>\n",
       "    </tr>\n",
       "    <tr>\n",
       "      <th>1</th>\n",
       "      <td>1</td>\n",
       "      <td>1350</td>\n",
       "      <td>14</td>\n",
       "      <td>51</td>\n",
       "      <td>375</td>\n",
       "      <td>0</td>\n",
       "      <td>2</td>\n",
       "      <td>19</td>\n",
       "      <td>0</td>\n",
       "      <td>0</td>\n",
       "      <td>...</td>\n",
       "      <td>0</td>\n",
       "      <td>0.0</td>\n",
       "      <td>0</td>\n",
       "      <td>6.0</td>\n",
       "      <td>216.0</td>\n",
       "      <td>1454.0</td>\n",
       "      <td>0</td>\n",
       "      <td>44.0</td>\n",
       "      <td>652</td>\n",
       "      <td>0</td>\n",
       "    </tr>\n",
       "    <tr>\n",
       "      <th>2</th>\n",
       "      <td>1</td>\n",
       "      <td>2415</td>\n",
       "      <td>8</td>\n",
       "      <td>2</td>\n",
       "      <td>200</td>\n",
       "      <td>0</td>\n",
       "      <td>110</td>\n",
       "      <td>1</td>\n",
       "      <td>1</td>\n",
       "      <td>0</td>\n",
       "      <td>...</td>\n",
       "      <td>1</td>\n",
       "      <td>0.0</td>\n",
       "      <td>0</td>\n",
       "      <td>39.0</td>\n",
       "      <td>11261.0</td>\n",
       "      <td>41081.0</td>\n",
       "      <td>0</td>\n",
       "      <td>72.6</td>\n",
       "      <td>412</td>\n",
       "      <td>1</td>\n",
       "    </tr>\n",
       "    <tr>\n",
       "      <th>3</th>\n",
       "      <td>2</td>\n",
       "      <td>7389</td>\n",
       "      <td>3</td>\n",
       "      <td>2</td>\n",
       "      <td>200</td>\n",
       "      <td>0</td>\n",
       "      <td>8</td>\n",
       "      <td>3</td>\n",
       "      <td>0</td>\n",
       "      <td>0</td>\n",
       "      <td>...</td>\n",
       "      <td>1</td>\n",
       "      <td>0.0</td>\n",
       "      <td>0</td>\n",
       "      <td>0.0</td>\n",
       "      <td>0.0</td>\n",
       "      <td>0.0</td>\n",
       "      <td>0</td>\n",
       "      <td>133.3</td>\n",
       "      <td>7</td>\n",
       "      <td>0</td>\n",
       "    </tr>\n",
       "    <tr>\n",
       "      <th>4</th>\n",
       "      <td>2</td>\n",
       "      <td>3954</td>\n",
       "      <td>8</td>\n",
       "      <td>4</td>\n",
       "      <td>200</td>\n",
       "      <td>0</td>\n",
       "      <td>1</td>\n",
       "      <td>157</td>\n",
       "      <td>0</td>\n",
       "      <td>0</td>\n",
       "      <td>...</td>\n",
       "      <td>0</td>\n",
       "      <td>0.0</td>\n",
       "      <td>0</td>\n",
       "      <td>0.0</td>\n",
       "      <td>0.0</td>\n",
       "      <td>0.0</td>\n",
       "      <td>0</td>\n",
       "      <td>133.1</td>\n",
       "      <td>128</td>\n",
       "      <td>0</td>\n",
       "    </tr>\n",
       "    <tr>\n",
       "      <th>...</th>\n",
       "      <td>...</td>\n",
       "      <td>...</td>\n",
       "      <td>...</td>\n",
       "      <td>...</td>\n",
       "      <td>...</td>\n",
       "      <td>...</td>\n",
       "      <td>...</td>\n",
       "      <td>...</td>\n",
       "      <td>...</td>\n",
       "      <td>...</td>\n",
       "      <td>...</td>\n",
       "      <td>...</td>\n",
       "      <td>...</td>\n",
       "      <td>...</td>\n",
       "      <td>...</td>\n",
       "      <td>...</td>\n",
       "      <td>...</td>\n",
       "      <td>...</td>\n",
       "      <td>...</td>\n",
       "      <td>...</td>\n",
       "      <td>...</td>\n",
       "    </tr>\n",
       "    <tr>\n",
       "      <th>14090</th>\n",
       "      <td>2</td>\n",
       "      <td>1616</td>\n",
       "      <td>7</td>\n",
       "      <td>8</td>\n",
       "      <td>200</td>\n",
       "      <td>0</td>\n",
       "      <td>2</td>\n",
       "      <td>201</td>\n",
       "      <td>1</td>\n",
       "      <td>0</td>\n",
       "      <td>...</td>\n",
       "      <td>0</td>\n",
       "      <td>0.0</td>\n",
       "      <td>0</td>\n",
       "      <td>0.0</td>\n",
       "      <td>0.0</td>\n",
       "      <td>0.0</td>\n",
       "      <td>0</td>\n",
       "      <td>135.4</td>\n",
       "      <td>16</td>\n",
       "      <td>0</td>\n",
       "    </tr>\n",
       "    <tr>\n",
       "      <th>14091</th>\n",
       "      <td>0</td>\n",
       "      <td>2784</td>\n",
       "      <td>6</td>\n",
       "      <td>2</td>\n",
       "      <td>200</td>\n",
       "      <td>0</td>\n",
       "      <td>3</td>\n",
       "      <td>85</td>\n",
       "      <td>0</td>\n",
       "      <td>0</td>\n",
       "      <td>...</td>\n",
       "      <td>0</td>\n",
       "      <td>0.4</td>\n",
       "      <td>0</td>\n",
       "      <td>0.0</td>\n",
       "      <td>0.0</td>\n",
       "      <td>0.0</td>\n",
       "      <td>0</td>\n",
       "      <td>117.5</td>\n",
       "      <td>1408</td>\n",
       "      <td>0</td>\n",
       "    </tr>\n",
       "    <tr>\n",
       "      <th>14092</th>\n",
       "      <td>2</td>\n",
       "      <td>1788</td>\n",
       "      <td>1</td>\n",
       "      <td>9</td>\n",
       "      <td>550</td>\n",
       "      <td>0</td>\n",
       "      <td>6</td>\n",
       "      <td>0</td>\n",
       "      <td>1</td>\n",
       "      <td>0</td>\n",
       "      <td>...</td>\n",
       "      <td>0</td>\n",
       "      <td>0.0</td>\n",
       "      <td>0</td>\n",
       "      <td>0.0</td>\n",
       "      <td>0.0</td>\n",
       "      <td>0.0</td>\n",
       "      <td>0</td>\n",
       "      <td>54.0</td>\n",
       "      <td>1301</td>\n",
       "      <td>0</td>\n",
       "    </tr>\n",
       "    <tr>\n",
       "      <th>14093</th>\n",
       "      <td>1</td>\n",
       "      <td>2498</td>\n",
       "      <td>2</td>\n",
       "      <td>19</td>\n",
       "      <td>550</td>\n",
       "      <td>0</td>\n",
       "      <td>2</td>\n",
       "      <td>4</td>\n",
       "      <td>0</td>\n",
       "      <td>0</td>\n",
       "      <td>...</td>\n",
       "      <td>0</td>\n",
       "      <td>0.0</td>\n",
       "      <td>0</td>\n",
       "      <td>100.0</td>\n",
       "      <td>1625.0</td>\n",
       "      <td>18890.0</td>\n",
       "      <td>0</td>\n",
       "      <td>44.3</td>\n",
       "      <td>652</td>\n",
       "      <td>0</td>\n",
       "    </tr>\n",
       "    <tr>\n",
       "      <th>14094</th>\n",
       "      <td>1</td>\n",
       "      <td>1902</td>\n",
       "      <td>5</td>\n",
       "      <td>15</td>\n",
       "      <td>200</td>\n",
       "      <td>0</td>\n",
       "      <td>0</td>\n",
       "      <td>77</td>\n",
       "      <td>0</td>\n",
       "      <td>0</td>\n",
       "      <td>...</td>\n",
       "      <td>0</td>\n",
       "      <td>0.0</td>\n",
       "      <td>2</td>\n",
       "      <td>11296.0</td>\n",
       "      <td>181016.0</td>\n",
       "      <td>325823.0</td>\n",
       "      <td>0</td>\n",
       "      <td>47.0</td>\n",
       "      <td>612</td>\n",
       "      <td>0</td>\n",
       "    </tr>\n",
       "  </tbody>\n",
       "</table>\n",
       "<p>14095 rows × 46 columns</p>\n",
       "</div>"
      ],
      "text/plain": [
       "       COMPONENT_ARBITRARY  ANONYMOUS_1  YEAR  SAMPLE_TRANSFER_DAY  \\\n",
       "0                        2         1486     4                    7   \n",
       "1                        1         1350    14                   51   \n",
       "2                        1         2415     8                    2   \n",
       "3                        2         7389     3                    2   \n",
       "4                        2         3954     8                    4   \n",
       "...                    ...          ...   ...                  ...   \n",
       "14090                    2         1616     7                    8   \n",
       "14091                    0         2784     6                    2   \n",
       "14092                    2         1788     1                    9   \n",
       "14093                    1         2498     2                   19   \n",
       "14094                    1         1902     5                   15   \n",
       "\n",
       "       ANONYMOUS_2  AG   AL    B  BA  BE  ...  SN  SOOTPERCENTAGE  TI  \\\n",
       "0              200   0    3   93   0   0  ...   2             0.0   5   \n",
       "1              375   0    2   19   0   0  ...   0             0.0   0   \n",
       "2              200   0  110    1   1   0  ...   1             0.0   0   \n",
       "3              200   0    8    3   0   0  ...   1             0.0   0   \n",
       "4              200   0    1  157   0   0  ...   0             0.0   0   \n",
       "...            ...  ..  ...  ...  ..  ..  ...  ..             ...  ..   \n",
       "14090          200   0    2  201   1   0  ...   0             0.0   0   \n",
       "14091          200   0    3   85   0   0  ...   0             0.4   0   \n",
       "14092          550   0    6    0   1   0  ...   0             0.0   0   \n",
       "14093          550   0    2    4   0   0  ...   0             0.0   0   \n",
       "14094          200   0    0   77   0   0  ...   0             0.0   2   \n",
       "\n",
       "           U14        U6        U4  V    V40    ZN  Y_LABEL  \n",
       "0          0.0       0.0       0.0  0  154.0    75        0  \n",
       "1          6.0     216.0    1454.0  0   44.0   652        0  \n",
       "2         39.0   11261.0   41081.0  0   72.6   412        1  \n",
       "3          0.0       0.0       0.0  0  133.3     7        0  \n",
       "4          0.0       0.0       0.0  0  133.1   128        0  \n",
       "...        ...       ...       ... ..    ...   ...      ...  \n",
       "14090      0.0       0.0       0.0  0  135.4    16        0  \n",
       "14091      0.0       0.0       0.0  0  117.5  1408        0  \n",
       "14092      0.0       0.0       0.0  0   54.0  1301        0  \n",
       "14093    100.0    1625.0   18890.0  0   44.3   652        0  \n",
       "14094  11296.0  181016.0  325823.0  0   47.0   612        0  \n",
       "\n",
       "[14095 rows x 46 columns]"
      ]
     },
     "execution_count": 42,
     "metadata": {},
     "output_type": "execute_result"
    }
   ],
   "source": [
    "data"
   ]
  },
  {
   "cell_type": "markdown",
   "id": "6beba9a9",
   "metadata": {},
   "source": [
    "# 컬럼제거 바로가기"
   ]
  },
  {
   "cell_type": "code",
   "execution_count": 43,
   "id": "b886d5fb-5f9c-415c-89e4-8b1338f5409a",
   "metadata": {
    "execution": {
     "iopub.execute_input": "2022-11-21T11:09:22.399868Z",
     "iopub.status.busy": "2022-11-21T11:09:22.399868Z",
     "iopub.status.idle": "2022-11-21T11:09:22.448248Z",
     "shell.execute_reply": "2022-11-21T11:09:22.445264Z",
     "shell.execute_reply.started": "2022-11-21T11:09:22.399868Z"
    },
    "tags": []
   },
   "outputs": [],
   "source": [
    "from sklearn.preprocessing import StandardScaler, MinMaxScaler, Normalizer\n",
    "\n",
    "ss = StandardScaler()\n",
    "scaled = ss.fit_transform(data.drop(['COMPONENT_ARBITRARY', 'YEAR', 'Y_LABEL'], axis = 1))\n",
    "columns = ['ANONYMOUS_1',\n",
    "       'SAMPLE_TRANSFER_DAY', 'ANONYMOUS_2', 'AG', 'AL', 'B', 'BA', 'BE', 'CA',\n",
    "       'CD', 'CO', 'CR', 'CU', 'FH2O', 'FNOX', 'FOXID', 'FSO4', 'FTBN', 'FE',\n",
    "       'FUEL', 'H2O', 'K', 'LI', 'MG', 'MN', 'MO', 'NA', 'NI', 'P', 'PB',\n",
    "       'PQINDEX', 'S', 'SB', 'SI', 'SN', 'SOOTPERCENTAGE', 'TI', 'U14', 'U6',\n",
    "       'U4', 'V', 'V40', 'ZN']\n",
    "\n",
    "scaled = pd.DataFrame(scaled, columns = columns)\n",
    "# scaled.head()"
   ]
  },
  {
   "cell_type": "markdown",
   "id": "e236dab3",
   "metadata": {},
   "source": [
    "# 샘플링 및 세트 분리"
   ]
  },
  {
   "cell_type": "markdown",
   "id": "8e28104e",
   "metadata": {},
   "source": [
    "## log"
   ]
  },
  {
   "cell_type": "code",
   "execution_count": 44,
   "id": "bec80c5b",
   "metadata": {},
   "outputs": [],
   "source": [
    "# for i in range(len(data2.columns)):\n",
    "#     data2.iloc[:, i] = np.log1p(data2.iloc[:, i])"
   ]
  },
  {
   "cell_type": "code",
   "execution_count": 45,
   "id": "b5bcf164",
   "metadata": {},
   "outputs": [],
   "source": [
    "# data2.hist(bins=80, figsize=(20,20))\n",
    "# plt.show()"
   ]
  },
  {
   "cell_type": "code",
   "execution_count": 46,
   "id": "bae7b51b-d847-4364-b882-d57158aac7dd",
   "metadata": {
    "execution": {
     "iopub.execute_input": "2022-11-21T11:10:07.639604Z",
     "iopub.status.busy": "2022-11-21T11:10:07.639604Z",
     "iopub.status.idle": "2022-11-21T11:10:07.676504Z",
     "shell.execute_reply": "2022-11-21T11:10:07.676504Z",
     "shell.execute_reply.started": "2022-11-21T11:10:07.639604Z"
    }
   },
   "outputs": [],
   "source": [
    "# onehot = data[['COMPONENT_ARBITRARY', 'YEAR']]\n",
    "# scaled = pd.concat([onehot, scaled], axis = 1)\n",
    "# scaled"
   ]
  },
  {
   "cell_type": "code",
   "execution_count": 47,
   "id": "bdb33441-39e3-4c57-a4f0-4648f6180afc",
   "metadata": {
    "execution": {
     "iopub.execute_input": "2022-11-21T11:10:49.360391Z",
     "iopub.status.busy": "2022-11-21T11:10:49.360391Z",
     "iopub.status.idle": "2022-11-21T11:10:57.644382Z",
     "shell.execute_reply": "2022-11-21T11:10:57.643385Z",
     "shell.execute_reply.started": "2022-11-21T11:10:49.360391Z"
    },
    "tags": []
   },
   "outputs": [],
   "source": [
    "# plt.figure(figsize = (28, 28))\n",
    "# sns.heatmap(scaled.corr(), annot = True, fmt = '0.1f', cmap = 'Blues')"
   ]
  },
  {
   "cell_type": "code",
   "execution_count": 48,
   "id": "dbb30c14",
   "metadata": {},
   "outputs": [
    {
     "data": {
      "text/html": [
       "<div>\n",
       "<style scoped>\n",
       "    .dataframe tbody tr th:only-of-type {\n",
       "        vertical-align: middle;\n",
       "    }\n",
       "\n",
       "    .dataframe tbody tr th {\n",
       "        vertical-align: top;\n",
       "    }\n",
       "\n",
       "    .dataframe thead th {\n",
       "        text-align: right;\n",
       "    }\n",
       "</style>\n",
       "<table border=\"1\" class=\"dataframe\">\n",
       "  <thead>\n",
       "    <tr style=\"text-align: right;\">\n",
       "      <th></th>\n",
       "      <th>ANONYMOUS_1</th>\n",
       "      <th>SAMPLE_TRANSFER_DAY</th>\n",
       "      <th>ANONYMOUS_2</th>\n",
       "      <th>AG</th>\n",
       "      <th>AL</th>\n",
       "      <th>B</th>\n",
       "      <th>BA</th>\n",
       "      <th>BE</th>\n",
       "      <th>CA</th>\n",
       "      <th>CD</th>\n",
       "      <th>...</th>\n",
       "      <th>SI</th>\n",
       "      <th>SN</th>\n",
       "      <th>SOOTPERCENTAGE</th>\n",
       "      <th>TI</th>\n",
       "      <th>U14</th>\n",
       "      <th>U6</th>\n",
       "      <th>U4</th>\n",
       "      <th>V</th>\n",
       "      <th>V40</th>\n",
       "      <th>ZN</th>\n",
       "    </tr>\n",
       "  </thead>\n",
       "  <tbody>\n",
       "    <tr>\n",
       "      <th>0</th>\n",
       "      <td>-0.393763</td>\n",
       "      <td>-0.051413</td>\n",
       "      <td>-0.340760</td>\n",
       "      <td>-0.150214</td>\n",
       "      <td>-0.111628</td>\n",
       "      <td>0.281646</td>\n",
       "      <td>-0.238453</td>\n",
       "      <td>-0.041491</td>\n",
       "      <td>1.141962</td>\n",
       "      <td>-0.070651</td>\n",
       "      <td>...</td>\n",
       "      <td>2.006643</td>\n",
       "      <td>0.302478</td>\n",
       "      <td>-0.384137</td>\n",
       "      <td>0.622282</td>\n",
       "      <td>-0.129231</td>\n",
       "      <td>-0.130716</td>\n",
       "      <td>-0.171264</td>\n",
       "      <td>-0.10655</td>\n",
       "      <td>0.899892</td>\n",
       "      <td>-0.966002</td>\n",
       "    </tr>\n",
       "    <tr>\n",
       "      <th>1</th>\n",
       "      <td>-0.426022</td>\n",
       "      <td>3.715319</td>\n",
       "      <td>-0.022576</td>\n",
       "      <td>-0.150214</td>\n",
       "      <td>-0.123127</td>\n",
       "      <td>-0.437686</td>\n",
       "      <td>-0.238453</td>\n",
       "      <td>-0.041491</td>\n",
       "      <td>1.087302</td>\n",
       "      <td>-0.070651</td>\n",
       "      <td>...</td>\n",
       "      <td>-0.179489</td>\n",
       "      <td>-0.252439</td>\n",
       "      <td>-0.384137</td>\n",
       "      <td>-0.102635</td>\n",
       "      <td>-0.107725</td>\n",
       "      <td>-0.096483</td>\n",
       "      <td>-0.085911</td>\n",
       "      <td>-0.10655</td>\n",
       "      <td>-1.317376</td>\n",
       "      <td>0.119147</td>\n",
       "    </tr>\n",
       "    <tr>\n",
       "      <th>2</th>\n",
       "      <td>-0.173409</td>\n",
       "      <td>-0.479451</td>\n",
       "      <td>-0.340760</td>\n",
       "      <td>-0.150214</td>\n",
       "      <td>1.118753</td>\n",
       "      <td>-0.612659</td>\n",
       "      <td>0.105735</td>\n",
       "      <td>-0.041491</td>\n",
       "      <td>-0.910846</td>\n",
       "      <td>-0.070651</td>\n",
       "      <td>...</td>\n",
       "      <td>-0.179489</td>\n",
       "      <td>0.025019</td>\n",
       "      <td>-0.384137</td>\n",
       "      <td>-0.102635</td>\n",
       "      <td>0.010557</td>\n",
       "      <td>1.654031</td>\n",
       "      <td>2.240286</td>\n",
       "      <td>-0.10655</td>\n",
       "      <td>-0.740886</td>\n",
       "      <td>-0.332215</td>\n",
       "    </tr>\n",
       "    <tr>\n",
       "      <th>3</th>\n",
       "      <td>1.006399</td>\n",
       "      <td>-0.479451</td>\n",
       "      <td>-0.340760</td>\n",
       "      <td>-0.150214</td>\n",
       "      <td>-0.054133</td>\n",
       "      <td>-0.593217</td>\n",
       "      <td>-0.238453</td>\n",
       "      <td>-0.041491</td>\n",
       "      <td>0.400333</td>\n",
       "      <td>-0.070651</td>\n",
       "      <td>...</td>\n",
       "      <td>-0.174370</td>\n",
       "      <td>0.025019</td>\n",
       "      <td>-0.384137</td>\n",
       "      <td>-0.102635</td>\n",
       "      <td>-0.129231</td>\n",
       "      <td>-0.130716</td>\n",
       "      <td>-0.171264</td>\n",
       "      <td>-0.10655</td>\n",
       "      <td>0.482642</td>\n",
       "      <td>-1.093888</td>\n",
       "    </tr>\n",
       "    <tr>\n",
       "      <th>4</th>\n",
       "      <td>0.191634</td>\n",
       "      <td>-0.308236</td>\n",
       "      <td>-0.340760</td>\n",
       "      <td>-0.150214</td>\n",
       "      <td>-0.134626</td>\n",
       "      <td>0.903771</td>\n",
       "      <td>-0.238453</td>\n",
       "      <td>-0.041491</td>\n",
       "      <td>-0.874406</td>\n",
       "      <td>-0.070651</td>\n",
       "      <td>...</td>\n",
       "      <td>-0.169250</td>\n",
       "      <td>-0.252439</td>\n",
       "      <td>-0.384137</td>\n",
       "      <td>-0.102635</td>\n",
       "      <td>-0.129231</td>\n",
       "      <td>-0.130716</td>\n",
       "      <td>-0.171264</td>\n",
       "      <td>-0.10655</td>\n",
       "      <td>0.478611</td>\n",
       "      <td>-0.866326</td>\n",
       "    </tr>\n",
       "    <tr>\n",
       "      <th>...</th>\n",
       "      <td>...</td>\n",
       "      <td>...</td>\n",
       "      <td>...</td>\n",
       "      <td>...</td>\n",
       "      <td>...</td>\n",
       "      <td>...</td>\n",
       "      <td>...</td>\n",
       "      <td>...</td>\n",
       "      <td>...</td>\n",
       "      <td>...</td>\n",
       "      <td>...</td>\n",
       "      <td>...</td>\n",
       "      <td>...</td>\n",
       "      <td>...</td>\n",
       "      <td>...</td>\n",
       "      <td>...</td>\n",
       "      <td>...</td>\n",
       "      <td>...</td>\n",
       "      <td>...</td>\n",
       "      <td>...</td>\n",
       "      <td>...</td>\n",
       "    </tr>\n",
       "    <tr>\n",
       "      <th>14090</th>\n",
       "      <td>-0.362928</td>\n",
       "      <td>0.034194</td>\n",
       "      <td>-0.340760</td>\n",
       "      <td>-0.150214</td>\n",
       "      <td>-0.123127</td>\n",
       "      <td>1.331482</td>\n",
       "      <td>0.105735</td>\n",
       "      <td>-0.041491</td>\n",
       "      <td>-0.918269</td>\n",
       "      <td>-0.070651</td>\n",
       "      <td>...</td>\n",
       "      <td>-0.169250</td>\n",
       "      <td>-0.252439</td>\n",
       "      <td>-0.384137</td>\n",
       "      <td>-0.102635</td>\n",
       "      <td>-0.129231</td>\n",
       "      <td>-0.130716</td>\n",
       "      <td>-0.171264</td>\n",
       "      <td>-0.10655</td>\n",
       "      <td>0.524972</td>\n",
       "      <td>-1.076961</td>\n",
       "    </tr>\n",
       "    <tr>\n",
       "      <th>14091</th>\n",
       "      <td>-0.085884</td>\n",
       "      <td>-0.479451</td>\n",
       "      <td>-0.340760</td>\n",
       "      <td>-0.150214</td>\n",
       "      <td>-0.111628</td>\n",
       "      <td>0.203880</td>\n",
       "      <td>-0.238453</td>\n",
       "      <td>-0.041491</td>\n",
       "      <td>1.065033</td>\n",
       "      <td>-0.070651</td>\n",
       "      <td>...</td>\n",
       "      <td>-0.153891</td>\n",
       "      <td>-0.252439</td>\n",
       "      <td>0.529687</td>\n",
       "      <td>-0.102635</td>\n",
       "      <td>-0.129231</td>\n",
       "      <td>-0.130716</td>\n",
       "      <td>-0.171264</td>\n",
       "      <td>-0.10655</td>\n",
       "      <td>0.164162</td>\n",
       "      <td>1.540935</td>\n",
       "    </tr>\n",
       "    <tr>\n",
       "      <th>14092</th>\n",
       "      <td>-0.322130</td>\n",
       "      <td>0.119802</td>\n",
       "      <td>0.295608</td>\n",
       "      <td>-0.150214</td>\n",
       "      <td>-0.077131</td>\n",
       "      <td>-0.622379</td>\n",
       "      <td>0.105735</td>\n",
       "      <td>-0.041491</td>\n",
       "      <td>-0.913545</td>\n",
       "      <td>-0.070651</td>\n",
       "      <td>...</td>\n",
       "      <td>-0.087334</td>\n",
       "      <td>-0.252439</td>\n",
       "      <td>-0.384137</td>\n",
       "      <td>-0.102635</td>\n",
       "      <td>-0.129231</td>\n",
       "      <td>-0.130716</td>\n",
       "      <td>-0.171264</td>\n",
       "      <td>-0.10655</td>\n",
       "      <td>-1.115806</td>\n",
       "      <td>1.339703</td>\n",
       "    </tr>\n",
       "    <tr>\n",
       "      <th>14093</th>\n",
       "      <td>-0.153722</td>\n",
       "      <td>0.975877</td>\n",
       "      <td>0.295608</td>\n",
       "      <td>-0.150214</td>\n",
       "      <td>-0.123127</td>\n",
       "      <td>-0.583497</td>\n",
       "      <td>-0.238453</td>\n",
       "      <td>-0.041491</td>\n",
       "      <td>0.591983</td>\n",
       "      <td>-0.070651</td>\n",
       "      <td>...</td>\n",
       "      <td>-0.179489</td>\n",
       "      <td>-0.252439</td>\n",
       "      <td>-0.384137</td>\n",
       "      <td>-0.102635</td>\n",
       "      <td>0.229201</td>\n",
       "      <td>0.126829</td>\n",
       "      <td>0.937623</td>\n",
       "      <td>-0.10655</td>\n",
       "      <td>-1.311328</td>\n",
       "      <td>0.119147</td>\n",
       "    </tr>\n",
       "    <tr>\n",
       "      <th>14094</th>\n",
       "      <td>-0.295090</td>\n",
       "      <td>0.633447</td>\n",
       "      <td>-0.340760</td>\n",
       "      <td>-0.150214</td>\n",
       "      <td>-0.146124</td>\n",
       "      <td>0.126115</td>\n",
       "      <td>-0.238453</td>\n",
       "      <td>-0.041491</td>\n",
       "      <td>-0.588956</td>\n",
       "      <td>-0.070651</td>\n",
       "      <td>...</td>\n",
       "      <td>-0.148771</td>\n",
       "      <td>-0.252439</td>\n",
       "      <td>-0.384137</td>\n",
       "      <td>0.187332</td>\n",
       "      <td>40.359205</td>\n",
       "      <td>28.558378</td>\n",
       "      <td>18.955304</td>\n",
       "      <td>-0.10655</td>\n",
       "      <td>-1.256905</td>\n",
       "      <td>0.043920</td>\n",
       "    </tr>\n",
       "  </tbody>\n",
       "</table>\n",
       "<p>14095 rows × 43 columns</p>\n",
       "</div>"
      ],
      "text/plain": [
       "       ANONYMOUS_1  SAMPLE_TRANSFER_DAY  ANONYMOUS_2        AG        AL  \\\n",
       "0        -0.393763            -0.051413    -0.340760 -0.150214 -0.111628   \n",
       "1        -0.426022             3.715319    -0.022576 -0.150214 -0.123127   \n",
       "2        -0.173409            -0.479451    -0.340760 -0.150214  1.118753   \n",
       "3         1.006399            -0.479451    -0.340760 -0.150214 -0.054133   \n",
       "4         0.191634            -0.308236    -0.340760 -0.150214 -0.134626   \n",
       "...            ...                  ...          ...       ...       ...   \n",
       "14090    -0.362928             0.034194    -0.340760 -0.150214 -0.123127   \n",
       "14091    -0.085884            -0.479451    -0.340760 -0.150214 -0.111628   \n",
       "14092    -0.322130             0.119802     0.295608 -0.150214 -0.077131   \n",
       "14093    -0.153722             0.975877     0.295608 -0.150214 -0.123127   \n",
       "14094    -0.295090             0.633447    -0.340760 -0.150214 -0.146124   \n",
       "\n",
       "              B        BA        BE        CA        CD  ...        SI  \\\n",
       "0      0.281646 -0.238453 -0.041491  1.141962 -0.070651  ...  2.006643   \n",
       "1     -0.437686 -0.238453 -0.041491  1.087302 -0.070651  ... -0.179489   \n",
       "2     -0.612659  0.105735 -0.041491 -0.910846 -0.070651  ... -0.179489   \n",
       "3     -0.593217 -0.238453 -0.041491  0.400333 -0.070651  ... -0.174370   \n",
       "4      0.903771 -0.238453 -0.041491 -0.874406 -0.070651  ... -0.169250   \n",
       "...         ...       ...       ...       ...       ...  ...       ...   \n",
       "14090  1.331482  0.105735 -0.041491 -0.918269 -0.070651  ... -0.169250   \n",
       "14091  0.203880 -0.238453 -0.041491  1.065033 -0.070651  ... -0.153891   \n",
       "14092 -0.622379  0.105735 -0.041491 -0.913545 -0.070651  ... -0.087334   \n",
       "14093 -0.583497 -0.238453 -0.041491  0.591983 -0.070651  ... -0.179489   \n",
       "14094  0.126115 -0.238453 -0.041491 -0.588956 -0.070651  ... -0.148771   \n",
       "\n",
       "             SN  SOOTPERCENTAGE        TI        U14         U6         U4  \\\n",
       "0      0.302478       -0.384137  0.622282  -0.129231  -0.130716  -0.171264   \n",
       "1     -0.252439       -0.384137 -0.102635  -0.107725  -0.096483  -0.085911   \n",
       "2      0.025019       -0.384137 -0.102635   0.010557   1.654031   2.240286   \n",
       "3      0.025019       -0.384137 -0.102635  -0.129231  -0.130716  -0.171264   \n",
       "4     -0.252439       -0.384137 -0.102635  -0.129231  -0.130716  -0.171264   \n",
       "...         ...             ...       ...        ...        ...        ...   \n",
       "14090 -0.252439       -0.384137 -0.102635  -0.129231  -0.130716  -0.171264   \n",
       "14091 -0.252439        0.529687 -0.102635  -0.129231  -0.130716  -0.171264   \n",
       "14092 -0.252439       -0.384137 -0.102635  -0.129231  -0.130716  -0.171264   \n",
       "14093 -0.252439       -0.384137 -0.102635   0.229201   0.126829   0.937623   \n",
       "14094 -0.252439       -0.384137  0.187332  40.359205  28.558378  18.955304   \n",
       "\n",
       "             V       V40        ZN  \n",
       "0     -0.10655  0.899892 -0.966002  \n",
       "1     -0.10655 -1.317376  0.119147  \n",
       "2     -0.10655 -0.740886 -0.332215  \n",
       "3     -0.10655  0.482642 -1.093888  \n",
       "4     -0.10655  0.478611 -0.866326  \n",
       "...        ...       ...       ...  \n",
       "14090 -0.10655  0.524972 -1.076961  \n",
       "14091 -0.10655  0.164162  1.540935  \n",
       "14092 -0.10655 -1.115806  1.339703  \n",
       "14093 -0.10655 -1.311328  0.119147  \n",
       "14094 -0.10655 -1.256905  0.043920  \n",
       "\n",
       "[14095 rows x 43 columns]"
      ]
     },
     "execution_count": 48,
     "metadata": {},
     "output_type": "execute_result"
    }
   ],
   "source": [
    "scaled"
   ]
  },
  {
   "cell_type": "markdown",
   "id": "96141eb4",
   "metadata": {},
   "source": [
    "## 데이터 분리"
   ]
  },
  {
   "cell_type": "code",
   "execution_count": 49,
   "id": "7b0d5085-f2e5-4186-bcf4-9a06a971d428",
   "metadata": {
    "execution": {
     "iopub.execute_input": "2022-11-21T11:12:01.087920Z",
     "iopub.status.busy": "2022-11-21T11:12:01.087920Z",
     "iopub.status.idle": "2022-11-21T11:12:01.101883Z",
     "shell.execute_reply": "2022-11-21T11:12:01.100917Z",
     "shell.execute_reply.started": "2022-11-21T11:12:01.087920Z"
    }
   },
   "outputs": [],
   "source": [
    "from sklearn.model_selection import train_test_split\n",
    "\n",
    "\n",
    "X_train, X_test, y_train, y_test = train_test_split(scaled, data['Y_LABEL'], test_size = 0.2, random_state = 2022, stratify = data['Y_LABEL'])"
   ]
  },
  {
   "cell_type": "markdown",
   "id": "3917ded5",
   "metadata": {},
   "source": [
    "## 오버 샘플링"
   ]
  },
  {
   "cell_type": "code",
   "execution_count": 50,
   "id": "fdde823d-7c2a-4410-99ec-494b190ab071",
   "metadata": {
    "execution": {
     "iopub.execute_input": "2022-11-21T11:12:02.460021Z",
     "iopub.status.busy": "2022-11-21T11:12:02.460021Z",
     "iopub.status.idle": "2022-11-21T11:12:02.534821Z",
     "shell.execute_reply": "2022-11-21T11:12:02.534821Z",
     "shell.execute_reply.started": "2022-11-21T11:12:02.460021Z"
    }
   },
   "outputs": [
    {
     "name": "stdout",
     "output_type": "stream",
     "text": [
      "SMOTE 적용 전 학습용 피처/레이블 데이터 세트 :  (11276, 43) (11276,)\n",
      "SMOTE 적용 후 학습용 피처/레이블 데이터 세트 : (20628, 43) (20628,)\n",
      "SMOTE 적용 후 값의 분포 :\n",
      " 0    10314\n",
      "1    10314\n",
      "Name: Y_LABEL, dtype: int64\n"
     ]
    }
   ],
   "source": [
    "from imblearn.over_sampling import SMOTE\n",
    "\n",
    "smote = SMOTE(random_state=42)\n",
    "X_train_over, y_train_over = smote.fit_resample(X_train, y_train)\n",
    "print(\"SMOTE 적용 전 학습용 피처/레이블 데이터 세트 : \", X_train.shape, y_train.shape)\n",
    "print('SMOTE 적용 후 학습용 피처/레이블 데이터 세트 :', X_train_over.shape, y_train_over.shape)\n",
    "print('SMOTE 적용 후 값의 분포 :\\n',pd.Series(y_train_over).value_counts())"
   ]
  },
  {
   "cell_type": "markdown",
   "id": "5566dec4",
   "metadata": {},
   "source": [
    "## 언덕샘플링"
   ]
  },
  {
   "cell_type": "code",
   "execution_count": 51,
   "id": "cb5f3f6e-25dc-4046-a5b6-7eaf63e1dd84",
   "metadata": {
    "execution": {
     "iopub.execute_input": "2022-11-21T11:12:02.188951Z",
     "iopub.status.busy": "2022-11-21T11:12:02.188951Z",
     "iopub.status.idle": "2022-11-21T11:12:02.427109Z",
     "shell.execute_reply": "2022-11-21T11:12:02.427109Z",
     "shell.execute_reply.started": "2022-11-21T11:12:02.188951Z"
    }
   },
   "outputs": [
    {
     "name": "stdout",
     "output_type": "stream",
     "text": [
      "NearMiss 적용 전 학습용 피처/레이블 데이터 세트 :  (11276, 43) (11276,)\n",
      "NearMiss 적용 후 학습용 피처/레이블 데이터 세트 : (1924, 43) (1924,)\n",
      "NearMiss 적용 후 값의 분포 :\n",
      " 0    962\n",
      "1    962\n",
      "Name: Y_LABEL, dtype: int64\n"
     ]
    }
   ],
   "source": [
    "from imblearn.under_sampling import NearMiss\n",
    "\n",
    "nearmiss=NearMiss()\n",
    "under_X,under_y = nearmiss.fit_resample(X_train, y_train)\n",
    "print(\"NearMiss 적용 전 학습용 피처/레이블 데이터 세트 : \", X_train.shape, y_train.shape)\n",
    "print('NearMiss 적용 후 학습용 피처/레이블 데이터 세트 :', under_X.shape, under_y.shape)\n",
    "print('NearMiss 적용 후 값의 분포 :\\n',pd.Series(under_y).value_counts())"
   ]
  },
  {
   "cell_type": "markdown",
   "id": "94dc8856",
   "metadata": {},
   "source": [
    "## ADASYN"
   ]
  },
  {
   "cell_type": "code",
   "execution_count": 52,
   "id": "0e1968e6",
   "metadata": {},
   "outputs": [],
   "source": [
    "from imblearn.over_sampling import ADASYN\n",
    "\n",
    "ADA = ADASYN(random_state = 2022)\n",
    "\n",
    "X_train_ada, y_train_ada = ADA.fit_resample(X_train, y_train)"
   ]
  },
  {
   "cell_type": "markdown",
   "id": "2c615039",
   "metadata": {},
   "source": [
    "## SMOTE Tomek"
   ]
  },
  {
   "cell_type": "code",
   "execution_count": 53,
   "id": "0f94f20a",
   "metadata": {},
   "outputs": [],
   "source": [
    "from imblearn.combine import SMOTETomek\n",
    "from imblearn.under_sampling import TomekLinks\n",
    "\n",
    "smoteto = SMOTETomek(tomek=TomekLinks(sampling_strategy='majority'))\n",
    "X_train_smt, y_train_smt = smoteto.fit_resample(X_train, y_train)"
   ]
  },
  {
   "cell_type": "code",
   "execution_count": null,
   "id": "7b43c3ed",
   "metadata": {},
   "outputs": [],
   "source": []
  },
  {
   "cell_type": "markdown",
   "id": "2ba1cbdb",
   "metadata": {},
   "source": [
    "# 분류"
   ]
  },
  {
   "cell_type": "markdown",
   "id": "719ac415",
   "metadata": {},
   "source": [
    "## hyperopt"
   ]
  },
  {
   "cell_type": "code",
   "execution_count": 54,
   "id": "35de5c23",
   "metadata": {},
   "outputs": [],
   "source": [
    "#!pip install hyperopt"
   ]
  },
  {
   "cell_type": "code",
   "execution_count": 55,
   "id": "eda063f6",
   "metadata": {},
   "outputs": [],
   "source": [
    "from hyperopt import hp"
   ]
  },
  {
   "cell_type": "code",
   "execution_count": 56,
   "id": "ddc2dd73",
   "metadata": {},
   "outputs": [],
   "source": [
    "def get_clf_eval(y_test, pred = None, pred_proba = None):\n",
    "    confusion = confusion_matrix(y_test, pred)\n",
    "    accuracy = accuracy_score(y_test, pred)\n",
    "    precision = precision_score(y_test, pred)\n",
    "    recall = recall_score(y_test, pred)\n",
    "    f1 = f1_score(y_test, pred)\n",
    "    roc_auc = roc_auc_score(y_test, pred_proba)\n",
    "    print('오차 행렬')\n",
    "    print(confusion)\n",
    "    print('정확도 : {:.4f}, 정밀도 : {:.4f}, 재현율 : {:.4f}, F1 : {:.4f}, AUC : {:.4f}'.\n",
    "          format(accuracy, precision, recall, f1, roc_auc))\n",
    "    print('Macro f1 socre : ', f1_score(y_test, pred, average='macro'))\n",
    "\n",
    "\n",
    "def get_model_train_eval(model, ftr_train = None, ftr_test = None, tgt_train=None, tgt_test=None):\n",
    "    model.fit(ftr_train, tgt_train)\n",
    "    pred = model.predict(ftr_test)\n",
    "    pred_proba = model.predict_proba(ftr_test)[:,1]\n",
    "    get_clf_eval(tgt_test, pred, pred_proba)"
   ]
  },
  {
   "cell_type": "code",
   "execution_count": 57,
   "id": "8fbc962c",
   "metadata": {},
   "outputs": [],
   "source": [
    "X_tr, X_val, y_tr, y_val = train_test_split(\n",
    "    X_train, y_train, test_size = 0.1, stratify=y_train, random_state=2022)\n",
    "\n",
    "lgbm_search_space = {\n",
    "    'num_leaves':hp.quniform('num_leaves', 31, 64, 1),\n",
    "    'max_depth':hp.quniform('max_depth', 1, 169, 1),                  ## 정수형 하이퍼 파라미터 => quniform 사용\n",
    "    'min_child_weight':hp.quniform('min_child_weight', 60, 100, 1),     ## 정수형 하이퍼 파라미터 => quniform 사용\n",
    "    'learning_rate':hp.uniform('learning_rate', 0.01, 1.0),\n",
    "    'subsample':hp.uniform('subsample', 0.7, 1),\n",
    "}"
   ]
  },
  {
   "cell_type": "code",
   "execution_count": 58,
   "id": "16a9b9b2",
   "metadata": {},
   "outputs": [],
   "source": [
    "from sklearn.model_selection import cross_val_score\n",
    "from hyperopt import STATUS_OK\n",
    "from sklearn.model_selection import KFold\n",
    "\n",
    "def objective_func(search_space):\n",
    "\n",
    "    lgbm_clf = LGBMClassifier(\n",
    "    n_estimators=100,\n",
    "    max_depth=int(search_space['max_depth']),                ## int형으로 형변환 필요\n",
    "    min_child_weight=int(search_space['min_child_weight']),  ## int형으로 형변환 필요\n",
    "    learning_rate=search_space['learning_rate'], \n",
    "    subsample=search_space['subsample'],\n",
    "    num_leaves=int(search_space['num_leaves']),\n",
    "      #eval_metric='logloss' => 불균형 데이터셋이므로 성능 평가 지표를 roc-auc로 설정\n",
    "            )\n",
    "\n",
    "      ## XGBoost와 LightGBM에서는 cross_val_score()를 적용하면 early stopping 지원 불가, KFold 방식으로 직접 구현해야 함\n",
    "      ## 3개의 k-fold 방식으로 평가된 roc-auc 지표를 담는 list\n",
    "    roc_auc_list = []\n",
    "\n",
    "  ## 3개의 k-fold 방식 적용\n",
    "    kf = RepeatedStratifiedKFold(n_splits=3)\n",
    "\n",
    "    for tr_index, val_index in kf.split(X_train):\n",
    "\n",
    "        X_tr, y_tr = X_train.iloc[tr_index], y_train.iloc[tr_index]\n",
    "        X_val, y_val = X_train.iloc[val_index], y_train.iloc[val_index]\n",
    "\n",
    "        lgbm_clf.fit(\n",
    "            X_tr, y_tr,\n",
    "            early_stopping_rounds=30,\n",
    "            eval_metric='auc',\n",
    "            eval_set=[(X_tr, y_tr), (X_val, y_val)]\n",
    "    )\n",
    "\n",
    "        score = roc_auc_score(\n",
    "            y_val,\n",
    "            lgbm_clf.predict_proba(X_val)[:, 1]\n",
    "    )\n",
    "\n",
    "        roc_auc_list.append(score)\n",
    "\n",
    "    return (-1) * np.mean(roc_auc_list)\n"
   ]
  },
  {
   "cell_type": "code",
   "execution_count": 68,
   "id": "186fb94b",
   "metadata": {},
   "outputs": [],
   "source": [
    "# ## 3) fmin()을 사용하여 최적 하이퍼 파라미터 찾기\n",
    "\n",
    "# from hyperopt import fmin, tpe, Trials\n",
    "\n",
    "# trials = Trials()\n",
    "\n",
    "# best = fmin(\n",
    "#     fn=objective_func,\n",
    "#     space=lgbm_search_space,\n",
    "#     algo=tpe.suggest,\n",
    "#     max_evals=30,  ## 30번 만큼 반복하며 최적의 하이퍼 파라미터 찾음\n",
    "#     trials=trials,\n",
    "# )\n",
    "\n",
    "# best"
   ]
  },
  {
   "cell_type": "code",
   "execution_count": null,
   "id": "34964211",
   "metadata": {},
   "outputs": [],
   "source": [
    "## 획득한 최적의 하이퍼 파라미터를 이용하여 모델 선언\n",
    "lgbm_wrapper = LGBMClassifier(\n",
    "    n_estimators=500,\n",
    "    num_leaves=int(best['num_leaves']),\n",
    "    learning_rate=round(best['learning_rate'], 5),\n",
    "    max_depth=int(best['max_depth']),\n",
    "    min_child_weight=int(best['min_child_weight']),\n",
    "    subsample=round(best['subsample'], 5)\n",
    ")"
   ]
  },
  {
   "cell_type": "code",
   "execution_count": null,
   "id": "8aeb4fb1",
   "metadata": {},
   "outputs": [],
   "source": [
    "lgbm_wrapper.fit(\n",
    "    X_tr, y_tr,\n",
    "    early_stopping_rounds=100,\n",
    "    eval_metric='logloss', #auc\n",
    "    verbose=True,\n",
    "    eval_set=[(X_tr, y_tr), (X_val, y_val)]\n",
    ")"
   ]
  },
  {
   "cell_type": "code",
   "execution_count": null,
   "id": "dc0e72e8",
   "metadata": {
    "scrolled": false
   },
   "outputs": [],
   "source": [
    "lgbm_roc_score = roc_auc_score(\n",
    "    y_val,\n",
    "    lgbm_wrapper.predict_proba(X_val)[:, 1]\n",
    ")\n",
    "\n",
    "print(lgbm_roc_score)\n",
    "\n",
    "preds = lgbm_wrapper.predict(X_test)\n",
    "pred_proba = lgbm_wrapper.predict_proba(X_test)[:, 1]\n",
    "get_clf_eval(y_test, preds, pred_proba)\n"
   ]
  },
  {
   "cell_type": "code",
   "execution_count": null,
   "id": "2c3d80fd",
   "metadata": {},
   "outputs": [],
   "source": [
    "# a = lgbm_wrapper.predict(X_test)\n",
    "# b = lgbm_wrapper.predict_proba(X_test)[:, 1]\n",
    "# get_clf_eval(y_test, a, b)"
   ]
  },
  {
   "cell_type": "code",
   "execution_count": null,
   "id": "3c555bff",
   "metadata": {},
   "outputs": [],
   "source": [
    "# print(lgbm_wrapper.score(X_train_over, y_train_over))\n",
    "# print(lgbm_wrapper.score(X_test, y_test))\n",
    "\n",
    "# print(lgbm_wrapper.score(X_tr, y_tr))\n",
    "# print(lgbm_wrapper.score(X_val, y_val))"
   ]
  },
  {
   "cell_type": "markdown",
   "id": "cbdb3385",
   "metadata": {},
   "source": [
    "## 로지스틱"
   ]
  },
  {
   "cell_type": "code",
   "execution_count": 79,
   "id": "29434ab6",
   "metadata": {},
   "outputs": [
    {
     "data": {
      "text/html": [
       "<style>#sk-container-id-4 {color: black;background-color: white;}#sk-container-id-4 pre{padding: 0;}#sk-container-id-4 div.sk-toggleable {background-color: white;}#sk-container-id-4 label.sk-toggleable__label {cursor: pointer;display: block;width: 100%;margin-bottom: 0;padding: 0.3em;box-sizing: border-box;text-align: center;}#sk-container-id-4 label.sk-toggleable__label-arrow:before {content: \"▸\";float: left;margin-right: 0.25em;color: #696969;}#sk-container-id-4 label.sk-toggleable__label-arrow:hover:before {color: black;}#sk-container-id-4 div.sk-estimator:hover label.sk-toggleable__label-arrow:before {color: black;}#sk-container-id-4 div.sk-toggleable__content {max-height: 0;max-width: 0;overflow: hidden;text-align: left;background-color: #f0f8ff;}#sk-container-id-4 div.sk-toggleable__content pre {margin: 0.2em;color: black;border-radius: 0.25em;background-color: #f0f8ff;}#sk-container-id-4 input.sk-toggleable__control:checked~div.sk-toggleable__content {max-height: 200px;max-width: 100%;overflow: auto;}#sk-container-id-4 input.sk-toggleable__control:checked~label.sk-toggleable__label-arrow:before {content: \"▾\";}#sk-container-id-4 div.sk-estimator input.sk-toggleable__control:checked~label.sk-toggleable__label {background-color: #d4ebff;}#sk-container-id-4 div.sk-label input.sk-toggleable__control:checked~label.sk-toggleable__label {background-color: #d4ebff;}#sk-container-id-4 input.sk-hidden--visually {border: 0;clip: rect(1px 1px 1px 1px);clip: rect(1px, 1px, 1px, 1px);height: 1px;margin: -1px;overflow: hidden;padding: 0;position: absolute;width: 1px;}#sk-container-id-4 div.sk-estimator {font-family: monospace;background-color: #f0f8ff;border: 1px dotted black;border-radius: 0.25em;box-sizing: border-box;margin-bottom: 0.5em;}#sk-container-id-4 div.sk-estimator:hover {background-color: #d4ebff;}#sk-container-id-4 div.sk-parallel-item::after {content: \"\";width: 100%;border-bottom: 1px solid gray;flex-grow: 1;}#sk-container-id-4 div.sk-label:hover label.sk-toggleable__label {background-color: #d4ebff;}#sk-container-id-4 div.sk-serial::before {content: \"\";position: absolute;border-left: 1px solid gray;box-sizing: border-box;top: 0;bottom: 0;left: 50%;z-index: 0;}#sk-container-id-4 div.sk-serial {display: flex;flex-direction: column;align-items: center;background-color: white;padding-right: 0.2em;padding-left: 0.2em;position: relative;}#sk-container-id-4 div.sk-item {position: relative;z-index: 1;}#sk-container-id-4 div.sk-parallel {display: flex;align-items: stretch;justify-content: center;background-color: white;position: relative;}#sk-container-id-4 div.sk-item::before, #sk-container-id-4 div.sk-parallel-item::before {content: \"\";position: absolute;border-left: 1px solid gray;box-sizing: border-box;top: 0;bottom: 0;left: 50%;z-index: -1;}#sk-container-id-4 div.sk-parallel-item {display: flex;flex-direction: column;z-index: 1;position: relative;background-color: white;}#sk-container-id-4 div.sk-parallel-item:first-child::after {align-self: flex-end;width: 50%;}#sk-container-id-4 div.sk-parallel-item:last-child::after {align-self: flex-start;width: 50%;}#sk-container-id-4 div.sk-parallel-item:only-child::after {width: 0;}#sk-container-id-4 div.sk-dashed-wrapped {border: 1px dashed gray;margin: 0 0.4em 0.5em 0.4em;box-sizing: border-box;padding-bottom: 0.4em;background-color: white;}#sk-container-id-4 div.sk-label label {font-family: monospace;font-weight: bold;display: inline-block;line-height: 1.2em;}#sk-container-id-4 div.sk-label-container {text-align: center;}#sk-container-id-4 div.sk-container {/* jupyter's `normalize.less` sets `[hidden] { display: none; }` but bootstrap.min.css set `[hidden] { display: none !important; }` so we also need the `!important` here to be able to override the default hidden behavior on the sphinx rendered scikit-learn.org. See: https://github.com/scikit-learn/scikit-learn/issues/21755 */display: inline-block !important;position: relative;}#sk-container-id-4 div.sk-text-repr-fallback {display: none;}</style><div id=\"sk-container-id-4\" class=\"sk-top-container\"><div class=\"sk-text-repr-fallback\"><pre>LogisticRegression(class_weight={0: 1, 1: 10})</pre><b>In a Jupyter environment, please rerun this cell to show the HTML representation or trust the notebook. <br />On GitHub, the HTML representation is unable to render, please try loading this page with nbviewer.org.</b></div><div class=\"sk-container\" hidden><div class=\"sk-item\"><div class=\"sk-estimator sk-toggleable\"><input class=\"sk-toggleable__control sk-hidden--visually\" id=\"sk-estimator-id-6\" type=\"checkbox\" checked><label for=\"sk-estimator-id-6\" class=\"sk-toggleable__label sk-toggleable__label-arrow\">LogisticRegression</label><div class=\"sk-toggleable__content\"><pre>LogisticRegression(class_weight={0: 1, 1: 10})</pre></div></div></div></div></div>"
      ],
      "text/plain": [
       "LogisticRegression(class_weight={0: 1, 1: 10})"
      ]
     },
     "execution_count": 79,
     "metadata": {},
     "output_type": "execute_result"
    }
   ],
   "source": [
    "from sklearn.linear_model import LogisticRegression\n",
    "from scipy.special import expit\n",
    "\n",
    "#train_test_split data\n",
    "lr = LogisticRegression(class_weight={0:1, 1:10})\n",
    "lr.fit(X_train_ada, y_train_ada)"
   ]
  },
  {
   "cell_type": "code",
   "execution_count": null,
   "id": "09f2246b",
   "metadata": {},
   "outputs": [],
   "source": [
    "params={'penalty':['l2'],\n",
    "        'C':[1, 2, 3, 4, 5, 10]}\n",
    "\n",
    "grid_clf = GridSearchCV(lr, param_grid = params, scoring='f1_macro', cv=10,)\n",
    "grid_clf.fit(X_train_smt, y_train_smt)\n",
    "\n",
    "grid_clf_pred = grid_clf.predict(X_test)\n",
    "\n",
    "\n",
    "pred_X = grid_clf.predict(X_train_smt)\n",
    "pred_Y = grid_clf.predict(X_test)\n",
    "\n",
    "print('train accuracy score :', accuracy_score(y_train_smt, pred_X))\n",
    "print('Macro f1 socre : ', f1_score(y_test, pred_Y, average='micro'))\n",
    "print('Macro f1 socre : ', f1_score(y_test, pred_Y, average='macro'))\n",
    "\n",
    "print('\\n최적 하이퍼 파라미터:{0}, 최적 평균 정확도:{1:.3f}'.format(grid_clf.best_params_, grid_clf.best_score_))"
   ]
  },
  {
   "cell_type": "code",
   "execution_count": null,
   "id": "f18b8073",
   "metadata": {},
   "outputs": [],
   "source": [
    "# import torch.nn as nn, CrossEntropyLoss\n",
    "# import torch\n",
    "\n",
    "\n",
    "# loss_fn = nn.CrossEntropyLoss(weight=[1,2,1])\n",
    "# loss = loss_fn(X_train, y_train)"
   ]
  },
  {
   "cell_type": "code",
   "execution_count": null,
   "id": "6073ccbc",
   "metadata": {},
   "outputs": [],
   "source": [
    "# 一分类svm\n",
    "from sklearn.svm import OneClassSVM\n",
    "# 孤立森林异常检测\n",
    "from sklearn.ensemble import IsolationForest\n",
    "\n",
    "\n",
    "ilf = IsolationForest()\n",
    "ilf.fit(X_train_smt, y_train_smt)\n",
    "ilf_pred = ilf.predict(X_test)"
   ]
  },
  {
   "cell_type": "code",
   "execution_count": null,
   "id": "faba6b2a",
   "metadata": {},
   "outputs": [],
   "source": [
    "# print('train accuracy score :', accuracy_score(y_train, pred_X))\n",
    "# print('test accuracy score :', accuracy_score(y_test, pred_Y))\n",
    "print('Macro f1 socre : ', f1_score(y_test, ilf_pred, average='macro'))\n",
    "\n",
    "print('\\n최적 하이퍼 파라미터:{0}, 최적 평균 정확도:{1:.3f}'.format(grid_clf.best_params_, grid_clf.best_score_))"
   ]
  },
  {
   "cell_type": "code",
   "execution_count": null,
   "id": "0ac302b8",
   "metadata": {},
   "outputs": [],
   "source": [
    "#!pip install torch"
   ]
  },
  {
   "cell_type": "code",
   "execution_count": null,
   "id": "ffe67702",
   "metadata": {},
   "outputs": [],
   "source": []
  },
  {
   "cell_type": "code",
   "execution_count": null,
   "id": "f80ed789",
   "metadata": {},
   "outputs": [],
   "source": [
    "def clf2():\n",
    "    ocsvm = OneClassSVM(gamma=0.0001, kernel='sigmoid', max_iter=1000, nu=0.009, verbose=True)\n",
    "    isf = IsolationForest(contamination=0.08461, random_state=99, n_jobs=-1, max_features=2, max_samples=55,  n_estimators=2) \n",
    "    return ocsvm, isf\n"
   ]
  },
  {
   "cell_type": "code",
   "execution_count": null,
   "id": "bf7bd556",
   "metadata": {},
   "outputs": [],
   "source": [
    "def oc_model(model, x_train_df, x_test_df, y_test_df):\n",
    "    model.fit(x_train_df)\n",
    "    p = model.predict(x_test_df)\n",
    "    \n",
    "    print(\"f1: %.8f\" %(f1_score(y_test_df, p, average='macro')))\n",
    "    print(\"accuracy: %.8f\" %(accuracy_score(y_test_df, p)))\n",
    "    print(\"recall: %.8f\" %(recall_score(y_test_df, p, average='micro')))\n",
    "    print(\"precision: %.8f\" %(precision_score(y_test_df, p, average='micro')))\n",
    "    \n",
    "    return p\n"
   ]
  },
  {
   "cell_type": "code",
   "execution_count": null,
   "id": "7502b0bf",
   "metadata": {},
   "outputs": [],
   "source": [
    "ocsvm, isf = clf2()\n",
    "p_ocsvm = oc_model(ocsvm, X_train_smt, X_test, y_test)\n",
    "p_isf = oc_model(isf, X_train_smt, X_test, y_test)"
   ]
  },
  {
   "cell_type": "code",
   "execution_count": null,
   "id": "b3e4687d",
   "metadata": {},
   "outputs": [],
   "source": []
  },
  {
   "cell_type": "code",
   "execution_count": null,
   "id": "8d8e8adc",
   "metadata": {},
   "outputs": [],
   "source": []
  },
  {
   "cell_type": "code",
   "execution_count": null,
   "id": "027f5823",
   "metadata": {},
   "outputs": [],
   "source": [
    "#   기울기     와     절편\n",
    "# print(lr.coef_, lr.intercept_)"
   ]
  },
  {
   "cell_type": "code",
   "execution_count": null,
   "id": "d5389e91",
   "metadata": {},
   "outputs": [],
   "source": [
    "# # z값 계산\n",
    "# decisions = lr.decision_function(X_test)\n",
    "# decisions"
   ]
  },
  {
   "cell_type": "code",
   "execution_count": null,
   "id": "49392f24",
   "metadata": {},
   "outputs": [],
   "source": [
    "# from scipy.special import expit\n",
    "\n",
    "# print(expit(decisions))\n",
    "# print(1 - expit(decisions))"
   ]
  },
  {
   "cell_type": "code",
   "execution_count": null,
   "id": "0adf66e0",
   "metadata": {
    "scrolled": false
   },
   "outputs": [],
   "source": [
    "# def sigmoid(x):\n",
    "#     return 1 / (1+np.exp(-x))\n",
    "\n",
    "# train = np.arange(-12, 12, 0.1)\n",
    "# result = sigmoid(train)\n",
    "\n",
    "# plt.plot(train, result)\n",
    "# plt.scatter(decisions, expit(decisions),marker='^' ,color = 'g', s=60)\n",
    "# plt.scatter(0, 0.5, marker = 'D', color = 'black')\n",
    "\n",
    "# plt.title('시그모이드 시각화')\n",
    "# plt.xlabel('Z값')\n",
    "# plt.ylabel('시그모이드값')\n",
    "# plt.ylim(-0.1, 1.1)\n",
    "# plt.show()"
   ]
  },
  {
   "cell_type": "markdown",
   "id": "1d0f79f6",
   "metadata": {},
   "source": [
    "## RandomForest"
   ]
  },
  {
   "cell_type": "code",
   "execution_count": 85,
   "id": "64c25567",
   "metadata": {},
   "outputs": [],
   "source": [
    "from sklearn.ensemble import RandomForestClassifier\n",
    "from sklearn.model_selection import StratifiedKFold\n",
    "from sklearn.model_selection import cross_validate\n",
    "from sklearn.model_selection import GridSearchCV"
   ]
  },
  {
   "cell_type": "code",
   "execution_count": 86,
   "id": "0c021b79",
   "metadata": {},
   "outputs": [
    {
     "data": {
      "text/html": [
       "<style>#sk-container-id-5 {color: black;background-color: white;}#sk-container-id-5 pre{padding: 0;}#sk-container-id-5 div.sk-toggleable {background-color: white;}#sk-container-id-5 label.sk-toggleable__label {cursor: pointer;display: block;width: 100%;margin-bottom: 0;padding: 0.3em;box-sizing: border-box;text-align: center;}#sk-container-id-5 label.sk-toggleable__label-arrow:before {content: \"▸\";float: left;margin-right: 0.25em;color: #696969;}#sk-container-id-5 label.sk-toggleable__label-arrow:hover:before {color: black;}#sk-container-id-5 div.sk-estimator:hover label.sk-toggleable__label-arrow:before {color: black;}#sk-container-id-5 div.sk-toggleable__content {max-height: 0;max-width: 0;overflow: hidden;text-align: left;background-color: #f0f8ff;}#sk-container-id-5 div.sk-toggleable__content pre {margin: 0.2em;color: black;border-radius: 0.25em;background-color: #f0f8ff;}#sk-container-id-5 input.sk-toggleable__control:checked~div.sk-toggleable__content {max-height: 200px;max-width: 100%;overflow: auto;}#sk-container-id-5 input.sk-toggleable__control:checked~label.sk-toggleable__label-arrow:before {content: \"▾\";}#sk-container-id-5 div.sk-estimator input.sk-toggleable__control:checked~label.sk-toggleable__label {background-color: #d4ebff;}#sk-container-id-5 div.sk-label input.sk-toggleable__control:checked~label.sk-toggleable__label {background-color: #d4ebff;}#sk-container-id-5 input.sk-hidden--visually {border: 0;clip: rect(1px 1px 1px 1px);clip: rect(1px, 1px, 1px, 1px);height: 1px;margin: -1px;overflow: hidden;padding: 0;position: absolute;width: 1px;}#sk-container-id-5 div.sk-estimator {font-family: monospace;background-color: #f0f8ff;border: 1px dotted black;border-radius: 0.25em;box-sizing: border-box;margin-bottom: 0.5em;}#sk-container-id-5 div.sk-estimator:hover {background-color: #d4ebff;}#sk-container-id-5 div.sk-parallel-item::after {content: \"\";width: 100%;border-bottom: 1px solid gray;flex-grow: 1;}#sk-container-id-5 div.sk-label:hover label.sk-toggleable__label {background-color: #d4ebff;}#sk-container-id-5 div.sk-serial::before {content: \"\";position: absolute;border-left: 1px solid gray;box-sizing: border-box;top: 0;bottom: 0;left: 50%;z-index: 0;}#sk-container-id-5 div.sk-serial {display: flex;flex-direction: column;align-items: center;background-color: white;padding-right: 0.2em;padding-left: 0.2em;position: relative;}#sk-container-id-5 div.sk-item {position: relative;z-index: 1;}#sk-container-id-5 div.sk-parallel {display: flex;align-items: stretch;justify-content: center;background-color: white;position: relative;}#sk-container-id-5 div.sk-item::before, #sk-container-id-5 div.sk-parallel-item::before {content: \"\";position: absolute;border-left: 1px solid gray;box-sizing: border-box;top: 0;bottom: 0;left: 50%;z-index: -1;}#sk-container-id-5 div.sk-parallel-item {display: flex;flex-direction: column;z-index: 1;position: relative;background-color: white;}#sk-container-id-5 div.sk-parallel-item:first-child::after {align-self: flex-end;width: 50%;}#sk-container-id-5 div.sk-parallel-item:last-child::after {align-self: flex-start;width: 50%;}#sk-container-id-5 div.sk-parallel-item:only-child::after {width: 0;}#sk-container-id-5 div.sk-dashed-wrapped {border: 1px dashed gray;margin: 0 0.4em 0.5em 0.4em;box-sizing: border-box;padding-bottom: 0.4em;background-color: white;}#sk-container-id-5 div.sk-label label {font-family: monospace;font-weight: bold;display: inline-block;line-height: 1.2em;}#sk-container-id-5 div.sk-label-container {text-align: center;}#sk-container-id-5 div.sk-container {/* jupyter's `normalize.less` sets `[hidden] { display: none; }` but bootstrap.min.css set `[hidden] { display: none !important; }` so we also need the `!important` here to be able to override the default hidden behavior on the sphinx rendered scikit-learn.org. See: https://github.com/scikit-learn/scikit-learn/issues/21755 */display: inline-block !important;position: relative;}#sk-container-id-5 div.sk-text-repr-fallback {display: none;}</style><div id=\"sk-container-id-5\" class=\"sk-top-container\"><div class=\"sk-text-repr-fallback\"><pre>GridSearchCV(cv=5,\n",
       "             estimator=RandomForestClassifier(n_jobs=-1, random_state=2022),\n",
       "             n_jobs=-1,\n",
       "             param_grid={&#x27;max_depth&#x27;: [7, 8, 9], &#x27;min_samples_leaf&#x27;: [2, 3],\n",
       "                         &#x27;min_samples_split&#x27;: [5, 6, 7],\n",
       "                         &#x27;n_estimators&#x27;: [5, 6, None]})</pre><b>In a Jupyter environment, please rerun this cell to show the HTML representation or trust the notebook. <br />On GitHub, the HTML representation is unable to render, please try loading this page with nbviewer.org.</b></div><div class=\"sk-container\" hidden><div class=\"sk-item sk-dashed-wrapped\"><div class=\"sk-label-container\"><div class=\"sk-label sk-toggleable\"><input class=\"sk-toggleable__control sk-hidden--visually\" id=\"sk-estimator-id-7\" type=\"checkbox\" ><label for=\"sk-estimator-id-7\" class=\"sk-toggleable__label sk-toggleable__label-arrow\">GridSearchCV</label><div class=\"sk-toggleable__content\"><pre>GridSearchCV(cv=5,\n",
       "             estimator=RandomForestClassifier(n_jobs=-1, random_state=2022),\n",
       "             n_jobs=-1,\n",
       "             param_grid={&#x27;max_depth&#x27;: [7, 8, 9], &#x27;min_samples_leaf&#x27;: [2, 3],\n",
       "                         &#x27;min_samples_split&#x27;: [5, 6, 7],\n",
       "                         &#x27;n_estimators&#x27;: [5, 6, None]})</pre></div></div></div><div class=\"sk-parallel\"><div class=\"sk-parallel-item\"><div class=\"sk-item\"><div class=\"sk-label-container\"><div class=\"sk-label sk-toggleable\"><input class=\"sk-toggleable__control sk-hidden--visually\" id=\"sk-estimator-id-8\" type=\"checkbox\" ><label for=\"sk-estimator-id-8\" class=\"sk-toggleable__label sk-toggleable__label-arrow\">estimator: RandomForestClassifier</label><div class=\"sk-toggleable__content\"><pre>RandomForestClassifier(n_jobs=-1, random_state=2022)</pre></div></div></div><div class=\"sk-serial\"><div class=\"sk-item\"><div class=\"sk-estimator sk-toggleable\"><input class=\"sk-toggleable__control sk-hidden--visually\" id=\"sk-estimator-id-9\" type=\"checkbox\" ><label for=\"sk-estimator-id-9\" class=\"sk-toggleable__label sk-toggleable__label-arrow\">RandomForestClassifier</label><div class=\"sk-toggleable__content\"><pre>RandomForestClassifier(n_jobs=-1, random_state=2022)</pre></div></div></div></div></div></div></div></div></div></div>"
      ],
      "text/plain": [
       "GridSearchCV(cv=5,\n",
       "             estimator=RandomForestClassifier(n_jobs=-1, random_state=2022),\n",
       "             n_jobs=-1,\n",
       "             param_grid={'max_depth': [7, 8, 9], 'min_samples_leaf': [2, 3],\n",
       "                         'min_samples_split': [5, 6, 7],\n",
       "                         'n_estimators': [5, 6, None]})"
      ]
     },
     "execution_count": 86,
     "metadata": {},
     "output_type": "execute_result"
    }
   ],
   "source": [
    "rf = RandomForestClassifier(n_jobs=-1, random_state = 2022)\n",
    "#rf.fit(X_train, y_train)\n",
    "\n",
    "params = {\n",
    "    'n_estimators':[5, 6, None],\n",
    "    'max_depth':[7, 8, 9],\n",
    "    'min_samples_leaf':[2, 3],\n",
    "    'min_samples_split':[5, 6, 7]\n",
    "}\n",
    "#                                                     돌림\n",
    "rf_gs = GridSearchCV(rf, param_grid = params, cv = 5, refit = True, n_jobs=-1)\n",
    "rf_gs.fit(X_train_smt, y_train_smt)"
   ]
  },
  {
   "cell_type": "code",
   "execution_count": 87,
   "id": "90e62919",
   "metadata": {},
   "outputs": [
    {
     "name": "stdout",
     "output_type": "stream",
     "text": [
      "{'max_depth': 9, 'min_samples_leaf': 2, 'min_samples_split': 5, 'n_estimators': 6}\n"
     ]
    }
   ],
   "source": [
    "print(rf_gs.best_params_)"
   ]
  },
  {
   "cell_type": "code",
   "execution_count": 89,
   "id": "14ed4205",
   "metadata": {},
   "outputs": [
    {
     "name": "stdout",
     "output_type": "stream",
     "text": [
      "train accuracy score : 0.9407454139570999\n",
      "test accuracy score : 0.9329549485633203\n"
     ]
    }
   ],
   "source": [
    "rf_pred = rf_gs.predict(X_test)\n",
    "\n",
    "pred_X = rf_gs.predict(X_train_smt)\n",
    "pred_Y = rf_gs.predict(X_test)\n",
    "\n",
    "print('train accuracy score :', accuracy_score(y_train_smt, pred_X))\n",
    "print('test accuracy score :', accuracy_score(y_test, pred_Y))\n",
    "#print('Macro f1 socre : ', f1_score(y_test, rf_pred, average='macro'))"
   ]
  },
  {
   "cell_type": "code",
   "execution_count": 94,
   "id": "5c82d281",
   "metadata": {},
   "outputs": [
    {
     "name": "stdout",
     "output_type": "stream",
     "text": [
      "0.9999113160695282\n",
      "0.9549485633203264\n"
     ]
    }
   ],
   "source": [
    "rf = RandomForestClassifier(n_jobs=-1, random_state = 2022)\n",
    "rf.fit(X_train_smt, y_train_smt)\n",
    "rf.predict(X_test)\n",
    "\n",
    "print(rf.score(X_train, y_train))\n",
    "print(rf.score(X_test, y_test))"
   ]
  },
  {
   "cell_type": "markdown",
   "id": "a1a72298",
   "metadata": {},
   "source": [
    "### 최저 파라미타"
   ]
  },
  {
   "cell_type": "code",
   "execution_count": 115,
   "id": "4aef4a4a",
   "metadata": {},
   "outputs": [],
   "source": [
    "rf_end = RandomForestClassifier(max_depth =8, \n",
    "                                min_samples_leaf=4, \n",
    "                                min_samples_split = 2, \n",
    "                                n_estimators = 50)\n",
    "\n",
    "\n",
    "rf_end.fit(X_train_smt, y_train_smt)\n",
    "rf_endd = cross_val_predict(rf_end, X_test, y_test)"
   ]
  },
  {
   "cell_type": "code",
   "execution_count": 116,
   "id": "054e1677",
   "metadata": {},
   "outputs": [
    {
     "name": "stdout",
     "output_type": "stream",
     "text": [
      "train accuracy score : 0.9359895176162283\n",
      "test accuracy score : 0.9375665129478539\n"
     ]
    }
   ],
   "source": [
    "pred_X = rf_end.predict(X_train_smt)\n",
    "pred_Y = rf_end.predict(X_test)\n",
    "\n",
    "print('train accuracy score :', accuracy_score(y_train_smt, pred_X))\n",
    "print('test accuracy score :', accuracy_score(y_test, pred_Y))\n",
    "#print('Macro f1 socre : ', f1_score(y_test, rf_endd, average='macro'))"
   ]
  },
  {
   "cell_type": "code",
   "execution_count": 2,
   "id": "2548c55b",
   "metadata": {},
   "outputs": [],
   "source": [
    "scoring = {'accuracy' : make_scorer(accuracy_score), \n",
    "           'precision' : make_scorer(precision_score),\n",
    "           'recall' : make_scorer(recall_score), \n",
    "           'f1_score' : make_scorer(f1_score),\n",
    "           'roc_auc_score': make_scorer(roc_auc_score)\n",
    "          }\n",
    "\n",
    "\n",
    "rf = RandomForestClassifier(n_jobs=-1, random_state = 2022)\n",
    "cv_rf = RepeatedStratifiedKFold(n_splits = 10, n_repeats = 3, random_state = 2022)\n",
    "\n",
    "scores = cross_validate(rf, X_train_smt, y_train_smt, scoring = scoring, cv=cv_rf, n_jobs=-1)\n",
    "\n",
    "\n",
    "accuracy = scores[\"test_accuracy\"].mean()\n",
    "precision = scores[\"test_precision\"].mean()\n",
    "recall = scores[\"test_recall\"].mean()\n",
    "f1_score = scores[\"test_f1_score\"].mean()\n",
    "auc_score = scores[\"test_roc_auc_score\"].mean()\n",
    "\n",
    "print(\"accuracy: {0: .4f}\".format(accuracy))\n",
    "print(\"precision: {0: .4f}\".format(precision))\n",
    "print(\"recall: {0: .4f}\".format(recall))\n",
    "print(\"f1_score: {0: .4f}\".format(f1_score))\n",
    "print(\"auc_score: {0: .4f}\".format(auc_score))"
   ]
  },
  {
   "cell_type": "markdown",
   "id": "9baeb1ac",
   "metadata": {},
   "source": [
    "### OP + Un +  SMOTE-Tomek + 3-Fold CV"
   ]
  },
  {
   "cell_type": "code",
   "execution_count": null,
   "id": "58241c92",
   "metadata": {},
   "outputs": [],
   "source": [
    "from sklearn.ensemble import RandomForestClassifier\n",
    "from sklearn.model_selection import RepeatedStratifiedKFold\n",
    "from sklearn.model_selection import cross_validate\n",
    "\n",
    "rf = RandomForestClassifier(criterion='entropy')\n",
    "rf.fit(X_train_smt, y_train_smt)\n",
    "\n",
    "cv_rf = RepeatedStratifiedKFold(n_splits = 10, n_repeats = 3, random_state = 2022)\n",
    "\n",
    "List = ['accuracy', 'f1_macro', 'f1', 'f1_micro']\n",
    "\n",
    "for score in List :\n",
    "    scores = cross_validate(rf, X_train_smt, y_train_smt, scoring = score, cv=cv_rf, n_jobs=-1)\n",
    "    print(score,'- 3-Fold CV : %.4f' % np.mean(scores['test_score']))"
   ]
  },
  {
   "cell_type": "code",
   "execution_count": null,
   "id": "d6f16d85",
   "metadata": {},
   "outputs": [],
   "source": []
  },
  {
   "cell_type": "markdown",
   "id": "f227ab46",
   "metadata": {},
   "source": [
    "## Xgboost"
   ]
  },
  {
   "cell_type": "code",
   "execution_count": 70,
   "id": "c0f71340",
   "metadata": {},
   "outputs": [],
   "source": [
    "import xgboost as xgb\n",
    "from xgboost import XGBClassifier"
   ]
  },
  {
   "cell_type": "markdown",
   "id": "f863da71",
   "metadata": {},
   "source": [
    "#### Step 1"
   ]
  },
  {
   "cell_type": "code",
   "execution_count": null,
   "id": "944eb6bc",
   "metadata": {},
   "outputs": [],
   "source": [
    "# 방법 1\n",
    "import xgboost as xgb\n",
    "\n",
    "X_tr, X_val, y_tr, y_val = train_test_split(X_train_smt, y_train_smt, test_size = 0.1, random_state=2022)\n",
    "# 90%  10%\n",
    "\n",
    "\n",
    "dtr = xgb.DMatrix(data=X_tr, label=y_tr)\n",
    "dval = xgb.DMatrix(data=X_val, label=y_val)\n",
    "dtest = xgb.DMatrix(data=X_test, label=y_test)\n",
    "\n",
    "\n",
    "params = {'max_depth': 9,  # 트기 최대 깊이 (3~10)\n",
    "          'eta': 0.05,     # 학습률 XGBClassifier인경우 learning_rate 사용해야함\n",
    "          'objective' : 'binary:logistic', # 0, 1 이진 분류이므로 목적함수(objective)는 이진 로지스틱(vinary:logistic)\n",
    "          'eval_metric' : 'logloss'}  # 회귀\n",
    "\n",
    "num_rounds = 300\n",
    "\n",
    "eval_list = [(dtr,'train'),(dval,'eval')]\n",
    "\n",
    "\n",
    "#                                        훈련             반복회수                    조기 중단:(최소50부터)    \n",
    "xgb_model = xgb.train(params = params, dtrain=dtr, num_boost_round = num_rounds, early_stopping_rounds=150, evals=eval_list)  \n",
    "xgb_pred = xgb_model.predict(dtest)\n",
    "\n",
    "#xgb_pred_corss = xgb_model.predict(dtest)\n",
    "\n",
    "\n",
    "preds = [1 if x >= 0.5 else 0 for x in xgb_pred]\n",
    "print('예측값 10개만 표시 : ', preds[:0])"
   ]
  },
  {
   "cell_type": "code",
   "execution_count": null,
   "id": "d25e65fa",
   "metadata": {},
   "outputs": [],
   "source": [
    "print('Macro f1 socre : ', f1_score(y_test, preds, average='macro'))\n",
    "print('Micro f1 socre : ', f1_score(y_test, preds, average='micro'))"
   ]
  },
  {
   "cell_type": "markdown",
   "id": "12c0c070",
   "metadata": {},
   "source": [
    "## no 파리마터 Test"
   ]
  },
  {
   "cell_type": "code",
   "execution_count": 84,
   "id": "e537c4f5",
   "metadata": {},
   "outputs": [
    {
     "ename": "ValueError",
     "evalue": "The truth value of a Series is ambiguous. Use a.empty, a.bool(), a.item(), a.any() or a.all().",
     "output_type": "error",
     "traceback": [
      "\u001b[1;31m---------------------------------------------------------------------------\u001b[0m",
      "\u001b[1;31mValueError\u001b[0m                                Traceback (most recent call last)",
      "\u001b[1;32m~\\AppData\\Local\\Temp/ipykernel_8392/162124296.py\u001b[0m in \u001b[0;36m<module>\u001b[1;34m\u001b[0m\n\u001b[0;32m      1\u001b[0m \u001b[0mmodel_test\u001b[0m \u001b[1;33m=\u001b[0m \u001b[0mXGBClassifier\u001b[0m\u001b[1;33m(\u001b[0m\u001b[0mrandom_state\u001b[0m\u001b[1;33m=\u001b[0m\u001b[1;36m2022\u001b[0m\u001b[1;33m)\u001b[0m\u001b[1;33m\u001b[0m\u001b[1;33m\u001b[0m\u001b[0m\n\u001b[0;32m      2\u001b[0m \u001b[0mmodel_test\u001b[0m\u001b[1;33m.\u001b[0m\u001b[0mfit\u001b[0m\u001b[1;33m(\u001b[0m\u001b[0mX_train_smt\u001b[0m\u001b[1;33m,\u001b[0m \u001b[0my_train_smt\u001b[0m\u001b[1;33m)\u001b[0m\u001b[1;33m\u001b[0m\u001b[1;33m\u001b[0m\u001b[0m\n\u001b[1;32m----> 3\u001b[1;33m \u001b[0mmodel_test\u001b[0m\u001b[1;33m.\u001b[0m\u001b[0mpredict\u001b[0m\u001b[1;33m(\u001b[0m\u001b[0mX_test\u001b[0m\u001b[1;33m,\u001b[0m \u001b[0my_test\u001b[0m\u001b[1;33m)\u001b[0m\u001b[1;33m\u001b[0m\u001b[1;33m\u001b[0m\u001b[0m\n\u001b[0m\u001b[0;32m      4\u001b[0m \u001b[1;33m\u001b[0m\u001b[0m\n\u001b[0;32m      5\u001b[0m \u001b[1;31m# model_test.score(X_train_smt, y_train_smt)\u001b[0m\u001b[1;33m\u001b[0m\u001b[1;33m\u001b[0m\u001b[0m\n",
      "\u001b[1;32mC:\\Anaconda3\\lib\\site-packages\\xgboost\\sklearn.py\u001b[0m in \u001b[0;36mpredict\u001b[1;34m(self, X, output_margin, ntree_limit, validate_features, base_margin, iteration_range)\u001b[0m\n\u001b[0;32m   1549\u001b[0m     ) -> np.ndarray:\n\u001b[0;32m   1550\u001b[0m         \u001b[1;32mwith\u001b[0m \u001b[0mconfig_context\u001b[0m\u001b[1;33m(\u001b[0m\u001b[0mverbosity\u001b[0m\u001b[1;33m=\u001b[0m\u001b[0mself\u001b[0m\u001b[1;33m.\u001b[0m\u001b[0mverbosity\u001b[0m\u001b[1;33m)\u001b[0m\u001b[1;33m:\u001b[0m\u001b[1;33m\u001b[0m\u001b[1;33m\u001b[0m\u001b[0m\n\u001b[1;32m-> 1551\u001b[1;33m             class_probs = super().predict(\n\u001b[0m\u001b[0;32m   1552\u001b[0m                 \u001b[0mX\u001b[0m\u001b[1;33m=\u001b[0m\u001b[0mX\u001b[0m\u001b[1;33m,\u001b[0m\u001b[1;33m\u001b[0m\u001b[1;33m\u001b[0m\u001b[0m\n\u001b[0;32m   1553\u001b[0m                 \u001b[0moutput_margin\u001b[0m\u001b[1;33m=\u001b[0m\u001b[0moutput_margin\u001b[0m\u001b[1;33m,\u001b[0m\u001b[1;33m\u001b[0m\u001b[1;33m\u001b[0m\u001b[0m\n",
      "\u001b[1;32mC:\\Anaconda3\\lib\\site-packages\\xgboost\\sklearn.py\u001b[0m in \u001b[0;36mpredict\u001b[1;34m(self, X, output_margin, ntree_limit, validate_features, base_margin, iteration_range)\u001b[0m\n\u001b[0;32m   1141\u001b[0m                         \u001b[0mdata\u001b[0m\u001b[1;33m=\u001b[0m\u001b[0mX\u001b[0m\u001b[1;33m,\u001b[0m\u001b[1;33m\u001b[0m\u001b[1;33m\u001b[0m\u001b[0m\n\u001b[0;32m   1142\u001b[0m                         \u001b[0miteration_range\u001b[0m\u001b[1;33m=\u001b[0m\u001b[0miteration_range\u001b[0m\u001b[1;33m,\u001b[0m\u001b[1;33m\u001b[0m\u001b[1;33m\u001b[0m\u001b[0m\n\u001b[1;32m-> 1143\u001b[1;33m                         \u001b[0mpredict_type\u001b[0m\u001b[1;33m=\u001b[0m\u001b[1;34m\"margin\"\u001b[0m \u001b[1;32mif\u001b[0m \u001b[0moutput_margin\u001b[0m \u001b[1;32melse\u001b[0m \u001b[1;34m\"value\"\u001b[0m\u001b[1;33m,\u001b[0m\u001b[1;33m\u001b[0m\u001b[1;33m\u001b[0m\u001b[0m\n\u001b[0m\u001b[0;32m   1144\u001b[0m                         \u001b[0mmissing\u001b[0m\u001b[1;33m=\u001b[0m\u001b[0mself\u001b[0m\u001b[1;33m.\u001b[0m\u001b[0mmissing\u001b[0m\u001b[1;33m,\u001b[0m\u001b[1;33m\u001b[0m\u001b[1;33m\u001b[0m\u001b[0m\n\u001b[0;32m   1145\u001b[0m                         \u001b[0mbase_margin\u001b[0m\u001b[1;33m=\u001b[0m\u001b[0mbase_margin\u001b[0m\u001b[1;33m,\u001b[0m\u001b[1;33m\u001b[0m\u001b[1;33m\u001b[0m\u001b[0m\n",
      "\u001b[1;32mC:\\Anaconda3\\lib\\site-packages\\pandas\\core\\generic.py\u001b[0m in \u001b[0;36m__nonzero__\u001b[1;34m(self)\u001b[0m\n\u001b[0;32m   1525\u001b[0m     \u001b[1;33m@\u001b[0m\u001b[0mfinal\u001b[0m\u001b[1;33m\u001b[0m\u001b[1;33m\u001b[0m\u001b[0m\n\u001b[0;32m   1526\u001b[0m     \u001b[1;32mdef\u001b[0m \u001b[0m__nonzero__\u001b[0m\u001b[1;33m(\u001b[0m\u001b[0mself\u001b[0m\u001b[1;33m)\u001b[0m \u001b[1;33m->\u001b[0m \u001b[0mNoReturn\u001b[0m\u001b[1;33m:\u001b[0m\u001b[1;33m\u001b[0m\u001b[1;33m\u001b[0m\u001b[0m\n\u001b[1;32m-> 1527\u001b[1;33m         raise ValueError(\n\u001b[0m\u001b[0;32m   1528\u001b[0m             \u001b[1;34mf\"The truth value of a {type(self).__name__} is ambiguous. \"\u001b[0m\u001b[1;33m\u001b[0m\u001b[1;33m\u001b[0m\u001b[0m\n\u001b[0;32m   1529\u001b[0m             \u001b[1;34m\"Use a.empty, a.bool(), a.item(), a.any() or a.all().\"\u001b[0m\u001b[1;33m\u001b[0m\u001b[1;33m\u001b[0m\u001b[0m\n",
      "\u001b[1;31mValueError\u001b[0m: The truth value of a Series is ambiguous. Use a.empty, a.bool(), a.item(), a.any() or a.all()."
     ]
    }
   ],
   "source": [
    "model_test = XGBClassifier(random_state=2022)\n",
    "model_test.fit(X_train_smt, y_train_smt)\n",
    "model_test.predict(X_test, y_test)\n",
    "\n",
    "# model_test.score(X_train_smt, y_train_smt)"
   ]
  },
  {
   "cell_type": "markdown",
   "id": "2be5ee9f",
   "metadata": {},
   "source": [
    "#### Step 2"
   ]
  },
  {
   "cell_type": "code",
   "execution_count": 73,
   "id": "4fe5a72e",
   "metadata": {
    "scrolled": true
   },
   "outputs": [
    {
     "name": "stdout",
     "output_type": "stream",
     "text": [
      "교차건증：\n",
      " 0.9650081095442358\n",
      "최우선 점수 ：\n",
      " {'learning_rate': 0.1, 'max_depth': 2, 'n_estimators': 500}\n"
     ]
    }
   ],
   "source": [
    "from xgboost import XGBClassifier \n",
    "\n",
    "model = XGBClassifier(random_state=2022)\n",
    "\n",
    "parameters={'max_depth': [2,3,4],\n",
    "            'n_estimators': [500],\n",
    "            'learning_rate': [0.1, 0.2, 0.5]}\n",
    "\n",
    "grid_search = GridSearchCV(model, parameters, scoring='f1_macro', cv=5, n_jobs=-1) \n",
    "grid_search.fit(X_train_smt, y_train_smt) \n",
    "grid_search.best_params_\n",
    "\n",
    "print('교차건증：\\n', grid_search.best_score_)\n",
    "print('최우선 점수 ：\\n', grid_search.best_params_)"
   ]
  },
  {
   "cell_type": "code",
   "execution_count": 74,
   "id": "1c5c5208",
   "metadata": {},
   "outputs": [],
   "source": [
    "gs_XGB_pred = grid_search.predict(X_test)"
   ]
  },
  {
   "cell_type": "code",
   "execution_count": 81,
   "id": "89ad8287",
   "metadata": {},
   "outputs": [
    {
     "name": "stdout",
     "output_type": "stream",
     "text": [
      "accuracy:  0.9737\n",
      "precision:  0.9928\n",
      "recall:  0.9544\n",
      "f1_score:  0.9732\n",
      "auc_score:  0.9737\n"
     ]
    }
   ],
   "source": [
    "from sklearn.ensemble import RandomForestClassifier\n",
    "from sklearn.model_selection import RepeatedStratifiedKFold\n",
    "from sklearn.model_selection import cross_validate\n",
    "\n",
    "scoring = {'accuracy' : make_scorer(accuracy_score), \n",
    "           'precision' : make_scorer(precision_score),\n",
    "           'recall' : make_scorer(recall_score), \n",
    "           'f1_score' : make_scorer(f1_score),\n",
    "           'roc_auc_score': make_scorer(roc_auc_score)\n",
    "          }\n",
    "\n",
    "\n",
    "min_XGB = XGBClassifier(random_state=2022, learning_rate= 0.1, max_depth=3, n_estimators = 500)\n",
    "cv_rf = RepeatedStratifiedKFold(n_splits = 10, n_repeats = 3, random_state = 2022)\n",
    "\n",
    "scores = cross_validate(min_XGB, X_train_smt, y_train_smt, scoring = scoring, cv=cv_rf, n_jobs=-1)\n",
    "    \n",
    "accuracy = scores[\"test_accuracy\"].mean()\n",
    "precision = scores[\"test_precision\"].mean()\n",
    "recall = scores[\"test_recall\"].mean()\n",
    "f1_score = scores[\"test_f1_score\"].mean()\n",
    "auc_score = scores[\"test_roc_auc_score\"].mean()\n",
    "\n",
    "print(\"accuracy: {0: .4f}\".format(accuracy))\n",
    "print(\"precision: {0: .4f}\".format(precision))\n",
    "print(\"recall: {0: .4f}\".format(recall))\n",
    "print(\"f1_score: {0: .4f}\".format(f1_score))\n",
    "print(\"auc_score: {0: .4f}\".format(auc_score))"
   ]
  },
  {
   "cell_type": "code",
   "execution_count": null,
   "id": "e2c63fde",
   "metadata": {},
   "outputs": [],
   "source": []
  },
  {
   "cell_type": "code",
   "execution_count": null,
   "id": "1291bbc3",
   "metadata": {},
   "outputs": [],
   "source": [
    "pred_X = min_XGB.predict(X_train_smt)\n",
    "pred_Y = min_XGB.predict(X_test)\n",
    "\n",
    "print('train accuracy score :', accuracy_score(y_train_smt, pred_X))\n",
    "print('test accuracy score :', accuracy_score(y_test, pred_Y))\n",
    "print('Macro f1 socre : ', f1_score(y_test, min_xgb_pred, average='macro'))\n",
    "print('Micro f1 socre : ', f1_score(y_test, min_xgb_pred, average='micro'))"
   ]
  },
  {
   "cell_type": "code",
   "execution_count": null,
   "id": "a0ddbcad",
   "metadata": {},
   "outputs": [],
   "source": [
    "pred = min_XGB.predict(X_test)\n",
    "pred_proba = min_XGB.predict_proba(X_test)[:, 1]\n",
    "get_clf_eval(y_test, pred, pred_proba)"
   ]
  },
  {
   "cell_type": "code",
   "execution_count": null,
   "id": "cee9a05d",
   "metadata": {
    "scrolled": false
   },
   "outputs": [],
   "source": [
    "#feature 중요도도 그려볼 수 있다. \n",
    "from xgboost import plot_importance\n",
    "import matplotlib.pyplot as plt\n",
    "%matplotlib inline\n",
    "\n",
    "fig, ax = plt.subplots(figsize=(12, 15))\n",
    "\n",
    "# 사이킷런 래퍼 클래스를 입력해도 무방. \n",
    "plot_importance(min_XGB, ax=ax)\n",
    "plt.rc('font', size=20)        # 기본 폰트 크기\n",
    "plt.rc('axes', labelsize=20)   # x,y축 label 폰트 크기\n",
    "plt.rc('xtick', labelsize=20)  # x축 눈금 폰트 크기 \n",
    "plt.rc('ytick', labelsize=20)  # y축 눈금 폰트 크기\n",
    "plt.rc('legend', fontsize = 30)\n",
    "plt.show()"
   ]
  },
  {
   "cell_type": "code",
   "execution_count": null,
   "id": "3ef968e4",
   "metadata": {
    "scrolled": false
   },
   "outputs": [],
   "source": [
    "precision_recall_curve_plot(y_test, pred_proba)"
   ]
  },
  {
   "cell_type": "code",
   "execution_count": null,
   "id": "d6e608f6",
   "metadata": {},
   "outputs": [],
   "source": [
    "binarizer = Binarizer(threshold = 0.4)\n",
    "thres_pred = binarizer.fit_transform(pred_proba.reshape(-1,1))\n",
    "\n",
    "get_clf_eval(y_test, thres_pred, pred_proba.reshape(-1,1))\n",
    "\n",
    "print('Micro f1 socre : ', f1_score(y_test, thres_pred, average='macro'))"
   ]
  },
  {
   "cell_type": "markdown",
   "id": "5f6802db",
   "metadata": {},
   "source": [
    "## TMOTE tomek XGBOOST"
   ]
  },
  {
   "cell_type": "code",
   "execution_count": null,
   "id": "46835ccc",
   "metadata": {},
   "outputs": [],
   "source": []
  },
  {
   "cell_type": "code",
   "execution_count": 119,
   "id": "90760b4b",
   "metadata": {
    "scrolled": true
   },
   "outputs": [
    {
     "ename": "AttributeError",
     "evalue": "'numpy.float64' object has no attribute '__name__'",
     "output_type": "error",
     "traceback": [
      "\u001b[1;31m---------------------------------------------------------------------------\u001b[0m",
      "\u001b[1;31mAttributeError\u001b[0m                            Traceback (most recent call last)",
      "\u001b[1;32m~\\AppData\\Local\\Temp/ipykernel_8392/1059305432.py\u001b[0m in \u001b[0;36m<module>\u001b[1;34m\u001b[0m\n\u001b[0;32m     19\u001b[0m \u001b[1;33m\u001b[0m\u001b[0m\n\u001b[0;32m     20\u001b[0m \u001b[1;31m#for score in List :\u001b[0m\u001b[1;33m\u001b[0m\u001b[1;33m\u001b[0m\u001b[0m\n\u001b[1;32m---> 21\u001b[1;33m \u001b[0mscores\u001b[0m \u001b[1;33m=\u001b[0m \u001b[0mcross_validate\u001b[0m\u001b[1;33m(\u001b[0m\u001b[0mTMO_xgb\u001b[0m\u001b[1;33m,\u001b[0m \u001b[0mX_train_smt\u001b[0m\u001b[1;33m,\u001b[0m \u001b[0my_train_smt\u001b[0m\u001b[1;33m,\u001b[0m \u001b[0mscoring\u001b[0m \u001b[1;33m=\u001b[0m \u001b[0mscoring\u001b[0m\u001b[1;33m,\u001b[0m \u001b[0mcv\u001b[0m\u001b[1;33m=\u001b[0m\u001b[0mcv_rf\u001b[0m\u001b[1;33m,\u001b[0m \u001b[0mn_jobs\u001b[0m\u001b[1;33m=\u001b[0m\u001b[1;33m-\u001b[0m\u001b[1;36m1\u001b[0m\u001b[1;33m)\u001b[0m\u001b[1;33m\u001b[0m\u001b[1;33m\u001b[0m\u001b[0m\n\u001b[0m\u001b[0;32m     22\u001b[0m     \u001b[1;31m#print(score,'- 3-Fold CV : %.4f' % np.mean(scores['test_score']))\u001b[0m\u001b[1;33m\u001b[0m\u001b[1;33m\u001b[0m\u001b[0m\n\u001b[0;32m     23\u001b[0m \u001b[1;33m\u001b[0m\u001b[0m\n",
      "\u001b[1;32mC:\\Anaconda3\\lib\\site-packages\\sklearn\\model_selection\\_validation.py\u001b[0m in \u001b[0;36mcross_validate\u001b[1;34m(estimator, X, y, groups, scoring, cv, n_jobs, verbose, fit_params, pre_dispatch, return_train_score, return_estimator, error_score)\u001b[0m\n\u001b[0;32m    259\u001b[0m         \u001b[0mscorers\u001b[0m \u001b[1;33m=\u001b[0m \u001b[0mcheck_scoring\u001b[0m\u001b[1;33m(\u001b[0m\u001b[0mestimator\u001b[0m\u001b[1;33m,\u001b[0m \u001b[0mscoring\u001b[0m\u001b[1;33m)\u001b[0m\u001b[1;33m\u001b[0m\u001b[1;33m\u001b[0m\u001b[0m\n\u001b[0;32m    260\u001b[0m     \u001b[1;32melse\u001b[0m\u001b[1;33m:\u001b[0m\u001b[1;33m\u001b[0m\u001b[1;33m\u001b[0m\u001b[0m\n\u001b[1;32m--> 261\u001b[1;33m         \u001b[0mscorers\u001b[0m \u001b[1;33m=\u001b[0m \u001b[0m_check_multimetric_scoring\u001b[0m\u001b[1;33m(\u001b[0m\u001b[0mestimator\u001b[0m\u001b[1;33m,\u001b[0m \u001b[0mscoring\u001b[0m\u001b[1;33m)\u001b[0m\u001b[1;33m\u001b[0m\u001b[1;33m\u001b[0m\u001b[0m\n\u001b[0m\u001b[0;32m    262\u001b[0m \u001b[1;33m\u001b[0m\u001b[0m\n\u001b[0;32m    263\u001b[0m     \u001b[1;31m# We clone the estimator to make sure that all the folds are\u001b[0m\u001b[1;33m\u001b[0m\u001b[1;33m\u001b[0m\u001b[0m\n",
      "\u001b[1;32mC:\\Anaconda3\\lib\\site-packages\\sklearn\\metrics\\_scorer.py\u001b[0m in \u001b[0;36m_check_multimetric_scoring\u001b[1;34m(estimator, scoring)\u001b[0m\n\u001b[0;32m    530\u001b[0m     \"\"\"\n\u001b[0;32m    531\u001b[0m     err_msg_generic = (\n\u001b[1;32m--> 532\u001b[1;33m         \u001b[1;34mf\"scoring is invalid (got {scoring!r}). Refer to the \"\u001b[0m\u001b[1;33m\u001b[0m\u001b[1;33m\u001b[0m\u001b[0m\n\u001b[0m\u001b[0;32m    533\u001b[0m         \u001b[1;34m\"scoring glossary for details: \"\u001b[0m\u001b[1;33m\u001b[0m\u001b[1;33m\u001b[0m\u001b[0m\n\u001b[0;32m    534\u001b[0m         \u001b[1;34m\"https://scikit-learn.org/stable/glossary.html#term-scoring\"\u001b[0m\u001b[1;33m\u001b[0m\u001b[1;33m\u001b[0m\u001b[0m\n",
      "\u001b[1;32mC:\\Anaconda3\\lib\\site-packages\\sklearn\\metrics\\_scorer.py\u001b[0m in \u001b[0;36m__repr__\u001b[1;34m(self)\u001b[0m\n\u001b[0;32m    188\u001b[0m         )\n\u001b[0;32m    189\u001b[0m         return \"make_scorer(%s%s%s%s)\" % (\n\u001b[1;32m--> 190\u001b[1;33m             \u001b[0mself\u001b[0m\u001b[1;33m.\u001b[0m\u001b[0m_score_func\u001b[0m\u001b[1;33m.\u001b[0m\u001b[0m__name__\u001b[0m\u001b[1;33m,\u001b[0m\u001b[1;33m\u001b[0m\u001b[1;33m\u001b[0m\u001b[0m\n\u001b[0m\u001b[0;32m    191\u001b[0m             \u001b[1;34m\"\"\u001b[0m \u001b[1;32mif\u001b[0m \u001b[0mself\u001b[0m\u001b[1;33m.\u001b[0m\u001b[0m_sign\u001b[0m \u001b[1;33m>\u001b[0m \u001b[1;36m0\u001b[0m \u001b[1;32melse\u001b[0m \u001b[1;34m\", greater_is_better=False\"\u001b[0m\u001b[1;33m,\u001b[0m\u001b[1;33m\u001b[0m\u001b[1;33m\u001b[0m\u001b[0m\n\u001b[0;32m    192\u001b[0m             \u001b[0mself\u001b[0m\u001b[1;33m.\u001b[0m\u001b[0m_factory_args\u001b[0m\u001b[1;33m(\u001b[0m\u001b[1;33m)\u001b[0m\u001b[1;33m,\u001b[0m\u001b[1;33m\u001b[0m\u001b[1;33m\u001b[0m\u001b[0m\n",
      "\u001b[1;31mAttributeError\u001b[0m: 'numpy.float64' object has no attribute '__name__'"
     ]
    }
   ],
   "source": [
    "from sklearn.ensemble import RandomForestClassifier\n",
    "from sklearn.model_selection import RepeatedStratifiedKFold\n",
    "from sklearn.model_selection import cross_validate\n",
    "\n",
    "scoring = {'accuracy' : make_scorer(accuracy_score), \n",
    "           'precision' : make_scorer(precision_score),\n",
    "           'recall' : make_scorer(recall_score), \n",
    "           'f1_score' : make_scorer(f1_score),\n",
    "           'roc_auc_score': make_scorer(roc_auc_score)\n",
    "          }\n",
    "\n",
    "\n",
    "TMO_xgb = XGBClassifier()\n",
    "TMO_xgb.fit(X_train_smt, y_train_smt)\n",
    "\n",
    "cv_rf = RepeatedStratifiedKFold(n_splits = 10, n_repeats = 3, random_state = 2022)\n",
    "\n",
    "List = ['accuracy', 'f1_macro', 'f1', 'f1_micro']\n",
    "\n",
    "#for score in List :\n",
    "scores = cross_validate(TMO_xgb, X_train_smt, y_train_smt, scoring = scoring, cv=cv_rf, n_jobs=-1)\n",
    "    #print(score,'- 3-Fold CV : %.4f' % np.mean(scores['test_score']))\n",
    "    \n",
    "    \n",
    "    \n",
    "accuracy = scores[\"test_accuracy\"].mean()\n",
    "precision = scores[\"test_precision\"].mean()\n",
    "recall = scores[\"test_recall\"].mean()\n",
    "f1_score = scores[\"test_f1_score\"].mean()\n",
    "auc_score = scores[\"test_roc_auc_score\"].mean()\n",
    "\n",
    "print(\"accuracy: {0: .4f}\".format(accuracy))\n",
    "print(\"precision: {0: .4f}\".format(precision))\n",
    "print(\"recall: {0: .4f}\".format(recall))\n",
    "print(\"f1_score: {0: .4f}\".format(f1_score))\n",
    "print(\"auc_score: {0: .4f}\".format(auc_score))"
   ]
  },
  {
   "cell_type": "code",
   "execution_count": null,
   "id": "61ab5f2b",
   "metadata": {},
   "outputs": [],
   "source": [
    "scores"
   ]
  },
  {
   "cell_type": "code",
   "execution_count": null,
   "id": "2c99d582",
   "metadata": {
    "scrolled": true
   },
   "outputs": [],
   "source": [
    "pred_X = TMO_xgb.predict(X_train_smt)\n",
    "pred_Y = TMO_xgb.predict(X_test)\n",
    "pred_Z = TMO_xgb.predict_proba(X_test)[:, 1]\n",
    "\n",
    "print('train accuracy score :', accuracy_score(y_train_smt, pred_X))\n",
    "print('test accuracy score :', accuracy_score(y_test, pred_Y))\n"
   ]
  },
  {
   "cell_type": "code",
   "execution_count": null,
   "id": "9ee1c216",
   "metadata": {},
   "outputs": [],
   "source": [
    "from sklearn.metrics import accuracy_score, classification_report, roc_curve, roc_auc_score\n",
    "\n",
    "fpr, tpr, thresholds = roc_curve(y_test, scores['test_roc_auc_score'])\n",
    "\n",
    "plt.figure(figsize=(10, 8))\n",
    "plt.plot([0,1], [0,1], \"r--\")\n",
    "plt.plot(fpr, tpr, label='XGBoost', color = '#175617')\n",
    "plt.xlabel('False Positive Rate', size = 15)\n",
    "plt.ylabel('True Positive Rate', size = 15)\n",
    "plt.title('XGBoost ROC curve', size = 15)\n",
    "plt.text(0.3, 0.45, 'AUC 면적 = {}'.format(round(roc_auc_score(y_test, scores['test_roc_auc_score']), 4)), size = 20)\n",
    "plt.show()"
   ]
  },
  {
   "cell_type": "code",
   "execution_count": null,
   "id": "d6660f46",
   "metadata": {},
   "outputs": [],
   "source": [
    "# 혼돈 행렬 시각화\n",
    "cm = confusion_matrix(y_test, pred_Y)\n",
    "plt.figure(figsize=(10, 8))\n",
    "sns.heatmap(cm, annot = True, annot_kws = {'size':20}, fmt = '0.0f', cmap='Blues')\n",
    "plt.xlabel('Predicted', size = 20)\n",
    "plt.ylabel('Actual', size = 20)\n",
    "plt.text(0.45, 0.4, 'TN', color = 'w', fontsize = 20)\n",
    "plt.text(1.45, 0.4, 'FP', color = 'black', fontsize = 20)\n",
    "plt.text(0.45, 1.4, 'FN', color = 'black', fontsize = 20)\n",
    "plt.text(1.45, 1.4, 'TP', color = 'black', fontsize = 20)\n",
    "plt.show()\n"
   ]
  },
  {
   "cell_type": "code",
   "execution_count": null,
   "id": "a8328b81",
   "metadata": {},
   "outputs": [],
   "source": [
    "precision_recall_curve_plot(y_test, pred_Z)"
   ]
  },
  {
   "cell_type": "markdown",
   "id": "229a14b2",
   "metadata": {},
   "source": [
    "#### step 3"
   ]
  },
  {
   "cell_type": "code",
   "execution_count": null,
   "id": "06405edb",
   "metadata": {},
   "outputs": [],
   "source": [
    "# from xgboost import XGBClassifier \n",
    "\n",
    "# model = XGBClassifier(random_state=2022, subsample=0.9)\n",
    "\n",
    "# parameters={'max_depth':        [1,2,3,4,5],\n",
    "#             'n_estimators':     [500],\n",
    "#             'learning_rate':    [0.2, 0.5, 0.8],\n",
    "#             'eta':              [0.01, 0.02],\n",
    "#             'min_split_loss':   [2],\n",
    "#             'scale_pos_weight': [1, 3, 5],\n",
    "#             'gamma':            [0, 0.25, 1.0],\n",
    "#            }\n",
    "\n",
    "# grid_search = GridSearchCV(model, parameters, scoring='f1_macro', cv=3, n_jobs=-1) \n",
    "# grid_search.fit(X_train, y_train) \n",
    "# grid_search.best_params_\n",
    "\n",
    "# print('교차건증 交叉验证：\\n', grid_search.best_score_)\n",
    "# print('최우선 점수 最优选项：\\n', grid_search.best_params_)"
   ]
  },
  {
   "cell_type": "code",
   "execution_count": null,
   "id": "d31a0e73",
   "metadata": {},
   "outputs": [],
   "source": [
    "# min_XGB = XGBClassifier(random_state=2022,\n",
    "#                         eta = 0.01,\n",
    "#                         gamma = 0,\n",
    "#                         learning_rate= 0.2, \n",
    "#                         max_depth = 4, \n",
    "#                         min_split_loss = 2,\n",
    "#                         n_estimators = 500,\n",
    "#                         scale_pos_weight = 1)\n",
    "                        \n",
    "                        \n",
    "# min_XGB.fit(X_train, y_train) \n",
    "# min_xgb_pred = min_XGB.predict(X_test)"
   ]
  },
  {
   "cell_type": "code",
   "execution_count": null,
   "id": "9eeff005",
   "metadata": {},
   "outputs": [],
   "source": [
    "# pred_X = min_XGB.predict(X_train)\n",
    "# pred_Y = min_XGB.predict(X_test)\n",
    "\n",
    "# print('train accuracy score :', accuracy_score(y_train, pred_X))\n",
    "# print('test accuracy score :', accuracy_score(y_test, pred_Y))\n",
    "# print('Macro f1 socre : ', f1_score(y_test, min_xgb_pred, average='macro'))"
   ]
  },
  {
   "cell_type": "code",
   "execution_count": null,
   "id": "0ab284cc",
   "metadata": {},
   "outputs": [],
   "source": [
    "# pred = min_XGB.predict(X_test)\n",
    "# pred_proba = min_XGB.predict_proba(X_test)[:, 1]\n",
    "# get_clf_eval(y_test, pred, pred_proba)"
   ]
  },
  {
   "cell_type": "markdown",
   "id": "036d3e8a",
   "metadata": {},
   "source": [
    "## LightBGM"
   ]
  },
  {
   "cell_type": "code",
   "execution_count": null,
   "id": "86d6bb66",
   "metadata": {},
   "outputs": [],
   "source": [
    "from lightgbm import LGBMClassifier"
   ]
  },
  {
   "cell_type": "code",
   "execution_count": null,
   "id": "f28059b9",
   "metadata": {
    "scrolled": true
   },
   "outputs": [],
   "source": [
    "evals = [(X_test, y_test)]\n",
    "\n",
    "lgbm = LGBMClassifier(n_estimators = 2022) # 4천번 \n",
    "lgbm.fit(X_train, y_train, early_stopping_rounds = 100, #100번 돌림\n",
    "         eval_metric='logloss', eval_set=evals, verbose=True)\n",
    "\n",
    "lgbm_pred = lgbm.predict(X_test)\n",
    "\n",
    "\n",
    "parameters={'max_depth': [1,2,3,4,5],\n",
    "            'n_estimators': [500],\n",
    "            'learning_rate': [0.2, 0.5, 0.8]}\n",
    "\n",
    "grid_search = GridSearchCV(model, parameters, scoring='f1_macro', cv=5, n_jobs=-1) \n",
    "grid_search.fit(X_train_smt, y_train_mst) \n",
    "grid_search.best_params_\n",
    "\n",
    "print('교차건증：\\n', grid_search.best_score_)\n",
    "print('최우선 점수 ：\\n', grid_search.best_params_)"
   ]
  },
  {
   "cell_type": "code",
   "execution_count": null,
   "id": "96cde3e4",
   "metadata": {},
   "outputs": [],
   "source": [
    "pred_X = lgbm.predict(X_train_smt)\n",
    "pred_Y = lgbm.predict(X_test)\n",
    "pred_proba_Y = lgbm.predict_proba(X_test)[:, 1]\n",
    "\n",
    "print('train accuracy score :', accuracy_score(y_train_smt, pred_X))\n",
    "print('test accuracy score :', accuracy_score(y_test, pred_Y))\n",
    "print('Micro f1 socre : ', f1_score(y_test, lgbm_pred, average='macro'))\n",
    "print()\n",
    "#print(lgbm.score(y_test, pred_Y))\n"
   ]
  },
  {
   "cell_type": "code",
   "execution_count": null,
   "id": "29352f9b",
   "metadata": {
    "scrolled": true
   },
   "outputs": [],
   "source": [
    "get_clf_eval(y_test, pred_Y, pred_proba_Y)"
   ]
  },
  {
   "cell_type": "code",
   "execution_count": null,
   "id": "ec3eff51",
   "metadata": {},
   "outputs": [],
   "source": [
    "precision_recall_curve_plot(y_test, pred_proba)"
   ]
  },
  {
   "cell_type": "code",
   "execution_count": null,
   "id": "442f337a",
   "metadata": {},
   "outputs": [],
   "source": [
    "for i in np.arange(0, 1, 0.01):\n",
    "    binarizer = Binarizer(threshold = i)\n",
    "    thres_pred = binarizer.fit_transform(pred_proba.reshape(-1,1))\n",
    "\n",
    "    get_clf_eval(y_test, thres_pred, pred_proba.reshape(-1,1))\n",
    "    print('Macro f1 socre : ', f1_score(y_test, thres_pred, average='macro'))"
   ]
  },
  {
   "cell_type": "code",
   "execution_count": null,
   "id": "52a736fb",
   "metadata": {},
   "outputs": [],
   "source": [
    "# # 튜닝\n",
    "# parameters = {'num_leaves':[20,40,60,80,100], 'min_child_samples':[5,10,15],'max_depth':[-1,5,10,20],\n",
    "#              'learning_rate':[0.05,0.1,0.2],'reg_alpha':[0,0.01,0.03]} #Define the scoring\n",
    "\n",
    "\n",
    "# clf = GridSearchCV(lgbm, parameters, scoring='accuracy', cv = 5)\n",
    "# clf.fit(X_train_over, y_train_over)\n",
    "\n",
    "# lgbm_pred = clf.predict(X_test)"
   ]
  },
  {
   "cell_type": "code",
   "execution_count": null,
   "id": "064e72ed",
   "metadata": {},
   "outputs": [],
   "source": [
    "# print(clf.score(X_train_over, y_train_over))\n",
    "# print(clf.score(X_test, y_test))\n",
    "# print('Macro f1 socre : ', f1_score(y_test, lgbm_pred, average='macro'))"
   ]
  },
  {
   "cell_type": "markdown",
   "id": "5c61e2f1",
   "metadata": {},
   "source": [
    "## 의사결정 트리"
   ]
  },
  {
   "cell_type": "code",
   "execution_count": 60,
   "id": "b8d45524",
   "metadata": {},
   "outputs": [
    {
     "data": {
      "text/html": [
       "<style>#sk-container-id-1 {color: black;background-color: white;}#sk-container-id-1 pre{padding: 0;}#sk-container-id-1 div.sk-toggleable {background-color: white;}#sk-container-id-1 label.sk-toggleable__label {cursor: pointer;display: block;width: 100%;margin-bottom: 0;padding: 0.3em;box-sizing: border-box;text-align: center;}#sk-container-id-1 label.sk-toggleable__label-arrow:before {content: \"▸\";float: left;margin-right: 0.25em;color: #696969;}#sk-container-id-1 label.sk-toggleable__label-arrow:hover:before {color: black;}#sk-container-id-1 div.sk-estimator:hover label.sk-toggleable__label-arrow:before {color: black;}#sk-container-id-1 div.sk-toggleable__content {max-height: 0;max-width: 0;overflow: hidden;text-align: left;background-color: #f0f8ff;}#sk-container-id-1 div.sk-toggleable__content pre {margin: 0.2em;color: black;border-radius: 0.25em;background-color: #f0f8ff;}#sk-container-id-1 input.sk-toggleable__control:checked~div.sk-toggleable__content {max-height: 200px;max-width: 100%;overflow: auto;}#sk-container-id-1 input.sk-toggleable__control:checked~label.sk-toggleable__label-arrow:before {content: \"▾\";}#sk-container-id-1 div.sk-estimator input.sk-toggleable__control:checked~label.sk-toggleable__label {background-color: #d4ebff;}#sk-container-id-1 div.sk-label input.sk-toggleable__control:checked~label.sk-toggleable__label {background-color: #d4ebff;}#sk-container-id-1 input.sk-hidden--visually {border: 0;clip: rect(1px 1px 1px 1px);clip: rect(1px, 1px, 1px, 1px);height: 1px;margin: -1px;overflow: hidden;padding: 0;position: absolute;width: 1px;}#sk-container-id-1 div.sk-estimator {font-family: monospace;background-color: #f0f8ff;border: 1px dotted black;border-radius: 0.25em;box-sizing: border-box;margin-bottom: 0.5em;}#sk-container-id-1 div.sk-estimator:hover {background-color: #d4ebff;}#sk-container-id-1 div.sk-parallel-item::after {content: \"\";width: 100%;border-bottom: 1px solid gray;flex-grow: 1;}#sk-container-id-1 div.sk-label:hover label.sk-toggleable__label {background-color: #d4ebff;}#sk-container-id-1 div.sk-serial::before {content: \"\";position: absolute;border-left: 1px solid gray;box-sizing: border-box;top: 0;bottom: 0;left: 50%;z-index: 0;}#sk-container-id-1 div.sk-serial {display: flex;flex-direction: column;align-items: center;background-color: white;padding-right: 0.2em;padding-left: 0.2em;position: relative;}#sk-container-id-1 div.sk-item {position: relative;z-index: 1;}#sk-container-id-1 div.sk-parallel {display: flex;align-items: stretch;justify-content: center;background-color: white;position: relative;}#sk-container-id-1 div.sk-item::before, #sk-container-id-1 div.sk-parallel-item::before {content: \"\";position: absolute;border-left: 1px solid gray;box-sizing: border-box;top: 0;bottom: 0;left: 50%;z-index: -1;}#sk-container-id-1 div.sk-parallel-item {display: flex;flex-direction: column;z-index: 1;position: relative;background-color: white;}#sk-container-id-1 div.sk-parallel-item:first-child::after {align-self: flex-end;width: 50%;}#sk-container-id-1 div.sk-parallel-item:last-child::after {align-self: flex-start;width: 50%;}#sk-container-id-1 div.sk-parallel-item:only-child::after {width: 0;}#sk-container-id-1 div.sk-dashed-wrapped {border: 1px dashed gray;margin: 0 0.4em 0.5em 0.4em;box-sizing: border-box;padding-bottom: 0.4em;background-color: white;}#sk-container-id-1 div.sk-label label {font-family: monospace;font-weight: bold;display: inline-block;line-height: 1.2em;}#sk-container-id-1 div.sk-label-container {text-align: center;}#sk-container-id-1 div.sk-container {/* jupyter's `normalize.less` sets `[hidden] { display: none; }` but bootstrap.min.css set `[hidden] { display: none !important; }` so we also need the `!important` here to be able to override the default hidden behavior on the sphinx rendered scikit-learn.org. See: https://github.com/scikit-learn/scikit-learn/issues/21755 */display: inline-block !important;position: relative;}#sk-container-id-1 div.sk-text-repr-fallback {display: none;}</style><div id=\"sk-container-id-1\" class=\"sk-top-container\"><div class=\"sk-text-repr-fallback\"><pre>DecisionTreeClassifier(random_state=2022)</pre><b>In a Jupyter environment, please rerun this cell to show the HTML representation or trust the notebook. <br />On GitHub, the HTML representation is unable to render, please try loading this page with nbviewer.org.</b></div><div class=\"sk-container\" hidden><div class=\"sk-item\"><div class=\"sk-estimator sk-toggleable\"><input class=\"sk-toggleable__control sk-hidden--visually\" id=\"sk-estimator-id-1\" type=\"checkbox\" checked><label for=\"sk-estimator-id-1\" class=\"sk-toggleable__label sk-toggleable__label-arrow\">DecisionTreeClassifier</label><div class=\"sk-toggleable__content\"><pre>DecisionTreeClassifier(random_state=2022)</pre></div></div></div></div></div>"
      ],
      "text/plain": [
       "DecisionTreeClassifier(random_state=2022)"
      ]
     },
     "execution_count": 60,
     "metadata": {},
     "output_type": "execute_result"
    }
   ],
   "source": [
    "from sklearn.tree import DecisionTreeClassifier\n",
    "dtree = DecisionTreeClassifier(random_state = 2022)\n",
    "dtree.fit(X_train_over, y_train_over)"
   ]
  },
  {
   "cell_type": "code",
   "execution_count": 61,
   "id": "0ac6473a",
   "metadata": {
    "scrolled": true
   },
   "outputs": [
    {
     "name": "stdout",
     "output_type": "stream",
     "text": [
      "train accuracy score : 0.9343395127632729\n",
      "test accuracy score : 0.9187655196878326\n",
      "Macro f1 socre :  0.7696876526300804\n"
     ]
    }
   ],
   "source": [
    "tree_model = DecisionTreeClassifier(max_depth = 10, min_samples_leaf = 6, random_state = 2022)\n",
    "tree_model.fit(X_train_smt, y_train_smt)\n",
    "\n",
    "tree_pred = tree_model.predict(X_test)\n",
    "\n",
    "pred_X = tree_model.predict(X_train_smt)\n",
    "pred_Y = tree_model.predict(X_test)\n",
    "\n",
    "print('train accuracy score :', accuracy_score(y_train_smt, pred_X))\n",
    "print('test accuracy score :', accuracy_score(y_test, pred_Y))\n",
    "print('Macro f1 socre : ', f1_score(y_test, tree_pred, average='macro'))"
   ]
  },
  {
   "cell_type": "markdown",
   "id": "f9d1b96e",
   "metadata": {},
   "source": [
    "## GridSearchCV"
   ]
  },
  {
   "cell_type": "code",
   "execution_count": 62,
   "id": "b5009a3e",
   "metadata": {
    "scrolled": true
   },
   "outputs": [
    {
     "data": {
      "text/html": [
       "<style>#sk-container-id-2 {color: black;background-color: white;}#sk-container-id-2 pre{padding: 0;}#sk-container-id-2 div.sk-toggleable {background-color: white;}#sk-container-id-2 label.sk-toggleable__label {cursor: pointer;display: block;width: 100%;margin-bottom: 0;padding: 0.3em;box-sizing: border-box;text-align: center;}#sk-container-id-2 label.sk-toggleable__label-arrow:before {content: \"▸\";float: left;margin-right: 0.25em;color: #696969;}#sk-container-id-2 label.sk-toggleable__label-arrow:hover:before {color: black;}#sk-container-id-2 div.sk-estimator:hover label.sk-toggleable__label-arrow:before {color: black;}#sk-container-id-2 div.sk-toggleable__content {max-height: 0;max-width: 0;overflow: hidden;text-align: left;background-color: #f0f8ff;}#sk-container-id-2 div.sk-toggleable__content pre {margin: 0.2em;color: black;border-radius: 0.25em;background-color: #f0f8ff;}#sk-container-id-2 input.sk-toggleable__control:checked~div.sk-toggleable__content {max-height: 200px;max-width: 100%;overflow: auto;}#sk-container-id-2 input.sk-toggleable__control:checked~label.sk-toggleable__label-arrow:before {content: \"▾\";}#sk-container-id-2 div.sk-estimator input.sk-toggleable__control:checked~label.sk-toggleable__label {background-color: #d4ebff;}#sk-container-id-2 div.sk-label input.sk-toggleable__control:checked~label.sk-toggleable__label {background-color: #d4ebff;}#sk-container-id-2 input.sk-hidden--visually {border: 0;clip: rect(1px 1px 1px 1px);clip: rect(1px, 1px, 1px, 1px);height: 1px;margin: -1px;overflow: hidden;padding: 0;position: absolute;width: 1px;}#sk-container-id-2 div.sk-estimator {font-family: monospace;background-color: #f0f8ff;border: 1px dotted black;border-radius: 0.25em;box-sizing: border-box;margin-bottom: 0.5em;}#sk-container-id-2 div.sk-estimator:hover {background-color: #d4ebff;}#sk-container-id-2 div.sk-parallel-item::after {content: \"\";width: 100%;border-bottom: 1px solid gray;flex-grow: 1;}#sk-container-id-2 div.sk-label:hover label.sk-toggleable__label {background-color: #d4ebff;}#sk-container-id-2 div.sk-serial::before {content: \"\";position: absolute;border-left: 1px solid gray;box-sizing: border-box;top: 0;bottom: 0;left: 50%;z-index: 0;}#sk-container-id-2 div.sk-serial {display: flex;flex-direction: column;align-items: center;background-color: white;padding-right: 0.2em;padding-left: 0.2em;position: relative;}#sk-container-id-2 div.sk-item {position: relative;z-index: 1;}#sk-container-id-2 div.sk-parallel {display: flex;align-items: stretch;justify-content: center;background-color: white;position: relative;}#sk-container-id-2 div.sk-item::before, #sk-container-id-2 div.sk-parallel-item::before {content: \"\";position: absolute;border-left: 1px solid gray;box-sizing: border-box;top: 0;bottom: 0;left: 50%;z-index: -1;}#sk-container-id-2 div.sk-parallel-item {display: flex;flex-direction: column;z-index: 1;position: relative;background-color: white;}#sk-container-id-2 div.sk-parallel-item:first-child::after {align-self: flex-end;width: 50%;}#sk-container-id-2 div.sk-parallel-item:last-child::after {align-self: flex-start;width: 50%;}#sk-container-id-2 div.sk-parallel-item:only-child::after {width: 0;}#sk-container-id-2 div.sk-dashed-wrapped {border: 1px dashed gray;margin: 0 0.4em 0.5em 0.4em;box-sizing: border-box;padding-bottom: 0.4em;background-color: white;}#sk-container-id-2 div.sk-label label {font-family: monospace;font-weight: bold;display: inline-block;line-height: 1.2em;}#sk-container-id-2 div.sk-label-container {text-align: center;}#sk-container-id-2 div.sk-container {/* jupyter's `normalize.less` sets `[hidden] { display: none; }` but bootstrap.min.css set `[hidden] { display: none !important; }` so we also need the `!important` here to be able to override the default hidden behavior on the sphinx rendered scikit-learn.org. See: https://github.com/scikit-learn/scikit-learn/issues/21755 */display: inline-block !important;position: relative;}#sk-container-id-2 div.sk-text-repr-fallback {display: none;}</style><div id=\"sk-container-id-2\" class=\"sk-top-container\"><div class=\"sk-text-repr-fallback\"><pre>GridSearchCV(cv=5, estimator=DecisionTreeClassifier(random_state=2022),\n",
       "             n_jobs=-1,\n",
       "             param_grid={&#x27;max_depth&#x27;: [2, 3, 4, 5, 6, 7, 8, 9, None],\n",
       "                         &#x27;min_samples_leaf&#x27;: [9, 10, 11, 12, 13],\n",
       "                         &#x27;min_samples_split&#x27;: [2, 3, 4, 5]})</pre><b>In a Jupyter environment, please rerun this cell to show the HTML representation or trust the notebook. <br />On GitHub, the HTML representation is unable to render, please try loading this page with nbviewer.org.</b></div><div class=\"sk-container\" hidden><div class=\"sk-item sk-dashed-wrapped\"><div class=\"sk-label-container\"><div class=\"sk-label sk-toggleable\"><input class=\"sk-toggleable__control sk-hidden--visually\" id=\"sk-estimator-id-2\" type=\"checkbox\" ><label for=\"sk-estimator-id-2\" class=\"sk-toggleable__label sk-toggleable__label-arrow\">GridSearchCV</label><div class=\"sk-toggleable__content\"><pre>GridSearchCV(cv=5, estimator=DecisionTreeClassifier(random_state=2022),\n",
       "             n_jobs=-1,\n",
       "             param_grid={&#x27;max_depth&#x27;: [2, 3, 4, 5, 6, 7, 8, 9, None],\n",
       "                         &#x27;min_samples_leaf&#x27;: [9, 10, 11, 12, 13],\n",
       "                         &#x27;min_samples_split&#x27;: [2, 3, 4, 5]})</pre></div></div></div><div class=\"sk-parallel\"><div class=\"sk-parallel-item\"><div class=\"sk-item\"><div class=\"sk-label-container\"><div class=\"sk-label sk-toggleable\"><input class=\"sk-toggleable__control sk-hidden--visually\" id=\"sk-estimator-id-3\" type=\"checkbox\" ><label for=\"sk-estimator-id-3\" class=\"sk-toggleable__label sk-toggleable__label-arrow\">estimator: DecisionTreeClassifier</label><div class=\"sk-toggleable__content\"><pre>DecisionTreeClassifier(random_state=2022)</pre></div></div></div><div class=\"sk-serial\"><div class=\"sk-item\"><div class=\"sk-estimator sk-toggleable\"><input class=\"sk-toggleable__control sk-hidden--visually\" id=\"sk-estimator-id-4\" type=\"checkbox\" ><label for=\"sk-estimator-id-4\" class=\"sk-toggleable__label sk-toggleable__label-arrow\">DecisionTreeClassifier</label><div class=\"sk-toggleable__content\"><pre>DecisionTreeClassifier(random_state=2022)</pre></div></div></div></div></div></div></div></div></div></div>"
      ],
      "text/plain": [
       "GridSearchCV(cv=5, estimator=DecisionTreeClassifier(random_state=2022),\n",
       "             n_jobs=-1,\n",
       "             param_grid={'max_depth': [2, 3, 4, 5, 6, 7, 8, 9, None],\n",
       "                         'min_samples_leaf': [9, 10, 11, 12, 13],\n",
       "                         'min_samples_split': [2, 3, 4, 5]})"
      ]
     },
     "execution_count": 62,
     "metadata": {},
     "output_type": "execute_result"
    }
   ],
   "source": [
    "from sklearn.model_selection import GridSearchCV\n",
    "\n",
    "tree_model = DecisionTreeClassifier(random_state = 2022)\n",
    "\n",
    "params = {\n",
    "    'max_depth':[2, 3, 4, 5, 6, 7, 8, 9, None],\n",
    "    'min_samples_leaf':[9, 10, 11, 12, 13],\n",
    "    'min_samples_split':[2, 3, 4, 5]\n",
    "}\n",
    "#                                                      #돌림        코어제어(시스템모든 코어 사용함) : 이유 느리기때문에\n",
    "tree_gs = GridSearchCV(tree_model, param_grid = params, cv = 5, refit = True, n_jobs=-1)\n",
    "tree_gs.fit(X_train, y_train)"
   ]
  },
  {
   "cell_type": "code",
   "execution_count": 63,
   "id": "3c292884",
   "metadata": {},
   "outputs": [
    {
     "data": {
      "text/plain": [
       "{'max_depth': 3, 'min_samples_leaf': 9, 'min_samples_split': 2}"
      ]
     },
     "execution_count": 63,
     "metadata": {},
     "output_type": "execute_result"
    }
   ],
   "source": [
    "tree_gs_num = tree_gs.best_params_\n",
    "tree_gs_num"
   ]
  },
  {
   "cell_type": "code",
   "execution_count": 64,
   "id": "408373cf",
   "metadata": {},
   "outputs": [],
   "source": [
    "tree_gsCV_pree = tree_gs.predict(X_test)"
   ]
  },
  {
   "cell_type": "code",
   "execution_count": 65,
   "id": "3e87e649",
   "metadata": {},
   "outputs": [
    {
     "name": "stdout",
     "output_type": "stream",
     "text": [
      "Macro f1 socre :  0.8514946860790473\n"
     ]
    }
   ],
   "source": [
    "print('Macro f1 socre : ', f1_score(y_test, tree_gsCV_pree, average='macro'))"
   ]
  },
  {
   "cell_type": "code",
   "execution_count": 66,
   "id": "e3650e93",
   "metadata": {},
   "outputs": [
    {
     "name": "stdout",
     "output_type": "stream",
     "text": [
      "train accuracy score : 0.7806949432204212\n",
      "test accuracy score : 0.952465413267116\n",
      "Macro f1 socre :  0.8334506135607688\n"
     ]
    }
   ],
   "source": [
    "tree_model = DecisionTreeClassifier(max_depth = 3, min_samples_leaf =9, min_samples_split= 2, random_state = 2022)\n",
    "tree_model.fit(X_train_smt, y_train_smt)\n",
    "tree_gsCV_pred = tree_model.predict(X_test)\n",
    "\n",
    "pred_X = tree_model.predict(X_train_smt)\n",
    "pred_Y = tree_model.predict(X_test)\n",
    "\n",
    "print('train accuracy score :', accuracy_score(y_train_smt, pred_X))\n",
    "print('test accuracy score :', accuracy_score(y_test, pred_Y))\n",
    "print('Macro f1 socre : ', f1_score(y_test, tree_gsCV_pred, average='macro'))"
   ]
  },
  {
   "cell_type": "markdown",
   "id": "9b191abe",
   "metadata": {},
   "source": [
    "## Voting"
   ]
  },
  {
   "cell_type": "code",
   "execution_count": 1,
   "id": "66c8e0a8",
   "metadata": {},
   "outputs": [],
   "source": [
    "# 부팅 분류기 Voting\n",
    "from sklearn.ensemble import VotingClassifier\n",
    "from sklearn.linear_model import LogisticRegression\n",
    "from sklearn.neighbors import KNeighborsClassifier\n",
    "from sklearn.metrics import accuracy_score\n",
    "\n",
    "f1_list = []\n",
    "\n",
    "#\n",
    "lg = LogisticRegression()\n",
    "knn = KNeighborsClassifier(n_neighbors = 2)\n",
    "\n",
    "\n",
    "voting_model = VotingClassifier(estimators = [('lg', lg), ('knn',knn)], voting = 'soft')\n",
    "\n",
    "voting_model.fit(X_train, y_train)\n",
    "pred = voting_model.predict(X_test)\n",
    "\n",
    "\n",
    "#각 모델 에측과 평가\n",
    "models = [lg, knn]\n",
    "for model in models :\n",
    "    model.fit(X_train_smt, y_train_smt)\n",
    "    pred = model.predict(X_test)\n",
    "    model_name = model.__class__.__name__\n",
    "    \n",
    "    pred_X = model.predict(X_train)\n",
    "    pred_Y = model.predict(X_test)\n",
    "\n",
    "    print('train accuracy score :', accuracy_score(y_train_smt, pred_X))\n",
    "    print('test accuracy score :', accuracy_score(y_test, pred_Y))\n",
    "    print('Macro f1 socre : ', f1_score(y_test, pred, average='macro'))\n",
    "    print()"
   ]
  },
  {
   "cell_type": "markdown",
   "id": "975b1a7c",
   "metadata": {},
   "source": [
    "# 딥러닝 : 분류"
   ]
  },
  {
   "cell_type": "markdown",
   "id": "10ca4678",
   "metadata": {},
   "source": [
    "## 경사하강법"
   ]
  },
  {
   "cell_type": "code",
   "execution_count": null,
   "id": "cd7c55c1",
   "metadata": {},
   "outputs": [],
   "source": [
    "from sklearn.linear_model import SGDClassifier "
   ]
  },
  {
   "cell_type": "code",
   "execution_count": null,
   "id": "c12f8bce",
   "metadata": {},
   "outputs": [],
   "source": [
    "# sc = SGDClassifier(loss = 'log', max_iter=25, tol = None, random_state=2022) # 이진분류\n",
    "# sc.fit(X_train, y_train)"
   ]
  },
  {
   "cell_type": "code",
   "execution_count": null,
   "id": "e6bbeeb5",
   "metadata": {},
   "outputs": [],
   "source": [
    "# print(sc.score(X_train, y_train))\n",
    "# print(sc.score(X_test, y_test))"
   ]
  },
  {
   "cell_type": "code",
   "execution_count": null,
   "id": "da7472a2",
   "metadata": {},
   "outputs": [],
   "source": [
    "# sc.partial_fit(X_train, y_train)\n",
    "# print(sc.score(X_train, y_train))\n",
    "# print(sc.score(X_test, y_test))"
   ]
  },
  {
   "cell_type": "code",
   "execution_count": null,
   "id": "337d1f27",
   "metadata": {},
   "outputs": [],
   "source": [
    "# sc.predict(y_test)"
   ]
  },
  {
   "cell_type": "code",
   "execution_count": null,
   "id": "98b9cbd2",
   "metadata": {},
   "outputs": [],
   "source": [
    "# params = {\n",
    "#     'max_iter':[20, 30]\n",
    "# }\n",
    "\n",
    "# sc_gs = GridSearchCV(sc, param_grid = params, cv = 5, refit = True, n_jobs=-1, )\n",
    "# sc_gs.fit(X_train, y_train)"
   ]
  },
  {
   "cell_type": "code",
   "execution_count": null,
   "id": "49b77782",
   "metadata": {},
   "outputs": [],
   "source": [
    "#y_test_np = y_test.to_numpy()\n",
    "#y_test_np.reshape(-1, 1)\n",
    "# sc_gs.predict(y_test)"
   ]
  },
  {
   "cell_type": "markdown",
   "id": "e790ed45",
   "metadata": {},
   "source": [
    "### 애포크 찾기"
   ]
  },
  {
   "cell_type": "code",
   "execution_count": null,
   "id": "f065581a",
   "metadata": {},
   "outputs": [],
   "source": [
    "# sc = SGDClassifier(loss = 'log', random_state=2022)\n",
    "\n",
    "# train_score = []\n",
    "# test_score = []\n",
    "\n",
    "\n",
    "# classes = np.unique(y_train)\n",
    "\n",
    "\n",
    "# for _ in range(0, 50) :\n",
    "#     sc.partial_fit(X_train, y_train, classes = classes)\n",
    "#     train_score.append(sc.score(X_train, y_train))\n",
    "#     test_score.append(sc.score(X_test, y_test))\n",
    "    \n",
    "# plt.plot(train_score)\n",
    "# plt.plot(test_score)\n",
    "# plt.xlabel('epoch')\n",
    "# plt.ylabel('accuacy')\n",
    "# plt.xlim(0, 50)\n",
    "# plt.show()"
   ]
  },
  {
   "cell_type": "markdown",
   "id": "4a30de2c",
   "metadata": {},
   "source": [
    "## PCA"
   ]
  },
  {
   "cell_type": "code",
   "execution_count": null,
   "id": "b1c57479",
   "metadata": {},
   "outputs": [],
   "source": [
    "# from sklearn.decomposition import PCA"
   ]
  },
  {
   "cell_type": "code",
   "execution_count": null,
   "id": "c6290b35",
   "metadata": {},
   "outputs": [],
   "source": [
    "# X_train.shape"
   ]
  },
  {
   "cell_type": "code",
   "execution_count": null,
   "id": "7b8ae75b",
   "metadata": {},
   "outputs": [],
   "source": [
    "# pca = PCA(n_components = 0.95, whiten = True)\n",
    "# pca_data = pca.fit_transform(X_train)\n",
    "# pca_data.shape"
   ]
  },
  {
   "cell_type": "code",
   "execution_count": null,
   "id": "6da901c3",
   "metadata": {},
   "outputs": [],
   "source": [
    "# pca_data = pd.DataFrame(pca_data, columns = ['pca_x','pca_y'])"
   ]
  },
  {
   "cell_type": "code",
   "execution_count": null,
   "id": "5cb48df1",
   "metadata": {},
   "outputs": [],
   "source": []
  },
  {
   "cell_type": "code",
   "execution_count": null,
   "id": "25599239",
   "metadata": {},
   "outputs": [],
   "source": [
    "# # 변동성\n",
    "# pca.explained_variance_ratio_.sum()"
   ]
  },
  {
   "cell_type": "markdown",
   "id": "db922da4",
   "metadata": {},
   "source": [
    "## K-means"
   ]
  },
  {
   "cell_type": "code",
   "execution_count": null,
   "id": "da5a7d41",
   "metadata": {},
   "outputs": [],
   "source": [
    "# from sklearn.cluster import KMeans "
   ]
  },
  {
   "cell_type": "code",
   "execution_count": null,
   "id": "56c2500d",
   "metadata": {},
   "outputs": [],
   "source": [
    "# target_t = target_t.to_numpy()"
   ]
  },
  {
   "cell_type": "code",
   "execution_count": null,
   "id": "4340a3e3",
   "metadata": {},
   "outputs": [],
   "source": [
    "# kmeans = KMeans(n_clusters=2, init='k-means++', max_iter=25, random_state=2022)\n",
    "# kmeans.fit(X_train)\n",
    "# cluster = kmeans.predict(X_test)"
   ]
  },
  {
   "cell_type": "code",
   "execution_count": null,
   "id": "407637bc",
   "metadata": {},
   "outputs": [],
   "source": [
    "# print(kmeans.score(X_train, y_train))\n",
    "# print(kmeans.score(X_test, y_test))\n",
    "# print('Macro f1 socre : ', f1_score(y_test, cluster, average='macro'))"
   ]
  },
  {
   "cell_type": "code",
   "execution_count": null,
   "id": "dbc67c8c",
   "metadata": {},
   "outputs": [],
   "source": [
    "# k_means_df = pd.DataFrame()\n",
    "# k_means_df['target'] = y_test\n",
    "# k_means_df['cluster'] = cluster"
   ]
  },
  {
   "cell_type": "code",
   "execution_count": null,
   "id": "599a7e05",
   "metadata": {},
   "outputs": [],
   "source": [
    "# k_means_df"
   ]
  },
  {
   "cell_type": "code",
   "execution_count": null,
   "id": "f9687e67",
   "metadata": {},
   "outputs": [],
   "source": [
    "#pca_sample_df = pd.concat([pca_data,k_means_df], axis=1)\n",
    "#center = kmeans.cluster_centers_"
   ]
  },
  {
   "cell_type": "code",
   "execution_count": null,
   "id": "b9a111cb",
   "metadata": {},
   "outputs": [],
   "source": [
    "# center"
   ]
  },
  {
   "cell_type": "code",
   "execution_count": null,
   "id": "76d5d2df",
   "metadata": {},
   "outputs": [],
   "source": [
    "# plt.scatter(pca_sample_df['pca_x'], pca_sample_df['pca_y'], c=pca_sample_df['cluster'], cmap='YlGnBu')\n",
    "# plt.scatter(center[:,0], center[:, 1], c='red', marker='D')\n",
    "# plt.ylim(0, 20)\n",
    "# plt.show()"
   ]
  },
  {
   "cell_type": "code",
   "execution_count": null,
   "id": "13ffb616",
   "metadata": {},
   "outputs": [],
   "source": [
    "# from sklearn.cluster import DBSCAN # 引入DBSCAN模块\n",
    "# dbscan = DBSCAN(eps=0.05, min_samples=9).fit(X_train)\n",
    "# label_pred = dbscan.labels_ \n",
    "# pd.DataFrame(label_pred).value_counts()"
   ]
  },
  {
   "cell_type": "code",
   "execution_count": null,
   "id": "cf2d4edc",
   "metadata": {},
   "outputs": [],
   "source": [
    "\n",
    "# y_pred=DBSCAN(eps=0.05,min_samples=10).fit_predict(X_test)\n",
    "# plt.subplot(122)\n",
    "# plt.scatter(X_test[:, 0], X_test[:, 1],c=y_pred)\n",
    "# plt.title('DBSCAN Cluster Result')\n",
    "# if flag:\n",
    "#     plt.savefig('circleData.png')\n",
    "# else:\n",
    "#     plt.savefig('blobData.png')\n"
   ]
  },
  {
   "cell_type": "markdown",
   "id": "32ede7c3",
   "metadata": {},
   "source": [
    "## DBSCAN"
   ]
  },
  {
   "cell_type": "code",
   "execution_count": null,
   "id": "47295e89",
   "metadata": {},
   "outputs": [],
   "source": [
    "# from sklearn.cluster import DBSCAN"
   ]
  },
  {
   "cell_type": "code",
   "execution_count": null,
   "id": "5492b674",
   "metadata": {
    "scrolled": true
   },
   "outputs": [],
   "source": [
    "# from sklearn.cluster import DBSCAN\n",
    "\n",
    "# dbscan = DBSCAN(eps=0.6, min_samples=8, metric='euclidean')\n",
    "# dbscan_labels = dbscan.fit_predict(X_train)\n",
    "\n",
    "# df = pd.DataFrame()\n",
    "\n",
    "# df['dbscan_cluster'] = dbscan_labels\n",
    "# df['target'] = y_train\n",
    "\n",
    "# df_result = df.groupby(['target'])['dbscan_cluster'].value_counts()\n",
    "# print(df_result)"
   ]
  },
  {
   "cell_type": "code",
   "execution_count": null,
   "id": "3d29ddbb",
   "metadata": {},
   "outputs": [],
   "source": [
    "# ### 클러스터 결과를 담은 DataFrame과 사이킷런의 Cluster 객체등을 인자로 받아 클러스터링 결과를 시각화하는 함수  \n",
    "# def visualize_cluster_plot(clusterobj, dataframe, label_name, iscenter=True):\n",
    "#     if iscenter :\n",
    "#         centers = clusterobj.cluster_centers_\n",
    "        \n",
    "#     unique_labels = np.unique(dataframe[label_name].values)\n",
    "#     markers=['o', 's', '^', 'x', '*']\n",
    "#     isNoise=False\n",
    "\n",
    "#     for label in unique_labels:\n",
    "#         label_cluster = dataframe[dataframe[label_name]==label]\n",
    "#         if label == -1:\n",
    "#             cluster_legend = 'Noise'\n",
    "#             isNoise=True\n",
    "#         else :\n",
    "#             cluster_legend = 'Cluster '+str(label)\n",
    "        \n",
    "#         plt.scatter(x=label_cluster['ftr1'], y=label_cluster['ftr2'], s=70,\\\n",
    "#                     edgecolor='k', marker=markers[label], label=cluster_legend)\n",
    "        \n",
    "#         if iscenter:\n",
    "#             center_x_y = centers[label]\n",
    "#             plt.scatter(x=center_x_y[0], y=center_x_y[1], s=250, color='white',\n",
    "#                         alpha=0.9, edgecolor='k', marker=markers[label])\n",
    "            \n",
    "#             plt.scatter(x=center_x_y[0], y=center_x_y[1], s=70, color='k',\\\n",
    "#                         edgecolor='k', marker='$%d$' % label)\n",
    "#     if isNoise:\n",
    "#         legend_loc='upper center'\n",
    "#     else: legend_loc='upper right'\n",
    "    \n",
    "#     plt.legend(loc=legend_loc)\n",
    "#     plt.show()"
   ]
  },
  {
   "cell_type": "code",
   "execution_count": null,
   "id": "a9790483",
   "metadata": {},
   "outputs": [],
   "source": [
    "# from sklearn.decomposition import PCA\n",
    "\n",
    "\n",
    "# # 2차원으로 시각화하기 위해 PCA n_componets=2로 피처 데이터 세트 변환\n",
    "# pca = PCA(n_components=2, random_state=2022)\n",
    "# pca_transformed = pca.fit_transform(X_train)\n",
    "\n",
    "\n",
    "# # visualize_cluster_2d( ) 함수는 ftr1, ftr2 컬럼을 좌표에 표현하므로 PCA 변환값을 해당 컬럼으로 생성\n",
    "# df['ftr1'] = pca_transformed[:, 0]\n",
    "# df['ftr2'] = pca_transformed[:, 1]\n",
    "\n",
    "# # visualize_cluster_plot(dbscan, df, 'dbscan_cluster', iscenter=False)"
   ]
  },
  {
   "cell_type": "code",
   "execution_count": null,
   "id": "bfc24fea",
   "metadata": {},
   "outputs": [],
   "source": [
    "# visualize_cluster_plot(dbscan, df, 'dbscan_cluster', iscenter=False)"
   ]
  },
  {
   "cell_type": "code",
   "execution_count": null,
   "id": "315f3456",
   "metadata": {},
   "outputs": [],
   "source": [
    "# from sklearn.cluster import DBSCAN\n",
    "\n",
    "# dbscan = DBSCAN(eps=0.8, min_samples=8, metric='euclidean')\n",
    "# dbscan_labels = dbscan.fit_predict(X_train)\n",
    "\n",
    "# df['dbscan_cluster'] = dbscan_labels\n",
    "# df['target'] = y_train\n",
    "\n",
    "# df_result = df.groupby(['target'])['dbscan_cluster'].value_counts()\n",
    "# print(df_result)\n",
    "\n",
    "# #visualize_cluster_plot(dbscan, df, 'dbscan_cluster', iscenter=False)"
   ]
  },
  {
   "cell_type": "code",
   "execution_count": null,
   "id": "066571d5",
   "metadata": {},
   "outputs": [],
   "source": [
    "# dbscan = DBSCAN(eps=0.6, min_samples=16, metric='euclidean')\n",
    "# dbscan_labels = dbscan.fit_predict(X_train)\n",
    "\n",
    "# df['dbscan_cluster'] = dbscan_labels\n",
    "# df['target'] = y_train\n",
    "\n",
    "# df_result = df.groupby(['target'])['dbscan_cluster'].value_counts()\n",
    "# print(df_result)\n",
    "# visualize_cluster_plot(dbscan, df, 'dbscan_cluster', iscenter=False)"
   ]
  },
  {
   "cell_type": "code",
   "execution_count": null,
   "id": "769b874c",
   "metadata": {},
   "outputs": [],
   "source": [
    "# from sklearn.datasets import make_circles\n",
    "\n",
    "# X, y = make_circles(n_samples=1000, shuffle=True, noise=0.05, random_state=2022, factor=0.5)\n",
    "# clusterDF = pd.DataFrame(data=X, columns=['ftr1', 'ftr2'])\n",
    "# clusterDF['target'] = y\n",
    "\n",
    "# visualize_cluster_plot(None, clusterDF, 'target', iscenter=False)"
   ]
  },
  {
   "cell_type": "code",
   "execution_count": null,
   "id": "3f4c038b",
   "metadata": {},
   "outputs": [],
   "source": [
    "# # KMeans로 make_circles( ) 데이터 셋을 클러스터링 수행. \n",
    "# from sklearn.cluster import KMeans\n",
    "\n",
    "# kmeans = KMeans(n_clusters=2, max_iter=1000, random_state=0)\n",
    "# kmeans_labels = kmeans.fit_predict(X)\n",
    "# clusterDF['kmeans_cluster'] = kmeans_labels\n",
    "\n",
    "# visualize_cluster_plot(kmeans, clusterDF, 'kmeans_cluster', iscenter=True)"
   ]
  },
  {
   "cell_type": "code",
   "execution_count": null,
   "id": "b5471ddc",
   "metadata": {},
   "outputs": [],
   "source": [
    "# # GMM으로 make_circles( ) 데이터 셋을 클러스터링 수행. \n",
    "# from sklearn.mixture import GaussianMixture\n",
    "\n",
    "# gmm = GaussianMixture(n_components=2, random_state=0)\n",
    "# gmm_label = gmm.fit(X).predict(X)\n",
    "# clusterDF['gmm_cluster'] = gmm_label\n",
    "\n",
    "# visualize_cluster_plot(gmm, clusterDF, 'gmm_cluster', iscenter=False)\n",
    "\n",
    "# get_f1_score(y, gmm_label)"
   ]
  },
  {
   "cell_type": "code",
   "execution_count": null,
   "id": "3d57fd5d",
   "metadata": {},
   "outputs": [],
   "source": [
    "# # DBSCAN으로 make_circles( ) 데이터 셋을 클러스터링 수행. \n",
    "# from sklearn.cluster import DBSCAN\n",
    "\n",
    "# dbscan = DBSCAN(eps=0.2, min_samples=10, metric='euclidean')\n",
    "# dbscan_labels = dbscan.fit_predict(X)\n",
    "# clusterDF['dbscan_cluster'] = dbscan_labels\n",
    "\n",
    "# visualize_cluster_plot(dbscan, clusterDF, 'dbscan_cluster', iscenter=False)\n",
    "# get_f1_score(y, dbscan_labels)"
   ]
  },
  {
   "cell_type": "markdown",
   "id": "e914bce5",
   "metadata": {},
   "source": [
    "## Staking Model"
   ]
  },
  {
   "cell_type": "markdown",
   "id": "b4e551d0",
   "metadata": {},
   "source": [
    "### 데이터 Numpy로 세팅"
   ]
  },
  {
   "cell_type": "code",
   "execution_count": null,
   "id": "29b0ad4b",
   "metadata": {},
   "outputs": [],
   "source": [
    "nX_train = X_train.to_numpy()\n",
    "nX_test = X_test.to_numpy()"
   ]
  },
  {
   "cell_type": "markdown",
   "id": "173bf250",
   "metadata": {},
   "source": [
    "### 개별 모델 생성"
   ]
  },
  {
   "cell_type": "code",
   "execution_count": null,
   "id": "fb5f1881",
   "metadata": {},
   "outputs": [],
   "source": [
    "from sklearn.ensemble import AdaBoostClassifier\n",
    "\n",
    "knn_clf = KNeighborsClassifier(n_neighbors=4)\n",
    "rf_clf = RandomForestClassifier(n_estimators=100, random_state=2022)\n",
    "dt_clf = DecisionTreeClassifier()\n",
    "ada_clf = AdaBoostClassifier(n_estimators=100)\n",
    "\n",
    "lr_final = LogisticRegression()"
   ]
  },
  {
   "cell_type": "markdown",
   "id": "8872398f",
   "metadata": {},
   "source": [
    "### 모델 개별 학습"
   ]
  },
  {
   "cell_type": "code",
   "execution_count": null,
   "id": "190e35ac",
   "metadata": {},
   "outputs": [],
   "source": [
    "knn_clf.fit(nX_train, y_train)\n",
    "rf_clf.fit(nX_train, y_train)\n",
    "dt_clf.fit(nX_train, y_train)\n",
    "ada_clf.fit(nX_train, y_train)\n",
    "\n",
    "# knn_clf.fit(X_train_voer, y_train_over)\n",
    "# rf_clf.fit(X_train_voer, y_train_over)\n",
    "# dt_clf.fit(X_train_voer, y_train_over)\n",
    "# aba_clf.fit(X_train_voer, y_train_over)"
   ]
  },
  {
   "cell_type": "markdown",
   "id": "672ddd58",
   "metadata": {},
   "source": [
    "### 개별 모델 예측"
   ]
  },
  {
   "cell_type": "code",
   "execution_count": null,
   "id": "c520f4e1",
   "metadata": {},
   "outputs": [],
   "source": [
    "# 삭습된 개별 모델들이 각자 반환하는 예측 데이터 세트를 생성하고 개별 모델의 정확도 측정\n",
    "\n",
    "knn_pred = knn_clf.predict(nX_test)\n",
    "rf_pred = rf_clf.predict(nX_test)\n",
    "dt_pred = dt_clf.predict(nX_test)\n",
    "ada_pred = ada_clf.predict(nX_test)\n",
    "#gbm_pred = gbm_clf.predict(X_test)"
   ]
  },
  {
   "cell_type": "markdown",
   "id": "99e5bb24",
   "metadata": {},
   "source": [
    "### 개별 모델 정확도 확인"
   ]
  },
  {
   "cell_type": "code",
   "execution_count": null,
   "id": "429eec38",
   "metadata": {},
   "outputs": [],
   "source": [
    "print('Knn 정확도 : %.4f' %(accuracy_score(y_test, knn_pred)))\n",
    "print('RandomForst 정확도 : %.4f' %(accuracy_score(y_test, rf_pred)))\n",
    "print('결정 트리 정확도 : %.4f' %(accuracy_score(y_test, dt_pred)))\n",
    "print('ada부스트 정확도 : %.4f' %(accuracy_score(y_test, ada_pred)))\n",
    "print()\n",
    "\n",
    "models = [knn_pred , rf_pred, dt_pred, ada_pred]\n",
    "name = ['knn', 'RandomForst', '결정 트리', 'ada부스트']\n",
    "\n",
    "\n",
    "for i in range(len(name)):\n",
    "    get_f1(name[i], y_test, models[i])"
   ]
  },
  {
   "cell_type": "markdown",
   "id": "538087cb",
   "metadata": {},
   "source": [
    "### 로지스틱 - 예측값을 피처값으로, 로지스틱 회귀에 재사용"
   ]
  },
  {
   "cell_type": "code",
   "execution_count": null,
   "id": "7dc31ef2",
   "metadata": {},
   "outputs": [],
   "source": [
    "pred = np.array([knn_pred, rf_pred, dt_pred, ada_pred])\n",
    "print(pred.shape)\n",
    "\n",
    "# transpose를 이용해 행과 열의 위치 교환. 칼럼 레벨로 각 알고리즘의 예측결과를 피처로 만듦\n",
    "pred = np.transpose(pred)\n",
    "print(pred.shape)"
   ]
  },
  {
   "cell_type": "code",
   "execution_count": null,
   "id": "83e7da74",
   "metadata": {},
   "outputs": [],
   "source": [
    "pred"
   ]
  },
  {
   "cell_type": "markdown",
   "id": "4a4737bc",
   "metadata": {},
   "source": [
    "### LogisticRegression"
   ]
  },
  {
   "cell_type": "code",
   "execution_count": null,
   "id": "694c1c0b",
   "metadata": {},
   "outputs": [],
   "source": [
    "lr_final.fit(pred, y_test)\n",
    "final = lr_final.predict(pred)\n",
    "\n",
    "print('최종 메타 모델의 이측 정확도 : %.4f' %(accuracy_score(y_test, final)))\n",
    "get_f1('LogisticRegression', y_test, final)"
   ]
  },
  {
   "cell_type": "code",
   "execution_count": null,
   "id": "c42e4d12",
   "metadata": {},
   "outputs": [],
   "source": [
    "print(X_train.shape)\n",
    "print(y_train.shape)"
   ]
  },
  {
   "cell_type": "code",
   "execution_count": null,
   "id": "941272de",
   "metadata": {},
   "outputs": [],
   "source": [
    "nX_train"
   ]
  },
  {
   "cell_type": "markdown",
   "id": "70f72156",
   "metadata": {},
   "source": [
    "### 스텝 1"
   ]
  },
  {
   "cell_type": "code",
   "execution_count": null,
   "id": "f20d0001",
   "metadata": {},
   "outputs": [],
   "source": [
    "from sklearn.model_selection import KFold\n",
    "from sklearn.metrics import mean_absolute_error\n",
    "\n",
    "# 메타 모델을 위한 학습 및 테스트 데이터 만들기\n",
    "def get_stacking_base_datasets(model, X_train_n, y_train_n, X_test_n, n_folds):\n",
    "    kf = KFold(n_splits=n_folds, shuffle=False)\n",
    "    # 빈 배열 생성\n",
    "    train_fold_pred = np.zeros((X_train_n.shape[0],1))\n",
    "    test_pred = np.zeros((X_test_n.shape[0],n_folds))\n",
    "    \n",
    "    \n",
    "    for folder_counter, (train_index, valid_index) in enumerate(kf.split(X_train_n)):\n",
    "        print('폴드 세트 : ', folder_counter, ' 시작')\n",
    "        X_tr = X_train_n[train_index]\n",
    "        y_tr = y_train_n[train_index]\n",
    "        X_te = X_train_n[valid_index] \n",
    "        \n",
    "        # 폴드 내 모델 학습\n",
    "        model.fit(X_tr, y_tr)\n",
    "        train_fold_pred[valid_index, :] = model.predict(X_te).reshape(-1,1) # y_train 예측, 폴드 끝나면 concat해야함\n",
    "        test_pred[:, folder_counter] = model.predict(X_test_n) # y_test 예측, 폴드 끝나면 평균 낼거임\n",
    "        \n",
    "    test_pred_mean = np.mean(test_pred, axis=1).reshape(-1,1)\n",
    "    \n",
    "    return train_fold_pred, test_pred_mean # 하나의 모델에 대한 학습데이터, 테스트 데이터 생성"
   ]
  },
  {
   "cell_type": "code",
   "execution_count": null,
   "id": "8d9ad16b",
   "metadata": {
    "scrolled": true
   },
   "outputs": [],
   "source": [
    "from sklearn.neighbors import KNeighborsClassifier\n",
    "from sklearn.ensemble import RandomForestClassifier\n",
    "from sklearn.ensemble import AdaBoostClassifier\n",
    "from sklearn.tree import DecisionTreeClassifier\n",
    "from sklearn.linear_model import LogisticRegression # 메타 모델\n",
    "\n",
    "X_train_n = X_train.reset_index(drop=True).values\n",
    "X_test_n = X_test.reset_index(drop=True).values\n",
    "y_train_n = y_train.reset_index(drop=True).values\n",
    "\n",
    "knn_train, knn_test = get_stacking_base_datasets(knn_clf, X_train_n, y_train_n, X_test_n, 7)\n",
    "rf_train, rf_test = get_stacking_base_datasets(rf_clf, X_train_n, y_train_n, X_test_n, 7)\n",
    "dt_train, dt_test = get_stacking_base_datasets(dt_clf, X_train_n, y_train_n, X_test_n,  7)    \n",
    "ada_train, ada_test = get_stacking_base_datasets(ada_clf, X_train_n, y_train_n, X_test_n, 7)"
   ]
  },
  {
   "cell_type": "markdown",
   "id": "f82276a0",
   "metadata": {},
   "source": [
    "### 스텝 2"
   ]
  },
  {
   "cell_type": "code",
   "execution_count": null,
   "id": "e9557ab8",
   "metadata": {},
   "outputs": [],
   "source": [
    "Stack_final_X_train = np.concatenate((knn_train, rf_train, dt_train, ada_train), axis=1)\n",
    "Stack_final_X_test = np.concatenate((knn_test, rf_test, dt_test, ada_test), axis=1)\n",
    "print('원본 학습 피처 데이터 Shape:',X_train.shape, '원본 테스트 피처 Shape:',X_test.shape)\n",
    "print('스태킹 학습 피처 데이터 Shape:', Stack_final_X_train.shape,\n",
    "      '스태킹 테스트 피처 데이터 Shape:',Stack_final_X_test.shape)"
   ]
  },
  {
   "cell_type": "code",
   "execution_count": null,
   "id": "377ef4ba",
   "metadata": {},
   "outputs": [],
   "source": [
    "lr_final.fit(Stack_final_X_train, y_train)\n",
    "stack_final = lr_final.predict(Stack_final_X_test)\n",
    "\n",
    "print('최종 메타 모델의 예측 정확도: {0:.4f}'.format(accuracy_score(y_test, stack_final)))\n",
    "\n"
   ]
  },
  {
   "cell_type": "code",
   "execution_count": null,
   "id": "c3a4d981",
   "metadata": {},
   "outputs": [],
   "source": [
    "print('Macro f1 socre : ', f1_score(y_test, stack_final, average='macro'))\n",
    "print('Micro f1 socre : ', f1_score(y_test, stack_final, average='micro'))"
   ]
  },
  {
   "cell_type": "code",
   "execution_count": null,
   "id": "a689bf50",
   "metadata": {},
   "outputs": [],
   "source": []
  },
  {
   "cell_type": "markdown",
   "id": "96c6dd54",
   "metadata": {},
   "source": [
    "# hyperOpt & XGBoost"
   ]
  },
  {
   "cell_type": "code",
   "execution_count": null,
   "id": "f01bd842",
   "metadata": {},
   "outputs": [],
   "source": [
    "from hyperopt import hp\n",
    "\n",
    "# max_depth는 5에서 15까지 1간격으로 , min_child_weight는 1에서 6까지 1간격으로\n",
    "# colsample_bytree는 0.5에서 0.95사이, learning_rate는 0.01에서 0.2사이 정규 분포된 갑승로 검색\n",
    "xgb_search_space = {'max_depth' : hp.quniform('max_depth', 100, 160, 1),\n",
    "                    'subsample' : hp.uniform('subsample', 0.7, 1),\n",
    "                    'learning_rate' : hp.uniform('learning_rate', 0.01, 0.2)\n",
    "                   }\n"
   ]
  },
  {
   "cell_type": "code",
   "execution_count": null,
   "id": "b0451a71",
   "metadata": {},
   "outputs": [],
   "source": [
    "from sklearn.model_selection import KFold\n",
    "from sklearn.metrics import roc_auc_score\n",
    "from sklearn.model_selection import StratifiedKFold\n",
    "from sklearn.model_selection import RepeatedStratifiedKFold\n",
    "\n",
    "\n",
    "# fmim()에서 호출 시 search_space 값으로 NGBClassifier 교차 검증 학습 후 -1 * roc_auc 평균 값을 반환.\n",
    "def objective_func(search_space):\n",
    "    xgb_clf = XGBClassifier(n_estimators = 50,\n",
    "                            max_depth = int(search_space['max_depth']),\n",
    "                            subsample = search_space['subsample'],\n",
    "                            learning_rate = search_space['learning_rate'],\n",
    "                            objective = 'binary:logistic', n_jobs = -1\n",
    "                           )\n",
    "    \n",
    "    # 3개 k-fold 방식으로 평가된 roc_auc 지표를 담는 list\n",
    "    roc_auc_list = []\n",
    "    \n",
    "    # 3개 k-fold 방식 적용\n",
    "    skf = RepeatedStratifiedKFold(n_splits = 3, n_repeats = 3, random_state = 2022)\n",
    "    # X_train을 다시 학습과 검증용 데이터로 분리\n",
    "    for tr_index, val_index in skf.split(X_train_smt, y_train_smt):\n",
    "        #kf.split(X_train)으로 추출된 학습과 검증 index값으로 학습과 검증 데이터 세트 분리\n",
    "        X_tr, y_tr = X_train_smt.iloc[tr_index], y_train_smt.iloc[tr_index]\n",
    "        X_val, y_val = X_train_smt.iloc[val_index], y_train_smt.iloc[val_index]\n",
    "        \n",
    "        # early stopping은 30회로 설정하고 추출된 학습과 검증 데이터로 LGBMClassifier 학습 수행\n",
    "        xgb_clf.fit(X_tr, y_tr, early_stopping_rounds = 30, eval_metric = 'auc',\n",
    "                    eval_set = [(X_tr, y_tr), (X_val, y_val)])\n",
    "        \n",
    "        # 1로 예측환 확률값 추출 후 roc auc 계산하고 평균 roc auc 계산을 위해 list에 결과값을 담음\n",
    "        score = roc_auc_score(y_val, xgb_clf.predict_proba(X_val)[:, 1])\n",
    "        roc_auc_list.append(score)\n",
    "\n",
    "    # 3개 k-fold로 계산된 roc_auc 값의 평균값을 반환하되, \n",
    "    # hyperOpt는 목적함수의 최솟값을 위한 입력값을 반환하므로 -1을 곱한 뒤 반환.\n",
    "    return -1 * np.mean(roc_auc_list)\n"
   ]
  },
  {
   "cell_type": "code",
   "execution_count": null,
   "id": "07355bf7",
   "metadata": {},
   "outputs": [],
   "source": [
    "from hyperopt import fmin, tpe, Trials\n",
    "\n",
    "trials = Trials()\n",
    "\n",
    "# fmin() 함수를 호출, max_evals 지정된 횟수만큼 반복 후 목적함수의 최솟값을 가지는 최적 입력값 추출\n",
    "best = fmin(fn = objective_func,\n",
    "           space = xgb_search_space,\n",
    "           algo = tpe.suggest,\n",
    "           max_evals = 50,\n",
    "            trials = trials, rstate = np.random.default_rng(seed = 30)\n",
    "           )\n",
    "\n",
    "print('best :', best)\n"
   ]
  },
  {
   "cell_type": "code",
   "execution_count": null,
   "id": "4e05263f",
   "metadata": {},
   "outputs": [],
   "source": [
    "xgb = XGBClassifier(n_estimators=500,\n",
    "                   max_depth = int(best['max_depth']),\n",
    "                    subsample = round(best['subsample'], 5),\n",
    "                    learning_rate = round(best['learning_rate'], 5),\n",
    "                    objective = 'binary:logistic'\n",
    "                   )\n",
    "\n",
    "xgb.fit(X_train_smt, y_train_smt)\n",
    "\n",
    "Y_preds = xgb.predict(X_test)\n",
    "Y_pred_proba = xgb.predict_proba(X_test)[:, 1]\n",
    "get_clf_eval(y_test, Y_preds, Y_pred_proba)\n",
    "print('Macro f1 socre : ', f1_score(y_test, Y_preds, average='macro'))"
   ]
  },
  {
   "cell_type": "code",
   "execution_count": null,
   "id": "e3977147",
   "metadata": {},
   "outputs": [],
   "source": [
    "# 혼돈 행렬 시각화\n",
    "cm = confusion_matrix(y_test, pred)\n",
    "plt.figure(figsize=(10, 8))\n",
    "sns.heatmap(cm, annot = True, annot_kws = {'size':20}, fmt = '0.0f', cmap='Blues')\n",
    "plt.xlabel('Predicted', size = 20)\n",
    "plt.ylabel('Actual', size = 20)\n",
    "plt.text(0.45, 0.4, 'TN', color = 'w', fontsize = 20)\n",
    "plt.text(1.45, 0.4, 'FP', color = 'black', fontsize = 20)\n",
    "plt.text(0.45, 1.4, 'FN', color = 'black', fontsize = 20)\n",
    "plt.text(1.45, 1.4, 'TP', color = 'black', fontsize = 20)\n",
    "plt.show()\n"
   ]
  },
  {
   "cell_type": "code",
   "execution_count": null,
   "id": "428906d2",
   "metadata": {},
   "outputs": [],
   "source": [
    "precision_recall_curve_plot(y_test, Y_pred_proba)"
   ]
  },
  {
   "cell_type": "code",
   "execution_count": null,
   "id": "79f63a0e",
   "metadata": {},
   "outputs": [],
   "source": [
    "from sklearn.metrics import accuracy_score, classification_report, roc_curve, roc_auc_score\n",
    "\n",
    "fpr, tpr, thresholds = roc_curve(y_test, Y_pred_proba)\n",
    "\n",
    "plt.figure(figsize=(10, 8))\n",
    "plt.plot([0,1], [0,1], \"r--\")\n",
    "plt.plot(fpr, tpr, label='XGBoost', color = '#175617')\n",
    "plt.xlabel('False Positive Rate', size = 15)\n",
    "plt.ylabel('True Positive Rate', size = 15)\n",
    "plt.title('XGBoost ROC curve', size = 15)\n",
    "plt.text(0.3, 0.45, 'AUC 면적 = {}'.format(round(roc_auc_score(y_test, Y_pred_proba), 4)), size = 20)\n",
    "plt.show()\n"
   ]
  },
  {
   "cell_type": "code",
   "execution_count": null,
   "id": "bd7cb368",
   "metadata": {},
   "outputs": [],
   "source": [
    "#feature 중요도도 그려볼 수 있다. \n",
    "from xgboost import plot_importance\n",
    "import matplotlib.pyplot as plt\n",
    "%matplotlib inline\n",
    "\n",
    "fig, ax = plt.subplots(figsize=(12, 15))\n",
    "\n",
    "# 사이킷런 래퍼 클래스를 입력해도 무방. \n",
    "plot_importance(xgb, ax=ax)\n",
    "plt.rc('font', size=20)        # 기본 폰트 크기\n",
    "plt.rc('axes', labelsize=20)   # x,y축 label 폰트 크기\n",
    "plt.rc('xtick', labelsize=20)  # x축 눈금 폰트 크기 \n",
    "plt.rc('ytick', labelsize=20)  # y축 눈금 폰트 크기\n",
    "plt.rc('legend', fontsize = 30)\n",
    "plt.show()"
   ]
  },
  {
   "cell_type": "markdown",
   "id": "0f781b3b",
   "metadata": {},
   "source": [
    "# End Test"
   ]
  },
  {
   "cell_type": "code",
   "execution_count": null,
   "id": "ef4604f4",
   "metadata": {},
   "outputs": [],
   "source": [
    "sub = pd.read_csv('sample_submission.csv')\n",
    "sub['Y_LABEL'] = pred\n",
    "sub.head(3)"
   ]
  },
  {
   "cell_type": "code",
   "execution_count": null,
   "id": "1fc02671",
   "metadata": {},
   "outputs": [],
   "source": [
    "sub.to_csv('sample_submission.csv', index=False)"
   ]
  }
 ],
 "metadata": {
  "kernelspec": {
   "display_name": "Python 3 (ipykernel)",
   "language": "python",
   "name": "python3"
  },
  "language_info": {
   "codemirror_mode": {
    "name": "ipython",
    "version": 3
   },
   "file_extension": ".py",
   "mimetype": "text/x-python",
   "name": "python",
   "nbconvert_exporter": "python",
   "pygments_lexer": "ipython3",
   "version": "3.9.7"
  },
  "toc": {
   "base_numbering": 1,
   "nav_menu": {},
   "number_sections": true,
   "sideBar": true,
   "skip_h1_title": false,
   "title_cell": "Table of Contents",
   "title_sidebar": "Contents",
   "toc_cell": false,
   "toc_position": {
    "height": "calc(100% - 180px)",
    "left": "10px",
    "top": "150px",
    "width": "307px"
   },
   "toc_section_display": true,
   "toc_window_display": true
  }
 },
 "nbformat": 4,
 "nbformat_minor": 5
}
