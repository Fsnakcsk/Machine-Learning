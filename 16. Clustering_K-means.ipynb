{
 "cells": [
  {
   "cell_type": "markdown",
   "id": "0d636e0f",
   "metadata": {},
   "source": [
    "# 개념정리\n",
    "\n",
    "1. 클러스터( Cluster ) : 비슷한 특성을 가진 데이터들끼리 묶는 것\n",
    "2. 클러스터링 ( Clustering ) \n",
    "  - 데이터들을 군집으로 묶어주는 작업\n",
    "  - 라벨링된 데이터를 묶는 작업으로 비지도 학습으로 분류된다.\n",
    "  \n",
    "\n",
    "3. K-means Clustering\n",
    "  - 각 클러스터에 할당된 데이터 포인터들의 평균 좌표를 이용해 중심점을 반복적으로 업데이트하며 클러스터를 형성하는 알고리즘\n",
    "  - K는 군집의 개수를 의미하며 사용자가 조정해야 하는 하이퍼파라미터이다\n",
    "  \n",
    "  \n",
    "4. 중심점, 도심( Centroid ) : 클러스터의 중심\n",
    "\n",
    "\n",
    "5. K-means 수행과정\n",
    "  - 클러스터의 수(K) 설정 : n_clusters\n",
    "  - init 파라미터의 기본값 k-means++ 방식으로 centroid1, 2, ..n개 찾음\n",
    "  - centroid1에서 제일 멀리 떨어져 있는 데이터를 centroid2로 찾고\n",
    "  - centroid1, 2와 제일 멀리 떨어진 데이터를 centroid3으로 찾는 방식\n",
    "  - 각 데이터마다 가장 가까운 증심점에 해당하는 클러스터 할당(가장 가까운 중심점은 유클리드 거리로 찾음)\n",
    "  - 할당된 클러스터를 기반으로 새로운 중심점을 계산( 클러스터의 중심으로 centroid 이동, 새로운 중심점을 내부 점들의 거리의 산술평균으로 찾음)\n",
    "  - 각 클러스터의 할당이 변하지 않을 때까지 위의 작업을 반복수행"
   ]
  },
  {
   "cell_type": "markdown",
   "id": "1e89a581",
   "metadata": {},
   "source": [
    "# 필수 라이브러리 로딩"
   ]
  },
  {
   "cell_type": "code",
   "execution_count": 1,
   "id": "508fda97",
   "metadata": {},
   "outputs": [],
   "source": [
    "import numpy as np\n",
    "import pandas as pd\n",
    "import matplotlib.pyplot as plt\n",
    "import matplotlib as mpl\n",
    "import seaborn as sns\n",
    "\n",
    "from warnings import filterwarnings\n",
    "import warnings\n",
    "\n",
    "import numpy as np\n",
    "import pandas as pd\n",
    "\n",
    "import matplotlib as mpl\n",
    "import matplotlib.pyplot as plt\n",
    "\n",
    "import warnings\n",
    "%matplotlib inline\n",
    "%config Inlinebackend.figure_format = 'retina'\n",
    "\n",
    "# 한글 폰트 설정\n",
    "mpl.rc('font', family='malgun gothic')\n",
    "\n",
    "# 시각화 차트에 음수설정\n",
    "mpl.rc('axes', unicode_minus = False)\n",
    "\n",
    "# 오류경고\n",
    "warnings.filterwarnings('ignore')\n",
    "\n",
    "\n",
    "\n",
    "import seaborn as sns\n",
    "\n",
    "# 차트 스타일지정     글꼴                    음수처리                        눈금\n",
    "sns.set(font = 'malgun ghthic', rc={'axes.unicode_minus':False}, style = 'darkgrid')\n",
    "plt.rc('figure', figsize=(10, 8))"
   ]
  },
  {
   "cell_type": "markdown",
   "id": "145e6abe",
   "metadata": {},
   "source": [
    "# 데이터 로딩"
   ]
  },
  {
   "cell_type": "code",
   "execution_count": 2,
   "id": "92f4139b",
   "metadata": {},
   "outputs": [],
   "source": [
    "from sklearn.datasets import load_wine\n",
    "\n",
    "wine = load_wine()"
   ]
  },
  {
   "cell_type": "markdown",
   "id": "99082cd9",
   "metadata": {},
   "source": [
    "## 탐색적 데이터 분석 EDA"
   ]
  },
  {
   "cell_type": "code",
   "execution_count": 3,
   "id": "b34cd098",
   "metadata": {},
   "outputs": [
    {
     "name": "stdout",
     "output_type": "stream",
     "text": [
      "(178, 13)\n"
     ]
    }
   ],
   "source": [
    "data = wine.data\n",
    "label = wine.target\n",
    "columns = wine.feature_names\n",
    "\n",
    "df = pd.DataFrame(data, columns = columns)\n",
    "print(df.shape)"
   ]
  },
  {
   "cell_type": "code",
   "execution_count": 4,
   "id": "85a35fc3",
   "metadata": {},
   "outputs": [
    {
     "data": {
      "text/html": [
       "<div>\n",
       "<style scoped>\n",
       "    .dataframe tbody tr th:only-of-type {\n",
       "        vertical-align: middle;\n",
       "    }\n",
       "\n",
       "    .dataframe tbody tr th {\n",
       "        vertical-align: top;\n",
       "    }\n",
       "\n",
       "    .dataframe thead th {\n",
       "        text-align: right;\n",
       "    }\n",
       "</style>\n",
       "<table border=\"1\" class=\"dataframe\">\n",
       "  <thead>\n",
       "    <tr style=\"text-align: right;\">\n",
       "      <th></th>\n",
       "      <th>alcohol</th>\n",
       "      <th>malic_acid</th>\n",
       "      <th>ash</th>\n",
       "      <th>alcalinity_of_ash</th>\n",
       "      <th>magnesium</th>\n",
       "      <th>total_phenols</th>\n",
       "      <th>flavanoids</th>\n",
       "      <th>nonflavanoid_phenols</th>\n",
       "      <th>proanthocyanins</th>\n",
       "      <th>color_intensity</th>\n",
       "      <th>hue</th>\n",
       "      <th>od280/od315_of_diluted_wines</th>\n",
       "      <th>proline</th>\n",
       "    </tr>\n",
       "  </thead>\n",
       "  <tbody>\n",
       "    <tr>\n",
       "      <th>0</th>\n",
       "      <td>14.23</td>\n",
       "      <td>1.71</td>\n",
       "      <td>2.43</td>\n",
       "      <td>15.6</td>\n",
       "      <td>127.0</td>\n",
       "      <td>2.80</td>\n",
       "      <td>3.06</td>\n",
       "      <td>0.28</td>\n",
       "      <td>2.29</td>\n",
       "      <td>5.64</td>\n",
       "      <td>1.04</td>\n",
       "      <td>3.92</td>\n",
       "      <td>1065.0</td>\n",
       "    </tr>\n",
       "    <tr>\n",
       "      <th>1</th>\n",
       "      <td>13.20</td>\n",
       "      <td>1.78</td>\n",
       "      <td>2.14</td>\n",
       "      <td>11.2</td>\n",
       "      <td>100.0</td>\n",
       "      <td>2.65</td>\n",
       "      <td>2.76</td>\n",
       "      <td>0.26</td>\n",
       "      <td>1.28</td>\n",
       "      <td>4.38</td>\n",
       "      <td>1.05</td>\n",
       "      <td>3.40</td>\n",
       "      <td>1050.0</td>\n",
       "    </tr>\n",
       "    <tr>\n",
       "      <th>2</th>\n",
       "      <td>13.16</td>\n",
       "      <td>2.36</td>\n",
       "      <td>2.67</td>\n",
       "      <td>18.6</td>\n",
       "      <td>101.0</td>\n",
       "      <td>2.80</td>\n",
       "      <td>3.24</td>\n",
       "      <td>0.30</td>\n",
       "      <td>2.81</td>\n",
       "      <td>5.68</td>\n",
       "      <td>1.03</td>\n",
       "      <td>3.17</td>\n",
       "      <td>1185.0</td>\n",
       "    </tr>\n",
       "    <tr>\n",
       "      <th>3</th>\n",
       "      <td>14.37</td>\n",
       "      <td>1.95</td>\n",
       "      <td>2.50</td>\n",
       "      <td>16.8</td>\n",
       "      <td>113.0</td>\n",
       "      <td>3.85</td>\n",
       "      <td>3.49</td>\n",
       "      <td>0.24</td>\n",
       "      <td>2.18</td>\n",
       "      <td>7.80</td>\n",
       "      <td>0.86</td>\n",
       "      <td>3.45</td>\n",
       "      <td>1480.0</td>\n",
       "    </tr>\n",
       "    <tr>\n",
       "      <th>4</th>\n",
       "      <td>13.24</td>\n",
       "      <td>2.59</td>\n",
       "      <td>2.87</td>\n",
       "      <td>21.0</td>\n",
       "      <td>118.0</td>\n",
       "      <td>2.80</td>\n",
       "      <td>2.69</td>\n",
       "      <td>0.39</td>\n",
       "      <td>1.82</td>\n",
       "      <td>4.32</td>\n",
       "      <td>1.04</td>\n",
       "      <td>2.93</td>\n",
       "      <td>735.0</td>\n",
       "    </tr>\n",
       "  </tbody>\n",
       "</table>\n",
       "</div>"
      ],
      "text/plain": [
       "   alcohol  malic_acid   ash  alcalinity_of_ash  magnesium  total_phenols  \\\n",
       "0    14.23        1.71  2.43               15.6      127.0           2.80   \n",
       "1    13.20        1.78  2.14               11.2      100.0           2.65   \n",
       "2    13.16        2.36  2.67               18.6      101.0           2.80   \n",
       "3    14.37        1.95  2.50               16.8      113.0           3.85   \n",
       "4    13.24        2.59  2.87               21.0      118.0           2.80   \n",
       "\n",
       "   flavanoids  nonflavanoid_phenols  proanthocyanins  color_intensity   hue  \\\n",
       "0        3.06                  0.28             2.29             5.64  1.04   \n",
       "1        2.76                  0.26             1.28             4.38  1.05   \n",
       "2        3.24                  0.30             2.81             5.68  1.03   \n",
       "3        3.49                  0.24             2.18             7.80  0.86   \n",
       "4        2.69                  0.39             1.82             4.32  1.04   \n",
       "\n",
       "   od280/od315_of_diluted_wines  proline  \n",
       "0                          3.92   1065.0  \n",
       "1                          3.40   1050.0  \n",
       "2                          3.17   1185.0  \n",
       "3                          3.45   1480.0  \n",
       "4                          2.93    735.0  "
      ]
     },
     "execution_count": 4,
     "metadata": {},
     "output_type": "execute_result"
    }
   ],
   "source": [
    "df.head()"
   ]
  },
  {
   "cell_type": "code",
   "execution_count": 5,
   "id": "2e1a2b25",
   "metadata": {},
   "outputs": [
    {
     "data": {
      "text/plain": [
       "array([0, 0, 0, 0, 0, 0, 0, 0, 0, 0, 0, 0, 0, 0, 0, 0, 0, 0, 0, 0, 0, 0,\n",
       "       0, 0, 0, 0, 0, 0, 0, 0, 0, 0, 0, 0, 0, 0, 0, 0, 0, 0, 0, 0, 0, 0,\n",
       "       0, 0, 0, 0, 0, 0, 0, 0, 0, 0, 0, 0, 0, 0, 0, 1, 1, 1, 1, 1, 1, 1,\n",
       "       1, 1, 1, 1, 1, 1, 1, 1, 1, 1, 1, 1, 1, 1, 1, 1, 1, 1, 1, 1, 1, 1,\n",
       "       1, 1, 1, 1, 1, 1, 1, 1, 1, 1, 1, 1, 1, 1, 1, 1, 1, 1, 1, 1, 1, 1,\n",
       "       1, 1, 1, 1, 1, 1, 1, 1, 1, 1, 1, 1, 1, 1, 1, 1, 1, 1, 1, 1, 2, 2,\n",
       "       2, 2, 2, 2, 2, 2, 2, 2, 2, 2, 2, 2, 2, 2, 2, 2, 2, 2, 2, 2, 2, 2,\n",
       "       2, 2, 2, 2, 2, 2, 2, 2, 2, 2, 2, 2, 2, 2, 2, 2, 2, 2, 2, 2, 2, 2,\n",
       "       2, 2])"
      ]
     },
     "execution_count": 5,
     "metadata": {},
     "output_type": "execute_result"
    }
   ],
   "source": [
    "label"
   ]
  },
  {
   "cell_type": "code",
   "execution_count": 6,
   "id": "b8952283",
   "metadata": {},
   "outputs": [
    {
     "name": "stdout",
     "output_type": "stream",
     "text": [
      "<class 'pandas.core.frame.DataFrame'>\n",
      "RangeIndex: 178 entries, 0 to 177\n",
      "Data columns (total 13 columns):\n",
      " #   Column                        Non-Null Count  Dtype  \n",
      "---  ------                        --------------  -----  \n",
      " 0   alcohol                       178 non-null    float64\n",
      " 1   malic_acid                    178 non-null    float64\n",
      " 2   ash                           178 non-null    float64\n",
      " 3   alcalinity_of_ash             178 non-null    float64\n",
      " 4   magnesium                     178 non-null    float64\n",
      " 5   total_phenols                 178 non-null    float64\n",
      " 6   flavanoids                    178 non-null    float64\n",
      " 7   nonflavanoid_phenols          178 non-null    float64\n",
      " 8   proanthocyanins               178 non-null    float64\n",
      " 9   color_intensity               178 non-null    float64\n",
      " 10  hue                           178 non-null    float64\n",
      " 11  od280/od315_of_diluted_wines  178 non-null    float64\n",
      " 12  proline                       178 non-null    float64\n",
      "dtypes: float64(13)\n",
      "memory usage: 18.2 KB\n"
     ]
    }
   ],
   "source": [
    "df.info()"
   ]
  },
  {
   "cell_type": "markdown",
   "id": "d4d27465",
   "metadata": {},
   "source": [
    "## 전처리 - 피처 스케일링"
   ]
  },
  {
   "cell_type": "code",
   "execution_count": 7,
   "id": "db817ae8",
   "metadata": {},
   "outputs": [],
   "source": [
    "from sklearn.preprocessing import StandardScaler\n",
    "\n",
    "scaler = StandardScaler()\n",
    "df.loc[:,:] = scaler.fit_transform(data)"
   ]
  },
  {
   "cell_type": "code",
   "execution_count": 8,
   "id": "75d7654d",
   "metadata": {},
   "outputs": [
    {
     "data": {
      "text/html": [
       "<div>\n",
       "<style scoped>\n",
       "    .dataframe tbody tr th:only-of-type {\n",
       "        vertical-align: middle;\n",
       "    }\n",
       "\n",
       "    .dataframe tbody tr th {\n",
       "        vertical-align: top;\n",
       "    }\n",
       "\n",
       "    .dataframe thead th {\n",
       "        text-align: right;\n",
       "    }\n",
       "</style>\n",
       "<table border=\"1\" class=\"dataframe\">\n",
       "  <thead>\n",
       "    <tr style=\"text-align: right;\">\n",
       "      <th></th>\n",
       "      <th>alcohol</th>\n",
       "      <th>malic_acid</th>\n",
       "      <th>ash</th>\n",
       "      <th>alcalinity_of_ash</th>\n",
       "      <th>magnesium</th>\n",
       "      <th>total_phenols</th>\n",
       "      <th>flavanoids</th>\n",
       "      <th>nonflavanoid_phenols</th>\n",
       "      <th>proanthocyanins</th>\n",
       "      <th>color_intensity</th>\n",
       "      <th>hue</th>\n",
       "      <th>od280/od315_of_diluted_wines</th>\n",
       "      <th>proline</th>\n",
       "    </tr>\n",
       "  </thead>\n",
       "  <tbody>\n",
       "    <tr>\n",
       "      <th>count</th>\n",
       "      <td>1.780000e+02</td>\n",
       "      <td>1.780000e+02</td>\n",
       "      <td>1.780000e+02</td>\n",
       "      <td>1.780000e+02</td>\n",
       "      <td>1.780000e+02</td>\n",
       "      <td>1.780000e+02</td>\n",
       "      <td>1.780000e+02</td>\n",
       "      <td>1.780000e+02</td>\n",
       "      <td>1.780000e+02</td>\n",
       "      <td>1.780000e+02</td>\n",
       "      <td>1.780000e+02</td>\n",
       "      <td>1.780000e+02</td>\n",
       "      <td>1.780000e+02</td>\n",
       "    </tr>\n",
       "    <tr>\n",
       "      <th>mean</th>\n",
       "      <td>7.841418e-15</td>\n",
       "      <td>2.444986e-16</td>\n",
       "      <td>-4.059175e-15</td>\n",
       "      <td>-7.110417e-17</td>\n",
       "      <td>-2.494883e-17</td>\n",
       "      <td>-1.955365e-16</td>\n",
       "      <td>9.443133e-16</td>\n",
       "      <td>-4.178929e-16</td>\n",
       "      <td>-1.540590e-15</td>\n",
       "      <td>-4.129032e-16</td>\n",
       "      <td>1.398382e-15</td>\n",
       "      <td>2.126888e-15</td>\n",
       "      <td>-6.985673e-17</td>\n",
       "    </tr>\n",
       "    <tr>\n",
       "      <th>std</th>\n",
       "      <td>1.002821e+00</td>\n",
       "      <td>1.002821e+00</td>\n",
       "      <td>1.002821e+00</td>\n",
       "      <td>1.002821e+00</td>\n",
       "      <td>1.002821e+00</td>\n",
       "      <td>1.002821e+00</td>\n",
       "      <td>1.002821e+00</td>\n",
       "      <td>1.002821e+00</td>\n",
       "      <td>1.002821e+00</td>\n",
       "      <td>1.002821e+00</td>\n",
       "      <td>1.002821e+00</td>\n",
       "      <td>1.002821e+00</td>\n",
       "      <td>1.002821e+00</td>\n",
       "    </tr>\n",
       "    <tr>\n",
       "      <th>min</th>\n",
       "      <td>-2.434235e+00</td>\n",
       "      <td>-1.432983e+00</td>\n",
       "      <td>-3.679162e+00</td>\n",
       "      <td>-2.671018e+00</td>\n",
       "      <td>-2.088255e+00</td>\n",
       "      <td>-2.107246e+00</td>\n",
       "      <td>-1.695971e+00</td>\n",
       "      <td>-1.868234e+00</td>\n",
       "      <td>-2.069034e+00</td>\n",
       "      <td>-1.634288e+00</td>\n",
       "      <td>-2.094732e+00</td>\n",
       "      <td>-1.895054e+00</td>\n",
       "      <td>-1.493188e+00</td>\n",
       "    </tr>\n",
       "    <tr>\n",
       "      <th>25%</th>\n",
       "      <td>-7.882448e-01</td>\n",
       "      <td>-6.587486e-01</td>\n",
       "      <td>-5.721225e-01</td>\n",
       "      <td>-6.891372e-01</td>\n",
       "      <td>-8.244151e-01</td>\n",
       "      <td>-8.854682e-01</td>\n",
       "      <td>-8.275393e-01</td>\n",
       "      <td>-7.401412e-01</td>\n",
       "      <td>-5.972835e-01</td>\n",
       "      <td>-7.951025e-01</td>\n",
       "      <td>-7.675624e-01</td>\n",
       "      <td>-9.522483e-01</td>\n",
       "      <td>-7.846378e-01</td>\n",
       "    </tr>\n",
       "    <tr>\n",
       "      <th>50%</th>\n",
       "      <td>6.099988e-02</td>\n",
       "      <td>-4.231120e-01</td>\n",
       "      <td>-2.382132e-02</td>\n",
       "      <td>1.518295e-03</td>\n",
       "      <td>-1.222817e-01</td>\n",
       "      <td>9.595986e-02</td>\n",
       "      <td>1.061497e-01</td>\n",
       "      <td>-1.760948e-01</td>\n",
       "      <td>-6.289785e-02</td>\n",
       "      <td>-1.592246e-01</td>\n",
       "      <td>3.312687e-02</td>\n",
       "      <td>2.377348e-01</td>\n",
       "      <td>-2.337204e-01</td>\n",
       "    </tr>\n",
       "    <tr>\n",
       "      <th>75%</th>\n",
       "      <td>8.361286e-01</td>\n",
       "      <td>6.697929e-01</td>\n",
       "      <td>6.981085e-01</td>\n",
       "      <td>6.020883e-01</td>\n",
       "      <td>5.096384e-01</td>\n",
       "      <td>8.089974e-01</td>\n",
       "      <td>8.490851e-01</td>\n",
       "      <td>6.095413e-01</td>\n",
       "      <td>6.291754e-01</td>\n",
       "      <td>4.939560e-01</td>\n",
       "      <td>7.131644e-01</td>\n",
       "      <td>7.885875e-01</td>\n",
       "      <td>7.582494e-01</td>\n",
       "    </tr>\n",
       "    <tr>\n",
       "      <th>max</th>\n",
       "      <td>2.259772e+00</td>\n",
       "      <td>3.109192e+00</td>\n",
       "      <td>3.156325e+00</td>\n",
       "      <td>3.154511e+00</td>\n",
       "      <td>4.371372e+00</td>\n",
       "      <td>2.539515e+00</td>\n",
       "      <td>3.062832e+00</td>\n",
       "      <td>2.402403e+00</td>\n",
       "      <td>3.485073e+00</td>\n",
       "      <td>3.435432e+00</td>\n",
       "      <td>3.301694e+00</td>\n",
       "      <td>1.960915e+00</td>\n",
       "      <td>2.971473e+00</td>\n",
       "    </tr>\n",
       "  </tbody>\n",
       "</table>\n",
       "</div>"
      ],
      "text/plain": [
       "            alcohol    malic_acid           ash  alcalinity_of_ash  \\\n",
       "count  1.780000e+02  1.780000e+02  1.780000e+02       1.780000e+02   \n",
       "mean   7.841418e-15  2.444986e-16 -4.059175e-15      -7.110417e-17   \n",
       "std    1.002821e+00  1.002821e+00  1.002821e+00       1.002821e+00   \n",
       "min   -2.434235e+00 -1.432983e+00 -3.679162e+00      -2.671018e+00   \n",
       "25%   -7.882448e-01 -6.587486e-01 -5.721225e-01      -6.891372e-01   \n",
       "50%    6.099988e-02 -4.231120e-01 -2.382132e-02       1.518295e-03   \n",
       "75%    8.361286e-01  6.697929e-01  6.981085e-01       6.020883e-01   \n",
       "max    2.259772e+00  3.109192e+00  3.156325e+00       3.154511e+00   \n",
       "\n",
       "          magnesium  total_phenols    flavanoids  nonflavanoid_phenols  \\\n",
       "count  1.780000e+02   1.780000e+02  1.780000e+02          1.780000e+02   \n",
       "mean  -2.494883e-17  -1.955365e-16  9.443133e-16         -4.178929e-16   \n",
       "std    1.002821e+00   1.002821e+00  1.002821e+00          1.002821e+00   \n",
       "min   -2.088255e+00  -2.107246e+00 -1.695971e+00         -1.868234e+00   \n",
       "25%   -8.244151e-01  -8.854682e-01 -8.275393e-01         -7.401412e-01   \n",
       "50%   -1.222817e-01   9.595986e-02  1.061497e-01         -1.760948e-01   \n",
       "75%    5.096384e-01   8.089974e-01  8.490851e-01          6.095413e-01   \n",
       "max    4.371372e+00   2.539515e+00  3.062832e+00          2.402403e+00   \n",
       "\n",
       "       proanthocyanins  color_intensity           hue  \\\n",
       "count     1.780000e+02     1.780000e+02  1.780000e+02   \n",
       "mean     -1.540590e-15    -4.129032e-16  1.398382e-15   \n",
       "std       1.002821e+00     1.002821e+00  1.002821e+00   \n",
       "min      -2.069034e+00    -1.634288e+00 -2.094732e+00   \n",
       "25%      -5.972835e-01    -7.951025e-01 -7.675624e-01   \n",
       "50%      -6.289785e-02    -1.592246e-01  3.312687e-02   \n",
       "75%       6.291754e-01     4.939560e-01  7.131644e-01   \n",
       "max       3.485073e+00     3.435432e+00  3.301694e+00   \n",
       "\n",
       "       od280/od315_of_diluted_wines       proline  \n",
       "count                  1.780000e+02  1.780000e+02  \n",
       "mean                   2.126888e-15 -6.985673e-17  \n",
       "std                    1.002821e+00  1.002821e+00  \n",
       "min                   -1.895054e+00 -1.493188e+00  \n",
       "25%                   -9.522483e-01 -7.846378e-01  \n",
       "50%                    2.377348e-01 -2.337204e-01  \n",
       "75%                    7.885875e-01  7.582494e-01  \n",
       "max                    1.960915e+00  2.971473e+00  "
      ]
     },
     "execution_count": 8,
     "metadata": {},
     "output_type": "execute_result"
    }
   ],
   "source": [
    "df.describe()"
   ]
  },
  {
   "cell_type": "markdown",
   "id": "b1f6b4c5",
   "metadata": {},
   "source": [
    "## 주성분분석(PCA)을 사용해 특성 줄이기"
   ]
  },
  {
   "cell_type": "markdown",
   "id": "b796aa51",
   "metadata": {},
   "source": [
    "- n_components의 입력 매개변수값에 따라 두가지 동작을 수행한다.\n",
    "- 만약 매개변수의 값이 1보다 크면 n_components 개수만큼 특성이 반환된다.(차원이 변환된 결과가 반환된다)\n",
    "- 어때, 최적의 특성 개수를 어떻게 선택할지 의문이 들 수 있습니다\n",
    "- 원본 특성의 95%나 99%의 분산을 유지한다는 의미로 n_components = 0.95 or 0.99를 사용한다\n",
    "- whiten = True로 지정하면 각 주성분의 값을 평균이 0이고, 분산이 1이 되도록 반환한다.\n",
    "- solver = 'randomized'는 아주 짧은 시간 안에 첫번째 주성분을 찾아주는 확률적 알고리즘을 사용한다."
   ]
  },
  {
   "cell_type": "code",
   "execution_count": 9,
   "id": "59faa771",
   "metadata": {},
   "outputs": [
    {
     "data": {
      "text/plain": [
       "(178, 2)"
      ]
     },
     "execution_count": 9,
     "metadata": {},
     "output_type": "execute_result"
    }
   ],
   "source": [
    "from sklearn.decomposition import PCA\n",
    "\n",
    "pca = PCA(n_components = 2)\n",
    "data = pca.fit_transform(data)\n",
    "data.shape"
   ]
  },
  {
   "cell_type": "code",
   "execution_count": 10,
   "id": "5000aa23",
   "metadata": {},
   "outputs": [
    {
     "data": {
      "text/html": [
       "<div>\n",
       "<style scoped>\n",
       "    .dataframe tbody tr th:only-of-type {\n",
       "        vertical-align: middle;\n",
       "    }\n",
       "\n",
       "    .dataframe tbody tr th {\n",
       "        vertical-align: top;\n",
       "    }\n",
       "\n",
       "    .dataframe thead th {\n",
       "        text-align: right;\n",
       "    }\n",
       "</style>\n",
       "<table border=\"1\" class=\"dataframe\">\n",
       "  <thead>\n",
       "    <tr style=\"text-align: right;\">\n",
       "      <th></th>\n",
       "      <th>alcohol</th>\n",
       "      <th>malic_acid</th>\n",
       "      <th>ash</th>\n",
       "      <th>alcalinity_of_ash</th>\n",
       "      <th>magnesium</th>\n",
       "      <th>total_phenols</th>\n",
       "      <th>flavanoids</th>\n",
       "      <th>nonflavanoid_phenols</th>\n",
       "      <th>proanthocyanins</th>\n",
       "      <th>color_intensity</th>\n",
       "      <th>hue</th>\n",
       "      <th>od280/od315_of_diluted_wines</th>\n",
       "      <th>proline</th>\n",
       "      <th>pca_x</th>\n",
       "      <th>pca_y</th>\n",
       "    </tr>\n",
       "  </thead>\n",
       "  <tbody>\n",
       "    <tr>\n",
       "      <th>0</th>\n",
       "      <td>1.518613</td>\n",
       "      <td>-0.562250</td>\n",
       "      <td>0.232053</td>\n",
       "      <td>-1.169593</td>\n",
       "      <td>1.913905</td>\n",
       "      <td>0.808997</td>\n",
       "      <td>1.034819</td>\n",
       "      <td>-0.659563</td>\n",
       "      <td>1.224884</td>\n",
       "      <td>0.251717</td>\n",
       "      <td>0.362177</td>\n",
       "      <td>1.847920</td>\n",
       "      <td>1.013009</td>\n",
       "      <td>3.316751</td>\n",
       "      <td>-1.443463</td>\n",
       "    </tr>\n",
       "    <tr>\n",
       "      <th>1</th>\n",
       "      <td>0.246290</td>\n",
       "      <td>-0.499413</td>\n",
       "      <td>-0.827996</td>\n",
       "      <td>-2.490847</td>\n",
       "      <td>0.018145</td>\n",
       "      <td>0.568648</td>\n",
       "      <td>0.733629</td>\n",
       "      <td>-0.820719</td>\n",
       "      <td>-0.544721</td>\n",
       "      <td>-0.293321</td>\n",
       "      <td>0.406051</td>\n",
       "      <td>1.113449</td>\n",
       "      <td>0.965242</td>\n",
       "      <td>2.209465</td>\n",
       "      <td>0.333393</td>\n",
       "    </tr>\n",
       "    <tr>\n",
       "      <th>2</th>\n",
       "      <td>0.196879</td>\n",
       "      <td>0.021231</td>\n",
       "      <td>1.109334</td>\n",
       "      <td>-0.268738</td>\n",
       "      <td>0.088358</td>\n",
       "      <td>0.808997</td>\n",
       "      <td>1.215533</td>\n",
       "      <td>-0.498407</td>\n",
       "      <td>2.135968</td>\n",
       "      <td>0.269020</td>\n",
       "      <td>0.318304</td>\n",
       "      <td>0.788587</td>\n",
       "      <td>1.395148</td>\n",
       "      <td>2.516740</td>\n",
       "      <td>-1.031151</td>\n",
       "    </tr>\n",
       "    <tr>\n",
       "      <th>3</th>\n",
       "      <td>1.691550</td>\n",
       "      <td>-0.346811</td>\n",
       "      <td>0.487926</td>\n",
       "      <td>-0.809251</td>\n",
       "      <td>0.930918</td>\n",
       "      <td>2.491446</td>\n",
       "      <td>1.466525</td>\n",
       "      <td>-0.981875</td>\n",
       "      <td>1.032155</td>\n",
       "      <td>1.186068</td>\n",
       "      <td>-0.427544</td>\n",
       "      <td>1.184071</td>\n",
       "      <td>2.334574</td>\n",
       "      <td>3.757066</td>\n",
       "      <td>-2.756372</td>\n",
       "    </tr>\n",
       "    <tr>\n",
       "      <th>4</th>\n",
       "      <td>0.295700</td>\n",
       "      <td>0.227694</td>\n",
       "      <td>1.840403</td>\n",
       "      <td>0.451946</td>\n",
       "      <td>1.281985</td>\n",
       "      <td>0.808997</td>\n",
       "      <td>0.663351</td>\n",
       "      <td>0.226796</td>\n",
       "      <td>0.401404</td>\n",
       "      <td>-0.319276</td>\n",
       "      <td>0.362177</td>\n",
       "      <td>0.449601</td>\n",
       "      <td>-0.037874</td>\n",
       "      <td>1.008908</td>\n",
       "      <td>-0.869831</td>\n",
       "    </tr>\n",
       "  </tbody>\n",
       "</table>\n",
       "</div>"
      ],
      "text/plain": [
       "    alcohol  malic_acid       ash  alcalinity_of_ash  magnesium  \\\n",
       "0  1.518613   -0.562250  0.232053          -1.169593   1.913905   \n",
       "1  0.246290   -0.499413 -0.827996          -2.490847   0.018145   \n",
       "2  0.196879    0.021231  1.109334          -0.268738   0.088358   \n",
       "3  1.691550   -0.346811  0.487926          -0.809251   0.930918   \n",
       "4  0.295700    0.227694  1.840403           0.451946   1.281985   \n",
       "\n",
       "   total_phenols  flavanoids  nonflavanoid_phenols  proanthocyanins  \\\n",
       "0       0.808997    1.034819             -0.659563         1.224884   \n",
       "1       0.568648    0.733629             -0.820719        -0.544721   \n",
       "2       0.808997    1.215533             -0.498407         2.135968   \n",
       "3       2.491446    1.466525             -0.981875         1.032155   \n",
       "4       0.808997    0.663351              0.226796         0.401404   \n",
       "\n",
       "   color_intensity       hue  od280/od315_of_diluted_wines   proline  \\\n",
       "0         0.251717  0.362177                      1.847920  1.013009   \n",
       "1        -0.293321  0.406051                      1.113449  0.965242   \n",
       "2         0.269020  0.318304                      0.788587  1.395148   \n",
       "3         1.186068 -0.427544                      1.184071  2.334574   \n",
       "4        -0.319276  0.362177                      0.449601 -0.037874   \n",
       "\n",
       "      pca_x     pca_y  \n",
       "0  3.316751 -1.443463  \n",
       "1  2.209465  0.333393  \n",
       "2  2.516740 -1.031151  \n",
       "3  3.757066 -2.756372  \n",
       "4  1.008908 -0.869831  "
      ]
     },
     "execution_count": 10,
     "metadata": {},
     "output_type": "execute_result"
    }
   ],
   "source": [
    "df['pca_x'] = data[:, 0]\n",
    "df['pca_y'] = data[:, 1]\n",
    "df.head()"
   ]
  },
  {
   "cell_type": "code",
   "execution_count": 11,
   "id": "b934cdf2",
   "metadata": {},
   "outputs": [
    {
     "data": {
      "text/plain": [
       "array([0.36198848, 0.1920749 ])"
      ]
     },
     "execution_count": 11,
     "metadata": {},
     "output_type": "execute_result"
    }
   ],
   "source": [
    "# explained_variance_ratio_ 학습을 통해서 생김\n",
    "# 전체 데이터의 변동성에서 개별 CPA 컴포넌트별로 차지하는 변동성 비율\n",
    "pca.explained_variance_ratio_\n",
    "\n",
    "#        "
   ]
  },
  {
   "cell_type": "markdown",
   "id": "d640e9a1",
   "metadata": {},
   "source": [
    "## K-means로 클러스터 찾기"
   ]
  },
  {
   "cell_type": "code",
   "execution_count": 15,
   "id": "fcc78eb0",
   "metadata": {},
   "outputs": [],
   "source": [
    "from sklearn.cluster import KMeans\n",
    "kmeans = KMeans(n_clusters=3, random_state=200)"
   ]
  },
  {
   "cell_type": "code",
   "execution_count": 17,
   "id": "e5452d23",
   "metadata": {},
   "outputs": [
    {
     "data": {
      "text/plain": [
       "KMeans(n_clusters=3, random_state=200)"
      ]
     },
     "execution_count": 17,
     "metadata": {},
     "output_type": "execute_result"
    }
   ],
   "source": [
    "kmeans.fit(data)"
   ]
  },
  {
   "cell_type": "code",
   "execution_count": 19,
   "id": "d312b136",
   "metadata": {},
   "outputs": [
    {
     "data": {
      "text/plain": [
       "array([0, 0, 0, 0, 0, 0, 0, 0, 0, 0, 0, 0, 0, 0, 0, 0, 0, 0, 0, 0, 0, 0,\n",
       "       0, 0, 0, 0, 0, 0, 0, 0, 0, 0, 0, 0, 0, 0, 0, 0, 0, 0, 0, 0, 0, 0,\n",
       "       0, 0, 0, 0, 0, 0, 0, 0, 0, 0, 0, 0, 0, 0, 0, 2, 2, 2, 2, 2, 2, 2,\n",
       "       2, 2, 2, 2, 2, 0, 2, 0, 2, 2, 2, 2, 2, 2, 2, 2, 2, 1, 2, 2, 2, 2,\n",
       "       2, 2, 2, 2, 2, 2, 2, 0, 2, 2, 0, 2, 2, 2, 2, 2, 2, 2, 2, 2, 2, 2,\n",
       "       2, 2, 2, 2, 2, 2, 2, 2, 2, 2, 2, 0, 2, 2, 2, 2, 2, 2, 2, 2, 1, 1,\n",
       "       1, 1, 1, 1, 1, 1, 1, 1, 1, 1, 1, 1, 1, 1, 1, 1, 1, 1, 1, 1, 1, 1,\n",
       "       1, 1, 1, 1, 1, 1, 1, 1, 1, 1, 1, 1, 1, 1, 1, 1, 1, 1, 1, 1, 1, 1,\n",
       "       1, 1])"
      ]
     },
     "execution_count": 19,
     "metadata": {},
     "output_type": "execute_result"
    }
   ],
   "source": [
    "cluster = kmeans.predict(data)\n",
    "cluster"
   ]
  },
  {
   "cell_type": "code",
   "execution_count": 21,
   "id": "a1f9a599",
   "metadata": {},
   "outputs": [
    {
     "data": {
      "text/html": [
       "<div>\n",
       "<style scoped>\n",
       "    .dataframe tbody tr th:only-of-type {\n",
       "        vertical-align: middle;\n",
       "    }\n",
       "\n",
       "    .dataframe tbody tr th {\n",
       "        vertical-align: top;\n",
       "    }\n",
       "\n",
       "    .dataframe thead th {\n",
       "        text-align: right;\n",
       "    }\n",
       "</style>\n",
       "<table border=\"1\" class=\"dataframe\">\n",
       "  <thead>\n",
       "    <tr style=\"text-align: right;\">\n",
       "      <th></th>\n",
       "      <th>alcohol</th>\n",
       "      <th>malic_acid</th>\n",
       "      <th>ash</th>\n",
       "      <th>alcalinity_of_ash</th>\n",
       "      <th>magnesium</th>\n",
       "      <th>total_phenols</th>\n",
       "      <th>flavanoids</th>\n",
       "      <th>nonflavanoid_phenols</th>\n",
       "      <th>proanthocyanins</th>\n",
       "      <th>color_intensity</th>\n",
       "      <th>hue</th>\n",
       "      <th>od280/od315_of_diluted_wines</th>\n",
       "      <th>proline</th>\n",
       "      <th>pca_x</th>\n",
       "      <th>pca_y</th>\n",
       "      <th>cluster</th>\n",
       "    </tr>\n",
       "  </thead>\n",
       "  <tbody>\n",
       "    <tr>\n",
       "      <th>0</th>\n",
       "      <td>1.518613</td>\n",
       "      <td>-0.562250</td>\n",
       "      <td>0.232053</td>\n",
       "      <td>-1.169593</td>\n",
       "      <td>1.913905</td>\n",
       "      <td>0.808997</td>\n",
       "      <td>1.034819</td>\n",
       "      <td>-0.659563</td>\n",
       "      <td>1.224884</td>\n",
       "      <td>0.251717</td>\n",
       "      <td>0.362177</td>\n",
       "      <td>1.847920</td>\n",
       "      <td>1.013009</td>\n",
       "      <td>3.316751</td>\n",
       "      <td>-1.443463</td>\n",
       "      <td>0</td>\n",
       "    </tr>\n",
       "    <tr>\n",
       "      <th>1</th>\n",
       "      <td>0.246290</td>\n",
       "      <td>-0.499413</td>\n",
       "      <td>-0.827996</td>\n",
       "      <td>-2.490847</td>\n",
       "      <td>0.018145</td>\n",
       "      <td>0.568648</td>\n",
       "      <td>0.733629</td>\n",
       "      <td>-0.820719</td>\n",
       "      <td>-0.544721</td>\n",
       "      <td>-0.293321</td>\n",
       "      <td>0.406051</td>\n",
       "      <td>1.113449</td>\n",
       "      <td>0.965242</td>\n",
       "      <td>2.209465</td>\n",
       "      <td>0.333393</td>\n",
       "      <td>0</td>\n",
       "    </tr>\n",
       "    <tr>\n",
       "      <th>2</th>\n",
       "      <td>0.196879</td>\n",
       "      <td>0.021231</td>\n",
       "      <td>1.109334</td>\n",
       "      <td>-0.268738</td>\n",
       "      <td>0.088358</td>\n",
       "      <td>0.808997</td>\n",
       "      <td>1.215533</td>\n",
       "      <td>-0.498407</td>\n",
       "      <td>2.135968</td>\n",
       "      <td>0.269020</td>\n",
       "      <td>0.318304</td>\n",
       "      <td>0.788587</td>\n",
       "      <td>1.395148</td>\n",
       "      <td>2.516740</td>\n",
       "      <td>-1.031151</td>\n",
       "      <td>0</td>\n",
       "    </tr>\n",
       "    <tr>\n",
       "      <th>3</th>\n",
       "      <td>1.691550</td>\n",
       "      <td>-0.346811</td>\n",
       "      <td>0.487926</td>\n",
       "      <td>-0.809251</td>\n",
       "      <td>0.930918</td>\n",
       "      <td>2.491446</td>\n",
       "      <td>1.466525</td>\n",
       "      <td>-0.981875</td>\n",
       "      <td>1.032155</td>\n",
       "      <td>1.186068</td>\n",
       "      <td>-0.427544</td>\n",
       "      <td>1.184071</td>\n",
       "      <td>2.334574</td>\n",
       "      <td>3.757066</td>\n",
       "      <td>-2.756372</td>\n",
       "      <td>0</td>\n",
       "    </tr>\n",
       "    <tr>\n",
       "      <th>4</th>\n",
       "      <td>0.295700</td>\n",
       "      <td>0.227694</td>\n",
       "      <td>1.840403</td>\n",
       "      <td>0.451946</td>\n",
       "      <td>1.281985</td>\n",
       "      <td>0.808997</td>\n",
       "      <td>0.663351</td>\n",
       "      <td>0.226796</td>\n",
       "      <td>0.401404</td>\n",
       "      <td>-0.319276</td>\n",
       "      <td>0.362177</td>\n",
       "      <td>0.449601</td>\n",
       "      <td>-0.037874</td>\n",
       "      <td>1.008908</td>\n",
       "      <td>-0.869831</td>\n",
       "      <td>0</td>\n",
       "    </tr>\n",
       "  </tbody>\n",
       "</table>\n",
       "</div>"
      ],
      "text/plain": [
       "    alcohol  malic_acid       ash  alcalinity_of_ash  magnesium  \\\n",
       "0  1.518613   -0.562250  0.232053          -1.169593   1.913905   \n",
       "1  0.246290   -0.499413 -0.827996          -2.490847   0.018145   \n",
       "2  0.196879    0.021231  1.109334          -0.268738   0.088358   \n",
       "3  1.691550   -0.346811  0.487926          -0.809251   0.930918   \n",
       "4  0.295700    0.227694  1.840403           0.451946   1.281985   \n",
       "\n",
       "   total_phenols  flavanoids  nonflavanoid_phenols  proanthocyanins  \\\n",
       "0       0.808997    1.034819             -0.659563         1.224884   \n",
       "1       0.568648    0.733629             -0.820719        -0.544721   \n",
       "2       0.808997    1.215533             -0.498407         2.135968   \n",
       "3       2.491446    1.466525             -0.981875         1.032155   \n",
       "4       0.808997    0.663351              0.226796         0.401404   \n",
       "\n",
       "   color_intensity       hue  od280/od315_of_diluted_wines   proline  \\\n",
       "0         0.251717  0.362177                      1.847920  1.013009   \n",
       "1        -0.293321  0.406051                      1.113449  0.965242   \n",
       "2         0.269020  0.318304                      0.788587  1.395148   \n",
       "3         1.186068 -0.427544                      1.184071  2.334574   \n",
       "4        -0.319276  0.362177                      0.449601 -0.037874   \n",
       "\n",
       "      pca_x     pca_y  cluster  \n",
       "0  3.316751 -1.443463        0  \n",
       "1  2.209465  0.333393        0  \n",
       "2  2.516740 -1.031151        0  \n",
       "3  3.757066 -2.756372        0  \n",
       "4  1.008908 -0.869831        0  "
      ]
     },
     "execution_count": 21,
     "metadata": {},
     "output_type": "execute_result"
    }
   ],
   "source": [
    "df['cluster'] = cluster\n",
    "df.head()"
   ]
  },
  {
   "cell_type": "code",
   "execution_count": 24,
   "id": "76d5d2df",
   "metadata": {},
   "outputs": [
    {
     "data": {
      "image/png": "[encoded data removed]",
      "text/plain": [
       "<Figure size 720x576 with 1 Axes>"
      ]
     },
     "metadata": {},
     "output_type": "display_data"
    }
   ],
   "source": [
    "sns.scatterplot(x='pca_x', y='pca_y', data=df, hue='cluster', style='cluster')\n",
    "plt.show()"
   ]
  },
  {
   "cell_type": "code",
   "execution_count": 27,
   "id": "2b1aaed3",
   "metadata": {},
   "outputs": [
    {
     "data": {
      "text/plain": [
       "<seaborn.axisgrid.FacetGrid at 0x10c415ae940>"
      ]
     },
     "execution_count": 27,
     "metadata": {},
     "output_type": "execute_result"
    },
    {
     "data": {
      "image/png": "[encoded data removed]",
      "text/plain": [
       "<Figure size 409.8x360 with 1 Axes>"
      ]
     },
     "metadata": {},
     "output_type": "display_data"
    }
   ],
   "source": [
    "sns.lmplot(x='pca_x', y='pca_y', data=df, hue='cluster', fit_reg=False)"
   ]
  },
  {
   "cell_type": "markdown",
   "id": "c74c47cf",
   "metadata": {},
   "source": [
    "## 중심점도 포함한 시각화 구현하기"
   ]
  },
  {
   "cell_type": "code",
   "execution_count": 31,
   "id": "549bb96a",
   "metadata": {},
   "outputs": [
    {
     "data": {
      "text/plain": [
       "array([[ 2.26614991, -0.86559213],\n",
       "       [-2.74392982, -1.2141906 ],\n",
       "       [-0.16278513,  1.76758824]])"
      ]
     },
     "execution_count": 31,
     "metadata": {},
     "output_type": "execute_result"
    }
   ],
   "source": [
    "# cluster_centers_ 준심점의 좌표값이 저장되어 있다\n",
    "center = kmeans.cluster_centers_\n",
    "center"
   ]
  },
  {
   "cell_type": "code",
   "execution_count": 34,
   "id": "c44aa1dd",
   "metadata": {},
   "outputs": [
    {
     "data": {
      "text/plain": [
       "<matplotlib.collections.PathCollection at 0x10c415aec10>"
      ]
     },
     "execution_count": 34,
     "metadata": {},
     "output_type": "execute_result"
    },
    {
     "data": {
      "image/png": "[encoded data removed]",
      "text/plain": [
       "<Figure size 720x576 with 1 Axes>"
      ]
     },
     "metadata": {},
     "output_type": "display_data"
    }
   ],
   "source": [
    "plt.scatter(df['pca_x'], df['pca_y'], c=df['cluster'], cmap='YlGnBu')\n",
    "plt.scatter(center[:,0], center[:, 1], c='red', marker='D')"
   ]
  },
  {
   "cell_type": "markdown",
   "id": "ec4158c4",
   "metadata": {},
   "source": [
    "## 적절한 군집의 수, K는 어떻게 정할까요? 최적의 K찾기\n",
    "\n",
    "- K-means 알고리즘의 단점 중 하나는 믈러스터의 개수를 사전에 지정해야 한다는 점이다.\n",
    "- 사실 군집 알고맂므에서 적절한 k를 찾기 위한 완벽한 방법은 없다. 다만, 대표적인 방법중 하나인 엘보우 방법이 존재한다\n",
    "\n",
    "## EIbow Method\n",
    "\n",
    "- K-means 올고리즘은 클러스터 중심과 클러스터에 속한 샘플 사이의 거리를 잴 수 있다.\n",
    "- 이 **거리의 제곱의 합을 이너셔(inertia)**라고 부른다\n",
    "- **이너셔(inertia)** : 클러스터에 속한 샘플이 얼마나 가깝게 모여 있는지를 나타내는 값\n",
    "- 일반적으로 클러스터의 개수가 늘어나면 클러스터 개개의 거리는 줄어들기 때문에 이너셔도 줄어든다\n",
    "- **엘보우 방법은 클러스터 객수를 늘려가면서 이너셔의 변화를 관찰하여 최적의 클러스터 객수를 찾는 방법이다**\n",
    "- **클러스터 개수를 증가시키면서 이너셔를 시각화하면 감소하는 속도가 꺽이는 지점이 있다. 이 지즘부터 클러스터 개수를 늘려도 클러스터에 잘 밀집된 정도가 크게 개선되니 않는다. 즉 이너셔가 크게 줄어들지 않는다. 이 지점이 마치 팔꿈치 모양이어서 엘보우 방법이라고 부른다**\n",
    "- K-means 클래스는 자동으로 이터셔를 계산해서 inertia_ 속성에 담아 제공한다."
   ]
  },
  {
   "cell_type": "code",
   "execution_count": 35,
   "id": "2d593f40",
   "metadata": {},
   "outputs": [],
   "source": [
    "# 그래프가 그리다가 더이상 할 필요가 없을떄 끊어지는 경계"
   ]
  },
  {
   "cell_type": "code",
   "execution_count": 39,
   "id": "59ad1bd2",
   "metadata": {},
   "outputs": [
    {
     "name": "stdout",
     "output_type": "stream",
     "text": [
      "k :  2  cost :  628.7883507554778\n",
      "k :  3  cost :  259.5093807511935\n",
      "k :  4  cost :  192.39061530234858\n",
      "k :  5  cost :  155.06920474891726\n",
      "k :  6  cost :  123.43287973008765\n",
      "k :  7  cost :  99.2481454838704\n",
      "k :  8  cost :  90.05279491709501\n",
      "k :  9  cost :  80.74286917591911\n",
      "k :  10  cost :  73.42282923968276\n",
      "k :  11  cost :  65.34374421996391\n",
      "k :  12  cost :  59.44921293992767\n",
      "k :  13  cost :  57.450190324722556\n",
      "k :  14  cost :  51.07165420285444\n",
      "k :  15  cost :  48.13657460125436\n"
     ]
    }
   ],
   "source": [
    "inertia = []\n",
    "\n",
    "for k in range(2, 16) :\n",
    "    km = KMeans(n_clusters=k, random_state=200)\n",
    "    km.fit(data)\n",
    "    inrt = km.inertia_\n",
    "    inertia.append(inrt)\n",
    "    \n",
    "    print('k : ',k, '', 'cost : ', inrt)\n",
    "\n",
    "inertia = np.array(inertia)"
   ]
  },
  {
   "cell_type": "markdown",
   "id": "ea997f68",
   "metadata": {},
   "source": [
    "## EIbow 사각화(Inertia)"
   ]
  },
  {
   "cell_type": "code",
   "execution_count": 47,
   "id": "d97cd663",
   "metadata": {},
   "outputs": [
    {
     "data": {
      "image/png": "[encoded data removed]",
      "text/plain": [
       "<Figure size 720x576 with 1 Axes>"
      ]
     },
     "metadata": {},
     "output_type": "display_data"
    }
   ],
   "source": [
    "plt.plot(range(2, 16), inertia)\n",
    "plt.vlines(3, ymin = inertia.min()*0.9999, ymax=inertia.max()*1.003,linestyle='--', color='r')\n",
    "plt.vlines(4, ymin = inertia.min()*0.9999, ymax=inertia.max()*1.003,linestyle='--', color='g')\n",
    "plt.title(\"Elbow Method\")\n",
    "plt.xlabel(\"Nuimber of clusters\")\n",
    "plt.ylabel(\"inertia\")\n",
    "plt.show()"
   ]
  },
  {
   "cell_type": "markdown",
   "id": "4b3cc7ec",
   "metadata": {},
   "source": [
    "## 군집 평가\n",
    "\n",
    "- 군집화는 분류와 유사해보이지만 성격이 많이 다르다\n",
    "- 데이터 내에 숨어 있는 별도의 그룹을 찾아서 의미를 부여한다.\n",
    "- 동일한 분류 값에 속하더라도 그 안에서 더 세분화된 군집화를 추구하기도 한다.\n",
    "- 이러한 군집화가 효율적으로 잘 되었는지 평가할 수 있는 대표적인 방법에 **실루엣 분석**이 있다.\n",
    "- 다만, 비지도학습의 특성상 어떠한 지표라고 정확하게 성능을 평가하기 어렵다."
   ]
  },
  {
   "cell_type": "markdown",
   "id": "cd92c419",
   "metadata": {},
   "source": [
    "## 실루엣 분석\n",
    "- 실루엣 분석은 다른 군집과의 거리는 떨어져 있고 **동일 군집 데이터끼리 서로 가까운지를 나타낸다**.\n",
    "- 실루엣 분석은 실루엣 계수를 기반으로 하며 실루엣 계수는 개별 데이터가 가지는 군집화 지표이다.\n",
    "\n",
    "- 단점 : 데이터 량이 많으면 시감니 많이 걸림\n",
    "\n",
    "- **실루엣 계수의 평균값이 1에 가까울수록 군집화가 잘 되었다고 판단한다.**"
   ]
  },
  {
   "cell_type": "code",
   "execution_count": 50,
   "id": "917128a8",
   "metadata": {},
   "outputs": [],
   "source": [
    "from sklearn.model_selection import train_test_split\n",
    "X_train, X_test, y_train, y_test = train_test_split(data, label, random_state=200)"
   ]
  },
  {
   "cell_type": "code",
   "execution_count": 57,
   "id": "8ed61e29",
   "metadata": {},
   "outputs": [
    {
     "name": "stdout",
     "output_type": "stream",
     "text": [
      "k :  2 score : 0.45928269778057973\n",
      "k :  3 score : 0.5616393631207302\n",
      "k :  4 score : 0.491894802908737\n",
      "k :  5 score : 0.4583333135639608\n",
      "k :  6 score : 0.45404717174658993\n",
      "k :  7 score : 0.4062076125490524\n",
      "k :  8 score : 0.4084192335293467\n",
      "k :  9 score : 0.40908901475640336\n",
      "k :  10 score : 0.4017325128082444\n",
      "k :  11 score : 0.39450717586741246\n",
      "k :  12 score : 0.37953538394501385\n",
      "k :  13 score : 0.39612312804784083\n",
      "k :  14 score : 0.3915647690041561\n",
      "k :  15 score : 0.3799973147802537\n",
      "k :  16 score : 0.39140638128573135\n",
      "k :  17 score : 0.3712896508063758\n",
      "k :  18 score : 0.37280419846985113\n",
      "k :  19 score : 0.37756640427419524\n",
      "k :  20 score : 0.3699979214338736\n",
      "k :  21 score : 0.33163139477854814\n",
      "k :  22 score : 0.3511143067526703\n",
      "k :  23 score : 0.33757663918920633\n",
      "k :  24 score : 0.3477715720709485\n",
      "k :  25 score : 0.33794743107117003\n",
      "k :  26 score : 0.34977239853347936\n",
      "k :  27 score : 0.34004758728954454\n",
      "k :  28 score : 0.3482279439903718\n",
      "k :  29 score : 0.3515089754561091\n",
      "\n",
      " best k : 3 best score: 0.5616393631207302\n"
     ]
    }
   ],
   "source": [
    "from sklearn.metrics import silhouette_score\n",
    "\n",
    "k_range = range(2, 30)\n",
    "\n",
    "best_k = -1\n",
    "best_silhouette_score = -1\n",
    "\n",
    "for k in k_range :\n",
    "    km = KMeans(n_clusters=k, random_state=200)\n",
    "    km.fit(X_train)\n",
    "    clusters = km.predict(X_train)\n",
    "    \n",
    "    score = silhouette_score(X_train, clusters)\n",
    "    \n",
    "    print('k : ',k , 'score :',score)\n",
    "    \n",
    "    if score > best_silhouette_score :\n",
    "        best_k = k\n",
    "        best_silhouette_score = score\n",
    "        \n",
    "print('\\n best k :', best_k, 'best score:', best_silhouette_score)"
   ]
  }
 ],
 "metadata": {
  "kernelspec": {
   "display_name": "Python 3 (ipykernel)",
   "language": "python",
   "name": "python3"
  },
  "language_info": {
   "codemirror_mode": {
    "name": "ipython",
    "version": 3
   },
   "file_extension": ".py",
   "mimetype": "text/x-python",
   "name": "python",
   "nbconvert_exporter": "python",
   "pygments_lexer": "ipython3",
   "version": "3.9.7"
  },
  "toc": {
   "base_numbering": 1,
   "nav_menu": {},
   "number_sections": true,
   "sideBar": true,
   "skip_h1_title": false,
   "title_cell": "Table of Contents",
   "title_sidebar": "Contents",
   "toc_cell": false,
   "toc_position": {},
   "toc_section_display": true,
   "toc_window_display": false
  }
 },
 "nbformat": 4,
 "nbformat_minor": 5
}
