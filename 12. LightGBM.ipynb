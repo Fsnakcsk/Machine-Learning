{
 "cells": [
  {
   "cell_type": "markdown",
   "id": "376865f2",
   "metadata": {},
   "source": [
    "# LightGBM\n",
    "##  LIghtGBM 장단점\n",
    "\n",
    "- XGB보다도 학습에 걸리는 시간이 훨씬 적으며 메모리 사용량도 상재거으로 적다\n",
    "- 카테고리형 피처를 자동 반환하고, 예측 성능 역시 XGB와 큰 차이가 없다\n",
    "- 테이터가 적은 경우 과적합이 발생하기 쉽다.\n",
    "- 적은 데이터의 갯수에 대한 기본은 애매하지만 LightGBM의 공식문서에 10,00건 이하라고 술하였다."
   ]
  },
  {
   "cell_type": "markdown",
   "id": "ad70b1fc",
   "metadata": {},
   "source": [
    "## 트리기반 알고리즘 특징\n",
    "\n",
    "- 기존의 대부분 트리 기반 알고리즘은 트리의 깊이를 효과적으로 줄이기 위한 균형 트리 분할(Level Wise) 방식을 사용한다.\n",
    "- 최대한 균형 잡힌 트리를 유지하면서 분할하기 때문에 깊이가 최소화되며 과대적합에 보다 강한 구조를 가진다.\n",
    "- 하지만 균형을 맞추기 위한 시간이 오래 걸리는 단점이 있다.\n"
   ]
  },
  {
   "cell_type": "markdown",
   "id": "f0a302d3",
   "metadata": {},
   "source": [
    "## LightBGM 특징\n",
    "\n",
    "- LightGBM은 일반 GBM 계열의 트리 분할 방법과 다르게 리프 중심 트리 분할(leaf Wise) 방식을 사용한다.\n",
    "- 트리의 균형을 맞추지 않고 최대 손실값(max delta loss)을 가지는 리프 노드를 지속적으로 분할하여 깊이가 증가하고 비대칭적인 트리를 생성한다.\n",
    "- 이렇게 생성된 트리는 학습을 반복할수록 결국은 균형 트리 분할 방식보다 예측 오류손실을 최소화 할 수 있는 것이 LightGBM의 구현 사상이다."
   ]
  },
  {
   "cell_type": "markdown",
   "id": "ca005ba3",
   "metadata": {},
   "source": [
    "## 필수 라이브러리"
   ]
  },
  {
   "cell_type": "code",
   "execution_count": 3,
   "id": "5852dc95",
   "metadata": {},
   "outputs": [],
   "source": [
    "import numpy as np\n",
    "import pandas as pd\n",
    "\n",
    "import matplotlib as mpl\n",
    "import matplotlib.pyplot as plt\n",
    "\n",
    "import warnings\n",
    "%matplotlib inline\n",
    "%config Inlinebackend.figure_format = 'retina'\n",
    "\n",
    "# 한글 폰트 설정\n",
    "mpl.rc('font', family='malgun gothic')\n",
    "\n",
    "# 시각화 차트에 음수설정\n",
    "mpl.rc('axes', unicode_minus = False)\n",
    "\n",
    "# 오류경고\n",
    "warnings.filterwarnings('ignore')\n",
    "\n",
    "\n",
    "\n",
    "import seaborn as sns\n",
    "\n",
    "# 차트 스타일지정     글꼴                    음수처리                        눈금\n",
    "sns.set(font = 'malgun ghthic', rc={'axes.unicode_minus':False}, style = 'darkgrid')\n",
    "plt.rc('figure', figsize=(10, 8))"
   ]
  },
  {
   "cell_type": "code",
   "execution_count": 4,
   "id": "8cb595d9",
   "metadata": {},
   "outputs": [],
   "source": [
    "import xgboost as xgb\n",
    "from sklearn.datasets import load_breast_cancer\n",
    "from sklearn.model_selection import train_test_split"
   ]
  },
  {
   "cell_type": "markdown",
   "id": "0915e1e1",
   "metadata": {},
   "source": [
    "# 데이터 로딩과 훈련세트와 테스트세트분리"
   ]
  },
  {
   "cell_type": "code",
   "execution_count": 13,
   "id": "03dcafb4",
   "metadata": {},
   "outputs": [
    {
     "name": "stdout",
     "output_type": "stream",
     "text": [
      "(569, 30)\n",
      "(569,)\n"
     ]
    }
   ],
   "source": [
    "from lightgbm import LGBMClassifier\n",
    "from sklearn.datasets import load_breast_cancer\n",
    "from sklearn.model_selection import train_test_split\n",
    "\n",
    "X, y = load_breast_cancer(True)\n",
    "\n",
    "print(X.shape)\n",
    "print(y.shape)"
   ]
  },
  {
   "cell_type": "code",
   "execution_count": 16,
   "id": "5bbdec09",
   "metadata": {},
   "outputs": [],
   "source": [
    "X_train, X_test, y_train, y_test = train_test_split(\n",
    "    X, y, test_size=0.2, random_state=156)"
   ]
  },
  {
   "cell_type": "code",
   "execution_count": 23,
   "id": "287820b3",
   "metadata": {
    "scrolled": true
   },
   "outputs": [
    {
     "name": "stdout",
     "output_type": "stream",
     "text": [
      "[1]\tvalid_0's binary_logloss: 0.565079\n",
      "Training until validation scores don't improve for 100 rounds\n",
      "[2]\tvalid_0's binary_logloss: 0.507451\n",
      "[3]\tvalid_0's binary_logloss: 0.458489\n",
      "[4]\tvalid_0's binary_logloss: 0.417481\n",
      "[5]\tvalid_0's binary_logloss: 0.385507\n",
      "[6]\tvalid_0's binary_logloss: 0.355773\n",
      "[7]\tvalid_0's binary_logloss: 0.329587\n",
      "[8]\tvalid_0's binary_logloss: 0.308478\n",
      "[9]\tvalid_0's binary_logloss: 0.285395\n",
      "[10]\tvalid_0's binary_logloss: 0.267055\n",
      "[11]\tvalid_0's binary_logloss: 0.252013\n",
      "[12]\tvalid_0's binary_logloss: 0.237018\n",
      "[13]\tvalid_0's binary_logloss: 0.224756\n",
      "[14]\tvalid_0's binary_logloss: 0.213383\n",
      "[15]\tvalid_0's binary_logloss: 0.203058\n",
      "[16]\tvalid_0's binary_logloss: 0.194015\n",
      "[17]\tvalid_0's binary_logloss: 0.186412\n",
      "[18]\tvalid_0's binary_logloss: 0.179108\n",
      "[19]\tvalid_0's binary_logloss: 0.174004\n",
      "[20]\tvalid_0's binary_logloss: 0.167155\n",
      "[21]\tvalid_0's binary_logloss: 0.162494\n",
      "[22]\tvalid_0's binary_logloss: 0.156886\n",
      "[23]\tvalid_0's binary_logloss: 0.152855\n",
      "[24]\tvalid_0's binary_logloss: 0.151113\n",
      "[25]\tvalid_0's binary_logloss: 0.148395\n",
      "[26]\tvalid_0's binary_logloss: 0.145869\n",
      "[27]\tvalid_0's binary_logloss: 0.143036\n",
      "[28]\tvalid_0's binary_logloss: 0.14033\n",
      "[29]\tvalid_0's binary_logloss: 0.139609\n",
      "[30]\tvalid_0's binary_logloss: 0.136109\n",
      "[31]\tvalid_0's binary_logloss: 0.134867\n",
      "[32]\tvalid_0's binary_logloss: 0.134729\n",
      "[33]\tvalid_0's binary_logloss: 0.1311\n",
      "[34]\tvalid_0's binary_logloss: 0.131143\n",
      "[35]\tvalid_0's binary_logloss: 0.129435\n",
      "[36]\tvalid_0's binary_logloss: 0.128474\n",
      "[37]\tvalid_0's binary_logloss: 0.126683\n",
      "[38]\tvalid_0's binary_logloss: 0.126112\n",
      "[39]\tvalid_0's binary_logloss: 0.122831\n",
      "[40]\tvalid_0's binary_logloss: 0.123162\n",
      "[41]\tvalid_0's binary_logloss: 0.125592\n",
      "[42]\tvalid_0's binary_logloss: 0.128293\n",
      "[43]\tvalid_0's binary_logloss: 0.128123\n",
      "[44]\tvalid_0's binary_logloss: 0.12789\n",
      "[45]\tvalid_0's binary_logloss: 0.122818\n",
      "[46]\tvalid_0's binary_logloss: 0.12496\n",
      "[47]\tvalid_0's binary_logloss: 0.125578\n",
      "[48]\tvalid_0's binary_logloss: 0.127381\n",
      "[49]\tvalid_0's binary_logloss: 0.128349\n",
      "[50]\tvalid_0's binary_logloss: 0.127004\n",
      "[51]\tvalid_0's binary_logloss: 0.130288\n",
      "[52]\tvalid_0's binary_logloss: 0.131362\n",
      "[53]\tvalid_0's binary_logloss: 0.133363\n",
      "[54]\tvalid_0's binary_logloss: 0.1332\n",
      "[55]\tvalid_0's binary_logloss: 0.134543\n",
      "[56]\tvalid_0's binary_logloss: 0.130803\n",
      "[57]\tvalid_0's binary_logloss: 0.130306\n",
      "[58]\tvalid_0's binary_logloss: 0.132514\n",
      "[59]\tvalid_0's binary_logloss: 0.133278\n",
      "[60]\tvalid_0's binary_logloss: 0.134804\n",
      "[61]\tvalid_0's binary_logloss: 0.136888\n",
      "[62]\tvalid_0's binary_logloss: 0.138745\n",
      "[63]\tvalid_0's binary_logloss: 0.140497\n",
      "[64]\tvalid_0's binary_logloss: 0.141368\n",
      "[65]\tvalid_0's binary_logloss: 0.140764\n",
      "[66]\tvalid_0's binary_logloss: 0.14348\n",
      "[67]\tvalid_0's binary_logloss: 0.143418\n",
      "[68]\tvalid_0's binary_logloss: 0.143682\n",
      "[69]\tvalid_0's binary_logloss: 0.145076\n",
      "[70]\tvalid_0's binary_logloss: 0.14686\n",
      "[71]\tvalid_0's binary_logloss: 0.148051\n",
      "[72]\tvalid_0's binary_logloss: 0.147664\n",
      "[73]\tvalid_0's binary_logloss: 0.149478\n",
      "[74]\tvalid_0's binary_logloss: 0.14708\n",
      "[75]\tvalid_0's binary_logloss: 0.14545\n",
      "[76]\tvalid_0's binary_logloss: 0.148767\n",
      "[77]\tvalid_0's binary_logloss: 0.149959\n",
      "[78]\tvalid_0's binary_logloss: 0.146083\n",
      "[79]\tvalid_0's binary_logloss: 0.14638\n",
      "[80]\tvalid_0's binary_logloss: 0.148461\n",
      "[81]\tvalid_0's binary_logloss: 0.15091\n",
      "[82]\tvalid_0's binary_logloss: 0.153011\n",
      "[83]\tvalid_0's binary_logloss: 0.154807\n",
      "[84]\tvalid_0's binary_logloss: 0.156501\n",
      "[85]\tvalid_0's binary_logloss: 0.158586\n",
      "[86]\tvalid_0's binary_logloss: 0.159819\n",
      "[87]\tvalid_0's binary_logloss: 0.161745\n",
      "[88]\tvalid_0's binary_logloss: 0.162829\n",
      "[89]\tvalid_0's binary_logloss: 0.159142\n",
      "[90]\tvalid_0's binary_logloss: 0.156765\n",
      "[91]\tvalid_0's binary_logloss: 0.158625\n",
      "[92]\tvalid_0's binary_logloss: 0.156832\n",
      "[93]\tvalid_0's binary_logloss: 0.154616\n",
      "[94]\tvalid_0's binary_logloss: 0.154263\n",
      "[95]\tvalid_0's binary_logloss: 0.157156\n",
      "[96]\tvalid_0's binary_logloss: 0.158617\n",
      "[97]\tvalid_0's binary_logloss: 0.157495\n",
      "[98]\tvalid_0's binary_logloss: 0.159413\n",
      "[99]\tvalid_0's binary_logloss: 0.15847\n",
      "[100]\tvalid_0's binary_logloss: 0.160746\n",
      "[101]\tvalid_0's binary_logloss: 0.16217\n",
      "[102]\tvalid_0's binary_logloss: 0.165293\n",
      "[103]\tvalid_0's binary_logloss: 0.164749\n",
      "[104]\tvalid_0's binary_logloss: 0.167097\n",
      "[105]\tvalid_0's binary_logloss: 0.167697\n",
      "[106]\tvalid_0's binary_logloss: 0.169462\n",
      "[107]\tvalid_0's binary_logloss: 0.169947\n",
      "[108]\tvalid_0's binary_logloss: 0.171\n",
      "[109]\tvalid_0's binary_logloss: 0.16907\n",
      "[110]\tvalid_0's binary_logloss: 0.169521\n",
      "[111]\tvalid_0's binary_logloss: 0.167719\n",
      "[112]\tvalid_0's binary_logloss: 0.166648\n",
      "[113]\tvalid_0's binary_logloss: 0.169053\n",
      "[114]\tvalid_0's binary_logloss: 0.169613\n",
      "[115]\tvalid_0's binary_logloss: 0.170059\n",
      "[116]\tvalid_0's binary_logloss: 0.1723\n",
      "[117]\tvalid_0's binary_logloss: 0.174733\n",
      "[118]\tvalid_0's binary_logloss: 0.173526\n",
      "[119]\tvalid_0's binary_logloss: 0.1751\n",
      "[120]\tvalid_0's binary_logloss: 0.178254\n",
      "[121]\tvalid_0's binary_logloss: 0.182968\n",
      "[122]\tvalid_0's binary_logloss: 0.179017\n",
      "[123]\tvalid_0's binary_logloss: 0.178326\n",
      "[124]\tvalid_0's binary_logloss: 0.177149\n",
      "[125]\tvalid_0's binary_logloss: 0.179171\n",
      "[126]\tvalid_0's binary_logloss: 0.180948\n",
      "[127]\tvalid_0's binary_logloss: 0.183861\n",
      "[128]\tvalid_0's binary_logloss: 0.187579\n",
      "[129]\tvalid_0's binary_logloss: 0.188122\n",
      "[130]\tvalid_0's binary_logloss: 0.1857\n",
      "[131]\tvalid_0's binary_logloss: 0.187442\n",
      "[132]\tvalid_0's binary_logloss: 0.188578\n",
      "[133]\tvalid_0's binary_logloss: 0.189729\n",
      "[134]\tvalid_0's binary_logloss: 0.187313\n",
      "[135]\tvalid_0's binary_logloss: 0.189279\n",
      "[136]\tvalid_0's binary_logloss: 0.191068\n",
      "[137]\tvalid_0's binary_logloss: 0.192414\n",
      "[138]\tvalid_0's binary_logloss: 0.191255\n",
      "[139]\tvalid_0's binary_logloss: 0.193453\n",
      "[140]\tvalid_0's binary_logloss: 0.196969\n",
      "[141]\tvalid_0's binary_logloss: 0.196378\n",
      "[142]\tvalid_0's binary_logloss: 0.196367\n",
      "[143]\tvalid_0's binary_logloss: 0.19869\n",
      "[144]\tvalid_0's binary_logloss: 0.200352\n",
      "[145]\tvalid_0's binary_logloss: 0.19712\n",
      "Early stopping, best iteration is:\n",
      "[45]\tvalid_0's binary_logloss: 0.122818\n"
     ]
    },
    {
     "data": {
      "text/plain": [
       "LGBMClassifier(n_estimators=4000)"
      ]
     },
     "execution_count": 23,
     "metadata": {},
     "output_type": "execute_result"
    }
   ],
   "source": [
    "evals = [(X_test, y_test)]\n",
    "\n",
    "# 학습\n",
    "lgbm = LGBMClassifier(n_estimators = 4000) # 4천번 \n",
    "lgbm.fit(X_train, y_train, early_stopping_rounds = 100, #100번 돌림\n",
    "         eval_metric='logloss', eval_set=evals, verbose=True)\n",
    "#            모델이름                 ?              ?\n"
   ]
  },
  {
   "cell_type": "markdown",
   "id": "6112a684",
   "metadata": {},
   "source": [
    "## 예측과 평가"
   ]
  },
  {
   "cell_type": "code",
   "execution_count": 29,
   "id": "5e728e5e",
   "metadata": {},
   "outputs": [],
   "source": [
    "from sklearn.metrics import accuracy_score, precision_score, recall_score\n",
    "from sklearn.metrics import f1_score, roc_auc_score, confusion_matrix\n",
    "\n",
    "pred = lgbm.predict(X_test)"
   ]
  },
  {
   "cell_type": "code",
   "execution_count": 31,
   "id": "4371c096",
   "metadata": {},
   "outputs": [
    {
     "data": {
      "text/plain": [
       "0.956140350877193"
      ]
     },
     "execution_count": 31,
     "metadata": {},
     "output_type": "execute_result"
    }
   ],
   "source": [
    "# 정확도\n",
    "accuracy_score(y_test, pred)"
   ]
  },
  {
   "cell_type": "code",
   "execution_count": 32,
   "id": "613f694d",
   "metadata": {},
   "outputs": [
    {
     "data": {
      "text/plain": [
       "0.95"
      ]
     },
     "execution_count": 32,
     "metadata": {},
     "output_type": "execute_result"
    }
   ],
   "source": [
    "# 정밀도\n",
    "precision = precision_score(y_test, pred)\n",
    "precision"
   ]
  },
  {
   "cell_type": "code",
   "execution_count": 34,
   "id": "e9812cdd",
   "metadata": {},
   "outputs": [
    {
     "data": {
      "text/plain": [
       "0.987012987012987"
      ]
     },
     "execution_count": 34,
     "metadata": {},
     "output_type": "execute_result"
    }
   ],
   "source": [
    "# 재현율\n",
    "recall = recall_score(y_test, pred)\n",
    "recall"
   ]
  },
  {
   "cell_type": "code",
   "execution_count": 35,
   "id": "b5ec53a2",
   "metadata": {},
   "outputs": [
    {
     "data": {
      "text/plain": [
       "0.9681528662420381"
      ]
     },
     "execution_count": 35,
     "metadata": {},
     "output_type": "execute_result"
    }
   ],
   "source": [
    "# F1 score\n",
    "f1 = f1_score(y_test, pred)\n",
    "f1"
   ]
  },
  {
   "cell_type": "code",
   "execution_count": 38,
   "id": "324161ca",
   "metadata": {},
   "outputs": [
    {
     "data": {
      "text/plain": [
       "array([[0.39485527, 0.60514473],\n",
       "       [0.99252022, 0.00747978],\n",
       "       [0.05648676, 0.94351324],\n",
       "       [0.85690433, 0.14309567],\n",
       "       [0.02333051, 0.97666949],\n",
       "       [0.00410411, 0.99589589],\n",
       "       [0.00536267, 0.99463733],\n",
       "       [0.00966208, 0.99033792],\n",
       "       [0.00650967, 0.99349033],\n",
       "       [0.99345374, 0.00654626],\n",
       "       [0.99248594, 0.00751406],\n",
       "       [0.99361128, 0.00638872],\n",
       "       [0.00439053, 0.99560947],\n",
       "       [0.0045107 , 0.9954893 ],\n",
       "       [0.00643345, 0.99356655],\n",
       "       [0.03321847, 0.96678153],\n",
       "       [0.04364786, 0.95635214],\n",
       "       [0.00526462, 0.99473538],\n",
       "       [0.00616807, 0.99383193],\n",
       "       [0.00406726, 0.99593274],\n",
       "       [0.99222844, 0.00777156],\n",
       "       [0.4123405 , 0.5876595 ],\n",
       "       [0.99343436, 0.00656564],\n",
       "       [0.00361161, 0.99638839],\n",
       "       [0.99405678, 0.00594322],\n",
       "       [0.18473164, 0.81526836],\n",
       "       [0.98525975, 0.01474025],\n",
       "       [0.99412841, 0.00587159],\n",
       "       [0.00622959, 0.99377041],\n",
       "       [0.9757635 , 0.0242365 ],\n",
       "       [0.01446503, 0.98553497],\n",
       "       [0.98705477, 0.01294523],\n",
       "       [0.01502331, 0.98497669],\n",
       "       [0.07169524, 0.92830476],\n",
       "       [0.99267853, 0.00732147],\n",
       "       [0.99374751, 0.00625249],\n",
       "       [0.01746595, 0.98253405],\n",
       "       [0.01100867, 0.98899133],\n",
       "       [0.92703524, 0.07296476],\n",
       "       [0.00614228, 0.99385772],\n",
       "       [0.88538462, 0.11461538],\n",
       "       [0.00622354, 0.99377646],\n",
       "       [0.00912305, 0.99087695],\n",
       "       [0.00695783, 0.99304217],\n",
       "       [0.01377414, 0.98622586],\n",
       "       [0.02501706, 0.97498294],\n",
       "       [0.97339405, 0.02660595],\n",
       "       [0.00751224, 0.99248776],\n",
       "       [0.00454389, 0.99545611],\n",
       "       [0.00613484, 0.99386516],\n",
       "       [0.0084338 , 0.9915662 ],\n",
       "       [0.99306745, 0.00693255],\n",
       "       [0.01828338, 0.98171662],\n",
       "       [0.00662237, 0.99337763],\n",
       "       [0.00907018, 0.99092982],\n",
       "       [0.00669218, 0.99330782],\n",
       "       [0.00418409, 0.99581591],\n",
       "       [0.01173921, 0.98826079],\n",
       "       [0.008328  , 0.991672  ],\n",
       "       [0.02828902, 0.97171098],\n",
       "       [0.00465576, 0.99534424],\n",
       "       [0.04025682, 0.95974318],\n",
       "       [0.99098783, 0.00901217],\n",
       "       [0.99322403, 0.00677597],\n",
       "       [0.00805069, 0.99194931],\n",
       "       [0.01601722, 0.98398278],\n",
       "       [0.99298271, 0.00701729],\n",
       "       [0.03497423, 0.96502577],\n",
       "       [0.00616043, 0.99383957],\n",
       "       [0.00464125, 0.99535875],\n",
       "       [0.99362061, 0.00637939],\n",
       "       [0.00996882, 0.99003118],\n",
       "       [0.99413464, 0.00586536],\n",
       "       [0.02807081, 0.97192919],\n",
       "       [0.00502578, 0.99497422],\n",
       "       [0.9935172 , 0.0064828 ],\n",
       "       [0.00411723, 0.99588277],\n",
       "       [0.0041444 , 0.9958556 ],\n",
       "       [0.00406549, 0.99593451],\n",
       "       [0.99342263, 0.00657737],\n",
       "       [0.99351914, 0.00648086],\n",
       "       [0.0292659 , 0.9707341 ],\n",
       "       [0.0053777 , 0.9946223 ],\n",
       "       [0.00638086, 0.99361914],\n",
       "       [0.0139839 , 0.9860161 ],\n",
       "       [0.02802515, 0.97197485],\n",
       "       [0.00930638, 0.99069362],\n",
       "       [0.00602134, 0.99397866],\n",
       "       [0.06026588, 0.93973412],\n",
       "       [0.99069393, 0.00930607],\n",
       "       [0.44942903, 0.55057097],\n",
       "       [0.00713651, 0.99286349],\n",
       "       [0.99186041, 0.00813959],\n",
       "       [0.98532618, 0.01467382],\n",
       "       [0.00546918, 0.99453082],\n",
       "       [0.97395251, 0.02604749],\n",
       "       [0.9761881 , 0.0238119 ],\n",
       "       [0.01019586, 0.98980414],\n",
       "       [0.99349944, 0.00650056],\n",
       "       [0.16852015, 0.83147985],\n",
       "       [0.91585694, 0.08414306],\n",
       "       [0.99379844, 0.00620156],\n",
       "       [0.00702707, 0.99297293],\n",
       "       [0.00611656, 0.99388344],\n",
       "       [0.11852565, 0.88147435],\n",
       "       [0.00426816, 0.99573184],\n",
       "       [0.00407231, 0.99592769],\n",
       "       [0.04761524, 0.95238476],\n",
       "       [0.00817267, 0.99182733],\n",
       "       [0.00829748, 0.99170252],\n",
       "       [0.27353433, 0.72646567],\n",
       "       [0.00743561, 0.99256439],\n",
       "       [0.01439106, 0.98560894],\n",
       "       [0.00555181, 0.99444819]])"
      ]
     },
     "execution_count": 38,
     "metadata": {},
     "output_type": "execute_result"
    }
   ],
   "source": [
    "lgbm.predict_proba(X_test)"
   ]
  },
  {
   "cell_type": "code",
   "execution_count": null,
   "id": "b2e7193b",
   "metadata": {},
   "outputs": [],
   "source": []
  }
 ],
 "metadata": {
  "kernelspec": {
   "display_name": "Python 3 (ipykernel)",
   "language": "python",
   "name": "python3"
  },
  "language_info": {
   "codemirror_mode": {
    "name": "ipython",
    "version": 3
   },
   "file_extension": ".py",
   "mimetype": "text/x-python",
   "name": "python",
   "nbconvert_exporter": "python",
   "pygments_lexer": "ipython3",
   "version": "3.9.7"
  },
  "toc": {
   "base_numbering": 1,
   "nav_menu": {},
   "number_sections": true,
   "sideBar": true,
   "skip_h1_title": false,
   "title_cell": "Table of Contents",
   "title_sidebar": "Contents",
   "toc_cell": false,
   "toc_position": {},
   "toc_section_display": true,
   "toc_window_display": false
  }
 },
 "nbformat": 4,
 "nbformat_minor": 5
}
