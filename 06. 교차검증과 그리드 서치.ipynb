{
 "cells": [
  {
   "cell_type": "code",
   "execution_count": 1,
   "id": "a74c0717",
   "metadata": {},
   "outputs": [],
   "source": [
    "import numpy as np\n",
    "import pandas as pd\n",
    "import matplotlib.pyplot as plt\n",
    "import matplotlib as mpl\n",
    "\n",
    "## ggplot 스타일\n",
    "mpl.style.use('ggplot')\n",
    "# matplotlib 한글화\n",
    "mpl.rcParams['font.family'] = 'D2coding'"
   ]
  },
  {
   "cell_type": "code",
   "execution_count": 2,
   "id": "5fda04df",
   "metadata": {},
   "outputs": [],
   "source": [
    "wine = pd.read_csv('https://raw.githubusercontent.com/rickiepark/hg-mldl/master/wine.csv')"
   ]
  },
  {
   "cell_type": "code",
   "execution_count": 4,
   "id": "85c2d983",
   "metadata": {},
   "outputs": [],
   "source": [
    "wine_input = wine[['alcohol','sugar','pH']].to_numpy()\n",
    "wine_target = wine['class'].to_numpy()"
   ]
  },
  {
   "cell_type": "markdown",
   "id": "aaa032ce",
   "metadata": {},
   "source": [
    "## 훈련세트와 테스트세트 분리"
   ]
  },
  {
   "cell_type": "code",
   "execution_count": 6,
   "id": "b2cca9ae",
   "metadata": {},
   "outputs": [],
   "source": [
    "from sklearn.model_selection import train_test_split\n",
    "\n",
    "train_input, test_input, train_target, test_target = train_test_split(\n",
    "    wine_input, wine_target, test_size = 0.2, random_state = 42) "
   ]
  },
  {
   "cell_type": "markdown",
   "id": "8ed8c697",
   "metadata": {},
   "source": [
    "## 훈련세트에서 검증세트 분리"
   ]
  },
  {
   "cell_type": "code",
   "execution_count": 11,
   "id": "3ae0bd14",
   "metadata": {},
   "outputs": [],
   "source": [
    "#실제 데이터  검증데이터\n",
    "sub_input, val_input, sub_target, val_target = train_test_split(\n",
    "    train_input, train_target, test_size = 0.2, random_state = 42)"
   ]
  },
  {
   "cell_type": "code",
   "execution_count": 12,
   "id": "42f0cc03",
   "metadata": {},
   "outputs": [
    {
     "data": {
      "text/plain": [
       "((4157, 3), (1040, 3))"
      ]
     },
     "execution_count": 12,
     "metadata": {},
     "output_type": "execute_result"
    }
   ],
   "source": [
    "sub_input.shape, val_input.shape"
   ]
  },
  {
   "cell_type": "markdown",
   "id": "3d9f674e",
   "metadata": {},
   "source": [
    "## 모델 구축(DecisionTreeClassifier)"
   ]
  },
  {
   "cell_type": "code",
   "execution_count": 13,
   "id": "ca154f58",
   "metadata": {},
   "outputs": [
    {
     "name": "stdout",
     "output_type": "stream",
     "text": [
      "0.9971133028626413\n",
      "0.864423076923077\n"
     ]
    }
   ],
   "source": [
    "from sklearn.tree import DecisionTreeClassifier\n",
    "\n",
    "dt = DecisionTreeClassifier(random_state=42)\n",
    "dt.fit(sub_input, sub_target)\n",
    "\n",
    "print(dt.score(sub_input, sub_target))\n",
    "print(dt.score(val_input, val_target))"
   ]
  },
  {
   "cell_type": "code",
   "execution_count": 14,
   "id": "3d00a737",
   "metadata": {},
   "outputs": [],
   "source": [
    "# 과대접합 현상**"
   ]
  },
  {
   "cell_type": "markdown",
   "id": "6d0e1e41",
   "metadata": {},
   "source": [
    "## 교차 검증(k-fold cross validation)"
   ]
  },
  {
   "cell_type": "code",
   "execution_count": 22,
   "id": "31d99044",
   "metadata": {},
   "outputs": [
    {
     "data": {
      "text/plain": [
       "{'fit_time': array([0.00698185, 0.00598407, 0.00698018, 0.00498629, 0.00498581]),\n",
       " 'score_time': array([0.        , 0.        , 0.00099897, 0.00099564, 0.        ]),\n",
       " 'test_score': array([0.86923077, 0.84615385, 0.87680462, 0.84889317, 0.83541867])}"
      ]
     },
     "execution_count": 22,
     "metadata": {},
     "output_type": "execute_result"
    }
   ],
   "source": [
    "from sklearn.model_selection import cross_validate\n",
    "# 오격 교차 검증, 10격 교차검증\n",
    "# 평가할 모델 객체를 매개변수로 전달한다. (검정세트를 떼어내지 않고 훈련세트 전체를 전달해야 한다.)\n",
    "# cross_validate(모델객체dt, 검증데이터train_input, 정답train_target, cv = 10)\n",
    "\n",
    "scores = cross_validate(dt, train_input, train_target) # 디폴트 = 5\n",
    "scores\n",
    "\n",
    "# fit_time   : 훈련 시간 \n",
    "# score_time : 검증 시간\n",
    "# test_score : 최종 점수"
   ]
  },
  {
   "cell_type": "code",
   "execution_count": 26,
   "id": "01776aee",
   "metadata": {},
   "outputs": [
    {
     "data": {
      "text/plain": [
       "0.855300214703487"
      ]
     },
     "execution_count": 26,
     "metadata": {},
     "output_type": "execute_result"
    }
   ],
   "source": [
    "np.mean(scores['test_score'])\n",
    "\n",
    "#과대적합 해결\n",
    "#과소적합 의심"
   ]
  },
  {
   "cell_type": "code",
   "execution_count": 27,
   "id": "7bd30847",
   "metadata": {},
   "outputs": [
    {
     "data": {
      "text/plain": [
       "0.855300214703487"
      ]
     },
     "execution_count": 27,
     "metadata": {},
     "output_type": "execute_result"
    }
   ],
   "source": [
    "from sklearn.model_selection import StratifiedKFold\n",
    "# cv = StratifiedKFold() 분할, splitter \n",
    "\n",
    "scores = cross_validate(dt, train_input, train_target, cv = StratifiedKFold()) # 디폴트 = 5\n",
    "np.mean(scores['test_score'])"
   ]
  },
  {
   "cell_type": "code",
   "execution_count": 32,
   "id": "2cd5784e",
   "metadata": {},
   "outputs": [
    {
     "data": {
      "text/plain": [
       "0.8574181117533719"
      ]
     },
     "execution_count": 32,
     "metadata": {},
     "output_type": "execute_result"
    }
   ],
   "source": [
    "# 만약 k-fold = 10이면 (10-겹 교차검증)\n",
    "# splitter= 에 담아주야함\n",
    "splitter = StratifiedKFold(n_splits=10, shuffle=True, random_state=42) # 분할기 , 한번 섞어서 나옴(그냥 나오지않고)\n",
    "scores = cross_validate(dt, train_input, train_target, cv = splitter)  # 디폴트 = 5\n",
    "np.mean(scores['test_score'])"
   ]
  },
  {
   "cell_type": "code",
   "execution_count": null,
   "id": "6666db13",
   "metadata": {},
   "outputs": [],
   "source": []
  }
 ],
 "metadata": {
  "kernelspec": {
   "display_name": "Python 3 (ipykernel)",
   "language": "python",
   "name": "python3"
  },
  "language_info": {
   "codemirror_mode": {
    "name": "ipython",
    "version": 3
   },
   "file_extension": ".py",
   "mimetype": "text/x-python",
   "name": "python",
   "nbconvert_exporter": "python",
   "pygments_lexer": "ipython3",
   "version": "3.9.7"
  },
  "toc": {
   "base_numbering": 1,
   "nav_menu": {},
   "number_sections": true,
   "sideBar": true,
   "skip_h1_title": false,
   "title_cell": "Table of Contents",
   "title_sidebar": "Contents",
   "toc_cell": false,
   "toc_position": {},
   "toc_section_display": true,
   "toc_window_display": false
  }
 },
 "nbformat": 4,
 "nbformat_minor": 5
}
