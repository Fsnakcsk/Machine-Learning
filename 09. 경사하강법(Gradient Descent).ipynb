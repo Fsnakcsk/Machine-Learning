{
 "cells": [
  {
   "cell_type": "markdown",
   "id": "587cee28",
   "metadata": {},
   "source": [
    "# 경사하강법이란?\n",
    "\n",
    "- 손실을 줄이는 알고리즘\n",
    "- 기울기가 최소가 되는 점을 찾아서 알맞은 가중치를 찾아내는 것\n",
    "- 손실함수를 최적화하는 방법중 하나다"
   ]
  },
  {
   "cell_type": "markdown",
   "id": "a85f70f3",
   "metadata": {},
   "source": [
    "## 점신적인 학습 or 온라인 학습"
   ]
  },
  {
   "cell_type": "markdown",
   "id": "a3965e9b",
   "metadata": {},
   "source": [
    "# 확률적 경사 하강법(SGD)\n",
    "- 학률적 : 런덤하게\n",
    "- 경사   : 기울기 \n",
    "- 하강법 : 손실을 최소화하게 내려가는 방법"
   ]
  },
  {
   "cell_type": "code",
   "execution_count": 1,
   "id": "9c21fc80",
   "metadata": {},
   "outputs": [],
   "source": [
    "# 어떻게 길을 찾아? 기율기 훈련데이터를 이용함,\n",
    "# 데이터를 다 사용했고 못내려오면 \n",
    "# 백치사이즈 : 스탭\n",
    "\n",
    "# 뷴류에서 손실 : 분류 잘못된 것 (줄이는 방법 로지스틱)\n",
    "\n",
    "# 딥러닝 : 크로스 앰트로피 (이진분류 때)\n",
    "# MSE : RMSE "
   ]
  },
  {
   "cell_type": "code",
   "execution_count": 2,
   "id": "f2739084",
   "metadata": {},
   "outputs": [],
   "source": [
    "# 평가 지표 : 혼동(오차) 행렬"
   ]
  },
  {
   "cell_type": "markdown",
   "id": "7b7d2ffe",
   "metadata": {},
   "source": [
    "## 필수 라이브러리 로딩"
   ]
  },
  {
   "cell_type": "code",
   "execution_count": 3,
   "id": "a9d4ec75",
   "metadata": {},
   "outputs": [],
   "source": [
    "import numpy as np\n",
    "import pandas as pd\n",
    "\n",
    "import matplotlib as mpl\n",
    "import matplotlib.pyplot as plt\n",
    "\n",
    "import warnings\n",
    "%matplotlib inline\n",
    "%config Inlinebackend.figure_format = 'retina'\n",
    "\n",
    "# 한글 폰트 설정\n",
    "mpl.rc('font', family='malgun gothic')\n",
    "\n",
    "# 시각화 차트에 음수설정\n",
    "mpl.rc('axes', unicode_minus = False)\n",
    "\n",
    "# 오류경고\n",
    "warnings.filterwarnings('ignore')"
   ]
  },
  {
   "cell_type": "markdown",
   "id": "5a5a4b15",
   "metadata": {},
   "source": [
    "## 훈련데티어 로딩"
   ]
  },
  {
   "cell_type": "code",
   "execution_count": 4,
   "id": "8fc413b3",
   "metadata": {},
   "outputs": [
    {
     "data": {
      "text/html": [
       "<div>\n",
       "<style scoped>\n",
       "    .dataframe tbody tr th:only-of-type {\n",
       "        vertical-align: middle;\n",
       "    }\n",
       "\n",
       "    .dataframe tbody tr th {\n",
       "        vertical-align: top;\n",
       "    }\n",
       "\n",
       "    .dataframe thead th {\n",
       "        text-align: right;\n",
       "    }\n",
       "</style>\n",
       "<table border=\"1\" class=\"dataframe\">\n",
       "  <thead>\n",
       "    <tr style=\"text-align: right;\">\n",
       "      <th></th>\n",
       "      <th>Species</th>\n",
       "      <th>Weight</th>\n",
       "      <th>Length</th>\n",
       "      <th>Diagonal</th>\n",
       "      <th>Height</th>\n",
       "      <th>Width</th>\n",
       "    </tr>\n",
       "  </thead>\n",
       "  <tbody>\n",
       "    <tr>\n",
       "      <th>0</th>\n",
       "      <td>Bream</td>\n",
       "      <td>242.0</td>\n",
       "      <td>25.4</td>\n",
       "      <td>30.0</td>\n",
       "      <td>11.5200</td>\n",
       "      <td>4.0200</td>\n",
       "    </tr>\n",
       "    <tr>\n",
       "      <th>1</th>\n",
       "      <td>Bream</td>\n",
       "      <td>290.0</td>\n",
       "      <td>26.3</td>\n",
       "      <td>31.2</td>\n",
       "      <td>12.4800</td>\n",
       "      <td>4.3056</td>\n",
       "    </tr>\n",
       "    <tr>\n",
       "      <th>2</th>\n",
       "      <td>Bream</td>\n",
       "      <td>340.0</td>\n",
       "      <td>26.5</td>\n",
       "      <td>31.1</td>\n",
       "      <td>12.3778</td>\n",
       "      <td>4.6961</td>\n",
       "    </tr>\n",
       "    <tr>\n",
       "      <th>3</th>\n",
       "      <td>Bream</td>\n",
       "      <td>363.0</td>\n",
       "      <td>29.0</td>\n",
       "      <td>33.5</td>\n",
       "      <td>12.7300</td>\n",
       "      <td>4.4555</td>\n",
       "    </tr>\n",
       "    <tr>\n",
       "      <th>4</th>\n",
       "      <td>Bream</td>\n",
       "      <td>430.0</td>\n",
       "      <td>29.0</td>\n",
       "      <td>34.0</td>\n",
       "      <td>12.4440</td>\n",
       "      <td>5.1340</td>\n",
       "    </tr>\n",
       "  </tbody>\n",
       "</table>\n",
       "</div>"
      ],
      "text/plain": [
       "  Species  Weight  Length  Diagonal   Height   Width\n",
       "0   Bream   242.0    25.4      30.0  11.5200  4.0200\n",
       "1   Bream   290.0    26.3      31.2  12.4800  4.3056\n",
       "2   Bream   340.0    26.5      31.1  12.3778  4.6961\n",
       "3   Bream   363.0    29.0      33.5  12.7300  4.4555\n",
       "4   Bream   430.0    29.0      34.0  12.4440  5.1340"
      ]
     },
     "execution_count": 4,
     "metadata": {},
     "output_type": "execute_result"
    }
   ],
   "source": [
    "fish = pd.read_csv(\"https://bit.ly/fish_csv_data\")\n",
    "fish.head()"
   ]
  },
  {
   "cell_type": "code",
   "execution_count": 5,
   "id": "a66f3e43",
   "metadata": {},
   "outputs": [
    {
     "data": {
      "text/plain": [
       "array(['Bream', 'Roach', 'Whitefish', 'Parkki', 'Perch', 'Pike', 'Smelt'],\n",
       "      dtype=object)"
      ]
     },
     "execution_count": 5,
     "metadata": {},
     "output_type": "execute_result"
    }
   ],
   "source": [
    "# target 고유값\n",
    "fish['Species'].unique()"
   ]
  },
  {
   "cell_type": "code",
   "execution_count": 6,
   "id": "66ee28a6",
   "metadata": {},
   "outputs": [],
   "source": [
    "# Species를 제외한 나머지 특성은 입력 데이터\n",
    "# Species는 타긱 데이터\n",
    "\n",
    "fish_input = fish[['Weight', 'Length','Diagonal', 'Height', 'Width']].to_numpy()\n",
    "fish_target = fish['Species'].to_numpy()"
   ]
  },
  {
   "cell_type": "markdown",
   "id": "a58b435d",
   "metadata": {},
   "source": [
    "## 특성 전처리와 훈련세트, 테스트 세트분리\n",
    "- 특성 스케링"
   ]
  },
  {
   "cell_type": "code",
   "execution_count": 19,
   "id": "1ad3a9d2",
   "metadata": {},
   "outputs": [],
   "source": [
    "from sklearn.model_selection import train_test_split\n",
    "from sklearn.preprocessing import StandardScaler\n",
    "\n",
    "# 훈련세트와 테스트세트 분리\n",
    "train_input, test_input, train_target, test_target = train_test_split(\n",
    "    fish_input, fish_target, random_state = 42)\n",
    "\n",
    "# 표준화\n",
    "ss = StandardScaler()\n",
    "ss.fit(train_input) # 비지도학습 : 정답이 없으니까\n",
    "\n",
    "train_scaled = ss.transform(train_input)\n",
    "test_scaled = ss.transform(test_input)"
   ]
  },
  {
   "cell_type": "markdown",
   "id": "1ac6a1e5",
   "metadata": {},
   "source": [
    "## 확률적 경사 하상법으로 훈련"
   ]
  },
  {
   "cell_type": "code",
   "execution_count": 20,
   "id": "59716345",
   "metadata": {},
   "outputs": [
    {
     "name": "stdout",
     "output_type": "stream",
     "text": [
      "0.773109243697479\n",
      "0.775\n"
     ]
    }
   ],
   "source": [
    "# SGDClassifier 클래스 : 확률적 경사 하강법을 제공하는 분류용 클래스\n",
    "from sklearn.linear_model import SGDClassifier \n",
    "\n",
    "# 변수에 하이버파라미터\n",
    "\n",
    "# loss function(손실함수) : 손실 함수의 종류를 지정하는 매개변스(loss)\n",
    "## 이진분류회긔 : 이진크로스엔트로피\n",
    "## 다중분류휘귀 : 크로스엔트로피 , 소프트맥스\n",
    "\n",
    "# max_iter : 수행할 애포크 횟수\n",
    "\n",
    "#                     로직함수   전체훈련세트 사용하는 것을 애포크 \n",
    "sc = SGDClassifier(loss = 'log', max_iter=10, random_state=42) # 이진분류\n",
    "sc.fit(train_scaled, train_target)\n",
    "\n",
    "\n",
    "# 평가\n",
    "print(sc.score(train_scaled, train_target))\n",
    "print(sc.score(test_scaled, test_target))"
   ]
  },
  {
   "cell_type": "code",
   "execution_count": 21,
   "id": "c6cb1be0",
   "metadata": {},
   "outputs": [
    {
     "name": "stdout",
     "output_type": "stream",
     "text": [
      "0.8151260504201681\n",
      "0.85\n"
     ]
    }
   ],
   "source": [
    "# 모델을 이어서 훈련할 때 partial_fit() 병형 학습\n",
    "\n",
    "sc.partial_fit(train_scaled, train_target)\n",
    "print(sc.score(train_scaled, train_target))\n",
    "print(sc.score(test_scaled, test_target))"
   ]
  },
  {
   "cell_type": "markdown",
   "id": "35c69894",
   "metadata": {},
   "source": [
    "## 가장 적절한 에포크 횟수 찾기\n",
    "\n",
    "- 애포크 횟수가 적어 모델이 훈련세트를 덜 학습하면 과속적합이 발생한다\n",
    "- 너무 많은 에포크 횟수는 과대적합된 모델일 가능성이 높다."
   ]
  },
  {
   "cell_type": "code",
   "execution_count": 22,
   "id": "4992b33d",
   "metadata": {},
   "outputs": [],
   "source": [
    "# sc.partial_fit()를 사용해 적절한 애포크 횟수 찾기\n",
    "\n",
    "sc = SGDClassifier(loss = 'log', random_state=42)\n",
    "\n",
    "train_score = []\n",
    "test_score = []\n",
    "\n",
    "# sc.partial_fit()만 사용하려면 훈련세트의 전체 클래스(target)의 래이블에 전달해줘야 한다\n",
    "classes = np.unique(train_target) \n",
    "\n",
    "# 300번의 애포크 동안 훈련을 반복하여 진행\n",
    "for _ in range(0, 300) :\n",
    "    sc.partial_fit(train_scaled, train_target, classes = classes)\n",
    "    train_score.append(sc.score(train_scaled, train_target))\n",
    "    test_score.append(sc.score(test_scaled, test_target))"
   ]
  },
  {
   "cell_type": "markdown",
   "id": "859e231c",
   "metadata": {},
   "source": [
    "## 에포크 횟수에 따른 점수 시각화 작업"
   ]
  },
  {
   "cell_type": "code",
   "execution_count": 23,
   "id": "9d685aba",
   "metadata": {},
   "outputs": [],
   "source": [
    "import seaborn as sns\n",
    "\n",
    "# 차트 스타일지정     글꼴                    음수처리                        눈금\n",
    "sns.set(font = 'malgun ghthic', rc={'axes.unicode_minus':False}, style = 'darkgrid')\n",
    "plt.rc('figure', figsize=(10, 8))"
   ]
  },
  {
   "cell_type": "code",
   "execution_count": 24,
   "id": "b046b830",
   "metadata": {},
   "outputs": [
    {
     "data": {
      "image/png": "[encoded data removed]",
      "text/plain": [
       "<Figure size 720x576 with 1 Axes>"
      ]
     },
     "metadata": {},
     "output_type": "display_data"
    }
   ],
   "source": [
    "plt.plot(train_score)\n",
    "plt.plot(test_score)\n",
    "plt.xlabel('epoch')\n",
    "plt.ylabel('accuacy')\n",
    "plt.show()"
   ]
  },
  {
   "cell_type": "code",
   "execution_count": 18,
   "id": "47f26873",
   "metadata": {},
   "outputs": [
    {
     "name": "stdout",
     "output_type": "stream",
     "text": [
      "0.957983193277311\n",
      "0.925\n"
     ]
    }
   ],
   "source": [
    "# 조기 종류 가능 : 일정 에포크 동안 성능이 향상되지 않으면 더 훈련하지 않고 자동으로 멈추는 기능\n",
    "# tol : 향상될 최소값을 지정하는 매개변수로 None으로 값을 주면 자종으로 멈추지 않고 max_iter횟수 만큼 무조건 반복됨\n",
    "\n",
    "sc = SGDClassifier(loss = 'log', max_iter=100, tol = None, random_state=42) # 이진분류\n",
    "# 세포트 백터 머신(SVM) 알고리즘에서 사용되는 손실함수의 기본값은 hinge\n",
    "\n",
    "sc.fit(train_scaled, train_target)\n",
    "\n",
    "\n",
    "# 평가\n",
    "print(sc.score(train_scaled, train_target))\n",
    "print(sc.score(test_scaled, test_target))"
   ]
  },
  {
   "cell_type": "code",
   "execution_count": null,
   "id": "1d0fd4e2",
   "metadata": {},
   "outputs": [],
   "source": []
  }
 ],
 "metadata": {
  "kernelspec": {
   "display_name": "Python 3 (ipykernel)",
   "language": "python",
   "name": "python3"
  },
  "language_info": {
   "codemirror_mode": {
    "name": "ipython",
    "version": 3
   },
   "file_extension": ".py",
   "mimetype": "text/x-python",
   "name": "python",
   "nbconvert_exporter": "python",
   "pygments_lexer": "ipython3",
   "version": "3.9.7"
  },
  "toc": {
   "base_numbering": 1,
   "nav_menu": {},
   "number_sections": true,
   "sideBar": true,
   "skip_h1_title": false,
   "title_cell": "Table of Contents",
   "title_sidebar": "Contents",
   "toc_cell": false,
   "toc_position": {},
   "toc_section_display": true,
   "toc_window_display": false
  }
 },
 "nbformat": 4,
 "nbformat_minor": 5
}
