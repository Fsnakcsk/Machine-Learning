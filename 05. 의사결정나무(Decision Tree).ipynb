{
 "cells": [
  {
   "cell_type": "markdown",
   "id": "92494930",
   "metadata": {},
   "source": [
    "- 어떤 규칙을 하나의 트기(tree) 형태로 표현한 후 이를 바탕으로 분류나 회귀 문제를 해결하는 알고리즘\n",
    "- 딥러닝 기반을 제외한 전통적인 통계 기반의 머신러닝 모델중 직관적이고 가장 실용성이 놓은 모델중 하니\n",
    "- scikit-learn의 tree중에 서브모듈에 DecisionTreeClassifier() = 분류 "
   ]
  },
  {
   "cell_type": "markdown",
   "id": "88b2c1a7",
   "metadata": {},
   "source": [
    "# 로지스틱 회귀로 와인 분류하기"
   ]
  },
  {
   "cell_type": "code",
   "execution_count": 1,
   "id": "dfaca987",
   "metadata": {},
   "outputs": [],
   "source": [
    "import numpy as np\n",
    "import pandas as pd\n",
    "import matplotlib.pyplot as plt\n",
    "import matplotlib as mpl\n",
    "\n",
    "## ggplot 스타일\n",
    "mpl.style.use('ggplot')\n",
    "# matplotlib 한글화\n",
    "mpl.rcParams['font.family'] = 'D2coding'"
   ]
  },
  {
   "cell_type": "markdown",
   "id": "07024aeb",
   "metadata": {},
   "source": [
    "https://githubusercontent.com/rickiepark/hg-mldl/master/wine/csv"
   ]
  },
  {
   "cell_type": "code",
   "execution_count": 2,
   "id": "1dce4da9",
   "metadata": {},
   "outputs": [],
   "source": [
    "wine = pd.read_csv('https://raw.githubusercontent.com/rickiepark/hg-mldl/master/wine.csv')"
   ]
  },
  {
   "cell_type": "code",
   "execution_count": 3,
   "id": "49035bcc",
   "metadata": {},
   "outputs": [
    {
     "data": {
      "text/html": [
       "<div>\n",
       "<style scoped>\n",
       "    .dataframe tbody tr th:only-of-type {\n",
       "        vertical-align: middle;\n",
       "    }\n",
       "\n",
       "    .dataframe tbody tr th {\n",
       "        vertical-align: top;\n",
       "    }\n",
       "\n",
       "    .dataframe thead th {\n",
       "        text-align: right;\n",
       "    }\n",
       "</style>\n",
       "<table border=\"1\" class=\"dataframe\">\n",
       "  <thead>\n",
       "    <tr style=\"text-align: right;\">\n",
       "      <th></th>\n",
       "      <th>alcohol</th>\n",
       "      <th>sugar</th>\n",
       "      <th>pH</th>\n",
       "      <th>class</th>\n",
       "    </tr>\n",
       "  </thead>\n",
       "  <tbody>\n",
       "    <tr>\n",
       "      <th>6429</th>\n",
       "      <td>11.1</td>\n",
       "      <td>1.6</td>\n",
       "      <td>3.23</td>\n",
       "      <td>1.0</td>\n",
       "    </tr>\n",
       "    <tr>\n",
       "      <th>5532</th>\n",
       "      <td>11.0</td>\n",
       "      <td>5.6</td>\n",
       "      <td>2.96</td>\n",
       "      <td>1.0</td>\n",
       "    </tr>\n",
       "    <tr>\n",
       "      <th>939</th>\n",
       "      <td>11.4</td>\n",
       "      <td>1.6</td>\n",
       "      <td>3.61</td>\n",
       "      <td>0.0</td>\n",
       "    </tr>\n",
       "    <tr>\n",
       "      <th>5635</th>\n",
       "      <td>9.9</td>\n",
       "      <td>1.4</td>\n",
       "      <td>3.14</td>\n",
       "      <td>1.0</td>\n",
       "    </tr>\n",
       "    <tr>\n",
       "      <th>3901</th>\n",
       "      <td>9.0</td>\n",
       "      <td>7.0</td>\n",
       "      <td>3.21</td>\n",
       "      <td>1.0</td>\n",
       "    </tr>\n",
       "    <tr>\n",
       "      <th>1082</th>\n",
       "      <td>9.5</td>\n",
       "      <td>1.8</td>\n",
       "      <td>3.42</td>\n",
       "      <td>0.0</td>\n",
       "    </tr>\n",
       "    <tr>\n",
       "      <th>2414</th>\n",
       "      <td>9.0</td>\n",
       "      <td>2.8</td>\n",
       "      <td>3.01</td>\n",
       "      <td>1.0</td>\n",
       "    </tr>\n",
       "    <tr>\n",
       "      <th>1133</th>\n",
       "      <td>11.2</td>\n",
       "      <td>5.5</td>\n",
       "      <td>3.37</td>\n",
       "      <td>0.0</td>\n",
       "    </tr>\n",
       "    <tr>\n",
       "      <th>6409</th>\n",
       "      <td>9.1</td>\n",
       "      <td>3.3</td>\n",
       "      <td>3.42</td>\n",
       "      <td>1.0</td>\n",
       "    </tr>\n",
       "    <tr>\n",
       "      <th>310</th>\n",
       "      <td>9.3</td>\n",
       "      <td>2.5</td>\n",
       "      <td>3.12</td>\n",
       "      <td>0.0</td>\n",
       "    </tr>\n",
       "  </tbody>\n",
       "</table>\n",
       "</div>"
      ],
      "text/plain": [
       "      alcohol  sugar    pH  class\n",
       "6429     11.1    1.6  3.23    1.0\n",
       "5532     11.0    5.6  2.96    1.0\n",
       "939      11.4    1.6  3.61    0.0\n",
       "5635      9.9    1.4  3.14    1.0\n",
       "3901      9.0    7.0  3.21    1.0\n",
       "1082      9.5    1.8  3.42    0.0\n",
       "2414      9.0    2.8  3.01    1.0\n",
       "1133     11.2    5.5  3.37    0.0\n",
       "6409      9.1    3.3  3.42    1.0\n",
       "310       9.3    2.5  3.12    0.0"
      ]
     },
     "execution_count": 3,
     "metadata": {},
     "output_type": "execute_result"
    }
   ],
   "source": [
    "wine.sample(10)"
   ]
  },
  {
   "cell_type": "code",
   "execution_count": 4,
   "id": "399eb2dd",
   "metadata": {},
   "outputs": [
    {
     "data": {
      "text/plain": [
       "(6497, 4)"
      ]
     },
     "execution_count": 4,
     "metadata": {},
     "output_type": "execute_result"
    }
   ],
   "source": [
    "wine.shape"
   ]
  },
  {
   "cell_type": "code",
   "execution_count": 5,
   "id": "16b7912c",
   "metadata": {},
   "outputs": [
    {
     "name": "stdout",
     "output_type": "stream",
     "text": [
      "<class 'pandas.core.frame.DataFrame'>\n",
      "RangeIndex: 6497 entries, 0 to 6496\n",
      "Data columns (total 4 columns):\n",
      " #   Column   Non-Null Count  Dtype  \n",
      "---  ------   --------------  -----  \n",
      " 0   alcohol  6497 non-null   float64\n",
      " 1   sugar    6497 non-null   float64\n",
      " 2   pH       6497 non-null   float64\n",
      " 3   class    6497 non-null   float64\n",
      "dtypes: float64(4)\n",
      "memory usage: 203.2 KB\n"
     ]
    }
   ],
   "source": [
    "wine.info()"
   ]
  },
  {
   "cell_type": "code",
   "execution_count": 6,
   "id": "8c8efc27",
   "metadata": {},
   "outputs": [
    {
     "data": {
      "text/html": [
       "<div>\n",
       "<style scoped>\n",
       "    .dataframe tbody tr th:only-of-type {\n",
       "        vertical-align: middle;\n",
       "    }\n",
       "\n",
       "    .dataframe tbody tr th {\n",
       "        vertical-align: top;\n",
       "    }\n",
       "\n",
       "    .dataframe thead th {\n",
       "        text-align: right;\n",
       "    }\n",
       "</style>\n",
       "<table border=\"1\" class=\"dataframe\">\n",
       "  <thead>\n",
       "    <tr style=\"text-align: right;\">\n",
       "      <th></th>\n",
       "      <th>alcohol</th>\n",
       "      <th>sugar</th>\n",
       "      <th>pH</th>\n",
       "      <th>class</th>\n",
       "    </tr>\n",
       "  </thead>\n",
       "  <tbody>\n",
       "    <tr>\n",
       "      <th>count</th>\n",
       "      <td>6497.000000</td>\n",
       "      <td>6497.000000</td>\n",
       "      <td>6497.000000</td>\n",
       "      <td>6497.000000</td>\n",
       "    </tr>\n",
       "    <tr>\n",
       "      <th>mean</th>\n",
       "      <td>10.491801</td>\n",
       "      <td>5.443235</td>\n",
       "      <td>3.218501</td>\n",
       "      <td>0.753886</td>\n",
       "    </tr>\n",
       "    <tr>\n",
       "      <th>std</th>\n",
       "      <td>1.192712</td>\n",
       "      <td>4.757804</td>\n",
       "      <td>0.160787</td>\n",
       "      <td>0.430779</td>\n",
       "    </tr>\n",
       "    <tr>\n",
       "      <th>min</th>\n",
       "      <td>8.000000</td>\n",
       "      <td>0.600000</td>\n",
       "      <td>2.720000</td>\n",
       "      <td>0.000000</td>\n",
       "    </tr>\n",
       "    <tr>\n",
       "      <th>25%</th>\n",
       "      <td>9.500000</td>\n",
       "      <td>1.800000</td>\n",
       "      <td>3.110000</td>\n",
       "      <td>1.000000</td>\n",
       "    </tr>\n",
       "    <tr>\n",
       "      <th>50%</th>\n",
       "      <td>10.300000</td>\n",
       "      <td>3.000000</td>\n",
       "      <td>3.210000</td>\n",
       "      <td>1.000000</td>\n",
       "    </tr>\n",
       "    <tr>\n",
       "      <th>75%</th>\n",
       "      <td>11.300000</td>\n",
       "      <td>8.100000</td>\n",
       "      <td>3.320000</td>\n",
       "      <td>1.000000</td>\n",
       "    </tr>\n",
       "    <tr>\n",
       "      <th>max</th>\n",
       "      <td>14.900000</td>\n",
       "      <td>65.800000</td>\n",
       "      <td>4.010000</td>\n",
       "      <td>1.000000</td>\n",
       "    </tr>\n",
       "  </tbody>\n",
       "</table>\n",
       "</div>"
      ],
      "text/plain": [
       "           alcohol        sugar           pH        class\n",
       "count  6497.000000  6497.000000  6497.000000  6497.000000\n",
       "mean     10.491801     5.443235     3.218501     0.753886\n",
       "std       1.192712     4.757804     0.160787     0.430779\n",
       "min       8.000000     0.600000     2.720000     0.000000\n",
       "25%       9.500000     1.800000     3.110000     1.000000\n",
       "50%      10.300000     3.000000     3.210000     1.000000\n",
       "75%      11.300000     8.100000     3.320000     1.000000\n",
       "max      14.900000    65.800000     4.010000     1.000000"
      ]
     },
     "execution_count": 6,
     "metadata": {},
     "output_type": "execute_result"
    }
   ],
   "source": [
    "wine.describe()"
   ]
  },
  {
   "cell_type": "code",
   "execution_count": 7,
   "id": "dd597004",
   "metadata": {},
   "outputs": [
    {
     "data": {
      "text/plain": [
       "array([0., 1.])"
      ]
     },
     "execution_count": 7,
     "metadata": {},
     "output_type": "execute_result"
    }
   ],
   "source": [
    "wine['class'].unique()"
   ]
  },
  {
   "cell_type": "code",
   "execution_count": 8,
   "id": "da42e99f",
   "metadata": {},
   "outputs": [
    {
     "data": {
      "text/plain": [
       "1.0    4898\n",
       "0.0    1599\n",
       "Name: class, dtype: int64"
      ]
     },
     "execution_count": 8,
     "metadata": {},
     "output_type": "execute_result"
    }
   ],
   "source": [
    "wine['class'].value_counts()"
   ]
  },
  {
   "cell_type": "code",
   "execution_count": 9,
   "id": "9e00f5cd",
   "metadata": {},
   "outputs": [],
   "source": [
    "wine_input = wine[['alcohol','sugar','pH']].to_numpy()\n",
    "wine_target = wine['class'].to_numpy()"
   ]
  },
  {
   "cell_type": "code",
   "execution_count": 10,
   "id": "13aee6f8",
   "metadata": {},
   "outputs": [
    {
     "data": {
      "text/plain": [
       "array([0., 0., 0., ..., 1., 1., 1.])"
      ]
     },
     "execution_count": 10,
     "metadata": {},
     "output_type": "execute_result"
    }
   ],
   "source": [
    "wine_target"
   ]
  },
  {
   "cell_type": "code",
   "execution_count": 11,
   "id": "8aca48c3",
   "metadata": {},
   "outputs": [
    {
     "data": {
      "text/plain": [
       "((6497, 3), (6497,))"
      ]
     },
     "execution_count": 11,
     "metadata": {},
     "output_type": "execute_result"
    }
   ],
   "source": [
    "wine_input.shape, wine_target.shape"
   ]
  },
  {
   "cell_type": "markdown",
   "id": "2313cc12",
   "metadata": {},
   "source": [
    "# 훈련 세트와 테스트 세트로 분리"
   ]
  },
  {
   "cell_type": "code",
   "execution_count": 12,
   "id": "655922db",
   "metadata": {},
   "outputs": [],
   "source": [
    "from sklearn.model_selection import train_test_split\n",
    "\n",
    "train_input, test_input, train_target, test_target = train_test_split(\n",
    "    wine_input, wine_target, test_size = 0.2, random_state = 42) "
   ]
  },
  {
   "cell_type": "code",
   "execution_count": 13,
   "id": "51784117",
   "metadata": {},
   "outputs": [
    {
     "data": {
      "text/plain": [
       "((5197, 3), (1300, 3), (5197,), (1300,))"
      ]
     },
     "execution_count": 13,
     "metadata": {},
     "output_type": "execute_result"
    }
   ],
   "source": [
    "train_input.shape, test_input.shape, train_target.shape, test_target.shape"
   ]
  },
  {
   "cell_type": "code",
   "execution_count": 14,
   "id": "28288fed",
   "metadata": {},
   "outputs": [
    {
     "data": {
      "text/plain": [
       "array([1., 0., 1., ..., 1., 1., 1.])"
      ]
     },
     "execution_count": 14,
     "metadata": {},
     "output_type": "execute_result"
    }
   ],
   "source": [
    "test_target"
   ]
  },
  {
   "cell_type": "markdown",
   "id": "bcddae73",
   "metadata": {},
   "source": [
    "## 피처 스캐일링"
   ]
  },
  {
   "cell_type": "code",
   "execution_count": 15,
   "id": "d48b0f5d",
   "metadata": {},
   "outputs": [],
   "source": [
    "from sklearn.preprocessing import StandardScaler, MinMaxScaler"
   ]
  },
  {
   "cell_type": "code",
   "execution_count": 16,
   "id": "cc19c8f6",
   "metadata": {},
   "outputs": [],
   "source": [
    "ss = StandardScaler()\n",
    "ss.fit(train_input)\n",
    "train_scaled = ss.transform(train_input)\n",
    "test_scaled = ss.transform(test_input)"
   ]
  },
  {
   "cell_type": "markdown",
   "id": "26095c37",
   "metadata": {},
   "source": [
    "## 로지스틱 회귀 모델 구축하기"
   ]
  },
  {
   "cell_type": "code",
   "execution_count": 17,
   "id": "c052540b",
   "metadata": {},
   "outputs": [
    {
     "name": "stdout",
     "output_type": "stream",
     "text": [
      "0.7808350971714451\n",
      "0.7776923076923077\n"
     ]
    }
   ],
   "source": [
    "from sklearn.linear_model import LogisticRegression\n",
    "\n",
    "lr = LogisticRegression() # 디폴트 = 1\n",
    "lr.fit(train_scaled, train_target)\n",
    "print(lr.score(train_scaled, train_target))\n",
    "print(lr.score(test_scaled, test_target))"
   ]
  },
  {
   "cell_type": "code",
   "execution_count": 18,
   "id": "3c572152",
   "metadata": {},
   "outputs": [
    {
     "name": "stdout",
     "output_type": "stream",
     "text": [
      "[[ 0.51270274  1.6733911  -0.68767781]] [1.81777902]\n"
     ]
    }
   ],
   "source": [
    "print(lr.coef_, lr.intercept_)"
   ]
  },
  {
   "cell_type": "code",
   "execution_count": 19,
   "id": "8fbab2c3",
   "metadata": {},
   "outputs": [
    {
     "data": {
      "text/plain": [
       "1.0    4450\n",
       "0.0     747\n",
       "dtype: int64"
      ]
     },
     "execution_count": 19,
     "metadata": {},
     "output_type": "execute_result"
    }
   ],
   "source": [
    "pd.value_counts(lr.predict(train_scaled))"
   ]
  },
  {
   "cell_type": "code",
   "execution_count": 20,
   "id": "fb750f8e",
   "metadata": {},
   "outputs": [
    {
     "data": {
      "text/plain": [
       "array([[0.06189333, 0.93810667],\n",
       "       [0.21742616, 0.78257384],\n",
       "       [0.40703571, 0.59296429],\n",
       "       ...,\n",
       "       [0.20751956, 0.79248044],\n",
       "       [0.08048173, 0.91951827],\n",
       "       [0.69744416, 0.30255584]])"
      ]
     },
     "execution_count": 20,
     "metadata": {},
     "output_type": "execute_result"
    }
   ],
   "source": [
    "lr.predict_proba(train_scaled)"
   ]
  },
  {
   "cell_type": "code",
   "execution_count": 21,
   "id": "06149c08",
   "metadata": {},
   "outputs": [
    {
     "data": {
      "text/plain": [
       "array([ 2.71845124,  1.28072898,  0.37623326,  0.19151687,  5.23322944,\n",
       "       -0.25075351,  0.9334123 ,  0.42009103,  0.12669517,  2.2138284 ])"
      ]
     },
     "execution_count": 21,
     "metadata": {},
     "output_type": "execute_result"
    }
   ],
   "source": [
    "decisions = lr.decision_function(train_scaled[:10])\n",
    "decisions"
   ]
  },
  {
   "cell_type": "code",
   "execution_count": 22,
   "id": "0d1eb269",
   "metadata": {},
   "outputs": [
    {
     "name": "stdout",
     "output_type": "stream",
     "text": [
      "[0.93810667 0.78257384 0.59296429 0.54773341 0.99469206 0.43763804\n",
      " 0.71776705 0.60350503 0.53163149 0.90148445]\n",
      "[0.06189333 0.21742616 0.40703571 0.45226659 0.00530794 0.56236196\n",
      " 0.28223295 0.39649497 0.46836851 0.09851555]\n"
     ]
    }
   ],
   "source": [
    "from scipy.special import expit\n",
    "\n",
    "print(expit(decisions))\n",
    "print(1 - expit(decisions))"
   ]
  },
  {
   "cell_type": "code",
   "execution_count": 23,
   "id": "cf454acd",
   "metadata": {},
   "outputs": [
    {
     "data": {
      "text/plain": [
       "Text(0.5, 1.0, '시그모이드 시각화')"
      ]
     },
     "execution_count": 23,
     "metadata": {},
     "output_type": "execute_result"
    },
    {
     "data": {
      "image/png": "[encoded data removed]",
      "text/plain": [
       "<Figure size 432x288 with 1 Axes>"
      ]
     },
     "metadata": {},
     "output_type": "display_data"
    }
   ],
   "source": [
    "def simoid(x):\n",
    "    return 1 / (1 + np.exp(-x))\n",
    "\n",
    "x_data = np.arange(-10, 10, 0.1)\n",
    "y_data = simoid(x_data)\n",
    "\n",
    "plt.plot(x_data, y_data)\n",
    "plt.scatter(0, 0.5, marker='D')\n",
    "plt.scatter(decisions, expit(decisions),marker='^' ,color = 'g')\n",
    "plt.axhline(0.5, 0, 1, color = 'black', linestyle = '--')\n",
    "plt.ylim(-0.1, 1.1)\n",
    "plt.xlabel('x-data')\n",
    "plt.ylabel('y-data')\n",
    "plt.title('시그모이드 시각화')"
   ]
  },
  {
   "cell_type": "markdown",
   "id": "70f24901",
   "metadata": {},
   "source": [
    "## 의사결정 나무"
   ]
  },
  {
   "cell_type": "code",
   "execution_count": 24,
   "id": "8ef8dfe8",
   "metadata": {},
   "outputs": [
    {
     "name": "stdout",
     "output_type": "stream",
     "text": [
      "0.996921300750433\n",
      "0.8592307692307692\n"
     ]
    }
   ],
   "source": [
    "from sklearn.tree import DecisionTreeClassifier\n",
    "\n",
    "dt = DecisionTreeClassifier(random_state=42)\n",
    "dt.fit(train_scaled, train_target)\n",
    "\n",
    "print(dt.score(train_scaled, train_target))\n",
    "print(dt.score(test_scaled, test_target))"
   ]
  },
  {
   "cell_type": "code",
   "execution_count": 25,
   "id": "2843d83f",
   "metadata": {},
   "outputs": [
    {
     "data": {
      "image/png": "[encoded data removed]",
      "text/plain": [
       "<Figure size 720x504 with 1 Axes>"
      ]
     },
     "metadata": {},
     "output_type": "display_data"
    }
   ],
   "source": [
    "from sklearn.tree import plot_tree\n",
    "\n",
    "plt.figure(figsize = (10, 7))\n",
    "#            최대레 벨수(가지치기 파라메터)\n",
    "plot_tree(dt, max_depth=1, filled=True, feature_names = ['alcohol','sugar','pH'])\n",
    "plt.show()\n",
    "\n",
    "# 1-(음성클래스의 비율의 제곱 + 양성클래스의 비율의 제곱)"
   ]
  },
  {
   "cell_type": "markdown",
   "id": "ac3df38c",
   "metadata": {},
   "source": [
    "- 지니 불순도 : 1-{(음성클래스의 비율)<sup>2</sup> + (양성클래스의 비율)<sup>2</sup>}"
   ]
  },
  {
   "cell_type": "code",
   "execution_count": 26,
   "id": "a4e0b756",
   "metadata": {},
   "outputs": [
    {
     "data": {
      "text/plain": [
       "0.3669367279393918"
      ]
     },
     "execution_count": 26,
     "metadata": {},
     "output_type": "execute_result"
    }
   ],
   "source": [
    "# 루트의 지니불순도\n",
    "1 - ((1258/5197)**2 + (3939/5197)**2)"
   ]
  },
  {
   "cell_type": "code",
   "execution_count": 27,
   "id": "4e33651d",
   "metadata": {},
   "outputs": [
    {
     "data": {
      "text/plain": [
       "0.481106768216382"
      ]
     },
     "execution_count": 27,
     "metadata": {},
     "output_type": "execute_result"
    }
   ],
   "source": [
    "(1 - ((1177/2922)**2 + (1745/2922)**2))"
   ]
  },
  {
   "cell_type": "code",
   "execution_count": 28,
   "id": "24c37e44",
   "metadata": {},
   "outputs": [
    {
     "data": {
      "text/plain": [
       "-0.11417004027699018"
      ]
     },
     "execution_count": 28,
     "metadata": {},
     "output_type": "execute_result"
    }
   ],
   "source": [
    "1 - ((1258/5197)**2 + (3939/5197)**2) - (1 - ((1177/2922)**2 + (1745/2922)**2))"
   ]
  },
  {
   "cell_type": "code",
   "execution_count": 29,
   "id": "5415c37d",
   "metadata": {},
   "outputs": [],
   "source": [
    "# Pruning(가지치기) 비용함수, 적절하게 치는 것이 비용복잡도이다\n",
    "# 트리의 깊이 깊을 수록 과대적합됨\n",
    "# 가지치기 어디에서 치는지 비용함수라고 함\n"
   ]
  },
  {
   "cell_type": "markdown",
   "id": "fd8198cc",
   "metadata": {},
   "source": [
    "## 가지치기(pruning)\n",
    "- 최대 트리로 형성된 결정 트리의 특정 노드 밑의 트리를 제거하여 일반화 성능을 높이는 것\n",
    "- 과적합을 막기위해 사용된다\n",
    "- 더 많은 가지가 생기지 않도록 최대 깊이, leaf 노드의 최대개수, 한 노드가 분할하기 위한 최소 데이터 수를 제한 한다"
   ]
  },
  {
   "cell_type": "code",
   "execution_count": 30,
   "id": "92fd340b",
   "metadata": {},
   "outputs": [
    {
     "name": "stdout",
     "output_type": "stream",
     "text": [
      "0.8454877814123533\n",
      "0.8415384615384616\n"
     ]
    }
   ],
   "source": [
    "#                          훈련 데이터 줄어짐\n",
    "dt = DecisionTreeClassifier(max_depth = 3, random_state=42)\n",
    "dt.fit(train_scaled, train_target)\n",
    "\n",
    "print(dt.score(train_scaled, train_target))\n",
    "print(dt.score(test_scaled, test_target))"
   ]
  },
  {
   "cell_type": "code",
   "execution_count": 31,
   "id": "96f4ce6d",
   "metadata": {},
   "outputs": [
    {
     "data": {
      "image/png": "[encoded data removed]",
      "text/plain": [
       "<Figure size 1440x720 with 1 Axes>"
      ]
     },
     "metadata": {},
     "output_type": "display_data"
    }
   ],
   "source": [
    "from sklearn.tree import plot_tree\n",
    "\n",
    "plt.figure(figsize = (20, 10))\n",
    "#            최대레 벨수(가지치기 파라메터)\n",
    "plot_tree(dt, filled=True, feature_names = ['alcohol','sugar','pH'])\n",
    "plt.show()\n",
    "\n",
    "# 1-(음성클래스의 비율의 제곱 + 양성클래스의 비율의 제곱)\n",
    "\n",
    "\n",
    "# sugar 마이너스 나옴\n",
    "# 불순도 기준으로 하기 때문에 전처리할 필요없음\n",
    "# 하지만 우리는 전처리 데이터를 가지고 했음"
   ]
  },
  {
   "cell_type": "code",
   "execution_count": 32,
   "id": "a0242b12",
   "metadata": {},
   "outputs": [
    {
     "name": "stdout",
     "output_type": "stream",
     "text": [
      "0.8454877814123533\n",
      "0.8415384615384616\n"
     ]
    }
   ],
   "source": [
    "#                          훈련 데이터 줄어짐\n",
    "dt = DecisionTreeClassifier(max_depth = 3, random_state=42)\n",
    "dt.fit(train_input, train_target)\n",
    "\n",
    "print(dt.score(train_input, train_target))\n",
    "print(dt.score(test_input, test_target))"
   ]
  },
  {
   "cell_type": "code",
   "execution_count": 33,
   "id": "82d2f5d6",
   "metadata": {},
   "outputs": [
    {
     "data": {
      "image/png": "[encoded data removed]",
      "text/plain": [
       "<Figure size 1440x720 with 1 Axes>"
      ]
     },
     "metadata": {},
     "output_type": "display_data"
    }
   ],
   "source": [
    "plt.figure(figsize = (20, 10))\n",
    "#            최대레 벨수(가지치기 파라메터)\n",
    "plot_tree(dt, filled=True, feature_names = ['alcohol','sugar','pH'], class_names=['Red', 'white'])\n",
    "plt.show()\n",
    "\n",
    "# 특성 중요도\n",
    "# 결정 트리가 어떤 특성이 가장 중요한지 계산할 때 사용하는 결정트리"
   ]
  },
  {
   "cell_type": "code",
   "execution_count": 34,
   "id": "9e869b54",
   "metadata": {},
   "outputs": [
    {
     "data": {
      "text/plain": [
       "array([0., 1.])"
      ]
     },
     "execution_count": 34,
     "metadata": {},
     "output_type": "execute_result"
    }
   ],
   "source": [
    "dt.classes_"
   ]
  },
  {
   "cell_type": "code",
   "execution_count": 35,
   "id": "1eef3c0e",
   "metadata": {},
   "outputs": [
    {
     "data": {
      "text/plain": [
       "array([0.12345626, 0.86862934, 0.0079144 ])"
      ]
     },
     "execution_count": 35,
     "metadata": {},
     "output_type": "execute_result"
    }
   ],
   "source": [
    "# 결정 트리가 어떤 특성이 가장 중요한지 계산할 때 사용하는 결정트리\n",
    "# 특성 중요도 : 결정트리는 어떤 특성이 가장 유용한지를 나타내는 특성 중요도를 계산해 준다.\n",
    "\n",
    "dt.feature_importances_"
   ]
  },
  {
   "cell_type": "code",
   "execution_count": 36,
   "id": "c19b4bff",
   "metadata": {},
   "outputs": [
    {
     "name": "stdout",
     "output_type": "stream",
     "text": [
      "특성 중요도 - alcohol : 0.123, sugar : 0.869, pH : 0.008\n"
     ]
    }
   ],
   "source": [
    "# 특성 중요도 : 결정트리는 어떤 특성이 가장 유용한지를 나타내는 특성 중요도를 계산해 준다.\n",
    "print('특성 중요도 - alcohol : {:.3f}, sugar : {:.3f}, pH : {:.3f}'.format(\n",
    "    dt.feature_importances_[0], dt.feature_importances_[1], dt.feature_importances_[2]))"
   ]
  },
  {
   "cell_type": "code",
   "execution_count": 37,
   "id": "58599c7f",
   "metadata": {},
   "outputs": [],
   "source": [
    "class_names=['0', '1']"
   ]
  },
  {
   "cell_type": "markdown",
   "id": "efc51c65",
   "metadata": {},
   "source": [
    "### 그리드 서치"
   ]
  },
  {
   "cell_type": "code",
   "execution_count": 58,
   "id": "0c0acfb8",
   "metadata": {},
   "outputs": [
    {
     "name": "stdout",
     "output_type": "stream",
     "text": [
      "0.8901289205310756\n",
      "0.8607692307692307\n"
     ]
    }
   ],
   "source": [
    "gs = DecisionTreeClassifier(max_depth = 3, random_state=42)\n",
    "gs.fit(train_input, train_target)\n",
    "\n",
    "print(dt.score(train_input, train_target))\n",
    "print(dt.score(test_input, test_target))"
   ]
  },
  {
   "cell_type": "code",
   "execution_count": 59,
   "id": "68454139",
   "metadata": {},
   "outputs": [
    {
     "data": {
      "text/plain": [
       "GridSearchCV(cv=10, estimator=DecisionTreeClassifier(random_state=2020),\n",
       "             n_jobs=-1,\n",
       "             param_grid={'max_depth': [2, 3, 4, 5, 6, 7, 8, 9, 10],\n",
       "                         'min_samples_leaf': [1, 2, 3, 4, 5, 6, 7, 8, 9],\n",
       "                         'min_samples_split': [2, 3, 4, 5, 6, 7, 8, 9, 10]})"
      ]
     },
     "execution_count": 59,
     "metadata": {},
     "output_type": "execute_result"
    }
   ],
   "source": [
    "from sklearn.tree import DecisionTreeClassifier\n",
    "from sklearn.model_selection import GridSearchCV\n",
    "\n",
    "model = DecisionTreeClassifier(random_state = 2020)\n",
    "\n",
    "params = {\n",
    "    'max_depth':[2, 3, 4, 5, 6, 7, 8, 9, 10],\n",
    "    'min_samples_leaf':[1, 2, 3, 4, 5, 6, 7, 8, 9],\n",
    "    'min_samples_split':[2, 3, 4, 5, 6, 7, 8, 9, 10]\n",
    "}\n",
    "#                                             폴더수\n",
    "gs = GridSearchCV(model, param_grid = params, cv = 10, refit=True, n_jobs=-1)\n",
    "gs.fit(train_input, train_target)"
   ]
  },
  {
   "cell_type": "code",
   "execution_count": 70,
   "id": "bb029144",
   "metadata": {},
   "outputs": [
    {
     "name": "stdout",
     "output_type": "stream",
     "text": [
      "{'max_depth': 9, 'min_samples_leaf': 9, 'min_samples_split': 2}\n",
      "0.8654961464354528\n"
     ]
    }
   ],
   "source": [
    "print(gs.best_params_)\n",
    "print(gs.best_score_)"
   ]
  },
  {
   "cell_type": "code",
   "execution_count": 71,
   "id": "2dbb6997",
   "metadata": {},
   "outputs": [
    {
     "name": "stdout",
     "output_type": "stream",
     "text": [
      "0.8949393881085241\n",
      "0.8553846153846154\n"
     ]
    }
   ],
   "source": [
    "model = gs.best_estimator_\n",
    "print(model.score(train_input, train_target))\n",
    "print(model.score(test_input, test_target))"
   ]
  },
  {
   "cell_type": "code",
   "execution_count": 77,
   "id": "c31f6244",
   "metadata": {},
   "outputs": [
    {
     "name": "stdout",
     "output_type": "stream",
     "text": [
      "0.8901289205310756\n",
      "0.8607692307692307\n"
     ]
    }
   ],
   "source": [
    "model = DecisionTreeClassifier(max_depth = 8, min_samples_leaf= 9, min_samples_split= 2, random_state=42)\n",
    "model.fit(train_input, train_target)\n",
    "\n",
    "print(dt.score(train_input, train_target))\n",
    "print(dt.score(test_input, test_target))"
   ]
  },
  {
   "cell_type": "code",
   "execution_count": 87,
   "id": "883f4328",
   "metadata": {},
   "outputs": [
    {
     "name": "stdout",
     "output_type": "stream",
     "text": [
      "no-recurrence-events,30-39,premeno,30-34,0-2,no,3,left,left_low,no\n",
      "\n",
      "no-recurrence-events,40-49,premeno,20-24,0-2,no,2,right,right_up,no\n",
      "\n",
      "no-recurrence-events,40-49,premeno,20-24,0-2,no,2,left,left_low,no\n",
      "\n",
      "no-recurrence-events,60-69,ge40,15-19,0-2,no,2,right,left_up,no\n",
      "\n",
      "no-recurrence-events,40-49,premeno,0-4,0-2,no,2,right,right_low,no\n",
      "\n",
      "no-recurrence-events,60-69,ge40,15-19,0-2,no,2,left,left_low,no\n",
      "\n",
      "no-recurrence-events,50-59,premeno,25-29,0-2,no,2,left,left_low,no\n",
      "\n",
      "no-recurrence-events,60-69,ge40,20-24,0-2,no,1,left,left_low,no\n",
      "\n",
      "no-recurrence-events,40-49,premeno,50-54,0-2,no,2,left,left_low,no\n",
      "\n",
      "no-recurrence-events,40-49,premeno,20-24,0-2,no,2,right,left_up,no\n",
      "\n",
      "no-recurrence-events,40-49,premeno,0-4,0-2,no,3,left,central,no\n",
      "\n",
      "no-recurrence-events,50-59,ge40,25-29,0-2,no,2,left,left_low,no\n",
      "\n",
      "no-recurrence-events,60-69,lt40,10-14,0-2,no,1,left,right_up,no\n",
      "\n",
      "no-recurrence-events,50-59,ge40,25-29,0-2,no,3,left,right_up,no\n",
      "\n",
      "no-recurrence-events,40-49,premeno,30-34,0-2,no,3,left,left_up,no\n",
      "\n",
      "no-recurrence-events,60-69,lt40,30-34,0-2,no,1,left,left_low,no\n",
      "\n",
      "no-recurrence-events,40-49,premeno,15-19,0-2,no,2,left,left_low,no\n",
      "\n",
      "no-recurrence-events,50-59,premeno,30-34,0-2,no,3,left,left_low,no\n",
      "\n",
      "no-recurrence-events,60-69,ge40,30-34,0-2,no,3,left,left_low,no\n",
      "\n",
      "no-recurrence-events,50-59,ge40,30-34,0-2,no,1,right,right_up,no\n",
      "\n",
      "no-recurrence-events,50-59,ge40,40-44,0-2,no,2,left,left_low,no\n",
      "\n",
      "no-recurrence-events,60-69,ge40,15-19,0-2,no,2,left,left_low,no\n",
      "\n",
      "no-recurrence-events,30-39,premeno,25-29,0-2,no,2,right,left_low,no\n",
      "\n",
      "no-recurrence-events,50-59,premeno,40-44,0-2,no,2,left,left_up,no\n",
      "\n",
      "no-recurrence-events,50-59,premeno,35-39,0-2,no,2,right,left_up,no\n",
      "\n",
      "no-recurrence-events,40-49,premeno,25-29,0-2,no,2,left,left_up,no\n",
      "\n",
      "no-recurrence-events,50-59,premeno,20-24,0-2,no,1,left,left_low,no\n",
      "\n",
      "no-recurrence-events,60-69,ge40,25-29,0-2,no,3,right,left_up,no\n",
      "\n",
      "no-recurrence-events,40-49,premeno,40-44,0-2,no,2,right,left_low,no\n",
      "\n",
      "no-recurrence-events,60-69,ge40,30-34,0-2,no,2,left,left_low,no\n",
      "\n",
      "no-recurrence-events,50-59,ge40,40-44,0-2,no,3,right,left_up,no\n",
      "\n",
      "no-recurrence-events,50-59,premeno,15-19,0-2,no,2,right,left_low,no\n",
      "\n",
      "no-recurrence-events,50-59,premeno,10-14,0-2,no,3,left,left_low,no\n",
      "\n",
      "no-recurrence-events,50-59,ge40,10-14,0-2,no,1,right,left_up,no\n",
      "\n",
      "no-recurrence-events,50-59,ge40,10-14,0-2,no,1,left,left_up,no\n",
      "\n",
      "no-recurrence-events,30-39,premeno,30-34,0-2,no,2,left,left_up,no\n",
      "\n",
      "no-recurrence-events,50-59,ge40,0-4,0-2,no,2,left,central,no\n",
      "\n",
      "no-recurrence-events,50-59,ge40,15-19,0-2,no,1,right,central,no\n",
      "\n",
      "no-recurrence-events,40-49,premeno,10-14,0-2,no,2,left,left_low,no\n",
      "\n",
      "no-recurrence-events,40-49,premeno,30-34,0-2,no,1,left,left_low,no\n",
      "\n",
      "no-recurrence-events,50-59,ge40,20-24,0-2,no,1,right,left_low,no\n",
      "\n",
      "no-recurrence-events,60-69,ge40,25-29,0-2,no,2,left,left_low,no\n",
      "\n",
      "no-recurrence-events,60-69,ge40,5-9,0-2,no,1,left,central,no\n",
      "\n",
      "no-recurrence-events,40-49,premeno,10-14,0-2,no,2,left,left_up,no\n",
      "\n",
      "no-recurrence-events,50-59,ge40,50-54,0-2,no,1,right,right_up,no\n",
      "\n",
      "no-recurrence-events,50-59,ge40,30-34,0-2,no,1,left,left_up,no\n",
      "\n",
      "no-recurrence-events,40-49,premeno,25-29,0-2,no,2,right,left_low,no\n",
      "\n",
      "no-recurrence-events,50-59,premeno,25-29,0-2,no,1,right,left_up,no\n",
      "\n",
      "no-recurrence-events,40-49,premeno,20-24,0-2,no,1,right,right_up,no\n",
      "\n",
      "no-recurrence-events,40-49,premeno,20-24,0-2,no,1,right,left_low,no\n",
      "\n",
      "no-recurrence-events,50-59,lt40,15-19,0-2,no,2,left,left_low,no\n",
      "\n",
      "no-recurrence-events,30-39,premeno,20-24,0-2,no,2,left,right_low,no\n",
      "\n",
      "no-recurrence-events,50-59,premeno,15-19,0-2,no,1,left,left_low,no\n",
      "\n",
      "no-recurrence-events,70-79,ge40,20-24,0-2,no,3,left,left_up,no\n",
      "\n",
      "no-recurrence-events,70-79,ge40,40-44,0-2,no,1,right,left_up,no\n",
      "\n",
      "no-recurrence-events,70-79,ge40,40-44,0-2,no,1,right,right_up,no\n",
      "\n",
      "no-recurrence-events,50-59,ge40,0-4,0-2,no,1,right,central,no\n",
      "\n",
      "no-recurrence-events,50-59,ge40,5-9,0-2,no,2,right,right_up,no\n",
      "\n",
      "no-recurrence-events,60-69,ge40,30-34,0-2,no,1,left,left_up,no\n",
      "\n",
      "no-recurrence-events,60-69,ge40,15-19,0-2,no,1,right,left_up,no\n",
      "\n",
      "no-recurrence-events,40-49,premeno,20-24,0-2,no,2,left,central,no\n",
      "\n",
      "no-recurrence-events,40-49,premeno,10-14,0-2,no,1,right,right_low,no\n",
      "\n",
      "no-recurrence-events,50-59,ge40,0-4,0-2,no,1,left,left_low,no\n",
      "\n",
      "no-recurrence-events,20-29,premeno,35-39,0-2,no,2,right,right_up,no\n",
      "\n",
      "no-recurrence-events,40-49,premeno,25-29,0-2,no,1,left,right_low,no\n",
      "\n",
      "no-recurrence-events,40-49,premeno,10-14,0-2,no,1,right,left_up,no\n",
      "\n",
      "no-recurrence-events,40-49,premeno,25-29,0-2,no,1,right,right_low,no\n",
      "\n",
      "no-recurrence-events,50-59,ge40,20-24,0-2,no,3,left,left_up,no\n",
      "\n",
      "no-recurrence-events,50-59,ge40,35-39,0-2,no,3,left,left_low,no\n",
      "\n",
      "no-recurrence-events,60-69,ge40,50-54,0-2,no,2,left,left_low,no\n",
      "\n",
      "no-recurrence-events,60-69,ge40,10-14,0-2,no,1,left,left_low,no\n",
      "\n",
      "no-recurrence-events,40-49,premeno,25-29,0-2,no,2,right,left_up,no\n",
      "\n",
      "no-recurrence-events,60-69,ge40,20-24,0-2,no,2,left,left_up,no\n",
      "\n",
      "no-recurrence-events,50-59,premeno,15-19,0-2,no,2,right,right_low,no\n",
      "\n",
      "no-recurrence-events,30-39,premeno,5-9,0-2,no,2,left,right_low,no\n",
      "\n",
      "no-recurrence-events,50-59,ge40,10-14,0-2,no,1,left,left_low,no\n",
      "\n",
      "no-recurrence-events,50-59,ge40,10-14,0-2,no,2,left,left_low,no\n",
      "\n",
      "no-recurrence-events,30-39,premeno,25-29,0-2,no,1,left,central,no\n",
      "\n",
      "no-recurrence-events,50-59,premeno,25-29,0-2,no,2,left,left_low,no\n",
      "\n",
      "no-recurrence-events,40-49,premeno,25-29,0-2,no,2,right,central,no\n",
      "\n",
      "no-recurrence-events,50-59,ge40,10-14,0-2,no,2,right,left_low,no\n",
      "\n",
      "no-recurrence-events,60-69,ge40,10-14,0-2,no,1,left,left_up,no\n",
      "\n",
      "no-recurrence-events,60-69,ge40,15-19,0-2,no,2,right,left_low,no\n",
      "\n",
      "no-recurrence-events,50-59,ge40,15-19,0-2,no,2,right,left_low,no\n",
      "\n",
      "no-recurrence-events,40-49,premeno,20-24,0-2,no,1,left,right_low,no\n",
      "\n",
      "no-recurrence-events,50-59,ge40,35-39,0-2,no,3,left,left_up,no\n",
      "\n",
      "no-recurrence-events,60-69,ge40,25-29,0-2,no,2,right,left_low,no\n",
      "\n",
      "no-recurrence-events,70-79,ge40,0-4,0-2,no,1,left,right_low,no\n",
      "\n",
      "no-recurrence-events,50-59,ge40,20-24,0-2,no,3,right,left_up,no\n",
      "\n",
      "no-recurrence-events,40-49,premeno,40-44,0-2,no,1,right,left_up,no\n",
      "\n",
      "no-recurrence-events,30-39,premeno,0-4,0-2,no,2,right,central,no\n",
      "\n",
      "no-recurrence-events,50-59,ge40,20-24,0-2,no,3,left,left_up,no\n",
      "\n",
      "no-recurrence-events,50-59,ge40,25-29,0-2,no,2,right,left_up,no\n",
      "\n",
      "no-recurrence-events,60-69,ge40,20-24,0-2,no,2,right,left_up,no\n",
      "\n",
      "no-recurrence-events,50-59,premeno,10-14,0-2,no,1,left,left_low,no\n",
      "\n",
      "no-recurrence-events,40-49,premeno,30-34,0-2,no,2,right,right_low,no\n",
      "\n",
      "no-recurrence-events,60-69,ge40,30-34,0-2,no,2,left,left_up,no\n",
      "\n",
      "no-recurrence-events,60-69,ge40,15-19,0-2,no,2,right,left_up,no\n",
      "\n",
      "no-recurrence-events,40-49,premeno,30-34,0-2,no,1,left,right_up,no\n",
      "\n",
      "no-recurrence-events,30-39,premeno,25-29,0-2,no,2,left,left_low,no\n",
      "\n",
      "no-recurrence-events,40-49,ge40,20-24,0-2,no,3,left,left_low,no\n",
      "\n",
      "no-recurrence-events,50-59,ge40,30-34,0-2,no,3,right,left_low,no\n",
      "\n",
      "no-recurrence-events,50-59,premeno,25-29,0-2,no,2,right,right_low,no\n",
      "\n",
      "no-recurrence-events,40-49,premeno,20-24,0-2,no,2,left,right_low,no\n",
      "\n",
      "no-recurrence-events,40-49,premeno,10-14,0-2,no,2,right,left_low,no\n",
      "\n",
      "no-recurrence-events,40-49,premeno,30-34,0-2,no,1,right,left_up,no\n",
      "\n",
      "no-recurrence-events,40-49,premeno,20-24,0-2,no,2,left,left_up,no\n",
      "\n",
      "no-recurrence-events,30-39,premeno,40-44,0-2,no,2,right,right_up,no\n",
      "\n",
      "no-recurrence-events,40-49,premeno,30-34,0-2,no,3,right,right_up,no\n",
      "\n",
      "no-recurrence-events,60-69,ge40,30-34,0-2,no,1,right,left_up,no\n",
      "\n",
      "no-recurrence-events,50-59,ge40,25-29,0-2,no,1,left,left_low,no\n",
      "\n",
      "no-recurrence-events,50-59,ge40,15-19,0-2,no,1,right,central,no\n",
      "\n",
      "no-recurrence-events,40-49,premeno,20-24,0-2,no,2,right,left_up,no\n",
      "\n",
      "no-recurrence-events,40-49,premeno,10-14,0-2,no,1,right,left_up,no\n",
      "\n",
      "no-recurrence-events,40-49,premeno,35-39,0-2,no,2,right,right_up,no\n",
      "\n",
      "no-recurrence-events,50-59,ge40,20-24,0-2,no,2,right,left_up,no\n",
      "\n",
      "no-recurrence-events,30-39,premeno,15-19,0-2,no,1,left,left_low,no\n",
      "\n",
      "no-recurrence-events,40-49,ge40,20-24,0-2,no,3,left,left_up,no\n",
      "\n",
      "no-recurrence-events,30-39,premeno,10-14,0-2,no,1,right,left_low,no\n",
      "\n",
      "no-recurrence-events,60-69,ge40,15-19,0-2,no,1,left,right_low,no\n",
      "\n",
      "no-recurrence-events,60-69,ge40,20-24,0-2,no,1,left,left_low,no\n",
      "\n",
      "no-recurrence-events,50-59,ge40,15-19,0-2,no,2,right,right_up,no\n",
      "\n",
      "no-recurrence-events,50-59,ge40,40-44,0-2,no,3,left,left_up,no\n",
      "\n",
      "no-recurrence-events,50-59,ge40,30-34,0-2,no,1,right,left_low,no\n",
      "\n",
      "no-recurrence-events,60-69,ge40,10-14,0-2,no,1,right,left_low,no\n",
      "\n",
      "no-recurrence-events,70-79,ge40,10-14,0-2,no,2,left,central,no\n",
      "\n",
      "no-recurrence-events,30-39,premeno,30-34,6-8,yes,2,right,right_up,no\n",
      "\n",
      "no-recurrence-events,30-39,premeno,25-29,6-8,yes,2,right,left_up,yes\n",
      "\n",
      "no-recurrence-events,50-59,premeno,25-29,0-2,yes,2,left,left_up,no\n",
      "\n",
      "no-recurrence-events,40-49,premeno,35-39,9-11,yes,2,right,left_up,yes\n",
      "\n",
      "no-recurrence-events,40-49,premeno,35-39,9-11,yes,2,right,right_up,yes\n",
      "\n",
      "no-recurrence-events,40-49,premeno,40-44,3-5,yes,3,right,left_up,yes\n",
      "\n",
      "no-recurrence-events,40-49,premeno,30-34,6-8,no,2,left,left_up,no\n",
      "\n",
      "no-recurrence-events,50-59,ge40,40-44,0-2,no,3,left,right_up,no\n",
      "\n",
      "no-recurrence-events,60-69,ge40,30-34,0-2,no,2,left,left_low,yes\n",
      "\n",
      "no-recurrence-events,30-39,premeno,20-24,3-5,no,2,right,central,no\n",
      "\n",
      "no-recurrence-events,30-39,premeno,40-44,3-5,no,3,right,right_up,yes\n",
      "\n",
      "no-recurrence-events,40-49,premeno,5-9,0-2,no,1,left,left_low,yes\n",
      "\n",
      "no-recurrence-events,30-39,premeno,40-44,0-2,no,2,left,left_low,yes\n",
      "\n",
      "no-recurrence-events,40-49,premeno,30-34,0-2,no,2,left,right_low,no\n",
      "\n",
      "no-recurrence-events,50-59,ge40,40-44,3-5,yes,2,left,left_low,no\n",
      "\n",
      "no-recurrence-events,50-59,premeno,20-24,3-5,yes,2,left,left_low,no\n",
      "\n",
      "no-recurrence-events,60-69,ge40,10-14,0-2,no,1,left,left_up,no\n",
      "\n",
      "no-recurrence-events,40-49,premeno,45-49,0-2,no,2,left,left_low,yes\n",
      "\n",
      "no-recurrence-events,60-69,ge40,45-49,6-8,yes,3,left,central,no\n",
      "\n",
      "no-recurrence-events,40-49,premeno,25-29,0-2,?,2,left,right_low,yes\n",
      "\n",
      "no-recurrence-events,60-69,ge40,50-54,0-2,no,2,right,left_up,yes\n",
      "\n",
      "no-recurrence-events,50-59,premeno,30-34,3-5,yes,2,left,left_low,yes\n",
      "\n",
      "no-recurrence-events,30-39,premeno,20-24,0-2,no,3,left,central,no\n",
      "\n",
      "no-recurrence-events,50-59,lt40,30-34,0-2,no,3,right,left_up,no\n",
      "\n",
      "no-recurrence-events,50-59,ge40,25-29,15-17,yes,3,right,left_up,no\n",
      "\n",
      "no-recurrence-events,60-69,ge40,30-34,3-5,yes,3,left,left_low,no\n",
      "\n",
      "no-recurrence-events,50-59,ge40,35-39,15-17,no,3,left,left_low,no\n",
      "\n",
      "no-recurrence-events,60-69,ge40,15-19,0-2,no,3,right,left_up,yes\n",
      "\n",
      "no-recurrence-events,30-39,lt40,15-19,0-2,no,3,right,left_up,no\n",
      "\n",
      "no-recurrence-events,60-69,ge40,40-44,3-5,no,2,right,left_up,yes\n",
      "\n",
      "no-recurrence-events,50-59,ge40,25-29,3-5,yes,3,right,left_up,no\n",
      "\n",
      "no-recurrence-events,50-59,premeno,30-34,0-2,no,1,left,central,no\n",
      "\n",
      "no-recurrence-events,50-59,ge40,30-34,0-2,no,1,right,central,no\n",
      "\n",
      "no-recurrence-events,40-49,premeno,35-39,0-2,no,1,left,left_low,no\n",
      "\n",
      "no-recurrence-events,40-49,premeno,25-29,0-2,no,3,right,left_up,yes\n",
      "\n",
      "no-recurrence-events,40-49,premeno,30-34,3-5,yes,2,right,left_low,no\n",
      "\n",
      "no-recurrence-events,60-69,ge40,10-14,0-2,no,2,right,left_up,yes\n",
      "\n",
      "no-recurrence-events,60-69,ge40,25-29,3-5,?,1,right,left_up,yes\n",
      "\n",
      "no-recurrence-events,60-69,ge40,25-29,3-5,?,1,right,left_low,yes\n",
      "\n",
      "no-recurrence-events,40-49,premeno,20-24,3-5,no,2,right,left_up,no\n",
      "\n",
      "no-recurrence-events,40-49,premeno,20-24,3-5,no,2,right,left_low,no\n",
      "\n",
      "no-recurrence-events,40-49,ge40,40-44,15-17,yes,2,right,left_up,yes\n",
      "\n",
      "no-recurrence-events,50-59,premeno,10-14,0-2,no,2,right,left_up,no\n",
      "\n",
      "no-recurrence-events,40-49,ge40,30-34,0-2,no,2,left,left_up,yes\n",
      "\n",
      "no-recurrence-events,30-39,premeno,20-24,3-5,yes,2,right,left_up,yes\n",
      "\n",
      "no-recurrence-events,30-39,premeno,15-19,0-2,no,1,left,left_low,no\n",
      "\n",
      "no-recurrence-events,60-69,ge40,30-34,6-8,yes,2,right,right_up,no\n",
      "\n",
      "no-recurrence-events,50-59,ge40,20-24,3-5,yes,2,right,left_up,no\n",
      "\n",
      "no-recurrence-events,50-59,premeno,25-29,3-5,yes,2,left,left_low,yes\n",
      "\n",
      "no-recurrence-events,40-49,premeno,30-34,0-2,no,2,right,right_up,yes\n",
      "\n",
      "no-recurrence-events,40-49,ge40,25-29,0-2,no,2,left,left_low,no\n",
      "\n",
      "no-recurrence-events,60-69,ge40,10-14,0-2,no,2,left,left_low,no\n",
      "\n",
      "no-recurrence-events,50-59,premeno,25-29,3-5,no,2,right,left_up,yes\n",
      "\n",
      "no-recurrence-events,40-49,premeno,20-24,0-2,no,3,right,left_low,yes\n",
      "\n",
      "no-recurrence-events,40-49,premeno,35-39,0-2,yes,3,right,left_up,yes\n",
      "\n",
      "no-recurrence-events,40-49,premeno,35-39,0-2,yes,3,right,left_low,yes\n",
      "\n",
      "no-recurrence-events,40-49,premeno,25-29,0-2,no,1,right,left_low,yes\n",
      "\n",
      "no-recurrence-events,50-59,ge40,30-34,9-11,?,3,left,left_up,yes\n",
      "\n",
      "no-recurrence-events,50-59,ge40,30-34,9-11,?,3,left,left_low,yes\n",
      "\n",
      "no-recurrence-events,40-49,premeno,20-24,6-8,no,2,right,left_low,yes\n",
      "\n",
      "no-recurrence-events,50-59,ge40,25-29,0-2,no,1,left,right_low,no\n",
      "\n",
      "no-recurrence-events,60-69,ge40,15-19,0-2,no,2,left,left_up,yes\n",
      "\n",
      "no-recurrence-events,40-49,premeno,10-14,0-2,no,2,right,left_up,no\n",
      "\n",
      "no-recurrence-events,50-59,ge40,20-24,0-2,yes,2,right,left_up,no\n",
      "\n",
      "no-recurrence-events,40-49,premeno,15-19,12-14,no,3,right,right_low,yes\n",
      "\n",
      "no-recurrence-events,40-49,premeno,25-29,0-2,no,2,left,left_up,yes\n",
      "\n",
      "no-recurrence-events,50-59,ge40,30-34,6-8,yes,2,left,left_low,no\n",
      "\n",
      "no-recurrence-events,30-39,premeno,10-14,0-2,no,2,left,right_low,no\n",
      "\n",
      "no-recurrence-events,50-59,premeno,50-54,0-2,yes,2,right,left_up,yes\n",
      "\n",
      "no-recurrence-events,50-59,ge40,35-39,0-2,no,2,left,left_up,no\n",
      "\n",
      "no-recurrence-events,50-59,premeno,10-14,3-5,no,1,right,left_up,no\n",
      "\n",
      "no-recurrence-events,40-49,premeno,10-14,0-2,no,2,left,left_low,yes\n",
      "\n",
      "no-recurrence-events,50-59,ge40,15-19,0-2,yes,2,left,central,yes\n",
      "\n",
      "no-recurrence-events,50-59,premeno,25-29,0-2,no,1,left,left_low,no\n",
      "\n",
      "no-recurrence-events,60-69,ge40,25-29,0-2,no,3,right,left_low,no\n",
      "\n",
      "recurrence-events,50-59,premeno,15-19,0-2,no,2,left,left_low,no\n",
      "\n",
      "recurrence-events,40-49,premeno,40-44,0-2,no,1,left,left_low,no\n",
      "\n",
      "recurrence-events,50-59,ge40,35-39,0-2,no,2,left,left_low,no\n",
      "\n",
      "recurrence-events,50-59,premeno,25-29,0-2,no,2,left,right_up,no\n",
      "\n",
      "recurrence-events,30-39,premeno,0-4,0-2,no,2,right,central,no\n",
      "\n",
      "recurrence-events,50-59,ge40,30-34,0-2,no,3,left,?,no\n",
      "\n",
      "recurrence-events,50-59,premeno,25-29,0-2,no,2,left,right_up,no\n",
      "\n",
      "recurrence-events,50-59,premeno,30-34,0-2,no,3,left,right_up,no\n",
      "\n",
      "recurrence-events,40-49,premeno,35-39,0-2,no,1,right,left_up,no\n",
      "\n",
      "recurrence-events,40-49,premeno,20-24,0-2,no,2,left,left_low,no\n",
      "\n",
      "recurrence-events,50-59,ge40,20-24,0-2,no,2,right,central,no\n",
      "\n",
      "recurrence-events,40-49,premeno,30-34,0-2,no,3,right,right_up,no\n",
      "\n",
      "recurrence-events,50-59,premeno,25-29,0-2,no,1,right,left_up,no\n",
      "\n",
      "recurrence-events,60-69,ge40,40-44,0-2,no,2,right,left_low,no\n",
      "\n",
      "recurrence-events,40-49,ge40,20-24,0-2,no,2,right,left_up,no\n",
      "\n",
      "recurrence-events,50-59,ge40,20-24,0-2,no,2,left,left_up,no\n",
      "\n",
      "recurrence-events,40-49,premeno,15-19,0-2,no,2,left,left_up,no\n",
      "\n",
      "recurrence-events,60-69,ge40,30-34,0-2,no,3,right,central,no\n",
      "\n",
      "recurrence-events,30-39,premeno,15-19,0-2,no,1,right,left_low,no\n",
      "\n",
      "recurrence-events,40-49,premeno,25-29,0-2,no,3,left,right_up,no\n",
      "\n",
      "recurrence-events,30-39,premeno,30-34,0-2,no,1,right,left_up,no\n",
      "\n",
      "recurrence-events,60-69,ge40,25-29,0-2,no,3,left,right_low,yes\n",
      "\n",
      "recurrence-events,60-69,ge40,20-24,0-2,no,3,right,left_low,no\n",
      "\n",
      "recurrence-events,30-39,premeno,25-29,3-5,yes,3,left,left_low,yes\n",
      "\n",
      "recurrence-events,40-49,ge40,20-24,3-5,no,3,right,left_low,yes\n",
      "\n",
      "recurrence-events,40-49,premeno,30-34,15-17,yes,3,left,left_low,no\n",
      "\n",
      "recurrence-events,50-59,premeno,30-34,0-2,no,3,right,left_up,yes\n",
      "\n",
      "recurrence-events,60-69,ge40,40-44,3-5,yes,3,right,left_low,no\n",
      "\n",
      "recurrence-events,60-69,ge40,45-49,0-2,no,1,right,right_up,yes\n",
      "\n",
      "recurrence-events,50-59,premeno,50-54,9-11,yes,2,right,left_up,no\n",
      "\n",
      "recurrence-events,40-49,premeno,30-34,3-5,no,2,right,left_up,no\n",
      "\n",
      "recurrence-events,30-39,premeno,30-34,3-5,no,3,right,left_up,yes\n",
      "\n",
      "recurrence-events,70-79,ge40,15-19,9-11,?,1,left,left_low,yes\n",
      "\n",
      "recurrence-events,60-69,ge40,30-34,0-2,no,3,right,left_up,yes\n",
      "\n",
      "recurrence-events,50-59,premeno,25-29,3-5,yes,3,left,left_low,yes\n",
      "\n",
      "recurrence-events,40-49,premeno,25-29,0-2,no,2,right,left_low,no\n",
      "\n",
      "recurrence-events,40-49,premeno,25-29,0-2,no,2,right,left_low,no\n",
      "\n",
      "recurrence-events,30-39,premeno,35-39,0-2,no,3,left,left_low,no\n",
      "\n",
      "recurrence-events,40-49,premeno,20-24,3-5,yes,2,right,right_up,yes\n",
      "\n",
      "recurrence-events,60-69,ge40,20-24,3-5,no,2,left,left_low,yes\n",
      "\n",
      "recurrence-events,40-49,premeno,15-19,15-17,yes,3,left,left_low,no\n",
      "\n",
      "recurrence-events,50-59,ge40,25-29,6-8,no,3,left,left_low,yes\n",
      "\n",
      "recurrence-events,50-59,ge40,20-24,3-5,yes,3,right,right_up,no\n",
      "\n",
      "recurrence-events,40-49,premeno,30-34,12-14,yes,3,left,left_up,yes\n",
      "\n",
      "recurrence-events,30-39,premeno,30-34,9-11,no,2,right,left_up,yes\n",
      "\n",
      "recurrence-events,30-39,premeno,15-19,6-8,yes,3,left,left_low,yes\n",
      "\n",
      "recurrence-events,50-59,ge40,30-34,9-11,yes,3,left,right_low,yes\n",
      "\n",
      "recurrence-events,60-69,ge40,35-39,6-8,yes,3,left,left_low,no\n",
      "\n",
      "recurrence-events,30-39,premeno,20-24,3-5,yes,2,left,left_low,no\n",
      "\n",
      "recurrence-events,40-49,premeno,25-29,0-2,no,3,left,left_up,no\n",
      "\n",
      "recurrence-events,40-49,premeno,50-54,0-2,no,2,right,left_low,yes\n",
      "\n",
      "recurrence-events,30-39,premeno,40-44,0-2,no,1,left,left_up,no\n",
      "\n",
      "recurrence-events,60-69,ge40,50-54,0-2,no,3,right,left_up,no\n",
      "\n",
      "recurrence-events,40-49,premeno,30-34,0-2,yes,3,right,right_up,no\n",
      "\n",
      "recurrence-events,40-49,premeno,30-34,6-8,yes,3,right,left_up,no\n",
      "\n",
      "recurrence-events,40-49,premeno,30-34,0-2,no,1,left,left_low,yes\n",
      "\n",
      "recurrence-events,40-49,premeno,20-24,3-5,yes,2,left,left_low,yes\n",
      "\n",
      "recurrence-events,50-59,ge40,30-34,6-8,yes,2,left,right_low,yes\n",
      "\n",
      "recurrence-events,50-59,ge40,30-34,3-5,no,3,right,left_up,no\n",
      "\n",
      "recurrence-events,60-69,ge40,25-29,3-5,no,2,right,right_up,no\n",
      "\n",
      "recurrence-events,40-49,ge40,25-29,12-14,yes,3,left,right_low,yes\n",
      "\n",
      "recurrence-events,60-69,ge40,25-29,0-2,no,3,left,left_up,no\n",
      "\n",
      "recurrence-events,50-59,lt40,20-24,0-2,?,1,left,left_up,no\n",
      "\n",
      "recurrence-events,50-59,lt40,20-24,0-2,?,1,left,left_low,no\n",
      "\n",
      "recurrence-events,30-39,premeno,35-39,9-11,yes,3,left,left_low,no\n",
      "\n",
      "recurrence-events,40-49,premeno,30-34,3-5,yes,2,left,right_up,no\n",
      "\n",
      "recurrence-events,60-69,ge40,20-24,24-26,yes,3,left,left_low,yes\n",
      "\n",
      "recurrence-events,30-39,premeno,35-39,0-2,no,3,left,left_low,no\n",
      "\n",
      "recurrence-events,40-49,premeno,25-29,0-2,no,2,left,left_low,yes\n",
      "\n",
      "recurrence-events,50-59,ge40,30-34,6-8,yes,3,left,right_low,no\n",
      "\n",
      "recurrence-events,50-59,premeno,25-29,0-2,no,3,right,left_low,yes\n",
      "\n",
      "recurrence-events,40-49,premeno,15-19,0-2,yes,3,right,left_up,no\n",
      "\n",
      "recurrence-events,60-69,ge40,30-34,0-2,yes,2,right,right_up,yes\n",
      "\n",
      "recurrence-events,60-69,ge40,30-34,3-5,yes,2,left,central,yes\n",
      "\n",
      "recurrence-events,40-49,premeno,25-29,9-11,yes,3,right,left_up,no\n",
      "\n",
      "recurrence-events,30-39,premeno,25-29,6-8,yes,3,left,right_low,yes\n",
      "\n",
      "recurrence-events,60-69,ge40,10-14,6-8,yes,3,left,left_up,yes\n",
      "\n",
      "recurrence-events,50-59,premeno,35-39,15-17,yes,3,right,right_up,no\n",
      "\n",
      "recurrence-events,50-59,ge40,40-44,6-8,yes,3,left,left_low,yes\n",
      "\n",
      "recurrence-events,50-59,ge40,40-44,6-8,yes,3,left,left_low,yes\n",
      "\n",
      "recurrence-events,30-39,premeno,30-34,0-2,no,2,left,left_up,no\n",
      "\n",
      "recurrence-events,30-39,premeno,20-24,0-2,no,3,left,left_up,yes\n",
      "\n",
      "recurrence-events,60-69,ge40,20-24,0-2,no,1,right,left_up,no\n",
      "\n",
      "recurrence-events,40-49,ge40,30-34,3-5,no,3,left,left_low,no\n",
      "\n",
      "recurrence-events,50-59,ge40,30-34,3-5,no,3,left,left_low,no\n",
      "\n"
     ]
    }
   ],
   "source": [
    "a = open('breast-cancer.data', 'r', encoding = 'UTF8')\n",
    "strlist = a.readlines()\n",
    "for i in strlist:\n",
    "    print(i)"
   ]
  }
 ],
 "metadata": {
  "kernelspec": {
   "display_name": "Python 3 (ipykernel)",
   "language": "python",
   "name": "python3"
  },
  "language_info": {
   "codemirror_mode": {
    "name": "ipython",
    "version": 3
   },
   "file_extension": ".py",
   "mimetype": "text/x-python",
   "name": "python",
   "nbconvert_exporter": "python",
   "pygments_lexer": "ipython3",
   "version": "3.9.7"
  },
  "toc": {
   "base_numbering": 1,
   "nav_menu": {},
   "number_sections": true,
   "sideBar": true,
   "skip_h1_title": false,
   "title_cell": "Table of Contents",
   "title_sidebar": "Contents",
   "toc_cell": false,
   "toc_position": {},
   "toc_section_display": true,
   "toc_window_display": false
  }
 },
 "nbformat": 4,
 "nbformat_minor": 5
}
